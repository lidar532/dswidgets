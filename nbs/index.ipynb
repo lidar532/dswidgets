{
 "cells": [
  {
   "cell_type": "markdown",
   "metadata": {},
   "source": [
    "# dswidgets\n",
    "\n",
    "> Data System Widgets."
   ]
  },
  {
   "cell_type": "markdown",
   "metadata": {},
   "source": [
    "## Features"
   ]
  },
  {
   "cell_type": "markdown",
   "metadata": {},
   "source": [
    "dswidgets is a collection of `panel` derived widgets commonly used in airborne datasytems."
   ]
  },
  {
   "cell_type": "markdown",
   "metadata": {},
   "source": [
    "### Current Widget list:\n",
    "- Toggle\n",
    "- Folder_Button\n",
    "- FolderSelector\n",
    "- CPU_WIDGET()"
   ]
  },
  {
   "cell_type": "markdown",
   "metadata": {},
   "source": [
    "### Widgets to be added:\n",
    "#### Controls\n",
    "- Shutdown\n",
    "- Reboot\n",
    "- Mount a drive (May use auto-mounts)\n",
    "- unMount a drive\n",
    "\n",
    "#### System Info\n",
    "- Disk \n",
    "  - drive info, size,\n",
    "  - size\n",
    "  - remaining space\n",
    "- Memory\n",
    "- IO operations\n",
    "- network"
   ]
  },
  {
   "cell_type": "markdown",
   "metadata": {},
   "source": [
    "## Install"
   ]
  },
  {
   "cell_type": "markdown",
   "metadata": {},
   "source": [
    "```sh\n",
    "pip install dswidgets\n",
    "```"
   ]
  },
  {
   "cell_type": "markdown",
   "metadata": {},
   "source": [
    "## Install during devrlopment"
   ]
  },
  {
   "cell_type": "markdown",
   "metadata": {},
   "source": [
    "```sh\n",
    "pip install -e . \n",
    "```"
   ]
  },
  {
   "cell_type": "markdown",
   "metadata": {},
   "source": [
    "## Imports"
   ]
  },
  {
   "cell_type": "code",
   "execution_count": null,
   "metadata": {},
   "outputs": [],
   "source": [
    "import panel as pn\n",
    "import sys\n",
    "import dswidgets as ds"
   ]
  },
  {
   "cell_type": "markdown",
   "metadata": {},
   "source": [
    "We need to load the `panel extension` so we can view the widgets\n",
    "in the notebook output.  The `floatpanel` parameter is required \n",
    "to show the FileBroswer in a floating pop-up widget."
   ]
  },
  {
   "cell_type": "code",
   "execution_count": null,
   "metadata": {},
   "outputs": [
    {
     "data": {
      "application/javascript": [
       "(function(root) {\n",
       "  function now() {\n",
       "    return new Date();\n",
       "  }\n",
       "\n",
       "  var force = true;\n",
       "  var py_version = '3.1.1'.replace('rc', '-rc.');\n",
       "  var is_dev = py_version.indexOf(\"+\") !== -1 || py_version.indexOf(\"-\") !== -1;\n",
       "  var reloading = false;\n",
       "  var Bokeh = root.Bokeh;\n",
       "  var bokeh_loaded = Bokeh != null && (Bokeh.version === py_version || (Bokeh.versions !== undefined && Bokeh.versions.has(py_version)));\n",
       "\n",
       "  if (typeof (root._bokeh_timeout) === \"undefined\" || force) {\n",
       "    root._bokeh_timeout = Date.now() + 5000;\n",
       "    root._bokeh_failed_load = false;\n",
       "  }\n",
       "\n",
       "  function run_callbacks() {\n",
       "    try {\n",
       "      root._bokeh_onload_callbacks.forEach(function(callback) {\n",
       "        if (callback != null)\n",
       "          callback();\n",
       "      });\n",
       "    } finally {\n",
       "      delete root._bokeh_onload_callbacks;\n",
       "    }\n",
       "    console.debug(\"Bokeh: all callbacks have finished\");\n",
       "  }\n",
       "\n",
       "  function load_libs(css_urls, js_urls, js_modules, js_exports, callback) {\n",
       "    if (css_urls == null) css_urls = [];\n",
       "    if (js_urls == null) js_urls = [];\n",
       "    if (js_modules == null) js_modules = [];\n",
       "    if (js_exports == null) js_exports = {};\n",
       "\n",
       "    root._bokeh_onload_callbacks.push(callback);\n",
       "\n",
       "    if (root._bokeh_is_loading > 0) {\n",
       "      console.debug(\"Bokeh: BokehJS is being loaded, scheduling callback at\", now());\n",
       "      return null;\n",
       "    }\n",
       "    if (js_urls.length === 0 && js_modules.length === 0 && Object.keys(js_exports).length === 0) {\n",
       "      run_callbacks();\n",
       "      return null;\n",
       "    }\n",
       "    if (!reloading) {\n",
       "      console.debug(\"Bokeh: BokehJS not loaded, scheduling load and callback at\", now());\n",
       "    }\n",
       "\n",
       "    function on_load() {\n",
       "      root._bokeh_is_loading--;\n",
       "      if (root._bokeh_is_loading === 0) {\n",
       "        console.debug(\"Bokeh: all BokehJS libraries/stylesheets loaded\");\n",
       "        run_callbacks()\n",
       "      }\n",
       "    }\n",
       "    window._bokeh_on_load = on_load\n",
       "\n",
       "    function on_error() {\n",
       "      console.error(\"failed to load \" + url);\n",
       "    }\n",
       "\n",
       "    var skip = [];\n",
       "    if (window.requirejs) {\n",
       "      window.requirejs.config({'packages': {}, 'paths': {'jspanel': 'https://cdn.jsdelivr.net/npm/jspanel4@4.12.0/dist/jspanel', 'jspanel-modal': 'https://cdn.jsdelivr.net/npm/jspanel4@4.12.0/dist/extensions/modal/jspanel.modal', 'jspanel-tooltip': 'https://cdn.jsdelivr.net/npm/jspanel4@4.12.0/dist/extensions/tooltip/jspanel.tooltip', 'jspanel-hint': 'https://cdn.jsdelivr.net/npm/jspanel4@4.12.0/dist/extensions/hint/jspanel.hint', 'jspanel-layout': 'https://cdn.jsdelivr.net/npm/jspanel4@4.12.0/dist/extensions/layout/jspanel.layout', 'jspanel-contextmenu': 'https://cdn.jsdelivr.net/npm/jspanel4@4.12.0/dist/extensions/contextmenu/jspanel.contextmenu', 'jspanel-dock': 'https://cdn.jsdelivr.net/npm/jspanel4@4.12.0/dist/extensions/dock/jspanel.dock', 'gridstack': 'https://cdn.jsdelivr.net/npm/gridstack@7.2.3/dist/gridstack-all', 'notyf': 'https://cdn.jsdelivr.net/npm/notyf@3/notyf.min'}, 'shim': {'jspanel': {'exports': 'jsPanel'}, 'gridstack': {'exports': 'GridStack'}}});\n",
       "      require([\"jspanel\"], function(jsPanel) {\n",
       "\twindow.jsPanel = jsPanel\n",
       "\ton_load()\n",
       "      })\n",
       "      require([\"jspanel-modal\"], function() {\n",
       "\ton_load()\n",
       "      })\n",
       "      require([\"jspanel-tooltip\"], function() {\n",
       "\ton_load()\n",
       "      })\n",
       "      require([\"jspanel-hint\"], function() {\n",
       "\ton_load()\n",
       "      })\n",
       "      require([\"jspanel-layout\"], function() {\n",
       "\ton_load()\n",
       "      })\n",
       "      require([\"jspanel-contextmenu\"], function() {\n",
       "\ton_load()\n",
       "      })\n",
       "      require([\"jspanel-dock\"], function() {\n",
       "\ton_load()\n",
       "      })\n",
       "      require([\"gridstack\"], function(GridStack) {\n",
       "\twindow.GridStack = GridStack\n",
       "\ton_load()\n",
       "      })\n",
       "      require([\"notyf\"], function() {\n",
       "\ton_load()\n",
       "      })\n",
       "      root._bokeh_is_loading = css_urls.length + 9;\n",
       "    } else {\n",
       "      root._bokeh_is_loading = css_urls.length + js_urls.length + js_modules.length + Object.keys(js_exports).length;\n",
       "    }\n",
       "\n",
       "    var existing_stylesheets = []\n",
       "    var links = document.getElementsByTagName('link')\n",
       "    for (var i = 0; i < links.length; i++) {\n",
       "      var link = links[i]\n",
       "      if (link.href != null) {\n",
       "\texisting_stylesheets.push(link.href)\n",
       "      }\n",
       "    }\n",
       "    for (var i = 0; i < css_urls.length; i++) {\n",
       "      var url = css_urls[i];\n",
       "      if (existing_stylesheets.indexOf(url) !== -1) {\n",
       "\ton_load()\n",
       "\tcontinue;\n",
       "      }\n",
       "      const element = document.createElement(\"link\");\n",
       "      element.onload = on_load;\n",
       "      element.onerror = on_error;\n",
       "      element.rel = \"stylesheet\";\n",
       "      element.type = \"text/css\";\n",
       "      element.href = url;\n",
       "      console.debug(\"Bokeh: injecting link tag for BokehJS stylesheet: \", url);\n",
       "      document.body.appendChild(element);\n",
       "    }    if (((window['jsPanel'] !== undefined) && (!(window['jsPanel'] instanceof HTMLElement))) || window.requirejs) {\n",
       "      var urls = ['https://cdn.holoviz.org/panel/1.1.0/dist/bundled/floatpanel/jspanel4@4.12.0/dist/jspanel.js', 'https://cdn.holoviz.org/panel/1.1.0/dist/bundled/floatpanel/jspanel4@4.12.0/dist/extensions/modal/jspanel.modal.js', 'https://cdn.holoviz.org/panel/1.1.0/dist/bundled/floatpanel/jspanel4@4.12.0/dist/extensions/tooltip/jspanel.tooltip.js', 'https://cdn.holoviz.org/panel/1.1.0/dist/bundled/floatpanel/jspanel4@4.12.0/dist/extensions/hint/jspanel.hint.js', 'https://cdn.holoviz.org/panel/1.1.0/dist/bundled/floatpanel/jspanel4@4.12.0/dist/extensions/layout/jspanel.layout.js', 'https://cdn.holoviz.org/panel/1.1.0/dist/bundled/floatpanel/jspanel4@4.12.0/dist/extensions/contextmenu/jspanel.contextmenu.js', 'https://cdn.holoviz.org/panel/1.1.0/dist/bundled/floatpanel/jspanel4@4.12.0/dist/extensions/dock/jspanel.dock.js'];\n",
       "      for (var i = 0; i < urls.length; i++) {\n",
       "        skip.push(urls[i])\n",
       "      }\n",
       "    }    if (((window['GridStack'] !== undefined) && (!(window['GridStack'] instanceof HTMLElement))) || window.requirejs) {\n",
       "      var urls = ['https://cdn.holoviz.org/panel/1.1.0/dist/bundled/gridstack/gridstack@7.2.3/dist/gridstack-all.js'];\n",
       "      for (var i = 0; i < urls.length; i++) {\n",
       "        skip.push(urls[i])\n",
       "      }\n",
       "    }    if (((window['Notyf'] !== undefined) && (!(window['Notyf'] instanceof HTMLElement))) || window.requirejs) {\n",
       "      var urls = ['https://cdn.holoviz.org/panel/1.1.0/dist/bundled/notificationarea/notyf@3/notyf.min.js'];\n",
       "      for (var i = 0; i < urls.length; i++) {\n",
       "        skip.push(urls[i])\n",
       "      }\n",
       "    }    var existing_scripts = []\n",
       "    var scripts = document.getElementsByTagName('script')\n",
       "    for (var i = 0; i < scripts.length; i++) {\n",
       "      var script = scripts[i]\n",
       "      if (script.src != null) {\n",
       "\texisting_scripts.push(script.src)\n",
       "      }\n",
       "    }\n",
       "    for (var i = 0; i < js_urls.length; i++) {\n",
       "      var url = js_urls[i];\n",
       "      if (skip.indexOf(url) !== -1 || existing_scripts.indexOf(url) !== -1) {\n",
       "\tif (!window.requirejs) {\n",
       "\t  on_load();\n",
       "\t}\n",
       "\tcontinue;\n",
       "      }\n",
       "      var element = document.createElement('script');\n",
       "      element.onload = on_load;\n",
       "      element.onerror = on_error;\n",
       "      element.async = false;\n",
       "      element.src = url;\n",
       "      console.debug(\"Bokeh: injecting script tag for BokehJS library: \", url);\n",
       "      document.head.appendChild(element);\n",
       "    }\n",
       "    for (var i = 0; i < js_modules.length; i++) {\n",
       "      var url = js_modules[i];\n",
       "      if (skip.indexOf(url) !== -1 || existing_scripts.indexOf(url) !== -1) {\n",
       "\tif (!window.requirejs) {\n",
       "\t  on_load();\n",
       "\t}\n",
       "\tcontinue;\n",
       "      }\n",
       "      var element = document.createElement('script');\n",
       "      element.onload = on_load;\n",
       "      element.onerror = on_error;\n",
       "      element.async = false;\n",
       "      element.src = url;\n",
       "      element.type = \"module\";\n",
       "      console.debug(\"Bokeh: injecting script tag for BokehJS library: \", url);\n",
       "      document.head.appendChild(element);\n",
       "    }\n",
       "    for (const name in js_exports) {\n",
       "      var url = js_exports[name];\n",
       "      if (skip.indexOf(url) >= 0 || root[name] != null) {\n",
       "\tif (!window.requirejs) {\n",
       "\t  on_load();\n",
       "\t}\n",
       "\tcontinue;\n",
       "      }\n",
       "      var element = document.createElement('script');\n",
       "      element.onerror = on_error;\n",
       "      element.async = false;\n",
       "      element.type = \"module\";\n",
       "      console.debug(\"Bokeh: injecting script tag for BokehJS library: \", url);\n",
       "      element.textContent = `\n",
       "      import ${name} from \"${url}\"\n",
       "      window.${name} = ${name}\n",
       "      window._bokeh_on_load()\n",
       "      `\n",
       "      document.head.appendChild(element);\n",
       "    }\n",
       "    if (!js_urls.length && !js_modules.length) {\n",
       "      on_load()\n",
       "    }\n",
       "  };\n",
       "\n",
       "  function inject_raw_css(css) {\n",
       "    const element = document.createElement(\"style\");\n",
       "    element.appendChild(document.createTextNode(css));\n",
       "    document.body.appendChild(element);\n",
       "  }\n",
       "\n",
       "  var js_urls = [\"https://cdn.bokeh.org/bokeh/release/bokeh-3.1.1.min.js\", \"https://cdn.bokeh.org/bokeh/release/bokeh-gl-3.1.1.min.js\", \"https://cdn.bokeh.org/bokeh/release/bokeh-widgets-3.1.1.min.js\", \"https://cdn.bokeh.org/bokeh/release/bokeh-tables-3.1.1.min.js\", \"https://cdn.holoviz.org/panel/1.1.0/dist/bundled/floatpanel/jspanel4@4.12.0/dist/jspanel.js\", \"https://cdn.holoviz.org/panel/1.1.0/dist/bundled/floatpanel/jspanel4@4.12.0/dist/extensions/modal/jspanel.modal.js\", \"https://cdn.holoviz.org/panel/1.1.0/dist/bundled/floatpanel/jspanel4@4.12.0/dist/extensions/tooltip/jspanel.tooltip.js\", \"https://cdn.holoviz.org/panel/1.1.0/dist/bundled/floatpanel/jspanel4@4.12.0/dist/extensions/hint/jspanel.hint.js\", \"https://cdn.holoviz.org/panel/1.1.0/dist/bundled/floatpanel/jspanel4@4.12.0/dist/extensions/layout/jspanel.layout.js\", \"https://cdn.holoviz.org/panel/1.1.0/dist/bundled/floatpanel/jspanel4@4.12.0/dist/extensions/contextmenu/jspanel.contextmenu.js\", \"https://cdn.holoviz.org/panel/1.1.0/dist/bundled/floatpanel/jspanel4@4.12.0/dist/extensions/dock/jspanel.dock.js\", \"https://cdn.holoviz.org/panel/1.1.0/dist/panel.min.js\"];\n",
       "  var js_modules = [];\n",
       "  var js_exports = {};\n",
       "  var css_urls = [\"https://cdn.holoviz.org/panel/1.1.0/dist/bundled/floatpanel/jspanel4@4.12.0/dist/jspanel.css\"];\n",
       "  var inline_js = [    function(Bokeh) {\n",
       "      inject_raw_css(\"/**\\n * jsPanel - A JavaScript library to create highly configurable multifunctional floating panels that can also be used as modal, tooltip, hint or contextmenu\\n * @version v4.12.0\\n * @homepage https://jspanel.de/\\n * @license MIT\\n * @author Stefan Str\\u00e4\\u00dfer - info@jspanel.de\\n * @github https://github.com/Flyer53/jsPanel4.git\\n */\\n.default-bg, .secondary-bg {\\n  background-color: #b0bec5; }\\n\\n.primary-bg {\\n  background-color: #01579b; }\\n\\n.info-bg {\\n  background-color: #039be5; }\\n\\n.success-bg {\\n  background-color: #2e7d32; }\\n\\n.warning-bg {\\n  background-color: #f57f17; }\\n\\n.danger-bg {\\n  background-color: #dd2c00; }\\n\\n.light-bg {\\n  background-color: #e0e0e0; }\\n\\n.dark-bg {\\n  background-color: #263238; }\\n\\n.jsPanel {\\n  border: 0;\\n  box-sizing: border-box;\\n  vertical-align: baseline;\\n  font-family: Roboto,\\\"Open Sans\\\",Lato,\\\"Helvetica Neue\\\",Arial,sans-serif;\\n  font-weight: normal;\\n  display: flex;\\n  flex-direction: column;\\n  opacity: 0;\\n  overflow: visible;\\n  position: absolute;\\n  /* top: 0  do not remove, otherwise panel is at the very bottom of the page -> results in vertical scrollbars -> positioning at right incorrect */\\n  z-index: 100; }\\n  .jsPanel .jsPanel-hdr {\\n    border: 0;\\n    box-sizing: border-box;\\n    vertical-align: baseline;\\n    font-family: Roboto,\\\"Open Sans\\\",Lato,\\\"Helvetica Neue\\\",Arial,sans-serif;\\n    font-weight: normal;\\n    display: flex;\\n    flex-direction: column;\\n    flex-shrink: 0;\\n    line-height: normal; }\\n  .jsPanel .jsPanel-content {\\n    border: 0;\\n    box-sizing: border-box;\\n    vertical-align: baseline;\\n    font-family: Roboto,\\\"Open Sans\\\",Lato,\\\"Helvetica Neue\\\",Arial,sans-serif;\\n    font-weight: normal;\\n    background: #ffffff;\\n    color: #000000;\\n    font-size: 1rem;\\n    position: relative;\\n    overflow-x: hidden;\\n    overflow-y: auto;\\n    flex-grow: 1; }\\n    .jsPanel .jsPanel-content pre {\\n      color: inherit; }\\n  .jsPanel .jsPanel-ftr {\\n    flex-direction: row;\\n    justify-content: flex-end;\\n    flex-wrap: nowrap;\\n    align-items: center;\\n    display: none;\\n    box-sizing: border-box;\\n    font-size: 1rem;\\n    height: auto;\\n    background: #f5f5f5;\\n    font-weight: normal;\\n    color: black;\\n    overflow: hidden; }\\n  .jsPanel .jsPanel-ftr.active {\\n    display: flex;\\n    flex-shrink: 0;\\n    margin: 0;\\n    padding: 3px 8px; }\\n\\n.jsPanel-hdr.jsPanel-hdr-dark .jsPanel-btn:hover {\\n  background-color: rgba(255, 255, 255, 0.4); }\\n\\n.jsPanel-hdr.jsPanel-hdr-light .jsPanel-btn:hover {\\n  background-color: rgba(0, 0, 0, 0.15); }\\n\\n.jsPanel-hdr-toolbar {\\n  font-size: 1rem; }\\n\\n.jsPanel-headerbar {\\n  box-sizing: border-box;\\n  display: flex;\\n  flex-direction: row;\\n  flex-wrap: nowrap;\\n  align-items: center; }\\n  .jsPanel-headerbar img {\\n    vertical-align: middle;\\n    max-height: 38px; }\\n\\n.jsPanel-titlebar {\\n  display: flex;\\n  align-items: center;\\n  font-size: 1rem;\\n  flex: 1 1 0;\\n  cursor: move;\\n  height: 100%;\\n  overflow: hidden;\\n  user-select: none; }\\n  .jsPanel-titlebar .jsPanel-title {\\n    white-space: nowrap;\\n    overflow: hidden;\\n    text-overflow: ellipsis;\\n    font-variant: small-caps;\\n    font-weight: normal;\\n    margin: 0 5px 0 8px;\\n    min-width: 0; }\\n\\n.jsPanel-titlebar.jsPanel-rtl {\\n  flex-direction: row-reverse; }\\n\\n.jsPanel-controlbar {\\n  display: flex;\\n  align-items: center;\\n  align-self: start;\\n  touch-action: none;\\n  margin: 3px; }\\n  .jsPanel-controlbar .jsPanel-btn {\\n    cursor: pointer;\\n    touch-action: none;\\n    border-radius: 3px;\\n    border: 0;\\n    padding: 0;\\n    margin: 0;\\n    background-color: transparent;\\n    box-shadow: none; }\\n    .jsPanel-controlbar .jsPanel-btn svg.jsPanel-icon, .jsPanel-controlbar .jsPanel-btn span, .jsPanel-controlbar .jsPanel-btn i {\\n      vertical-align: middle; }\\n    .jsPanel-controlbar .jsPanel-btn span.glyphicon {\\n      padding: 0 2px; }\\n    .jsPanel-controlbar .jsPanel-btn svg.svg-inline--fa {\\n      margin: 2px 3px; }\\n  .jsPanel-controlbar .jsPanel-btn-normalize {\\n    display: none; }\\n  .jsPanel-controlbar .jsPanel-btn.jsPanel-btn-xl svg:not(.svg-inline--fa), .jsPanel-controlbar .jsPanel-btn.jsPanel-btn-xl span:not(.material-icons) {\\n    width: 2rem;\\n    height: 2rem;\\n    margin: 2px 3px; }\\n  .jsPanel-controlbar .jsPanel-btn.jsPanel-btn-xl .svg-inline--fa {\\n    font-size: 2rem; }\\n  .jsPanel-controlbar .jsPanel-btn.jsPanel-btn-xl span.material-icons {\\n    font-size: 2.2rem; }\\n  .jsPanel-controlbar .jsPanel-btn.jsPanel-btn-xl span[class^=fa] {\\n    width: auto;\\n    height: auto;\\n    font-size: 2rem;\\n    margin: 0 4px; }\\n  .jsPanel-controlbar .jsPanel-btn.jsPanel-btn-lg svg:not(.svg-inline--fa), .jsPanel-controlbar .jsPanel-btn.jsPanel-btn-lg span:not(.material-icons) {\\n    width: 1.75rem;\\n    height: 1.75rem;\\n    margin: 2px 3px; }\\n  .jsPanel-controlbar .jsPanel-btn.jsPanel-btn-lg .svg-inline--fa {\\n    font-size: 1.75rem; }\\n  .jsPanel-controlbar .jsPanel-btn.jsPanel-btn-lg span.material-icons {\\n    font-size: 1.9rem; }\\n  .jsPanel-controlbar .jsPanel-btn.jsPanel-btn-lg span[class^=fa] {\\n    width: auto;\\n    height: auto;\\n    font-size: 1.75rem; }\\n  .jsPanel-controlbar .jsPanel-btn.jsPanel-btn-md svg:not(.svg-inline--fa), .jsPanel-controlbar .jsPanel-btn.jsPanel-btn-md span:not(.material-icons) {\\n    width: 1.5rem;\\n    height: 1.5rem;\\n    margin: 2px 3px; }\\n  .jsPanel-controlbar .jsPanel-btn.jsPanel-btn-md .svg-inline--fa {\\n    font-size: 1.5rem; }\\n  .jsPanel-controlbar .jsPanel-btn.jsPanel-btn-md span.material-icons {\\n    font-size: 1.6rem; }\\n  .jsPanel-controlbar .jsPanel-btn.jsPanel-btn-md span[class^=fa] {\\n    width: auto;\\n    height: auto;\\n    font-size: 1.5rem; }\\n  .jsPanel-controlbar .jsPanel-btn.jsPanel-btn-sm svg:not(.svg-inline--fa), .jsPanel-controlbar .jsPanel-btn.jsPanel-btn-sm span:not(.material-icons) {\\n    width: 1.25rem;\\n    height: 1.25rem;\\n    margin: 2px 3px; }\\n  .jsPanel-controlbar .jsPanel-btn.jsPanel-btn-sm .svg-inline--fa {\\n    font-size: 1.25rem; }\\n  .jsPanel-controlbar .jsPanel-btn.jsPanel-btn-sm span.material-icons {\\n    font-size: 1.3rem; }\\n  .jsPanel-controlbar .jsPanel-btn.jsPanel-btn-sm span[class^=fa] {\\n    width: auto;\\n    height: auto;\\n    font-size: 1.25rem; }\\n  .jsPanel-controlbar .jsPanel-btn.jsPanel-btn-xs svg:not(.svg-inline--fa), .jsPanel-controlbar .jsPanel-btn.jsPanel-btn-xs span:not(.material-icons) {\\n    width: 1rem;\\n    height: 1rem;\\n    margin: 1px 3px; }\\n  .jsPanel-controlbar .jsPanel-btn.jsPanel-btn-xs .svg-inline--fa {\\n    font-size: 1rem; }\\n  .jsPanel-controlbar .jsPanel-btn.jsPanel-btn-xs span.material-icons {\\n    font-size: 1rem; }\\n  .jsPanel-controlbar .jsPanel-btn.jsPanel-btn-xs span[class^=fa] {\\n    width: auto;\\n    height: auto;\\n    font-size: 1rem; }\\n\\n.jsPanel-hdr-toolbar {\\n  display: none;\\n  width: auto;\\n  height: auto; }\\n\\n.jsPanel-hdr-toolbar.active {\\n  box-sizing: border-box;\\n  display: flex;\\n  flex-direction: row;\\n  flex-wrap: nowrap;\\n  align-items: center;\\n  padding: 3px 8px; }\\n\\n/* styles for panels using option.rtl */\\n.jsPanel-titlebar .jsPanel-title[dir=rtl] {\\n  margin: 0 8px 0 5px; }\\n\\n.jsPanel-hdr-toolbar[dir=rtl].active {\\n  padding: 0 8px 0 8px; }\\n\\n.jsPanel-content[dir=rtl] {\\n  text-align: right; }\\n\\n.jsPanel-ftr[dir=rtl] {\\n  flex-direction: row; }\\n\\n/* container that takes the minified jsPanels */\\n#jsPanel-replacement-container, .jsPanel-minimized-box, .jsPanel-minimized-container {\\n  display: flex;\\n  flex-flow: row wrap-reverse;\\n  background: transparent none repeat scroll 0 0;\\n  bottom: 0;\\n  height: auto;\\n  left: 0;\\n  position: fixed;\\n  width: auto;\\n  z-index: 9998; }\\n\\n.jsPanel-replacement {\\n  font-family: Roboto,\\\"Open Sans\\\",Lato,\\\"Helvetica Neue\\\",Arial,sans-serif;\\n  display: flex;\\n  align-items: center;\\n  width: 200px;\\n  height: 34px;\\n  margin: 1px 1px 0 0;\\n  z-index: 9999; }\\n  .jsPanel-replacement .jsPanel-hdr {\\n    flex-grow: 1;\\n    min-width: 0;\\n    padding: 0;\\n    height: 34px;\\n    overflow: hidden; }\\n    .jsPanel-replacement .jsPanel-hdr .jsPanel-headerlogo {\\n      max-width: 50%;\\n      overflow: hidden; }\\n      .jsPanel-replacement .jsPanel-hdr .jsPanel-headerlogo img {\\n        max-width: 100px;\\n        max-height: 34px; }\\n  .jsPanel-replacement .jsPanel-titlebar {\\n    cursor: default;\\n    min-width: 0; }\\n  .jsPanel-replacement .jsPanel-btn.jsPanel-btn-normalize {\\n    display: block; }\\n\\n.jsPanel-minimized-box, .jsPanel-minimized-container {\\n  position: absolute;\\n  width: 100%;\\n  overflow: hidden; }\\n\\n/* helper classes to make .jsPanel-content a flex box */\\n.flexOne {\\n  display: flex;\\n  flex-flow: row wrap; }\\n\\n/* css for resizeit handles -------------- */\\n.jsPanel-resizeit-handle {\\n  display: block;\\n  font-size: 0.1px;\\n  position: absolute;\\n  touch-action: none; }\\n\\n.jsPanel-resizeit-handle.jsPanel-resizeit-n {\\n  cursor: n-resize;\\n  height: 12px;\\n  left: 9px;\\n  top: -5px;\\n  width: calc(100% - 18px); }\\n\\n.jsPanel-resizeit-handle.jsPanel-resizeit-e {\\n  cursor: e-resize;\\n  height: calc(100% - 18px);\\n  right: -9px;\\n  top: 9px;\\n  width: 12px; }\\n\\n.jsPanel-resizeit-handle.jsPanel-resizeit-s {\\n  bottom: -9px;\\n  cursor: s-resize;\\n  height: 12px;\\n  left: 9px;\\n  width: calc(100% - 18px); }\\n\\n.jsPanel-resizeit-handle.jsPanel-resizeit-w {\\n  cursor: w-resize;\\n  height: calc(100% - 18px);\\n  left: -9px;\\n  top: 9px;\\n  width: 12px; }\\n\\n.jsPanel-resizeit-handle.jsPanel-resizeit-ne {\\n  cursor: ne-resize;\\n  height: 18px;\\n  right: -9px;\\n  top: -9px;\\n  width: 18px; }\\n\\n.jsPanel-resizeit-handle.jsPanel-resizeit-se {\\n  bottom: -9px;\\n  cursor: se-resize;\\n  height: 18px;\\n  right: -9px;\\n  width: 18px; }\\n\\n.jsPanel-resizeit-handle.jsPanel-resizeit-sw {\\n  bottom: -9px;\\n  cursor: sw-resize;\\n  height: 18px;\\n  left: -9px;\\n  width: 18px; }\\n\\n.jsPanel-resizeit-handle.jsPanel-resizeit-nw {\\n  cursor: nw-resize;\\n  height: 18px;\\n  left: -9px;\\n  top: -9px;\\n  width: 18px; }\\n\\n.jsPanel-drag-overlay {\\n  width: 100%;\\n  height: 100%;\\n  position: absolute;\\n  left: 0;\\n  top: 0; }\\n\\n/* Error panel ----------------- */\\n.jsPanel-error .jsPanel-content {\\n  border: 0 !important;\\n  padding-top: 0 !important;\\n  font-size: .9rem;\\n  text-align: center; }\\n  .jsPanel-error .jsPanel-content p {\\n    margin: 0 0 10px 0; }\\n  .jsPanel-error .jsPanel-content mark {\\n    background: lavender;\\n    border-radius: .33rem;\\n    padding: 0 8px;\\n    font-family: monospace; }\\n  .jsPanel-error .jsPanel-content .jsPanel-error-content-separator {\\n    width: 100%;\\n    height: 1px;\\n    background-image: linear-gradient(90deg, white 0%, rebeccapurple 50%, white 100%);\\n    margin-bottom: 10px; }\\n\\n/* box-shadows -------------------------------------------------------- */\\n.jsPanel-depth-1 {\\n  box-shadow: 0 3px 6px rgba(0, 0, 0, 0.16), 0 3px 6px rgba(0, 0, 0, 0.23); }\\n\\n.jsPanel-depth-2 {\\n  box-shadow: 0 10px 20px rgba(0, 0, 0, 0.19), 0 6px 6px rgba(0, 0, 0, 0.23); }\\n\\n.jsPanel-depth-3 {\\n  box-shadow: 0 14px 28px rgba(0, 0, 0, 0.25), 0 10px 10px rgba(0, 0, 0, 0.22); }\\n\\n.jsPanel-depth-4 {\\n  box-shadow: 0 19px 38px rgba(0, 0, 0, 0.3), 0 15px 12px rgba(0, 0, 0, 0.22); }\\n\\n.jsPanel-depth-5 {\\n  box-shadow: 0 24px 48px rgba(0, 0, 0, 0.3), 0 20px 14px rgba(0, 0, 0, 0.22); }\\n\\n/* snap sensitive areas ------------------------------------------------ */\\n.jsPanel-snap-area {\\n  position: fixed;\\n  background: black;\\n  opacity: .2;\\n  border: 1px solid silver;\\n  box-shadow: 0 14px 28px rgba(0, 0, 0, 0.5), 0 10px 10px rgba(0, 0, 0, 0.5);\\n  z-index: 9999; }\\n\\n.jsPanel-snap-area-lt, .jsPanel-snap-area-lc, .jsPanel-snap-area-lb, .jsPanel-snap-area-left-top, .jsPanel-snap-area-left-center, .jsPanel-snap-area-left-bottom {\\n  left: 0; }\\n\\n.jsPanel-snap-area-ct, .jsPanel-snap-area-cb {\\n  left: 37.5%; }\\n\\n.jsPanel-snap-area-rt, .jsPanel-snap-area-rc, .jsPanel-snap-area-rb, .jsPanel-snap-area-right-top, .jsPanel-snap-area-right-center, .jsPanel-snap-area-right-bottom {\\n  right: 0; }\\n\\n.jsPanel-snap-area-lt, .jsPanel-snap-area-ct, .jsPanel-snap-area-rt, .jsPanel-snap-area-left-top, .jsPanel-snap-area-center-top, .jsPanel-snap-area-right-top {\\n  top: 0; }\\n\\n.jsPanel-snap-area-lc, .jsPanel-snap-area-rc {\\n  top: 37.5%; }\\n\\n.jsPanel-snap-area-lb, .jsPanel-snap-area-cb, .jsPanel-snap-area-rb, .jsPanel-snap-area-left-bottom, .jsPanel-snap-area-center-bottom, .jsPanel-snap-area-right-bottom {\\n  bottom: 0; }\\n\\n.jsPanel-snap-area-ct, .jsPanel-snap-area-cb {\\n  width: 25%; }\\n\\n.jsPanel-snap-area-lc, .jsPanel-snap-area-rc {\\n  height: 25%; }\\n\\n.jsPanel-snap-area-lt, .jsPanel-snap-area-left-top {\\n  border-bottom-right-radius: 100%; }\\n\\n.jsPanel-snap-area-rt, .jsPanel-snap-area-right-top {\\n  border-bottom-left-radius: 100%; }\\n\\n.jsPanel-snap-area-rb, .jsPanel-snap-area-right-bottom {\\n  border-top-left-radius: 100%; }\\n\\n.jsPanel-snap-area-lb, .jsPanel-snap-area-left-bottom {\\n  border-top-right-radius: 100%; }\\n\\n/* tooltip and tooltip connectors */\\n.jsPanel-connector-left-top-corner,\\n.jsPanel-connector-right-top-corner,\\n.jsPanel-connector-left-bottom-corner,\\n.jsPanel-connector-right-bottom-corner {\\n  width: 12px;\\n  height: 12px;\\n  position: absolute;\\n  border-radius: 50%; }\\n\\n.jsPanel-connector-left-top-corner {\\n  left: calc(100% - 6px);\\n  top: calc(100% - 6px); }\\n\\n.jsPanel-connector-right-top-corner {\\n  left: -6px;\\n  top: calc(100% - 6px); }\\n\\n.jsPanel-connector-right-bottom-corner {\\n  left: -6px;\\n  top: -6px; }\\n\\n.jsPanel-connector-left-bottom-corner {\\n  left: calc(100% - 6px);\\n  top: -6px; }\\n\\n.jsPanel-connector-top,\\n.jsPanel-connector-topleft,\\n.jsPanel-connector-topright,\\n.jsPanel-connector-bottom,\\n.jsPanel-connector-bottomleft,\\n.jsPanel-connector-bottomright,\\n.jsPanel-connector-left,\\n.jsPanel-connector-lefttop,\\n.jsPanel-connector-leftbottom,\\n.jsPanel-connector-right,\\n.jsPanel-connector-righttop,\\n.jsPanel-connector-rightbottom {\\n  width: 0;\\n  height: 0;\\n  position: absolute;\\n  border: 12px solid transparent; }\\n\\n.jsPanel-connector-top,\\n.jsPanel-connector-topleft,\\n.jsPanel-connector-topright {\\n  top: 100%;\\n  border-bottom-width: 0; }\\n\\n.jsPanel-connector-top {\\n  left: calc(50% - 12px); }\\n\\n.jsPanel-connector-topleft {\\n  left: 0px; }\\n\\n.jsPanel-connector-topright {\\n  left: calc(100% - 24px); }\\n\\n.jsPanel-connector-bottom,\\n.jsPanel-connector-bottomleft,\\n.jsPanel-connector-bottomright {\\n  top: -12px;\\n  border-top-width: 0; }\\n\\n.jsPanel-connector-bottom {\\n  left: calc(50% - 12px); }\\n\\n.jsPanel-connector-bottomleft {\\n  left: 0px; }\\n\\n.jsPanel-connector-bottomright {\\n  left: calc(100% - 24px); }\\n\\n.jsPanel-connector-left,\\n.jsPanel-connector-lefttop,\\n.jsPanel-connector-leftbottom {\\n  left: 100%;\\n  border-right-width: 0; }\\n\\n.jsPanel-connector-left {\\n  top: calc(50% - 12px); }\\n\\n.jsPanel-connector-lefttop {\\n  top: 0px; }\\n\\n.jsPanel-connector-leftbottom {\\n  top: calc(100% - 24px); }\\n\\n.jsPanel-connector-right,\\n.jsPanel-connector-righttop,\\n.jsPanel-connector-rightbottom {\\n  left: -12px;\\n  border-left-width: 0; }\\n\\n.jsPanel-connector-right {\\n  top: calc(50% - 12px); }\\n\\n.jsPanel-connector-righttop {\\n  top: 0px; }\\n\\n.jsPanel-connector-rightbottom {\\n  top: calc(100% - 24px); }\\n\\n/* IE11 CSS styles go here */\\n@media all and (-ms-high-contrast: none), (-ms-high-contrast: active) {\\n  .jsPanel-replacement .jsPanel-titlebar {\\n    max-width: 105px; } }\\n\\n/* XXXXXXXXXXXXXXXXXXXXXXX */\\n/* css3 animations */\\n@keyframes jsPanelFadeIn {\\n  from {\\n    opacity: 0; }\\n  to {\\n    opacity: 1; } }\\n\\n.jsPanelFadeIn {\\n  opacity: 0;\\n  animation: jsPanelFadeIn ease-in 1;\\n  animation-fill-mode: forwards;\\n  animation-duration: 600ms; }\\n\\n@keyframes jsPanelFadeOut {\\n  from {\\n    opacity: 1; }\\n  to {\\n    opacity: 0; } }\\n\\n.jsPanelFadeOut {\\n  animation: jsPanelFadeOut ease-in 1;\\n  animation-fill-mode: forwards;\\n  animation-duration: 600ms; }\\n\\n@keyframes modalBackdropFadeIn {\\n  from {\\n    opacity: 0; }\\n  to {\\n    opacity: 0.65; } }\\n\\n.jsPanel-modal-backdrop {\\n  animation: modalBackdropFadeIn ease-in 1;\\n  animation-fill-mode: forwards;\\n  animation-duration: 750ms;\\n  background: black;\\n  position: fixed;\\n  top: 0;\\n  left: 0;\\n  width: 100%;\\n  height: 100%; }\\n\\n@keyframes modalBackdropFadeOut {\\n  from {\\n    opacity: 0.65; }\\n  to {\\n    opacity: 0; } }\\n\\n.jsPanel-modal-backdrop-out {\\n  animation: modalBackdropFadeOut ease-in 1;\\n  animation-fill-mode: forwards;\\n  animation-duration: 400ms; }\\n\\n.jsPanel-modal-backdrop-multi {\\n  background: rgba(0, 0, 0, 0.15); }\\n\\n.jsPanel-content .jsPanel-iframe-overlay {\\n  position: absolute;\\n  top: 0;\\n  width: 100%;\\n  height: 100%;\\n  background: transparent; }\\n\\n.jsPanel-addCloseCtrl {\\n  position: absolute;\\n  top: 0;\\n  right: 0;\\n  width: .8rem;\\n  height: .8rem;\\n  margin: 2px;\\n  cursor: pointer;\\n  line-height: .8rem;\\n  padding: 0;\\n  z-index: 100;\\n  border: 0;\\n  background-color: transparent; }\\n\\n.jsPanel-addCloseCtrl.rtl {\\n  right: unset;\\n  left: 0; }\\n\\n.jsPanel-progressbar {\\n  position: relative;\\n  width: 100%;\\n  height: 0;\\n  overflow: hidden; }\\n  .jsPanel-progressbar .jsPanel-progressbar-slider {\\n    position: absolute;\\n    width: 0;\\n    height: 3px;\\n    background: lightgray;\\n    right: 0; }\\n\\n.jsPanel-progressbar.active {\\n  height: 3px; }\\n\\n@keyframes progressbar {\\n  from {\\n    width: 0; }\\n  to {\\n    width: 100%; } }\\n\\n.jsPanel-content.jsPanel-content-noheader {\\n  border: none !important; }\\n\\nbody {\\n  -ms-overflow-style: scrollbar; }\\n\");\n",
       "    },    function(Bokeh) {\n",
       "      Bokeh.set_log_level(\"info\");\n",
       "    },\n",
       "function(Bokeh) {} // ensure no trailing comma for IE\n",
       "  ];\n",
       "\n",
       "  function run_inline_js() {\n",
       "    if ((root.Bokeh !== undefined) || (force === true)) {\n",
       "      for (var i = 0; i < inline_js.length; i++) {\n",
       "        inline_js[i].call(root, root.Bokeh);\n",
       "      }\n",
       "      // Cache old bokeh versions\n",
       "      if (Bokeh != undefined && !reloading) {\n",
       "\tvar NewBokeh = root.Bokeh;\n",
       "\tif (Bokeh.versions === undefined) {\n",
       "\t  Bokeh.versions = new Map();\n",
       "\t}\n",
       "\tif (NewBokeh.version !== Bokeh.version) {\n",
       "\t  Bokeh.versions.set(NewBokeh.version, NewBokeh)\n",
       "\t}\n",
       "\troot.Bokeh = Bokeh;\n",
       "      }} else if (Date.now() < root._bokeh_timeout) {\n",
       "      setTimeout(run_inline_js, 100);\n",
       "    } else if (!root._bokeh_failed_load) {\n",
       "      console.log(\"Bokeh: BokehJS failed to load within specified timeout.\");\n",
       "      root._bokeh_failed_load = true;\n",
       "    }\n",
       "    root._bokeh_is_initializing = false\n",
       "  }\n",
       "\n",
       "  function load_or_wait() {\n",
       "    // Implement a backoff loop that tries to ensure we do not load multiple\n",
       "    // versions of Bokeh and its dependencies at the same time.\n",
       "    // In recent versions we use the root._bokeh_is_initializing flag\n",
       "    // to determine whether there is an ongoing attempt to initialize\n",
       "    // bokeh, however for backward compatibility we also try to ensure\n",
       "    // that we do not start loading a newer (Panel>=1.0 and Bokeh>3) version\n",
       "    // before older versions are fully initialized.\n",
       "    if (root._bokeh_is_initializing && Date.now() > root._bokeh_timeout) {\n",
       "      root._bokeh_is_initializing = false;\n",
       "      root._bokeh_onload_callbacks = undefined;\n",
       "      console.log(\"Bokeh: BokehJS was loaded multiple times but one version failed to initialize.\");\n",
       "      load_or_wait();\n",
       "    } else if (root._bokeh_is_initializing || (typeof root._bokeh_is_initializing === \"undefined\" && root._bokeh_onload_callbacks !== undefined)) {\n",
       "      setTimeout(load_or_wait, 100);\n",
       "    } else {\n",
       "      Bokeh = root.Bokeh;\n",
       "      bokeh_loaded = Bokeh != null && (Bokeh.version === py_version || (Bokeh.versions !== undefined && Bokeh.versions.has(py_version)));\n",
       "      root._bokeh_is_initializing = true\n",
       "      root._bokeh_onload_callbacks = []\n",
       "      if (!reloading && (!bokeh_loaded || is_dev)) {\n",
       "\troot.Bokeh = undefined;\n",
       "      }\n",
       "      load_libs(css_urls, js_urls, js_modules, js_exports, function() {\n",
       "\tconsole.debug(\"Bokeh: BokehJS plotting callback run at\", now());\n",
       "\trun_inline_js();\n",
       "      });\n",
       "    }\n",
       "  }\n",
       "  // Give older versions of the autoload script a head-start to ensure\n",
       "  // they initialize before we start loading newer version.\n",
       "  setTimeout(load_or_wait, 100)\n",
       "}(window));"
      ],
      "application/vnd.holoviews_load.v0+json": "(function(root) {\n  function now() {\n    return new Date();\n  }\n\n  var force = true;\n  var py_version = '3.1.1'.replace('rc', '-rc.');\n  var is_dev = py_version.indexOf(\"+\") !== -1 || py_version.indexOf(\"-\") !== -1;\n  var reloading = false;\n  var Bokeh = root.Bokeh;\n  var bokeh_loaded = Bokeh != null && (Bokeh.version === py_version || (Bokeh.versions !== undefined && Bokeh.versions.has(py_version)));\n\n  if (typeof (root._bokeh_timeout) === \"undefined\" || force) {\n    root._bokeh_timeout = Date.now() + 5000;\n    root._bokeh_failed_load = false;\n  }\n\n  function run_callbacks() {\n    try {\n      root._bokeh_onload_callbacks.forEach(function(callback) {\n        if (callback != null)\n          callback();\n      });\n    } finally {\n      delete root._bokeh_onload_callbacks;\n    }\n    console.debug(\"Bokeh: all callbacks have finished\");\n  }\n\n  function load_libs(css_urls, js_urls, js_modules, js_exports, callback) {\n    if (css_urls == null) css_urls = [];\n    if (js_urls == null) js_urls = [];\n    if (js_modules == null) js_modules = [];\n    if (js_exports == null) js_exports = {};\n\n    root._bokeh_onload_callbacks.push(callback);\n\n    if (root._bokeh_is_loading > 0) {\n      console.debug(\"Bokeh: BokehJS is being loaded, scheduling callback at\", now());\n      return null;\n    }\n    if (js_urls.length === 0 && js_modules.length === 0 && Object.keys(js_exports).length === 0) {\n      run_callbacks();\n      return null;\n    }\n    if (!reloading) {\n      console.debug(\"Bokeh: BokehJS not loaded, scheduling load and callback at\", now());\n    }\n\n    function on_load() {\n      root._bokeh_is_loading--;\n      if (root._bokeh_is_loading === 0) {\n        console.debug(\"Bokeh: all BokehJS libraries/stylesheets loaded\");\n        run_callbacks()\n      }\n    }\n    window._bokeh_on_load = on_load\n\n    function on_error() {\n      console.error(\"failed to load \" + url);\n    }\n\n    var skip = [];\n    if (window.requirejs) {\n      window.requirejs.config({'packages': {}, 'paths': {'jspanel': 'https://cdn.jsdelivr.net/npm/jspanel4@4.12.0/dist/jspanel', 'jspanel-modal': 'https://cdn.jsdelivr.net/npm/jspanel4@4.12.0/dist/extensions/modal/jspanel.modal', 'jspanel-tooltip': 'https://cdn.jsdelivr.net/npm/jspanel4@4.12.0/dist/extensions/tooltip/jspanel.tooltip', 'jspanel-hint': 'https://cdn.jsdelivr.net/npm/jspanel4@4.12.0/dist/extensions/hint/jspanel.hint', 'jspanel-layout': 'https://cdn.jsdelivr.net/npm/jspanel4@4.12.0/dist/extensions/layout/jspanel.layout', 'jspanel-contextmenu': 'https://cdn.jsdelivr.net/npm/jspanel4@4.12.0/dist/extensions/contextmenu/jspanel.contextmenu', 'jspanel-dock': 'https://cdn.jsdelivr.net/npm/jspanel4@4.12.0/dist/extensions/dock/jspanel.dock', 'gridstack': 'https://cdn.jsdelivr.net/npm/gridstack@7.2.3/dist/gridstack-all', 'notyf': 'https://cdn.jsdelivr.net/npm/notyf@3/notyf.min'}, 'shim': {'jspanel': {'exports': 'jsPanel'}, 'gridstack': {'exports': 'GridStack'}}});\n      require([\"jspanel\"], function(jsPanel) {\n\twindow.jsPanel = jsPanel\n\ton_load()\n      })\n      require([\"jspanel-modal\"], function() {\n\ton_load()\n      })\n      require([\"jspanel-tooltip\"], function() {\n\ton_load()\n      })\n      require([\"jspanel-hint\"], function() {\n\ton_load()\n      })\n      require([\"jspanel-layout\"], function() {\n\ton_load()\n      })\n      require([\"jspanel-contextmenu\"], function() {\n\ton_load()\n      })\n      require([\"jspanel-dock\"], function() {\n\ton_load()\n      })\n      require([\"gridstack\"], function(GridStack) {\n\twindow.GridStack = GridStack\n\ton_load()\n      })\n      require([\"notyf\"], function() {\n\ton_load()\n      })\n      root._bokeh_is_loading = css_urls.length + 9;\n    } else {\n      root._bokeh_is_loading = css_urls.length + js_urls.length + js_modules.length + Object.keys(js_exports).length;\n    }\n\n    var existing_stylesheets = []\n    var links = document.getElementsByTagName('link')\n    for (var i = 0; i < links.length; i++) {\n      var link = links[i]\n      if (link.href != null) {\n\texisting_stylesheets.push(link.href)\n      }\n    }\n    for (var i = 0; i < css_urls.length; i++) {\n      var url = css_urls[i];\n      if (existing_stylesheets.indexOf(url) !== -1) {\n\ton_load()\n\tcontinue;\n      }\n      const element = document.createElement(\"link\");\n      element.onload = on_load;\n      element.onerror = on_error;\n      element.rel = \"stylesheet\";\n      element.type = \"text/css\";\n      element.href = url;\n      console.debug(\"Bokeh: injecting link tag for BokehJS stylesheet: \", url);\n      document.body.appendChild(element);\n    }    if (((window['jsPanel'] !== undefined) && (!(window['jsPanel'] instanceof HTMLElement))) || window.requirejs) {\n      var urls = ['https://cdn.holoviz.org/panel/1.1.0/dist/bundled/floatpanel/jspanel4@4.12.0/dist/jspanel.js', 'https://cdn.holoviz.org/panel/1.1.0/dist/bundled/floatpanel/jspanel4@4.12.0/dist/extensions/modal/jspanel.modal.js', 'https://cdn.holoviz.org/panel/1.1.0/dist/bundled/floatpanel/jspanel4@4.12.0/dist/extensions/tooltip/jspanel.tooltip.js', 'https://cdn.holoviz.org/panel/1.1.0/dist/bundled/floatpanel/jspanel4@4.12.0/dist/extensions/hint/jspanel.hint.js', 'https://cdn.holoviz.org/panel/1.1.0/dist/bundled/floatpanel/jspanel4@4.12.0/dist/extensions/layout/jspanel.layout.js', 'https://cdn.holoviz.org/panel/1.1.0/dist/bundled/floatpanel/jspanel4@4.12.0/dist/extensions/contextmenu/jspanel.contextmenu.js', 'https://cdn.holoviz.org/panel/1.1.0/dist/bundled/floatpanel/jspanel4@4.12.0/dist/extensions/dock/jspanel.dock.js'];\n      for (var i = 0; i < urls.length; i++) {\n        skip.push(urls[i])\n      }\n    }    if (((window['GridStack'] !== undefined) && (!(window['GridStack'] instanceof HTMLElement))) || window.requirejs) {\n      var urls = ['https://cdn.holoviz.org/panel/1.1.0/dist/bundled/gridstack/gridstack@7.2.3/dist/gridstack-all.js'];\n      for (var i = 0; i < urls.length; i++) {\n        skip.push(urls[i])\n      }\n    }    if (((window['Notyf'] !== undefined) && (!(window['Notyf'] instanceof HTMLElement))) || window.requirejs) {\n      var urls = ['https://cdn.holoviz.org/panel/1.1.0/dist/bundled/notificationarea/notyf@3/notyf.min.js'];\n      for (var i = 0; i < urls.length; i++) {\n        skip.push(urls[i])\n      }\n    }    var existing_scripts = []\n    var scripts = document.getElementsByTagName('script')\n    for (var i = 0; i < scripts.length; i++) {\n      var script = scripts[i]\n      if (script.src != null) {\n\texisting_scripts.push(script.src)\n      }\n    }\n    for (var i = 0; i < js_urls.length; i++) {\n      var url = js_urls[i];\n      if (skip.indexOf(url) !== -1 || existing_scripts.indexOf(url) !== -1) {\n\tif (!window.requirejs) {\n\t  on_load();\n\t}\n\tcontinue;\n      }\n      var element = document.createElement('script');\n      element.onload = on_load;\n      element.onerror = on_error;\n      element.async = false;\n      element.src = url;\n      console.debug(\"Bokeh: injecting script tag for BokehJS library: \", url);\n      document.head.appendChild(element);\n    }\n    for (var i = 0; i < js_modules.length; i++) {\n      var url = js_modules[i];\n      if (skip.indexOf(url) !== -1 || existing_scripts.indexOf(url) !== -1) {\n\tif (!window.requirejs) {\n\t  on_load();\n\t}\n\tcontinue;\n      }\n      var element = document.createElement('script');\n      element.onload = on_load;\n      element.onerror = on_error;\n      element.async = false;\n      element.src = url;\n      element.type = \"module\";\n      console.debug(\"Bokeh: injecting script tag for BokehJS library: \", url);\n      document.head.appendChild(element);\n    }\n    for (const name in js_exports) {\n      var url = js_exports[name];\n      if (skip.indexOf(url) >= 0 || root[name] != null) {\n\tif (!window.requirejs) {\n\t  on_load();\n\t}\n\tcontinue;\n      }\n      var element = document.createElement('script');\n      element.onerror = on_error;\n      element.async = false;\n      element.type = \"module\";\n      console.debug(\"Bokeh: injecting script tag for BokehJS library: \", url);\n      element.textContent = `\n      import ${name} from \"${url}\"\n      window.${name} = ${name}\n      window._bokeh_on_load()\n      `\n      document.head.appendChild(element);\n    }\n    if (!js_urls.length && !js_modules.length) {\n      on_load()\n    }\n  };\n\n  function inject_raw_css(css) {\n    const element = document.createElement(\"style\");\n    element.appendChild(document.createTextNode(css));\n    document.body.appendChild(element);\n  }\n\n  var js_urls = [\"https://cdn.bokeh.org/bokeh/release/bokeh-3.1.1.min.js\", \"https://cdn.bokeh.org/bokeh/release/bokeh-gl-3.1.1.min.js\", \"https://cdn.bokeh.org/bokeh/release/bokeh-widgets-3.1.1.min.js\", \"https://cdn.bokeh.org/bokeh/release/bokeh-tables-3.1.1.min.js\", \"https://cdn.holoviz.org/panel/1.1.0/dist/bundled/floatpanel/jspanel4@4.12.0/dist/jspanel.js\", \"https://cdn.holoviz.org/panel/1.1.0/dist/bundled/floatpanel/jspanel4@4.12.0/dist/extensions/modal/jspanel.modal.js\", \"https://cdn.holoviz.org/panel/1.1.0/dist/bundled/floatpanel/jspanel4@4.12.0/dist/extensions/tooltip/jspanel.tooltip.js\", \"https://cdn.holoviz.org/panel/1.1.0/dist/bundled/floatpanel/jspanel4@4.12.0/dist/extensions/hint/jspanel.hint.js\", \"https://cdn.holoviz.org/panel/1.1.0/dist/bundled/floatpanel/jspanel4@4.12.0/dist/extensions/layout/jspanel.layout.js\", \"https://cdn.holoviz.org/panel/1.1.0/dist/bundled/floatpanel/jspanel4@4.12.0/dist/extensions/contextmenu/jspanel.contextmenu.js\", \"https://cdn.holoviz.org/panel/1.1.0/dist/bundled/floatpanel/jspanel4@4.12.0/dist/extensions/dock/jspanel.dock.js\", \"https://cdn.holoviz.org/panel/1.1.0/dist/panel.min.js\"];\n  var js_modules = [];\n  var js_exports = {};\n  var css_urls = [\"https://cdn.holoviz.org/panel/1.1.0/dist/bundled/floatpanel/jspanel4@4.12.0/dist/jspanel.css\"];\n  var inline_js = [    function(Bokeh) {\n      inject_raw_css(\"/**\\n * jsPanel - A JavaScript library to create highly configurable multifunctional floating panels that can also be used as modal, tooltip, hint or contextmenu\\n * @version v4.12.0\\n * @homepage https://jspanel.de/\\n * @license MIT\\n * @author Stefan Str\\u00e4\\u00dfer - info@jspanel.de\\n * @github https://github.com/Flyer53/jsPanel4.git\\n */\\n.default-bg, .secondary-bg {\\n  background-color: #b0bec5; }\\n\\n.primary-bg {\\n  background-color: #01579b; }\\n\\n.info-bg {\\n  background-color: #039be5; }\\n\\n.success-bg {\\n  background-color: #2e7d32; }\\n\\n.warning-bg {\\n  background-color: #f57f17; }\\n\\n.danger-bg {\\n  background-color: #dd2c00; }\\n\\n.light-bg {\\n  background-color: #e0e0e0; }\\n\\n.dark-bg {\\n  background-color: #263238; }\\n\\n.jsPanel {\\n  border: 0;\\n  box-sizing: border-box;\\n  vertical-align: baseline;\\n  font-family: Roboto,\\\"Open Sans\\\",Lato,\\\"Helvetica Neue\\\",Arial,sans-serif;\\n  font-weight: normal;\\n  display: flex;\\n  flex-direction: column;\\n  opacity: 0;\\n  overflow: visible;\\n  position: absolute;\\n  /* top: 0  do not remove, otherwise panel is at the very bottom of the page -> results in vertical scrollbars -> positioning at right incorrect */\\n  z-index: 100; }\\n  .jsPanel .jsPanel-hdr {\\n    border: 0;\\n    box-sizing: border-box;\\n    vertical-align: baseline;\\n    font-family: Roboto,\\\"Open Sans\\\",Lato,\\\"Helvetica Neue\\\",Arial,sans-serif;\\n    font-weight: normal;\\n    display: flex;\\n    flex-direction: column;\\n    flex-shrink: 0;\\n    line-height: normal; }\\n  .jsPanel .jsPanel-content {\\n    border: 0;\\n    box-sizing: border-box;\\n    vertical-align: baseline;\\n    font-family: Roboto,\\\"Open Sans\\\",Lato,\\\"Helvetica Neue\\\",Arial,sans-serif;\\n    font-weight: normal;\\n    background: #ffffff;\\n    color: #000000;\\n    font-size: 1rem;\\n    position: relative;\\n    overflow-x: hidden;\\n    overflow-y: auto;\\n    flex-grow: 1; }\\n    .jsPanel .jsPanel-content pre {\\n      color: inherit; }\\n  .jsPanel .jsPanel-ftr {\\n    flex-direction: row;\\n    justify-content: flex-end;\\n    flex-wrap: nowrap;\\n    align-items: center;\\n    display: none;\\n    box-sizing: border-box;\\n    font-size: 1rem;\\n    height: auto;\\n    background: #f5f5f5;\\n    font-weight: normal;\\n    color: black;\\n    overflow: hidden; }\\n  .jsPanel .jsPanel-ftr.active {\\n    display: flex;\\n    flex-shrink: 0;\\n    margin: 0;\\n    padding: 3px 8px; }\\n\\n.jsPanel-hdr.jsPanel-hdr-dark .jsPanel-btn:hover {\\n  background-color: rgba(255, 255, 255, 0.4); }\\n\\n.jsPanel-hdr.jsPanel-hdr-light .jsPanel-btn:hover {\\n  background-color: rgba(0, 0, 0, 0.15); }\\n\\n.jsPanel-hdr-toolbar {\\n  font-size: 1rem; }\\n\\n.jsPanel-headerbar {\\n  box-sizing: border-box;\\n  display: flex;\\n  flex-direction: row;\\n  flex-wrap: nowrap;\\n  align-items: center; }\\n  .jsPanel-headerbar img {\\n    vertical-align: middle;\\n    max-height: 38px; }\\n\\n.jsPanel-titlebar {\\n  display: flex;\\n  align-items: center;\\n  font-size: 1rem;\\n  flex: 1 1 0;\\n  cursor: move;\\n  height: 100%;\\n  overflow: hidden;\\n  user-select: none; }\\n  .jsPanel-titlebar .jsPanel-title {\\n    white-space: nowrap;\\n    overflow: hidden;\\n    text-overflow: ellipsis;\\n    font-variant: small-caps;\\n    font-weight: normal;\\n    margin: 0 5px 0 8px;\\n    min-width: 0; }\\n\\n.jsPanel-titlebar.jsPanel-rtl {\\n  flex-direction: row-reverse; }\\n\\n.jsPanel-controlbar {\\n  display: flex;\\n  align-items: center;\\n  align-self: start;\\n  touch-action: none;\\n  margin: 3px; }\\n  .jsPanel-controlbar .jsPanel-btn {\\n    cursor: pointer;\\n    touch-action: none;\\n    border-radius: 3px;\\n    border: 0;\\n    padding: 0;\\n    margin: 0;\\n    background-color: transparent;\\n    box-shadow: none; }\\n    .jsPanel-controlbar .jsPanel-btn svg.jsPanel-icon, .jsPanel-controlbar .jsPanel-btn span, .jsPanel-controlbar .jsPanel-btn i {\\n      vertical-align: middle; }\\n    .jsPanel-controlbar .jsPanel-btn span.glyphicon {\\n      padding: 0 2px; }\\n    .jsPanel-controlbar .jsPanel-btn svg.svg-inline--fa {\\n      margin: 2px 3px; }\\n  .jsPanel-controlbar .jsPanel-btn-normalize {\\n    display: none; }\\n  .jsPanel-controlbar .jsPanel-btn.jsPanel-btn-xl svg:not(.svg-inline--fa), .jsPanel-controlbar .jsPanel-btn.jsPanel-btn-xl span:not(.material-icons) {\\n    width: 2rem;\\n    height: 2rem;\\n    margin: 2px 3px; }\\n  .jsPanel-controlbar .jsPanel-btn.jsPanel-btn-xl .svg-inline--fa {\\n    font-size: 2rem; }\\n  .jsPanel-controlbar .jsPanel-btn.jsPanel-btn-xl span.material-icons {\\n    font-size: 2.2rem; }\\n  .jsPanel-controlbar .jsPanel-btn.jsPanel-btn-xl span[class^=fa] {\\n    width: auto;\\n    height: auto;\\n    font-size: 2rem;\\n    margin: 0 4px; }\\n  .jsPanel-controlbar .jsPanel-btn.jsPanel-btn-lg svg:not(.svg-inline--fa), .jsPanel-controlbar .jsPanel-btn.jsPanel-btn-lg span:not(.material-icons) {\\n    width: 1.75rem;\\n    height: 1.75rem;\\n    margin: 2px 3px; }\\n  .jsPanel-controlbar .jsPanel-btn.jsPanel-btn-lg .svg-inline--fa {\\n    font-size: 1.75rem; }\\n  .jsPanel-controlbar .jsPanel-btn.jsPanel-btn-lg span.material-icons {\\n    font-size: 1.9rem; }\\n  .jsPanel-controlbar .jsPanel-btn.jsPanel-btn-lg span[class^=fa] {\\n    width: auto;\\n    height: auto;\\n    font-size: 1.75rem; }\\n  .jsPanel-controlbar .jsPanel-btn.jsPanel-btn-md svg:not(.svg-inline--fa), .jsPanel-controlbar .jsPanel-btn.jsPanel-btn-md span:not(.material-icons) {\\n    width: 1.5rem;\\n    height: 1.5rem;\\n    margin: 2px 3px; }\\n  .jsPanel-controlbar .jsPanel-btn.jsPanel-btn-md .svg-inline--fa {\\n    font-size: 1.5rem; }\\n  .jsPanel-controlbar .jsPanel-btn.jsPanel-btn-md span.material-icons {\\n    font-size: 1.6rem; }\\n  .jsPanel-controlbar .jsPanel-btn.jsPanel-btn-md span[class^=fa] {\\n    width: auto;\\n    height: auto;\\n    font-size: 1.5rem; }\\n  .jsPanel-controlbar .jsPanel-btn.jsPanel-btn-sm svg:not(.svg-inline--fa), .jsPanel-controlbar .jsPanel-btn.jsPanel-btn-sm span:not(.material-icons) {\\n    width: 1.25rem;\\n    height: 1.25rem;\\n    margin: 2px 3px; }\\n  .jsPanel-controlbar .jsPanel-btn.jsPanel-btn-sm .svg-inline--fa {\\n    font-size: 1.25rem; }\\n  .jsPanel-controlbar .jsPanel-btn.jsPanel-btn-sm span.material-icons {\\n    font-size: 1.3rem; }\\n  .jsPanel-controlbar .jsPanel-btn.jsPanel-btn-sm span[class^=fa] {\\n    width: auto;\\n    height: auto;\\n    font-size: 1.25rem; }\\n  .jsPanel-controlbar .jsPanel-btn.jsPanel-btn-xs svg:not(.svg-inline--fa), .jsPanel-controlbar .jsPanel-btn.jsPanel-btn-xs span:not(.material-icons) {\\n    width: 1rem;\\n    height: 1rem;\\n    margin: 1px 3px; }\\n  .jsPanel-controlbar .jsPanel-btn.jsPanel-btn-xs .svg-inline--fa {\\n    font-size: 1rem; }\\n  .jsPanel-controlbar .jsPanel-btn.jsPanel-btn-xs span.material-icons {\\n    font-size: 1rem; }\\n  .jsPanel-controlbar .jsPanel-btn.jsPanel-btn-xs span[class^=fa] {\\n    width: auto;\\n    height: auto;\\n    font-size: 1rem; }\\n\\n.jsPanel-hdr-toolbar {\\n  display: none;\\n  width: auto;\\n  height: auto; }\\n\\n.jsPanel-hdr-toolbar.active {\\n  box-sizing: border-box;\\n  display: flex;\\n  flex-direction: row;\\n  flex-wrap: nowrap;\\n  align-items: center;\\n  padding: 3px 8px; }\\n\\n/* styles for panels using option.rtl */\\n.jsPanel-titlebar .jsPanel-title[dir=rtl] {\\n  margin: 0 8px 0 5px; }\\n\\n.jsPanel-hdr-toolbar[dir=rtl].active {\\n  padding: 0 8px 0 8px; }\\n\\n.jsPanel-content[dir=rtl] {\\n  text-align: right; }\\n\\n.jsPanel-ftr[dir=rtl] {\\n  flex-direction: row; }\\n\\n/* container that takes the minified jsPanels */\\n#jsPanel-replacement-container, .jsPanel-minimized-box, .jsPanel-minimized-container {\\n  display: flex;\\n  flex-flow: row wrap-reverse;\\n  background: transparent none repeat scroll 0 0;\\n  bottom: 0;\\n  height: auto;\\n  left: 0;\\n  position: fixed;\\n  width: auto;\\n  z-index: 9998; }\\n\\n.jsPanel-replacement {\\n  font-family: Roboto,\\\"Open Sans\\\",Lato,\\\"Helvetica Neue\\\",Arial,sans-serif;\\n  display: flex;\\n  align-items: center;\\n  width: 200px;\\n  height: 34px;\\n  margin: 1px 1px 0 0;\\n  z-index: 9999; }\\n  .jsPanel-replacement .jsPanel-hdr {\\n    flex-grow: 1;\\n    min-width: 0;\\n    padding: 0;\\n    height: 34px;\\n    overflow: hidden; }\\n    .jsPanel-replacement .jsPanel-hdr .jsPanel-headerlogo {\\n      max-width: 50%;\\n      overflow: hidden; }\\n      .jsPanel-replacement .jsPanel-hdr .jsPanel-headerlogo img {\\n        max-width: 100px;\\n        max-height: 34px; }\\n  .jsPanel-replacement .jsPanel-titlebar {\\n    cursor: default;\\n    min-width: 0; }\\n  .jsPanel-replacement .jsPanel-btn.jsPanel-btn-normalize {\\n    display: block; }\\n\\n.jsPanel-minimized-box, .jsPanel-minimized-container {\\n  position: absolute;\\n  width: 100%;\\n  overflow: hidden; }\\n\\n/* helper classes to make .jsPanel-content a flex box */\\n.flexOne {\\n  display: flex;\\n  flex-flow: row wrap; }\\n\\n/* css for resizeit handles -------------- */\\n.jsPanel-resizeit-handle {\\n  display: block;\\n  font-size: 0.1px;\\n  position: absolute;\\n  touch-action: none; }\\n\\n.jsPanel-resizeit-handle.jsPanel-resizeit-n {\\n  cursor: n-resize;\\n  height: 12px;\\n  left: 9px;\\n  top: -5px;\\n  width: calc(100% - 18px); }\\n\\n.jsPanel-resizeit-handle.jsPanel-resizeit-e {\\n  cursor: e-resize;\\n  height: calc(100% - 18px);\\n  right: -9px;\\n  top: 9px;\\n  width: 12px; }\\n\\n.jsPanel-resizeit-handle.jsPanel-resizeit-s {\\n  bottom: -9px;\\n  cursor: s-resize;\\n  height: 12px;\\n  left: 9px;\\n  width: calc(100% - 18px); }\\n\\n.jsPanel-resizeit-handle.jsPanel-resizeit-w {\\n  cursor: w-resize;\\n  height: calc(100% - 18px);\\n  left: -9px;\\n  top: 9px;\\n  width: 12px; }\\n\\n.jsPanel-resizeit-handle.jsPanel-resizeit-ne {\\n  cursor: ne-resize;\\n  height: 18px;\\n  right: -9px;\\n  top: -9px;\\n  width: 18px; }\\n\\n.jsPanel-resizeit-handle.jsPanel-resizeit-se {\\n  bottom: -9px;\\n  cursor: se-resize;\\n  height: 18px;\\n  right: -9px;\\n  width: 18px; }\\n\\n.jsPanel-resizeit-handle.jsPanel-resizeit-sw {\\n  bottom: -9px;\\n  cursor: sw-resize;\\n  height: 18px;\\n  left: -9px;\\n  width: 18px; }\\n\\n.jsPanel-resizeit-handle.jsPanel-resizeit-nw {\\n  cursor: nw-resize;\\n  height: 18px;\\n  left: -9px;\\n  top: -9px;\\n  width: 18px; }\\n\\n.jsPanel-drag-overlay {\\n  width: 100%;\\n  height: 100%;\\n  position: absolute;\\n  left: 0;\\n  top: 0; }\\n\\n/* Error panel ----------------- */\\n.jsPanel-error .jsPanel-content {\\n  border: 0 !important;\\n  padding-top: 0 !important;\\n  font-size: .9rem;\\n  text-align: center; }\\n  .jsPanel-error .jsPanel-content p {\\n    margin: 0 0 10px 0; }\\n  .jsPanel-error .jsPanel-content mark {\\n    background: lavender;\\n    border-radius: .33rem;\\n    padding: 0 8px;\\n    font-family: monospace; }\\n  .jsPanel-error .jsPanel-content .jsPanel-error-content-separator {\\n    width: 100%;\\n    height: 1px;\\n    background-image: linear-gradient(90deg, white 0%, rebeccapurple 50%, white 100%);\\n    margin-bottom: 10px; }\\n\\n/* box-shadows -------------------------------------------------------- */\\n.jsPanel-depth-1 {\\n  box-shadow: 0 3px 6px rgba(0, 0, 0, 0.16), 0 3px 6px rgba(0, 0, 0, 0.23); }\\n\\n.jsPanel-depth-2 {\\n  box-shadow: 0 10px 20px rgba(0, 0, 0, 0.19), 0 6px 6px rgba(0, 0, 0, 0.23); }\\n\\n.jsPanel-depth-3 {\\n  box-shadow: 0 14px 28px rgba(0, 0, 0, 0.25), 0 10px 10px rgba(0, 0, 0, 0.22); }\\n\\n.jsPanel-depth-4 {\\n  box-shadow: 0 19px 38px rgba(0, 0, 0, 0.3), 0 15px 12px rgba(0, 0, 0, 0.22); }\\n\\n.jsPanel-depth-5 {\\n  box-shadow: 0 24px 48px rgba(0, 0, 0, 0.3), 0 20px 14px rgba(0, 0, 0, 0.22); }\\n\\n/* snap sensitive areas ------------------------------------------------ */\\n.jsPanel-snap-area {\\n  position: fixed;\\n  background: black;\\n  opacity: .2;\\n  border: 1px solid silver;\\n  box-shadow: 0 14px 28px rgba(0, 0, 0, 0.5), 0 10px 10px rgba(0, 0, 0, 0.5);\\n  z-index: 9999; }\\n\\n.jsPanel-snap-area-lt, .jsPanel-snap-area-lc, .jsPanel-snap-area-lb, .jsPanel-snap-area-left-top, .jsPanel-snap-area-left-center, .jsPanel-snap-area-left-bottom {\\n  left: 0; }\\n\\n.jsPanel-snap-area-ct, .jsPanel-snap-area-cb {\\n  left: 37.5%; }\\n\\n.jsPanel-snap-area-rt, .jsPanel-snap-area-rc, .jsPanel-snap-area-rb, .jsPanel-snap-area-right-top, .jsPanel-snap-area-right-center, .jsPanel-snap-area-right-bottom {\\n  right: 0; }\\n\\n.jsPanel-snap-area-lt, .jsPanel-snap-area-ct, .jsPanel-snap-area-rt, .jsPanel-snap-area-left-top, .jsPanel-snap-area-center-top, .jsPanel-snap-area-right-top {\\n  top: 0; }\\n\\n.jsPanel-snap-area-lc, .jsPanel-snap-area-rc {\\n  top: 37.5%; }\\n\\n.jsPanel-snap-area-lb, .jsPanel-snap-area-cb, .jsPanel-snap-area-rb, .jsPanel-snap-area-left-bottom, .jsPanel-snap-area-center-bottom, .jsPanel-snap-area-right-bottom {\\n  bottom: 0; }\\n\\n.jsPanel-snap-area-ct, .jsPanel-snap-area-cb {\\n  width: 25%; }\\n\\n.jsPanel-snap-area-lc, .jsPanel-snap-area-rc {\\n  height: 25%; }\\n\\n.jsPanel-snap-area-lt, .jsPanel-snap-area-left-top {\\n  border-bottom-right-radius: 100%; }\\n\\n.jsPanel-snap-area-rt, .jsPanel-snap-area-right-top {\\n  border-bottom-left-radius: 100%; }\\n\\n.jsPanel-snap-area-rb, .jsPanel-snap-area-right-bottom {\\n  border-top-left-radius: 100%; }\\n\\n.jsPanel-snap-area-lb, .jsPanel-snap-area-left-bottom {\\n  border-top-right-radius: 100%; }\\n\\n/* tooltip and tooltip connectors */\\n.jsPanel-connector-left-top-corner,\\n.jsPanel-connector-right-top-corner,\\n.jsPanel-connector-left-bottom-corner,\\n.jsPanel-connector-right-bottom-corner {\\n  width: 12px;\\n  height: 12px;\\n  position: absolute;\\n  border-radius: 50%; }\\n\\n.jsPanel-connector-left-top-corner {\\n  left: calc(100% - 6px);\\n  top: calc(100% - 6px); }\\n\\n.jsPanel-connector-right-top-corner {\\n  left: -6px;\\n  top: calc(100% - 6px); }\\n\\n.jsPanel-connector-right-bottom-corner {\\n  left: -6px;\\n  top: -6px; }\\n\\n.jsPanel-connector-left-bottom-corner {\\n  left: calc(100% - 6px);\\n  top: -6px; }\\n\\n.jsPanel-connector-top,\\n.jsPanel-connector-topleft,\\n.jsPanel-connector-topright,\\n.jsPanel-connector-bottom,\\n.jsPanel-connector-bottomleft,\\n.jsPanel-connector-bottomright,\\n.jsPanel-connector-left,\\n.jsPanel-connector-lefttop,\\n.jsPanel-connector-leftbottom,\\n.jsPanel-connector-right,\\n.jsPanel-connector-righttop,\\n.jsPanel-connector-rightbottom {\\n  width: 0;\\n  height: 0;\\n  position: absolute;\\n  border: 12px solid transparent; }\\n\\n.jsPanel-connector-top,\\n.jsPanel-connector-topleft,\\n.jsPanel-connector-topright {\\n  top: 100%;\\n  border-bottom-width: 0; }\\n\\n.jsPanel-connector-top {\\n  left: calc(50% - 12px); }\\n\\n.jsPanel-connector-topleft {\\n  left: 0px; }\\n\\n.jsPanel-connector-topright {\\n  left: calc(100% - 24px); }\\n\\n.jsPanel-connector-bottom,\\n.jsPanel-connector-bottomleft,\\n.jsPanel-connector-bottomright {\\n  top: -12px;\\n  border-top-width: 0; }\\n\\n.jsPanel-connector-bottom {\\n  left: calc(50% - 12px); }\\n\\n.jsPanel-connector-bottomleft {\\n  left: 0px; }\\n\\n.jsPanel-connector-bottomright {\\n  left: calc(100% - 24px); }\\n\\n.jsPanel-connector-left,\\n.jsPanel-connector-lefttop,\\n.jsPanel-connector-leftbottom {\\n  left: 100%;\\n  border-right-width: 0; }\\n\\n.jsPanel-connector-left {\\n  top: calc(50% - 12px); }\\n\\n.jsPanel-connector-lefttop {\\n  top: 0px; }\\n\\n.jsPanel-connector-leftbottom {\\n  top: calc(100% - 24px); }\\n\\n.jsPanel-connector-right,\\n.jsPanel-connector-righttop,\\n.jsPanel-connector-rightbottom {\\n  left: -12px;\\n  border-left-width: 0; }\\n\\n.jsPanel-connector-right {\\n  top: calc(50% - 12px); }\\n\\n.jsPanel-connector-righttop {\\n  top: 0px; }\\n\\n.jsPanel-connector-rightbottom {\\n  top: calc(100% - 24px); }\\n\\n/* IE11 CSS styles go here */\\n@media all and (-ms-high-contrast: none), (-ms-high-contrast: active) {\\n  .jsPanel-replacement .jsPanel-titlebar {\\n    max-width: 105px; } }\\n\\n/* XXXXXXXXXXXXXXXXXXXXXXX */\\n/* css3 animations */\\n@keyframes jsPanelFadeIn {\\n  from {\\n    opacity: 0; }\\n  to {\\n    opacity: 1; } }\\n\\n.jsPanelFadeIn {\\n  opacity: 0;\\n  animation: jsPanelFadeIn ease-in 1;\\n  animation-fill-mode: forwards;\\n  animation-duration: 600ms; }\\n\\n@keyframes jsPanelFadeOut {\\n  from {\\n    opacity: 1; }\\n  to {\\n    opacity: 0; } }\\n\\n.jsPanelFadeOut {\\n  animation: jsPanelFadeOut ease-in 1;\\n  animation-fill-mode: forwards;\\n  animation-duration: 600ms; }\\n\\n@keyframes modalBackdropFadeIn {\\n  from {\\n    opacity: 0; }\\n  to {\\n    opacity: 0.65; } }\\n\\n.jsPanel-modal-backdrop {\\n  animation: modalBackdropFadeIn ease-in 1;\\n  animation-fill-mode: forwards;\\n  animation-duration: 750ms;\\n  background: black;\\n  position: fixed;\\n  top: 0;\\n  left: 0;\\n  width: 100%;\\n  height: 100%; }\\n\\n@keyframes modalBackdropFadeOut {\\n  from {\\n    opacity: 0.65; }\\n  to {\\n    opacity: 0; } }\\n\\n.jsPanel-modal-backdrop-out {\\n  animation: modalBackdropFadeOut ease-in 1;\\n  animation-fill-mode: forwards;\\n  animation-duration: 400ms; }\\n\\n.jsPanel-modal-backdrop-multi {\\n  background: rgba(0, 0, 0, 0.15); }\\n\\n.jsPanel-content .jsPanel-iframe-overlay {\\n  position: absolute;\\n  top: 0;\\n  width: 100%;\\n  height: 100%;\\n  background: transparent; }\\n\\n.jsPanel-addCloseCtrl {\\n  position: absolute;\\n  top: 0;\\n  right: 0;\\n  width: .8rem;\\n  height: .8rem;\\n  margin: 2px;\\n  cursor: pointer;\\n  line-height: .8rem;\\n  padding: 0;\\n  z-index: 100;\\n  border: 0;\\n  background-color: transparent; }\\n\\n.jsPanel-addCloseCtrl.rtl {\\n  right: unset;\\n  left: 0; }\\n\\n.jsPanel-progressbar {\\n  position: relative;\\n  width: 100%;\\n  height: 0;\\n  overflow: hidden; }\\n  .jsPanel-progressbar .jsPanel-progressbar-slider {\\n    position: absolute;\\n    width: 0;\\n    height: 3px;\\n    background: lightgray;\\n    right: 0; }\\n\\n.jsPanel-progressbar.active {\\n  height: 3px; }\\n\\n@keyframes progressbar {\\n  from {\\n    width: 0; }\\n  to {\\n    width: 100%; } }\\n\\n.jsPanel-content.jsPanel-content-noheader {\\n  border: none !important; }\\n\\nbody {\\n  -ms-overflow-style: scrollbar; }\\n\");\n    },    function(Bokeh) {\n      Bokeh.set_log_level(\"info\");\n    },\nfunction(Bokeh) {} // ensure no trailing comma for IE\n  ];\n\n  function run_inline_js() {\n    if ((root.Bokeh !== undefined) || (force === true)) {\n      for (var i = 0; i < inline_js.length; i++) {\n        inline_js[i].call(root, root.Bokeh);\n      }\n      // Cache old bokeh versions\n      if (Bokeh != undefined && !reloading) {\n\tvar NewBokeh = root.Bokeh;\n\tif (Bokeh.versions === undefined) {\n\t  Bokeh.versions = new Map();\n\t}\n\tif (NewBokeh.version !== Bokeh.version) {\n\t  Bokeh.versions.set(NewBokeh.version, NewBokeh)\n\t}\n\troot.Bokeh = Bokeh;\n      }} else if (Date.now() < root._bokeh_timeout) {\n      setTimeout(run_inline_js, 100);\n    } else if (!root._bokeh_failed_load) {\n      console.log(\"Bokeh: BokehJS failed to load within specified timeout.\");\n      root._bokeh_failed_load = true;\n    }\n    root._bokeh_is_initializing = false\n  }\n\n  function load_or_wait() {\n    // Implement a backoff loop that tries to ensure we do not load multiple\n    // versions of Bokeh and its dependencies at the same time.\n    // In recent versions we use the root._bokeh_is_initializing flag\n    // to determine whether there is an ongoing attempt to initialize\n    // bokeh, however for backward compatibility we also try to ensure\n    // that we do not start loading a newer (Panel>=1.0 and Bokeh>3) version\n    // before older versions are fully initialized.\n    if (root._bokeh_is_initializing && Date.now() > root._bokeh_timeout) {\n      root._bokeh_is_initializing = false;\n      root._bokeh_onload_callbacks = undefined;\n      console.log(\"Bokeh: BokehJS was loaded multiple times but one version failed to initialize.\");\n      load_or_wait();\n    } else if (root._bokeh_is_initializing || (typeof root._bokeh_is_initializing === \"undefined\" && root._bokeh_onload_callbacks !== undefined)) {\n      setTimeout(load_or_wait, 100);\n    } else {\n      Bokeh = root.Bokeh;\n      bokeh_loaded = Bokeh != null && (Bokeh.version === py_version || (Bokeh.versions !== undefined && Bokeh.versions.has(py_version)));\n      root._bokeh_is_initializing = true\n      root._bokeh_onload_callbacks = []\n      if (!reloading && (!bokeh_loaded || is_dev)) {\n\troot.Bokeh = undefined;\n      }\n      load_libs(css_urls, js_urls, js_modules, js_exports, function() {\n\tconsole.debug(\"Bokeh: BokehJS plotting callback run at\", now());\n\trun_inline_js();\n      });\n    }\n  }\n  // Give older versions of the autoload script a head-start to ensure\n  // they initialize before we start loading newer version.\n  setTimeout(load_or_wait, 100)\n}(window));"
     },
     "metadata": {},
     "output_type": "display_data"
    },
    {
     "data": {
      "application/javascript": [
       "\n",
       "if ((window.PyViz === undefined) || (window.PyViz instanceof HTMLElement)) {\n",
       "  window.PyViz = {comms: {}, comm_status:{}, kernels:{}, receivers: {}, plot_index: []}\n",
       "}\n",
       "\n",
       "\n",
       "    function JupyterCommManager() {\n",
       "    }\n",
       "\n",
       "    JupyterCommManager.prototype.register_target = function(plot_id, comm_id, msg_handler) {\n",
       "      if (window.comm_manager || ((window.Jupyter !== undefined) && (Jupyter.notebook.kernel != null))) {\n",
       "        var comm_manager = window.comm_manager || Jupyter.notebook.kernel.comm_manager;\n",
       "        comm_manager.register_target(comm_id, function(comm) {\n",
       "          comm.on_msg(msg_handler);\n",
       "        });\n",
       "      } else if ((plot_id in window.PyViz.kernels) && (window.PyViz.kernels[plot_id])) {\n",
       "        window.PyViz.kernels[plot_id].registerCommTarget(comm_id, function(comm) {\n",
       "          comm.onMsg = msg_handler;\n",
       "        });\n",
       "      } else if (typeof google != 'undefined' && google.colab.kernel != null) {\n",
       "        google.colab.kernel.comms.registerTarget(comm_id, (comm) => {\n",
       "          var messages = comm.messages[Symbol.asyncIterator]();\n",
       "          function processIteratorResult(result) {\n",
       "            var message = result.value;\n",
       "            console.log(message)\n",
       "            var content = {data: message.data, comm_id};\n",
       "            var buffers = []\n",
       "            for (var buffer of message.buffers || []) {\n",
       "              buffers.push(new DataView(buffer))\n",
       "            }\n",
       "            var metadata = message.metadata || {};\n",
       "            var msg = {content, buffers, metadata}\n",
       "            msg_handler(msg);\n",
       "            return messages.next().then(processIteratorResult);\n",
       "          }\n",
       "          return messages.next().then(processIteratorResult);\n",
       "        })\n",
       "      }\n",
       "    }\n",
       "\n",
       "    JupyterCommManager.prototype.get_client_comm = function(plot_id, comm_id, msg_handler) {\n",
       "      if (comm_id in window.PyViz.comms) {\n",
       "        return window.PyViz.comms[comm_id];\n",
       "      } else if (window.comm_manager || ((window.Jupyter !== undefined) && (Jupyter.notebook.kernel != null))) {\n",
       "        var comm_manager = window.comm_manager || Jupyter.notebook.kernel.comm_manager;\n",
       "        var comm = comm_manager.new_comm(comm_id, {}, {}, {}, comm_id);\n",
       "        if (msg_handler) {\n",
       "          comm.on_msg(msg_handler);\n",
       "        }\n",
       "      } else if ((plot_id in window.PyViz.kernels) && (window.PyViz.kernels[plot_id])) {\n",
       "        var comm = window.PyViz.kernels[plot_id].connectToComm(comm_id);\n",
       "        comm.open();\n",
       "        if (msg_handler) {\n",
       "          comm.onMsg = msg_handler;\n",
       "        }\n",
       "      } else if (typeof google != 'undefined' && google.colab.kernel != null) {\n",
       "        var comm_promise = google.colab.kernel.comms.open(comm_id)\n",
       "        comm_promise.then((comm) => {\n",
       "          window.PyViz.comms[comm_id] = comm;\n",
       "          if (msg_handler) {\n",
       "            var messages = comm.messages[Symbol.asyncIterator]();\n",
       "            function processIteratorResult(result) {\n",
       "              var message = result.value;\n",
       "              var content = {data: message.data};\n",
       "              var metadata = message.metadata || {comm_id};\n",
       "              var msg = {content, metadata}\n",
       "              msg_handler(msg);\n",
       "              return messages.next().then(processIteratorResult);\n",
       "            }\n",
       "            return messages.next().then(processIteratorResult);\n",
       "          }\n",
       "        }) \n",
       "        var sendClosure = (data, metadata, buffers, disposeOnDone) => {\n",
       "          return comm_promise.then((comm) => {\n",
       "            comm.send(data, metadata, buffers, disposeOnDone);\n",
       "          });\n",
       "        };\n",
       "        var comm = {\n",
       "          send: sendClosure\n",
       "        };\n",
       "      }\n",
       "      window.PyViz.comms[comm_id] = comm;\n",
       "      return comm;\n",
       "    }\n",
       "    window.PyViz.comm_manager = new JupyterCommManager();\n",
       "    \n",
       "\n",
       "\n",
       "var JS_MIME_TYPE = 'application/javascript';\n",
       "var HTML_MIME_TYPE = 'text/html';\n",
       "var EXEC_MIME_TYPE = 'application/vnd.holoviews_exec.v0+json';\n",
       "var CLASS_NAME = 'output';\n",
       "\n",
       "/**\n",
       " * Render data to the DOM node\n",
       " */\n",
       "function render(props, node) {\n",
       "  var div = document.createElement(\"div\");\n",
       "  var script = document.createElement(\"script\");\n",
       "  node.appendChild(div);\n",
       "  node.appendChild(script);\n",
       "}\n",
       "\n",
       "/**\n",
       " * Handle when a new output is added\n",
       " */\n",
       "function handle_add_output(event, handle) {\n",
       "  var output_area = handle.output_area;\n",
       "  var output = handle.output;\n",
       "  if ((output.data == undefined) || (!output.data.hasOwnProperty(EXEC_MIME_TYPE))) {\n",
       "    return\n",
       "  }\n",
       "  var id = output.metadata[EXEC_MIME_TYPE][\"id\"];\n",
       "  var toinsert = output_area.element.find(\".\" + CLASS_NAME.split(' ')[0]);\n",
       "  if (id !== undefined) {\n",
       "    var nchildren = toinsert.length;\n",
       "    var html_node = toinsert[nchildren-1].children[0];\n",
       "    html_node.innerHTML = output.data[HTML_MIME_TYPE];\n",
       "    var scripts = [];\n",
       "    var nodelist = html_node.querySelectorAll(\"script\");\n",
       "    for (var i in nodelist) {\n",
       "      if (nodelist.hasOwnProperty(i)) {\n",
       "        scripts.push(nodelist[i])\n",
       "      }\n",
       "    }\n",
       "\n",
       "    scripts.forEach( function (oldScript) {\n",
       "      var newScript = document.createElement(\"script\");\n",
       "      var attrs = [];\n",
       "      var nodemap = oldScript.attributes;\n",
       "      for (var j in nodemap) {\n",
       "        if (nodemap.hasOwnProperty(j)) {\n",
       "          attrs.push(nodemap[j])\n",
       "        }\n",
       "      }\n",
       "      attrs.forEach(function(attr) { newScript.setAttribute(attr.name, attr.value) });\n",
       "      newScript.appendChild(document.createTextNode(oldScript.innerHTML));\n",
       "      oldScript.parentNode.replaceChild(newScript, oldScript);\n",
       "    });\n",
       "    if (JS_MIME_TYPE in output.data) {\n",
       "      toinsert[nchildren-1].children[1].textContent = output.data[JS_MIME_TYPE];\n",
       "    }\n",
       "    output_area._hv_plot_id = id;\n",
       "    if ((window.Bokeh !== undefined) && (id in Bokeh.index)) {\n",
       "      window.PyViz.plot_index[id] = Bokeh.index[id];\n",
       "    } else {\n",
       "      window.PyViz.plot_index[id] = null;\n",
       "    }\n",
       "  } else if (output.metadata[EXEC_MIME_TYPE][\"server_id\"] !== undefined) {\n",
       "    var bk_div = document.createElement(\"div\");\n",
       "    bk_div.innerHTML = output.data[HTML_MIME_TYPE];\n",
       "    var script_attrs = bk_div.children[0].attributes;\n",
       "    for (var i = 0; i < script_attrs.length; i++) {\n",
       "      toinsert[toinsert.length - 1].childNodes[1].setAttribute(script_attrs[i].name, script_attrs[i].value);\n",
       "    }\n",
       "    // store reference to server id on output_area\n",
       "    output_area._bokeh_server_id = output.metadata[EXEC_MIME_TYPE][\"server_id\"];\n",
       "  }\n",
       "}\n",
       "\n",
       "/**\n",
       " * Handle when an output is cleared or removed\n",
       " */\n",
       "function handle_clear_output(event, handle) {\n",
       "  var id = handle.cell.output_area._hv_plot_id;\n",
       "  var server_id = handle.cell.output_area._bokeh_server_id;\n",
       "  if (((id === undefined) || !(id in PyViz.plot_index)) && (server_id !== undefined)) { return; }\n",
       "  var comm = window.PyViz.comm_manager.get_client_comm(\"hv-extension-comm\", \"hv-extension-comm\", function () {});\n",
       "  if (server_id !== null) {\n",
       "    comm.send({event_type: 'server_delete', 'id': server_id});\n",
       "    return;\n",
       "  } else if (comm !== null) {\n",
       "    comm.send({event_type: 'delete', 'id': id});\n",
       "  }\n",
       "  delete PyViz.plot_index[id];\n",
       "  if ((window.Bokeh !== undefined) & (id in window.Bokeh.index)) {\n",
       "    var doc = window.Bokeh.index[id].model.document\n",
       "    doc.clear();\n",
       "    const i = window.Bokeh.documents.indexOf(doc);\n",
       "    if (i > -1) {\n",
       "      window.Bokeh.documents.splice(i, 1);\n",
       "    }\n",
       "  }\n",
       "}\n",
       "\n",
       "/**\n",
       " * Handle kernel restart event\n",
       " */\n",
       "function handle_kernel_cleanup(event, handle) {\n",
       "  delete PyViz.comms[\"hv-extension-comm\"];\n",
       "  window.PyViz.plot_index = {}\n",
       "}\n",
       "\n",
       "/**\n",
       " * Handle update_display_data messages\n",
       " */\n",
       "function handle_update_output(event, handle) {\n",
       "  handle_clear_output(event, {cell: {output_area: handle.output_area}})\n",
       "  handle_add_output(event, handle)\n",
       "}\n",
       "\n",
       "function register_renderer(events, OutputArea) {\n",
       "  function append_mime(data, metadata, element) {\n",
       "    // create a DOM node to render to\n",
       "    var toinsert = this.create_output_subarea(\n",
       "    metadata,\n",
       "    CLASS_NAME,\n",
       "    EXEC_MIME_TYPE\n",
       "    );\n",
       "    this.keyboard_manager.register_events(toinsert);\n",
       "    // Render to node\n",
       "    var props = {data: data, metadata: metadata[EXEC_MIME_TYPE]};\n",
       "    render(props, toinsert[0]);\n",
       "    element.append(toinsert);\n",
       "    return toinsert\n",
       "  }\n",
       "\n",
       "  events.on('output_added.OutputArea', handle_add_output);\n",
       "  events.on('output_updated.OutputArea', handle_update_output);\n",
       "  events.on('clear_output.CodeCell', handle_clear_output);\n",
       "  events.on('delete.Cell', handle_clear_output);\n",
       "  events.on('kernel_ready.Kernel', handle_kernel_cleanup);\n",
       "\n",
       "  OutputArea.prototype.register_mime_type(EXEC_MIME_TYPE, append_mime, {\n",
       "    safe: true,\n",
       "    index: 0\n",
       "  });\n",
       "}\n",
       "\n",
       "if (window.Jupyter !== undefined) {\n",
       "  try {\n",
       "    var events = require('base/js/events');\n",
       "    var OutputArea = require('notebook/js/outputarea').OutputArea;\n",
       "    if (OutputArea.prototype.mime_types().indexOf(EXEC_MIME_TYPE) == -1) {\n",
       "      register_renderer(events, OutputArea);\n",
       "    }\n",
       "  } catch(err) {\n",
       "  }\n",
       "}\n"
      ],
      "application/vnd.holoviews_load.v0+json": "\nif ((window.PyViz === undefined) || (window.PyViz instanceof HTMLElement)) {\n  window.PyViz = {comms: {}, comm_status:{}, kernels:{}, receivers: {}, plot_index: []}\n}\n\n\n    function JupyterCommManager() {\n    }\n\n    JupyterCommManager.prototype.register_target = function(plot_id, comm_id, msg_handler) {\n      if (window.comm_manager || ((window.Jupyter !== undefined) && (Jupyter.notebook.kernel != null))) {\n        var comm_manager = window.comm_manager || Jupyter.notebook.kernel.comm_manager;\n        comm_manager.register_target(comm_id, function(comm) {\n          comm.on_msg(msg_handler);\n        });\n      } else if ((plot_id in window.PyViz.kernels) && (window.PyViz.kernels[plot_id])) {\n        window.PyViz.kernels[plot_id].registerCommTarget(comm_id, function(comm) {\n          comm.onMsg = msg_handler;\n        });\n      } else if (typeof google != 'undefined' && google.colab.kernel != null) {\n        google.colab.kernel.comms.registerTarget(comm_id, (comm) => {\n          var messages = comm.messages[Symbol.asyncIterator]();\n          function processIteratorResult(result) {\n            var message = result.value;\n            console.log(message)\n            var content = {data: message.data, comm_id};\n            var buffers = []\n            for (var buffer of message.buffers || []) {\n              buffers.push(new DataView(buffer))\n            }\n            var metadata = message.metadata || {};\n            var msg = {content, buffers, metadata}\n            msg_handler(msg);\n            return messages.next().then(processIteratorResult);\n          }\n          return messages.next().then(processIteratorResult);\n        })\n      }\n    }\n\n    JupyterCommManager.prototype.get_client_comm = function(plot_id, comm_id, msg_handler) {\n      if (comm_id in window.PyViz.comms) {\n        return window.PyViz.comms[comm_id];\n      } else if (window.comm_manager || ((window.Jupyter !== undefined) && (Jupyter.notebook.kernel != null))) {\n        var comm_manager = window.comm_manager || Jupyter.notebook.kernel.comm_manager;\n        var comm = comm_manager.new_comm(comm_id, {}, {}, {}, comm_id);\n        if (msg_handler) {\n          comm.on_msg(msg_handler);\n        }\n      } else if ((plot_id in window.PyViz.kernels) && (window.PyViz.kernels[plot_id])) {\n        var comm = window.PyViz.kernels[plot_id].connectToComm(comm_id);\n        comm.open();\n        if (msg_handler) {\n          comm.onMsg = msg_handler;\n        }\n      } else if (typeof google != 'undefined' && google.colab.kernel != null) {\n        var comm_promise = google.colab.kernel.comms.open(comm_id)\n        comm_promise.then((comm) => {\n          window.PyViz.comms[comm_id] = comm;\n          if (msg_handler) {\n            var messages = comm.messages[Symbol.asyncIterator]();\n            function processIteratorResult(result) {\n              var message = result.value;\n              var content = {data: message.data};\n              var metadata = message.metadata || {comm_id};\n              var msg = {content, metadata}\n              msg_handler(msg);\n              return messages.next().then(processIteratorResult);\n            }\n            return messages.next().then(processIteratorResult);\n          }\n        }) \n        var sendClosure = (data, metadata, buffers, disposeOnDone) => {\n          return comm_promise.then((comm) => {\n            comm.send(data, metadata, buffers, disposeOnDone);\n          });\n        };\n        var comm = {\n          send: sendClosure\n        };\n      }\n      window.PyViz.comms[comm_id] = comm;\n      return comm;\n    }\n    window.PyViz.comm_manager = new JupyterCommManager();\n    \n\n\nvar JS_MIME_TYPE = 'application/javascript';\nvar HTML_MIME_TYPE = 'text/html';\nvar EXEC_MIME_TYPE = 'application/vnd.holoviews_exec.v0+json';\nvar CLASS_NAME = 'output';\n\n/**\n * Render data to the DOM node\n */\nfunction render(props, node) {\n  var div = document.createElement(\"div\");\n  var script = document.createElement(\"script\");\n  node.appendChild(div);\n  node.appendChild(script);\n}\n\n/**\n * Handle when a new output is added\n */\nfunction handle_add_output(event, handle) {\n  var output_area = handle.output_area;\n  var output = handle.output;\n  if ((output.data == undefined) || (!output.data.hasOwnProperty(EXEC_MIME_TYPE))) {\n    return\n  }\n  var id = output.metadata[EXEC_MIME_TYPE][\"id\"];\n  var toinsert = output_area.element.find(\".\" + CLASS_NAME.split(' ')[0]);\n  if (id !== undefined) {\n    var nchildren = toinsert.length;\n    var html_node = toinsert[nchildren-1].children[0];\n    html_node.innerHTML = output.data[HTML_MIME_TYPE];\n    var scripts = [];\n    var nodelist = html_node.querySelectorAll(\"script\");\n    for (var i in nodelist) {\n      if (nodelist.hasOwnProperty(i)) {\n        scripts.push(nodelist[i])\n      }\n    }\n\n    scripts.forEach( function (oldScript) {\n      var newScript = document.createElement(\"script\");\n      var attrs = [];\n      var nodemap = oldScript.attributes;\n      for (var j in nodemap) {\n        if (nodemap.hasOwnProperty(j)) {\n          attrs.push(nodemap[j])\n        }\n      }\n      attrs.forEach(function(attr) { newScript.setAttribute(attr.name, attr.value) });\n      newScript.appendChild(document.createTextNode(oldScript.innerHTML));\n      oldScript.parentNode.replaceChild(newScript, oldScript);\n    });\n    if (JS_MIME_TYPE in output.data) {\n      toinsert[nchildren-1].children[1].textContent = output.data[JS_MIME_TYPE];\n    }\n    output_area._hv_plot_id = id;\n    if ((window.Bokeh !== undefined) && (id in Bokeh.index)) {\n      window.PyViz.plot_index[id] = Bokeh.index[id];\n    } else {\n      window.PyViz.plot_index[id] = null;\n    }\n  } else if (output.metadata[EXEC_MIME_TYPE][\"server_id\"] !== undefined) {\n    var bk_div = document.createElement(\"div\");\n    bk_div.innerHTML = output.data[HTML_MIME_TYPE];\n    var script_attrs = bk_div.children[0].attributes;\n    for (var i = 0; i < script_attrs.length; i++) {\n      toinsert[toinsert.length - 1].childNodes[1].setAttribute(script_attrs[i].name, script_attrs[i].value);\n    }\n    // store reference to server id on output_area\n    output_area._bokeh_server_id = output.metadata[EXEC_MIME_TYPE][\"server_id\"];\n  }\n}\n\n/**\n * Handle when an output is cleared or removed\n */\nfunction handle_clear_output(event, handle) {\n  var id = handle.cell.output_area._hv_plot_id;\n  var server_id = handle.cell.output_area._bokeh_server_id;\n  if (((id === undefined) || !(id in PyViz.plot_index)) && (server_id !== undefined)) { return; }\n  var comm = window.PyViz.comm_manager.get_client_comm(\"hv-extension-comm\", \"hv-extension-comm\", function () {});\n  if (server_id !== null) {\n    comm.send({event_type: 'server_delete', 'id': server_id});\n    return;\n  } else if (comm !== null) {\n    comm.send({event_type: 'delete', 'id': id});\n  }\n  delete PyViz.plot_index[id];\n  if ((window.Bokeh !== undefined) & (id in window.Bokeh.index)) {\n    var doc = window.Bokeh.index[id].model.document\n    doc.clear();\n    const i = window.Bokeh.documents.indexOf(doc);\n    if (i > -1) {\n      window.Bokeh.documents.splice(i, 1);\n    }\n  }\n}\n\n/**\n * Handle kernel restart event\n */\nfunction handle_kernel_cleanup(event, handle) {\n  delete PyViz.comms[\"hv-extension-comm\"];\n  window.PyViz.plot_index = {}\n}\n\n/**\n * Handle update_display_data messages\n */\nfunction handle_update_output(event, handle) {\n  handle_clear_output(event, {cell: {output_area: handle.output_area}})\n  handle_add_output(event, handle)\n}\n\nfunction register_renderer(events, OutputArea) {\n  function append_mime(data, metadata, element) {\n    // create a DOM node to render to\n    var toinsert = this.create_output_subarea(\n    metadata,\n    CLASS_NAME,\n    EXEC_MIME_TYPE\n    );\n    this.keyboard_manager.register_events(toinsert);\n    // Render to node\n    var props = {data: data, metadata: metadata[EXEC_MIME_TYPE]};\n    render(props, toinsert[0]);\n    element.append(toinsert);\n    return toinsert\n  }\n\n  events.on('output_added.OutputArea', handle_add_output);\n  events.on('output_updated.OutputArea', handle_update_output);\n  events.on('clear_output.CodeCell', handle_clear_output);\n  events.on('delete.Cell', handle_clear_output);\n  events.on('kernel_ready.Kernel', handle_kernel_cleanup);\n\n  OutputArea.prototype.register_mime_type(EXEC_MIME_TYPE, append_mime, {\n    safe: true,\n    index: 0\n  });\n}\n\nif (window.Jupyter !== undefined) {\n  try {\n    var events = require('base/js/events');\n    var OutputArea = require('notebook/js/outputarea').OutputArea;\n    if (OutputArea.prototype.mime_types().indexOf(EXEC_MIME_TYPE) == -1) {\n      register_renderer(events, OutputArea);\n    }\n  } catch(err) {\n  }\n}\n"
     },
     "metadata": {},
     "output_type": "display_data"
    },
    {
     "data": {
      "text/html": [
       "<style>*[data-root-id],\n",
       "*[data-root-id] > * {\n",
       "  box-sizing: border-box;\n",
       "  font-family: var(--jp-ui-font-family);\n",
       "  font-size: var(--jp-ui-font-size1);\n",
       "  color: var(--vscode-editor-foreground, var(--jp-ui-font-color1));\n",
       "}\n",
       "\n",
       "/* Override VSCode background color */\n",
       ".cell-output-ipywidget-background:has(> .cell-output-ipywidget-background\n",
       "    > .lm-Widget\n",
       "    > *[data-root-id]),\n",
       ".cell-output-ipywidget-background:has(> .lm-Widget > *[data-root-id]) {\n",
       "  background-color: transparent !important;\n",
       "}\n",
       "</style>"
      ]
     },
     "metadata": {},
     "output_type": "display_data"
    },
    {
     "data": {
      "application/vnd.holoviews_exec.v0+json": "",
      "text/html": [
       "<div id='5e768ba8-1a19-4d29-af56-bd1a8e3dd459'>\n",
       "  <div id=\"abd85636-1993-4850-a250-5e58fa914e64\" data-root-id=\"5e768ba8-1a19-4d29-af56-bd1a8e3dd459\" style=\"display: contents;\"></div>\n",
       "</div>\n",
       "<script type=\"application/javascript\">(function(root) {\n",
       "  var docs_json = {\"70823bec-ff0f-403e-9130-aa407a582426\":{\"version\":\"3.1.1\",\"title\":\"Bokeh Application\",\"defs\":[{\"type\":\"model\",\"name\":\"ReactiveHTML1\"},{\"type\":\"model\",\"name\":\"FlexBox1\",\"properties\":[{\"name\":\"align_content\",\"kind\":\"Any\",\"default\":\"flex-start\"},{\"name\":\"align_items\",\"kind\":\"Any\",\"default\":\"flex-start\"},{\"name\":\"flex_direction\",\"kind\":\"Any\",\"default\":\"row\"},{\"name\":\"flex_wrap\",\"kind\":\"Any\",\"default\":\"wrap\"},{\"name\":\"justify_content\",\"kind\":\"Any\",\"default\":\"flex-start\"}]},{\"type\":\"model\",\"name\":\"FloatPanel1\",\"properties\":[{\"name\":\"config\",\"kind\":\"Any\",\"default\":{\"type\":\"map\"}},{\"name\":\"contained\",\"kind\":\"Any\",\"default\":true},{\"name\":\"position\",\"kind\":\"Any\",\"default\":\"right-top\"},{\"name\":\"offsetx\",\"kind\":\"Any\",\"default\":null},{\"name\":\"offsety\",\"kind\":\"Any\",\"default\":null},{\"name\":\"theme\",\"kind\":\"Any\",\"default\":\"primary\"},{\"name\":\"status\",\"kind\":\"Any\",\"default\":\"normalized\"}]},{\"type\":\"model\",\"name\":\"GridStack1\",\"properties\":[{\"name\":\"mode\",\"kind\":\"Any\",\"default\":\"warn\"},{\"name\":\"ncols\",\"kind\":\"Any\",\"default\":null},{\"name\":\"nrows\",\"kind\":\"Any\",\"default\":null},{\"name\":\"allow_resize\",\"kind\":\"Any\",\"default\":true},{\"name\":\"allow_drag\",\"kind\":\"Any\",\"default\":true},{\"name\":\"state\",\"kind\":\"Any\",\"default\":[]}]},{\"type\":\"model\",\"name\":\"drag1\",\"properties\":[{\"name\":\"slider_width\",\"kind\":\"Any\",\"default\":5},{\"name\":\"slider_color\",\"kind\":\"Any\",\"default\":\"black\"},{\"name\":\"value\",\"kind\":\"Any\",\"default\":50}]},{\"type\":\"model\",\"name\":\"click1\",\"properties\":[{\"name\":\"terminal_output\",\"kind\":\"Any\",\"default\":\"\"},{\"name\":\"debug_name\",\"kind\":\"Any\",\"default\":\"\"},{\"name\":\"clears\",\"kind\":\"Any\",\"default\":0}]},{\"type\":\"model\",\"name\":\"FastWrapper1\",\"properties\":[{\"name\":\"object\",\"kind\":\"Any\",\"default\":null},{\"name\":\"style\",\"kind\":\"Any\",\"default\":null}]},{\"type\":\"model\",\"name\":\"NotificationAreaBase1\",\"properties\":[{\"name\":\"position\",\"kind\":\"Any\",\"default\":\"bottom-right\"},{\"name\":\"_clear\",\"kind\":\"Any\",\"default\":0}]},{\"type\":\"model\",\"name\":\"NotificationArea1\",\"properties\":[{\"name\":\"notifications\",\"kind\":\"Any\",\"default\":[]},{\"name\":\"position\",\"kind\":\"Any\",\"default\":\"bottom-right\"},{\"name\":\"_clear\",\"kind\":\"Any\",\"default\":0},{\"name\":\"types\",\"kind\":\"Any\",\"default\":[{\"type\":\"map\",\"entries\":[[\"type\",\"warning\"],[\"background\",\"#ffc107\"],[\"icon\",{\"type\":\"map\",\"entries\":[[\"className\",\"fas fa-exclamation-triangle\"],[\"tagName\",\"i\"],[\"color\",\"white\"]]}]]},{\"type\":\"map\",\"entries\":[[\"type\",\"info\"],[\"background\",\"#007bff\"],[\"icon\",{\"type\":\"map\",\"entries\":[[\"className\",\"fas fa-info-circle\"],[\"tagName\",\"i\"],[\"color\",\"white\"]]}]]}]}]},{\"type\":\"model\",\"name\":\"Notification\",\"properties\":[{\"name\":\"background\",\"kind\":\"Any\",\"default\":null},{\"name\":\"duration\",\"kind\":\"Any\",\"default\":3000},{\"name\":\"icon\",\"kind\":\"Any\",\"default\":null},{\"name\":\"message\",\"kind\":\"Any\",\"default\":\"\"},{\"name\":\"notification_type\",\"kind\":\"Any\",\"default\":null},{\"name\":\"_destroyed\",\"kind\":\"Any\",\"default\":false}]},{\"type\":\"model\",\"name\":\"TemplateActions1\",\"properties\":[{\"name\":\"open_modal\",\"kind\":\"Any\",\"default\":0},{\"name\":\"close_modal\",\"kind\":\"Any\",\"default\":0}]},{\"type\":\"model\",\"name\":\"BootstrapTemplateActions1\",\"properties\":[{\"name\":\"open_modal\",\"kind\":\"Any\",\"default\":0},{\"name\":\"close_modal\",\"kind\":\"Any\",\"default\":0}]},{\"type\":\"model\",\"name\":\"MaterialTemplateActions1\",\"properties\":[{\"name\":\"open_modal\",\"kind\":\"Any\",\"default\":0},{\"name\":\"close_modal\",\"kind\":\"Any\",\"default\":0}]}],\"roots\":[{\"type\":\"object\",\"name\":\"panel.models.browser.BrowserInfo\",\"id\":\"5e768ba8-1a19-4d29-af56-bd1a8e3dd459\"},{\"type\":\"object\",\"name\":\"panel.models.comm_manager.CommManager\",\"id\":\"71bd854d-6f03-47a5-b9f1-774aa63d7062\",\"attributes\":{\"plot_id\":\"5e768ba8-1a19-4d29-af56-bd1a8e3dd459\",\"comm_id\":\"9ea9c9eea1604c8d94755f5a1b6801fc\",\"client_comm_id\":\"7af0d65904af4df588afc9b68a64f711\"}}],\"callbacks\":{\"type\":\"map\"}}};\n",
       "  var render_items = [{\"docid\":\"70823bec-ff0f-403e-9130-aa407a582426\",\"roots\":{\"5e768ba8-1a19-4d29-af56-bd1a8e3dd459\":\"abd85636-1993-4850-a250-5e58fa914e64\"},\"root_ids\":[\"5e768ba8-1a19-4d29-af56-bd1a8e3dd459\"]}];\n",
       "  var docs = Object.values(docs_json)\n",
       "  if (!docs) {\n",
       "    return\n",
       "  }\n",
       "  const py_version = docs[0].version.replace('rc', '-rc.')\n",
       "  const is_dev = py_version.indexOf(\"+\") !== -1 || py_version.indexOf(\"-\") !== -1\n",
       "  function embed_document(root) {\n",
       "    var Bokeh = get_bokeh(root)\n",
       "    Bokeh.embed.embed_items_notebook(docs_json, render_items);\n",
       "    for (const render_item of render_items) {\n",
       "      for (const root_id of render_item.root_ids) {\n",
       "\tconst id_el = document.getElementById(root_id)\n",
       "\tif (id_el.children.length && (id_el.children[0].className === 'bk-root')) {\n",
       "\t  const root_el = id_el.children[0]\n",
       "\t  root_el.id = root_el.id + '-rendered'\n",
       "\t}\n",
       "      }\n",
       "    }\n",
       "  }\n",
       "  function get_bokeh(root) {\n",
       "    if (root.Bokeh === undefined) {\n",
       "      return null\n",
       "    } else if (root.Bokeh.version !== py_version && !is_dev) {\n",
       "      if (root.Bokeh.versions === undefined || !root.Bokeh.versions.has(py_version)) {\n",
       "\treturn null\n",
       "      }\n",
       "      return root.Bokeh.versions.get(py_version);\n",
       "    } else if (root.Bokeh.version === py_version) {\n",
       "      return root.Bokeh\n",
       "    }\n",
       "    return null\n",
       "  }\n",
       "  function is_loaded(root) {\n",
       "    var Bokeh = get_bokeh(root)\n",
       "    return (Bokeh != null && Bokeh.Panel !== undefined && ( root['jsPanel'] !== undefined))\n",
       "  }\n",
       "  if (is_loaded(root)) {\n",
       "    embed_document(root);\n",
       "  } else {\n",
       "    var attempts = 0;\n",
       "    var timer = setInterval(function(root) {\n",
       "      if (is_loaded(root)) {\n",
       "        clearInterval(timer);\n",
       "        embed_document(root);\n",
       "      } else if (document.readyState == \"complete\") {\n",
       "        attempts++;\n",
       "        if (attempts > 200) {\n",
       "          clearInterval(timer);\n",
       "\t  var Bokeh = get_bokeh(root)\n",
       "\t  if (Bokeh == null || Bokeh.Panel == null) {\n",
       "            console.warn(\"Panel: ERROR: Unable to run Panel code because Bokeh or Panel library is missing\");\n",
       "\t  } else {\n",
       "\t    console.warn(\"Panel: WARNING: Attempting to render but not all required libraries could be resolved.\")\n",
       "\t    embed_document(root)\n",
       "\t  }\n",
       "        }\n",
       "      }\n",
       "    }, 25, root)\n",
       "  }\n",
       "})(window);</script>"
      ]
     },
     "metadata": {
      "application/vnd.holoviews_exec.v0+json": {
       "id": "5e768ba8-1a19-4d29-af56-bd1a8e3dd459"
      }
     },
     "output_type": "display_data"
    }
   ],
   "source": [
    "pn.extension('floatpanel') "
   ]
  },
  {
   "cell_type": "markdown",
   "metadata": {},
   "source": [
    "Below are some of the variables we can access."
   ]
  },
  {
   "cell_type": "code",
   "execution_count": null,
   "metadata": {},
   "outputs": [
    {
     "name": "stdout",
     "output_type": "stream",
     "text": [
      " __version__ = 0.0.3\n",
      "__package__ = dswidgets\n",
      "File = /home/wright/github-projects/dswidgets/dswidgets/__init__.py\n"
     ]
    }
   ],
   "source": [
    "print(f' __version__ = {ds.__version__}\\n'\n",
    "      f'__package__ = {ds.__package__}\\n'\n",
    "      f'File = {ds.__file__}')"
   ]
  },
  {
   "cell_type": "markdown",
   "metadata": {},
   "source": [
    "## The Toggle Button"
   ]
  },
  {
   "cell_type": "code",
   "execution_count": null,
   "metadata": {},
   "outputs": [
    {
     "data": {},
     "metadata": {},
     "output_type": "display_data"
    },
    {
     "data": {
      "application/vnd.holoviews_exec.v0+json": "",
      "text/html": [
       "<div id='148842fa-a3af-47df-9a6e-72d6607d1087'>\n",
       "  <div id=\"cf4176fc-3d04-4167-8d32-63d52e37ed39\" data-root-id=\"148842fa-a3af-47df-9a6e-72d6607d1087\" style=\"display: contents;\"></div>\n",
       "</div>\n",
       "<script type=\"application/javascript\">(function(root) {\n",
       "  var docs_json = {\"883e583a-9f85-4341-a984-e6c7089b8a4d\":{\"version\":\"3.1.1\",\"title\":\"Bokeh Application\",\"defs\":[{\"type\":\"model\",\"name\":\"ReactiveHTML1\"},{\"type\":\"model\",\"name\":\"FlexBox1\",\"properties\":[{\"name\":\"align_content\",\"kind\":\"Any\",\"default\":\"flex-start\"},{\"name\":\"align_items\",\"kind\":\"Any\",\"default\":\"flex-start\"},{\"name\":\"flex_direction\",\"kind\":\"Any\",\"default\":\"row\"},{\"name\":\"flex_wrap\",\"kind\":\"Any\",\"default\":\"wrap\"},{\"name\":\"justify_content\",\"kind\":\"Any\",\"default\":\"flex-start\"}]},{\"type\":\"model\",\"name\":\"FloatPanel1\",\"properties\":[{\"name\":\"config\",\"kind\":\"Any\",\"default\":{\"type\":\"map\"}},{\"name\":\"contained\",\"kind\":\"Any\",\"default\":true},{\"name\":\"position\",\"kind\":\"Any\",\"default\":\"right-top\"},{\"name\":\"offsetx\",\"kind\":\"Any\",\"default\":null},{\"name\":\"offsety\",\"kind\":\"Any\",\"default\":null},{\"name\":\"theme\",\"kind\":\"Any\",\"default\":\"primary\"},{\"name\":\"status\",\"kind\":\"Any\",\"default\":\"normalized\"}]},{\"type\":\"model\",\"name\":\"GridStack1\",\"properties\":[{\"name\":\"mode\",\"kind\":\"Any\",\"default\":\"warn\"},{\"name\":\"ncols\",\"kind\":\"Any\",\"default\":null},{\"name\":\"nrows\",\"kind\":\"Any\",\"default\":null},{\"name\":\"allow_resize\",\"kind\":\"Any\",\"default\":true},{\"name\":\"allow_drag\",\"kind\":\"Any\",\"default\":true},{\"name\":\"state\",\"kind\":\"Any\",\"default\":[]}]},{\"type\":\"model\",\"name\":\"drag1\",\"properties\":[{\"name\":\"slider_width\",\"kind\":\"Any\",\"default\":5},{\"name\":\"slider_color\",\"kind\":\"Any\",\"default\":\"black\"},{\"name\":\"value\",\"kind\":\"Any\",\"default\":50}]},{\"type\":\"model\",\"name\":\"click1\",\"properties\":[{\"name\":\"terminal_output\",\"kind\":\"Any\",\"default\":\"\"},{\"name\":\"debug_name\",\"kind\":\"Any\",\"default\":\"\"},{\"name\":\"clears\",\"kind\":\"Any\",\"default\":0}]},{\"type\":\"model\",\"name\":\"FastWrapper1\",\"properties\":[{\"name\":\"object\",\"kind\":\"Any\",\"default\":null},{\"name\":\"style\",\"kind\":\"Any\",\"default\":null}]},{\"type\":\"model\",\"name\":\"NotificationAreaBase1\",\"properties\":[{\"name\":\"position\",\"kind\":\"Any\",\"default\":\"bottom-right\"},{\"name\":\"_clear\",\"kind\":\"Any\",\"default\":0}]},{\"type\":\"model\",\"name\":\"NotificationArea1\",\"properties\":[{\"name\":\"notifications\",\"kind\":\"Any\",\"default\":[]},{\"name\":\"position\",\"kind\":\"Any\",\"default\":\"bottom-right\"},{\"name\":\"_clear\",\"kind\":\"Any\",\"default\":0},{\"name\":\"types\",\"kind\":\"Any\",\"default\":[{\"type\":\"map\",\"entries\":[[\"type\",\"warning\"],[\"background\",\"#ffc107\"],[\"icon\",{\"type\":\"map\",\"entries\":[[\"className\",\"fas fa-exclamation-triangle\"],[\"tagName\",\"i\"],[\"color\",\"white\"]]}]]},{\"type\":\"map\",\"entries\":[[\"type\",\"info\"],[\"background\",\"#007bff\"],[\"icon\",{\"type\":\"map\",\"entries\":[[\"className\",\"fas fa-info-circle\"],[\"tagName\",\"i\"],[\"color\",\"white\"]]}]]}]}]},{\"type\":\"model\",\"name\":\"Notification\",\"properties\":[{\"name\":\"background\",\"kind\":\"Any\",\"default\":null},{\"name\":\"duration\",\"kind\":\"Any\",\"default\":3000},{\"name\":\"icon\",\"kind\":\"Any\",\"default\":null},{\"name\":\"message\",\"kind\":\"Any\",\"default\":\"\"},{\"name\":\"notification_type\",\"kind\":\"Any\",\"default\":null},{\"name\":\"_destroyed\",\"kind\":\"Any\",\"default\":false}]},{\"type\":\"model\",\"name\":\"TemplateActions1\",\"properties\":[{\"name\":\"open_modal\",\"kind\":\"Any\",\"default\":0},{\"name\":\"close_modal\",\"kind\":\"Any\",\"default\":0}]},{\"type\":\"model\",\"name\":\"BootstrapTemplateActions1\",\"properties\":[{\"name\":\"open_modal\",\"kind\":\"Any\",\"default\":0},{\"name\":\"close_modal\",\"kind\":\"Any\",\"default\":0}]},{\"type\":\"model\",\"name\":\"MaterialTemplateActions1\",\"properties\":[{\"name\":\"open_modal\",\"kind\":\"Any\",\"default\":0},{\"name\":\"close_modal\",\"kind\":\"Any\",\"default\":0}]}],\"roots\":[{\"type\":\"object\",\"name\":\"Button\",\"id\":\"148842fa-a3af-47df-9a6e-72d6607d1087\",\"attributes\":{\"button_type\":\"danger\",\"subscribed_events\":{\"type\":\"set\",\"entries\":[\"button_click\"]},\"css_classes\":[\"solid\"],\"stylesheets\":[\"\\n:host(.pn-loading.pn-arc):before, .pn-loading.pn-arc:before {\\n  background-image: url(\\\"data:image/svg+xml;base64,PHN2ZyB4bWxucz0iaHR0cDovL3d3dy53My5vcmcvMjAwMC9zdmciIHN0eWxlPSJtYXJnaW46IGF1dG87IGJhY2tncm91bmQ6IG5vbmU7IGRpc3BsYXk6IGJsb2NrOyBzaGFwZS1yZW5kZXJpbmc6IGF1dG87IiB2aWV3Qm94PSIwIDAgMTAwIDEwMCIgcHJlc2VydmVBc3BlY3RSYXRpbz0ieE1pZFlNaWQiPiAgPGNpcmNsZSBjeD0iNTAiIGN5PSI1MCIgZmlsbD0ibm9uZSIgc3Ryb2tlPSIjYzNjM2MzIiBzdHJva2Utd2lkdGg9IjEwIiByPSIzNSIgc3Ryb2tlLWRhc2hhcnJheT0iMTY0LjkzMzYxNDMxMzQ2NDE1IDU2Ljk3Nzg3MTQzNzgyMTM4Ij4gICAgPGFuaW1hdGVUcmFuc2Zvcm0gYXR0cmlidXRlTmFtZT0idHJhbnNmb3JtIiB0eXBlPSJyb3RhdGUiIHJlcGVhdENvdW50PSJpbmRlZmluaXRlIiBkdXI9IjFzIiB2YWx1ZXM9IjAgNTAgNTA7MzYwIDUwIDUwIiBrZXlUaW1lcz0iMDsxIj48L2FuaW1hdGVUcmFuc2Zvcm0+ICA8L2NpcmNsZT48L3N2Zz4=\\\");\\n  background-size: auto calc(min(50%, 400px));\\n}\",{\"type\":\"object\",\"name\":\"ImportedStyleSheet\",\"id\":\"53489a88-4f8f-4548-a356-7a7aa9b11a8f\",\"attributes\":{\"url\":\"https://cdn.holoviz.org/panel/1.1.0/dist/css/loading.css\"}},{\"type\":\"object\",\"name\":\"ImportedStyleSheet\",\"id\":\"90f16589-bbd7-4867-a0a5-f0b5b8d8cd87\",\"attributes\":{\"url\":\"https://cdn.holoviz.org/panel/1.1.0/dist/css/button.css\"}},{\"type\":\"object\",\"name\":\"ImportedStyleSheet\",\"id\":\"b4cf61fe-7d46-4d69-b99f-bfbf9feb5187\",\"attributes\":{\"url\":\"https://cdn.holoviz.org/panel/1.1.0/dist/bundled/theme/default.css\"}},{\"type\":\"object\",\"name\":\"ImportedStyleSheet\",\"id\":\"867076f8-6bc5-4e2c-ba96-d8dbcf4aa81b\",\"attributes\":{\"url\":\"https://cdn.holoviz.org/panel/1.1.0/dist/bundled/theme/native.css\"}}],\"margin\":[5,10],\"align\":\"start\",\"label\":\"Data is Off\"}},{\"type\":\"object\",\"name\":\"panel.models.comm_manager.CommManager\",\"id\":\"2dfb0354-5ca9-4ff2-9216-d5b947b0da4f\",\"attributes\":{\"plot_id\":\"148842fa-a3af-47df-9a6e-72d6607d1087\",\"comm_id\":\"84f2eb1f593245749643db482102301f\",\"client_comm_id\":\"d5a8fa8044e541688b76946f0ed3f2b1\"}}],\"callbacks\":{\"type\":\"map\"}}};\n",
       "  var render_items = [{\"docid\":\"883e583a-9f85-4341-a984-e6c7089b8a4d\",\"roots\":{\"148842fa-a3af-47df-9a6e-72d6607d1087\":\"cf4176fc-3d04-4167-8d32-63d52e37ed39\"},\"root_ids\":[\"148842fa-a3af-47df-9a6e-72d6607d1087\"]}];\n",
       "  var docs = Object.values(docs_json)\n",
       "  if (!docs) {\n",
       "    return\n",
       "  }\n",
       "  const py_version = docs[0].version.replace('rc', '-rc.')\n",
       "  const is_dev = py_version.indexOf(\"+\") !== -1 || py_version.indexOf(\"-\") !== -1\n",
       "  function embed_document(root) {\n",
       "    var Bokeh = get_bokeh(root)\n",
       "    Bokeh.embed.embed_items_notebook(docs_json, render_items);\n",
       "    for (const render_item of render_items) {\n",
       "      for (const root_id of render_item.root_ids) {\n",
       "\tconst id_el = document.getElementById(root_id)\n",
       "\tif (id_el.children.length && (id_el.children[0].className === 'bk-root')) {\n",
       "\t  const root_el = id_el.children[0]\n",
       "\t  root_el.id = root_el.id + '-rendered'\n",
       "\t}\n",
       "      }\n",
       "    }\n",
       "  }\n",
       "  function get_bokeh(root) {\n",
       "    if (root.Bokeh === undefined) {\n",
       "      return null\n",
       "    } else if (root.Bokeh.version !== py_version && !is_dev) {\n",
       "      if (root.Bokeh.versions === undefined || !root.Bokeh.versions.has(py_version)) {\n",
       "\treturn null\n",
       "      }\n",
       "      return root.Bokeh.versions.get(py_version);\n",
       "    } else if (root.Bokeh.version === py_version) {\n",
       "      return root.Bokeh\n",
       "    }\n",
       "    return null\n",
       "  }\n",
       "  function is_loaded(root) {\n",
       "    var Bokeh = get_bokeh(root)\n",
       "    return (Bokeh != null && Bokeh.Panel !== undefined && ( root['jsPanel'] !== undefined))\n",
       "  }\n",
       "  if (is_loaded(root)) {\n",
       "    embed_document(root);\n",
       "  } else {\n",
       "    var attempts = 0;\n",
       "    var timer = setInterval(function(root) {\n",
       "      if (is_loaded(root)) {\n",
       "        clearInterval(timer);\n",
       "        embed_document(root);\n",
       "      } else if (document.readyState == \"complete\") {\n",
       "        attempts++;\n",
       "        if (attempts > 200) {\n",
       "          clearInterval(timer);\n",
       "\t  var Bokeh = get_bokeh(root)\n",
       "\t  if (Bokeh == null || Bokeh.Panel == null) {\n",
       "            console.warn(\"Panel: ERROR: Unable to run Panel code because Bokeh or Panel library is missing\");\n",
       "\t  } else {\n",
       "\t    console.warn(\"Panel: WARNING: Attempting to render but not all required libraries could be resolved.\")\n",
       "\t    embed_document(root)\n",
       "\t  }\n",
       "        }\n",
       "      }\n",
       "    }, 25, root)\n",
       "  }\n",
       "})(window);</script>"
      ],
      "text/plain": [
       "Button(button_type='danger', name='Data is Off')"
      ]
     },
     "execution_count": null,
     "metadata": {
      "application/vnd.holoviews_exec.v0+json": {
       "id": "148842fa-a3af-47df-9a6e-72d6607d1087"
      }
     },
     "output_type": "execute_result"
    }
   ],
   "source": [
    "b = ds.Buttons.Toggle()\n",
    "b.button"
   ]
  },
  {
   "cell_type": "code",
   "execution_count": null,
   "metadata": {},
   "outputs": [
    {
     "data": {
      "text/plain": [
       "0"
      ]
     },
     "execution_count": null,
     "metadata": {},
     "output_type": "execute_result"
    }
   ],
   "source": [
    "b.value"
   ]
  },
  {
   "cell_type": "markdown",
   "metadata": {},
   "source": [
    "## The Toggle Button with a callback"
   ]
  },
  {
   "cell_type": "code",
   "execution_count": null,
   "metadata": {},
   "outputs": [
    {
     "data": {},
     "metadata": {},
     "output_type": "display_data"
    },
    {
     "data": {
      "application/vnd.holoviews_exec.v0+json": "",
      "text/html": [
       "<div id='7348e49f-f84d-4d71-9dfb-cd02dcae1a98'>\n",
       "  <div id=\"ca35aab2-7d32-48e6-ab89-8cd87a6738c0\" data-root-id=\"7348e49f-f84d-4d71-9dfb-cd02dcae1a98\" style=\"display: contents;\"></div>\n",
       "</div>\n",
       "<script type=\"application/javascript\">(function(root) {\n",
       "  var docs_json = {\"3a7a68a1-95d8-41bc-be4b-d9067a26829c\":{\"version\":\"3.1.1\",\"title\":\"Bokeh Application\",\"defs\":[{\"type\":\"model\",\"name\":\"ReactiveHTML1\"},{\"type\":\"model\",\"name\":\"FlexBox1\",\"properties\":[{\"name\":\"align_content\",\"kind\":\"Any\",\"default\":\"flex-start\"},{\"name\":\"align_items\",\"kind\":\"Any\",\"default\":\"flex-start\"},{\"name\":\"flex_direction\",\"kind\":\"Any\",\"default\":\"row\"},{\"name\":\"flex_wrap\",\"kind\":\"Any\",\"default\":\"wrap\"},{\"name\":\"justify_content\",\"kind\":\"Any\",\"default\":\"flex-start\"}]},{\"type\":\"model\",\"name\":\"FloatPanel1\",\"properties\":[{\"name\":\"config\",\"kind\":\"Any\",\"default\":{\"type\":\"map\"}},{\"name\":\"contained\",\"kind\":\"Any\",\"default\":true},{\"name\":\"position\",\"kind\":\"Any\",\"default\":\"right-top\"},{\"name\":\"offsetx\",\"kind\":\"Any\",\"default\":null},{\"name\":\"offsety\",\"kind\":\"Any\",\"default\":null},{\"name\":\"theme\",\"kind\":\"Any\",\"default\":\"primary\"},{\"name\":\"status\",\"kind\":\"Any\",\"default\":\"normalized\"}]},{\"type\":\"model\",\"name\":\"GridStack1\",\"properties\":[{\"name\":\"mode\",\"kind\":\"Any\",\"default\":\"warn\"},{\"name\":\"ncols\",\"kind\":\"Any\",\"default\":null},{\"name\":\"nrows\",\"kind\":\"Any\",\"default\":null},{\"name\":\"allow_resize\",\"kind\":\"Any\",\"default\":true},{\"name\":\"allow_drag\",\"kind\":\"Any\",\"default\":true},{\"name\":\"state\",\"kind\":\"Any\",\"default\":[]}]},{\"type\":\"model\",\"name\":\"drag1\",\"properties\":[{\"name\":\"slider_width\",\"kind\":\"Any\",\"default\":5},{\"name\":\"slider_color\",\"kind\":\"Any\",\"default\":\"black\"},{\"name\":\"value\",\"kind\":\"Any\",\"default\":50}]},{\"type\":\"model\",\"name\":\"click1\",\"properties\":[{\"name\":\"terminal_output\",\"kind\":\"Any\",\"default\":\"\"},{\"name\":\"debug_name\",\"kind\":\"Any\",\"default\":\"\"},{\"name\":\"clears\",\"kind\":\"Any\",\"default\":0}]},{\"type\":\"model\",\"name\":\"FastWrapper1\",\"properties\":[{\"name\":\"object\",\"kind\":\"Any\",\"default\":null},{\"name\":\"style\",\"kind\":\"Any\",\"default\":null}]},{\"type\":\"model\",\"name\":\"NotificationAreaBase1\",\"properties\":[{\"name\":\"position\",\"kind\":\"Any\",\"default\":\"bottom-right\"},{\"name\":\"_clear\",\"kind\":\"Any\",\"default\":0}]},{\"type\":\"model\",\"name\":\"NotificationArea1\",\"properties\":[{\"name\":\"notifications\",\"kind\":\"Any\",\"default\":[]},{\"name\":\"position\",\"kind\":\"Any\",\"default\":\"bottom-right\"},{\"name\":\"_clear\",\"kind\":\"Any\",\"default\":0},{\"name\":\"types\",\"kind\":\"Any\",\"default\":[{\"type\":\"map\",\"entries\":[[\"type\",\"warning\"],[\"background\",\"#ffc107\"],[\"icon\",{\"type\":\"map\",\"entries\":[[\"className\",\"fas fa-exclamation-triangle\"],[\"tagName\",\"i\"],[\"color\",\"white\"]]}]]},{\"type\":\"map\",\"entries\":[[\"type\",\"info\"],[\"background\",\"#007bff\"],[\"icon\",{\"type\":\"map\",\"entries\":[[\"className\",\"fas fa-info-circle\"],[\"tagName\",\"i\"],[\"color\",\"white\"]]}]]}]}]},{\"type\":\"model\",\"name\":\"Notification\",\"properties\":[{\"name\":\"background\",\"kind\":\"Any\",\"default\":null},{\"name\":\"duration\",\"kind\":\"Any\",\"default\":3000},{\"name\":\"icon\",\"kind\":\"Any\",\"default\":null},{\"name\":\"message\",\"kind\":\"Any\",\"default\":\"\"},{\"name\":\"notification_type\",\"kind\":\"Any\",\"default\":null},{\"name\":\"_destroyed\",\"kind\":\"Any\",\"default\":false}]},{\"type\":\"model\",\"name\":\"TemplateActions1\",\"properties\":[{\"name\":\"open_modal\",\"kind\":\"Any\",\"default\":0},{\"name\":\"close_modal\",\"kind\":\"Any\",\"default\":0}]},{\"type\":\"model\",\"name\":\"BootstrapTemplateActions1\",\"properties\":[{\"name\":\"open_modal\",\"kind\":\"Any\",\"default\":0},{\"name\":\"close_modal\",\"kind\":\"Any\",\"default\":0}]},{\"type\":\"model\",\"name\":\"MaterialTemplateActions1\",\"properties\":[{\"name\":\"open_modal\",\"kind\":\"Any\",\"default\":0},{\"name\":\"close_modal\",\"kind\":\"Any\",\"default\":0}]}],\"roots\":[{\"type\":\"object\",\"name\":\"Row\",\"id\":\"7348e49f-f84d-4d71-9dfb-cd02dcae1a98\",\"attributes\":{\"name\":\"Row00125\",\"stylesheets\":[\"\\n:host(.pn-loading.pn-arc):before, .pn-loading.pn-arc:before {\\n  background-image: url(\\\"data:image/svg+xml;base64,PHN2ZyB4bWxucz0iaHR0cDovL3d3dy53My5vcmcvMjAwMC9zdmciIHN0eWxlPSJtYXJnaW46IGF1dG87IGJhY2tncm91bmQ6IG5vbmU7IGRpc3BsYXk6IGJsb2NrOyBzaGFwZS1yZW5kZXJpbmc6IGF1dG87IiB2aWV3Qm94PSIwIDAgMTAwIDEwMCIgcHJlc2VydmVBc3BlY3RSYXRpbz0ieE1pZFlNaWQiPiAgPGNpcmNsZSBjeD0iNTAiIGN5PSI1MCIgZmlsbD0ibm9uZSIgc3Ryb2tlPSIjYzNjM2MzIiBzdHJva2Utd2lkdGg9IjEwIiByPSIzNSIgc3Ryb2tlLWRhc2hhcnJheT0iMTY0LjkzMzYxNDMxMzQ2NDE1IDU2Ljk3Nzg3MTQzNzgyMTM4Ij4gICAgPGFuaW1hdGVUcmFuc2Zvcm0gYXR0cmlidXRlTmFtZT0idHJhbnNmb3JtIiB0eXBlPSJyb3RhdGUiIHJlcGVhdENvdW50PSJpbmRlZmluaXRlIiBkdXI9IjFzIiB2YWx1ZXM9IjAgNTAgNTA7MzYwIDUwIDUwIiBrZXlUaW1lcz0iMDsxIj48L2FuaW1hdGVUcmFuc2Zvcm0+ICA8L2NpcmNsZT48L3N2Zz4=\\\");\\n  background-size: auto calc(min(50%, 400px));\\n}\",{\"type\":\"object\",\"name\":\"ImportedStyleSheet\",\"id\":\"4cbb86a9-2ec9-4dc4-9fe9-a9e280013165\",\"attributes\":{\"url\":\"https://cdn.holoviz.org/panel/1.1.0/dist/css/loading.css\"}},{\"type\":\"object\",\"name\":\"ImportedStyleSheet\",\"id\":\"ced740b4-5fbf-4291-9041-73baf4cb9665\",\"attributes\":{\"url\":\"https://cdn.holoviz.org/panel/1.1.0/dist/css/listpanel.css\"}},{\"type\":\"object\",\"name\":\"ImportedStyleSheet\",\"id\":\"0ee6b7e3-912f-4472-9ed3-2a72db8433b5\",\"attributes\":{\"url\":\"https://cdn.holoviz.org/panel/1.1.0/dist/bundled/theme/default.css\"}},{\"type\":\"object\",\"name\":\"ImportedStyleSheet\",\"id\":\"8bd0fd44-5fe9-4550-944f-054a5c78aecd\",\"attributes\":{\"url\":\"https://cdn.holoviz.org/panel/1.1.0/dist/bundled/theme/native.css\"}}],\"margin\":0,\"align\":\"start\",\"children\":[{\"type\":\"object\",\"name\":\"Button\",\"id\":\"879b8858-a590-4c2e-b7dc-733027ec5721\",\"attributes\":{\"button_type\":\"danger\",\"subscribed_events\":{\"type\":\"set\",\"entries\":[\"button_click\"]},\"css_classes\":[\"solid\"],\"stylesheets\":[\"\\n:host(.pn-loading.pn-arc):before, .pn-loading.pn-arc:before {\\n  background-image: url(\\\"data:image/svg+xml;base64,PHN2ZyB4bWxucz0iaHR0cDovL3d3dy53My5vcmcvMjAwMC9zdmciIHN0eWxlPSJtYXJnaW46IGF1dG87IGJhY2tncm91bmQ6IG5vbmU7IGRpc3BsYXk6IGJsb2NrOyBzaGFwZS1yZW5kZXJpbmc6IGF1dG87IiB2aWV3Qm94PSIwIDAgMTAwIDEwMCIgcHJlc2VydmVBc3BlY3RSYXRpbz0ieE1pZFlNaWQiPiAgPGNpcmNsZSBjeD0iNTAiIGN5PSI1MCIgZmlsbD0ibm9uZSIgc3Ryb2tlPSIjYzNjM2MzIiBzdHJva2Utd2lkdGg9IjEwIiByPSIzNSIgc3Ryb2tlLWRhc2hhcnJheT0iMTY0LjkzMzYxNDMxMzQ2NDE1IDU2Ljk3Nzg3MTQzNzgyMTM4Ij4gICAgPGFuaW1hdGVUcmFuc2Zvcm0gYXR0cmlidXRlTmFtZT0idHJhbnNmb3JtIiB0eXBlPSJyb3RhdGUiIHJlcGVhdENvdW50PSJpbmRlZmluaXRlIiBkdXI9IjFzIiB2YWx1ZXM9IjAgNTAgNTA7MzYwIDUwIDUwIiBrZXlUaW1lcz0iMDsxIj48L2FuaW1hdGVUcmFuc2Zvcm0+ICA8L2NpcmNsZT48L3N2Zz4=\\\");\\n  background-size: auto calc(min(50%, 400px));\\n}\",{\"id\":\"4cbb86a9-2ec9-4dc4-9fe9-a9e280013165\"},{\"type\":\"object\",\"name\":\"ImportedStyleSheet\",\"id\":\"9d07524c-19d5-4dd2-b862-4ec4272876be\",\"attributes\":{\"url\":\"https://cdn.holoviz.org/panel/1.1.0/dist/css/button.css\"}},{\"id\":\"0ee6b7e3-912f-4472-9ed3-2a72db8433b5\"},{\"id\":\"8bd0fd44-5fe9-4550-944f-054a5c78aecd\"}],\"margin\":[5,10],\"align\":\"start\",\"label\":\"Data is Off\"}},{\"type\":\"object\",\"name\":\"Div\",\"id\":\"1694e849-957e-4030-9f6e-497ff1e0871b\",\"attributes\":{\"stylesheets\":[\"\\n:host(.pn-loading.pn-arc):before, .pn-loading.pn-arc:before {\\n  background-image: url(\\\"data:image/svg+xml;base64,PHN2ZyB4bWxucz0iaHR0cDovL3d3dy53My5vcmcvMjAwMC9zdmciIHN0eWxlPSJtYXJnaW46IGF1dG87IGJhY2tncm91bmQ6IG5vbmU7IGRpc3BsYXk6IGJsb2NrOyBzaGFwZS1yZW5kZXJpbmc6IGF1dG87IiB2aWV3Qm94PSIwIDAgMTAwIDEwMCIgcHJlc2VydmVBc3BlY3RSYXRpbz0ieE1pZFlNaWQiPiAgPGNpcmNsZSBjeD0iNTAiIGN5PSI1MCIgZmlsbD0ibm9uZSIgc3Ryb2tlPSIjYzNjM2MzIiBzdHJva2Utd2lkdGg9IjEwIiByPSIzNSIgc3Ryb2tlLWRhc2hhcnJheT0iMTY0LjkzMzYxNDMxMzQ2NDE1IDU2Ljk3Nzg3MTQzNzgyMTM4Ij4gICAgPGFuaW1hdGVUcmFuc2Zvcm0gYXR0cmlidXRlTmFtZT0idHJhbnNmb3JtIiB0eXBlPSJyb3RhdGUiIHJlcGVhdENvdW50PSJpbmRlZmluaXRlIiBkdXI9IjFzIiB2YWx1ZXM9IjAgNTAgNTA7MzYwIDUwIDUwIiBrZXlUaW1lcz0iMDsxIj48L2FuaW1hdGVUcmFuc2Zvcm0+ICA8L2NpcmNsZT48L3N2Zz4=\\\");\\n  background-size: auto calc(min(50%, 400px));\\n}\",{\"id\":\"4cbb86a9-2ec9-4dc4-9fe9-a9e280013165\"},{\"id\":\"0ee6b7e3-912f-4472-9ed3-2a72db8433b5\"},{\"id\":\"8bd0fd44-5fe9-4550-944f-054a5c78aecd\"}],\"margin\":[5,10],\"align\":\"start\",\"text\":\"<b>Debug_w.value:</b>: Push the button to set this value.\"}}]}},{\"type\":\"object\",\"name\":\"panel.models.comm_manager.CommManager\",\"id\":\"e0463c77-6d3a-4acd-9899-d656e9a05f96\",\"attributes\":{\"plot_id\":\"7348e49f-f84d-4d71-9dfb-cd02dcae1a98\",\"comm_id\":\"4d48b4b62a514be7bb044eb0e791dbdb\",\"client_comm_id\":\"ce47a2faa5fe4c90a3d7cf802334166e\"}}],\"callbacks\":{\"type\":\"map\"}}};\n",
       "  var render_items = [{\"docid\":\"3a7a68a1-95d8-41bc-be4b-d9067a26829c\",\"roots\":{\"7348e49f-f84d-4d71-9dfb-cd02dcae1a98\":\"ca35aab2-7d32-48e6-ab89-8cd87a6738c0\"},\"root_ids\":[\"7348e49f-f84d-4d71-9dfb-cd02dcae1a98\"]}];\n",
       "  var docs = Object.values(docs_json)\n",
       "  if (!docs) {\n",
       "    return\n",
       "  }\n",
       "  const py_version = docs[0].version.replace('rc', '-rc.')\n",
       "  const is_dev = py_version.indexOf(\"+\") !== -1 || py_version.indexOf(\"-\") !== -1\n",
       "  function embed_document(root) {\n",
       "    var Bokeh = get_bokeh(root)\n",
       "    Bokeh.embed.embed_items_notebook(docs_json, render_items);\n",
       "    for (const render_item of render_items) {\n",
       "      for (const root_id of render_item.root_ids) {\n",
       "\tconst id_el = document.getElementById(root_id)\n",
       "\tif (id_el.children.length && (id_el.children[0].className === 'bk-root')) {\n",
       "\t  const root_el = id_el.children[0]\n",
       "\t  root_el.id = root_el.id + '-rendered'\n",
       "\t}\n",
       "      }\n",
       "    }\n",
       "  }\n",
       "  function get_bokeh(root) {\n",
       "    if (root.Bokeh === undefined) {\n",
       "      return null\n",
       "    } else if (root.Bokeh.version !== py_version && !is_dev) {\n",
       "      if (root.Bokeh.versions === undefined || !root.Bokeh.versions.has(py_version)) {\n",
       "\treturn null\n",
       "      }\n",
       "      return root.Bokeh.versions.get(py_version);\n",
       "    } else if (root.Bokeh.version === py_version) {\n",
       "      return root.Bokeh\n",
       "    }\n",
       "    return null\n",
       "  }\n",
       "  function is_loaded(root) {\n",
       "    var Bokeh = get_bokeh(root)\n",
       "    return (Bokeh != null && Bokeh.Panel !== undefined && ( root['jsPanel'] !== undefined))\n",
       "  }\n",
       "  if (is_loaded(root)) {\n",
       "    embed_document(root);\n",
       "  } else {\n",
       "    var attempts = 0;\n",
       "    var timer = setInterval(function(root) {\n",
       "      if (is_loaded(root)) {\n",
       "        clearInterval(timer);\n",
       "        embed_document(root);\n",
       "      } else if (document.readyState == \"complete\") {\n",
       "        attempts++;\n",
       "        if (attempts > 200) {\n",
       "          clearInterval(timer);\n",
       "\t  var Bokeh = get_bokeh(root)\n",
       "\t  if (Bokeh == null || Bokeh.Panel == null) {\n",
       "            console.warn(\"Panel: ERROR: Unable to run Panel code because Bokeh or Panel library is missing\");\n",
       "\t  } else {\n",
       "\t    console.warn(\"Panel: WARNING: Attempting to render but not all required libraries could be resolved.\")\n",
       "\t    embed_document(root)\n",
       "\t  }\n",
       "        }\n",
       "      }\n",
       "    }, 25, root)\n",
       "  }\n",
       "})(window);</script>"
      ],
      "text/plain": [
       "Row\n",
       "    [0] Button(button_type='danger', name='Data is Off')\n",
       "    [1] StaticText(name='Debug_w.value:', value='Push the button t...)"
      ]
     },
     "execution_count": null,
     "metadata": {
      "application/vnd.holoviews_exec.v0+json": {
       "id": "7348e49f-f84d-4d71-9dfb-cd02dcae1a98"
      }
     },
     "output_type": "execute_result"
    }
   ],
   "source": [
    "def button_changed(v):\n",
    "  debug_w.value = v\n",
    "  #print(v)\n",
    "debug_w = pn.widgets.StaticText(\n",
    "  name=\"Debug_w.value:\", \n",
    "  value = 'Push the button to set this value.')\n",
    "b2 = ds.Buttons.Toggle(id='b2_id', change_cb = button_changed )\n",
    "w = pn.Row(b2.button, debug_w)\n",
    "w.servable()"
   ]
  },
  {
   "cell_type": "code",
   "execution_count": null,
   "metadata": {},
   "outputs": [
    {
     "data": {
      "text/plain": [
       "0"
      ]
     },
     "execution_count": null,
     "metadata": {},
     "output_type": "execute_result"
    }
   ],
   "source": [
    "b2.value"
   ]
  },
  {
   "cell_type": "markdown",
   "metadata": {},
   "source": [
    "The `Toggle()` button contains an 'id' element that you can"
   ]
  },
  {
   "cell_type": "code",
   "execution_count": null,
   "metadata": {},
   "outputs": [
    {
     "data": {
      "text/plain": [
       "'any id you want'"
      ]
     },
     "execution_count": null,
     "metadata": {},
     "output_type": "execute_result"
    }
   ],
   "source": [
    "b2.id"
   ]
  },
  {
   "cell_type": "markdown",
   "metadata": {},
   "source": [
    "## FileSystem.Folder_Button()"
   ]
  },
  {
   "cell_type": "markdown",
   "metadata": {},
   "source": []
  },
  {
   "cell_type": "markdown",
   "metadata": {},
   "source": [
    "`Folder_Button` creates a button that triggers a pop-up `Folder-Selector` widget\n",
    "allowing the user to select a folder on the server system.  Once the folder is\n",
    "selected, a user defined call back function is called with the selected folder\n",
    "as a parameter.  \n",
    "\n",
    "Below we define a call back `cb()` which will be called with the string value of the\n",
    "selected folder, and then create the `Folder_Button`.  Click the *Folder* button\n",
    "to trigger the Folder_Selector dialog."
   ]
  },
  {
   "cell_type": "code",
   "execution_count": null,
   "metadata": {},
   "outputs": [
    {
     "data": {},
     "metadata": {},
     "output_type": "display_data"
    },
    {
     "data": {
      "application/vnd.holoviews_exec.v0+json": "",
      "text/html": [
       "<div id='9782ec20-c033-462a-990b-471c0f8ad545'>\n",
       "  <div id=\"c975d1f4-8319-410d-8ffb-5fb37b17cdc1\" data-root-id=\"9782ec20-c033-462a-990b-471c0f8ad545\" style=\"display: contents;\"></div>\n",
       "</div>\n",
       "<script type=\"application/javascript\">(function(root) {\n",
       "  var docs_json = {\"5bb4feef-981f-4ebd-bf25-fff4d180c240\":{\"version\":\"3.1.1\",\"title\":\"Bokeh Application\",\"defs\":[{\"type\":\"model\",\"name\":\"ReactiveHTML1\"},{\"type\":\"model\",\"name\":\"FlexBox1\",\"properties\":[{\"name\":\"align_content\",\"kind\":\"Any\",\"default\":\"flex-start\"},{\"name\":\"align_items\",\"kind\":\"Any\",\"default\":\"flex-start\"},{\"name\":\"flex_direction\",\"kind\":\"Any\",\"default\":\"row\"},{\"name\":\"flex_wrap\",\"kind\":\"Any\",\"default\":\"wrap\"},{\"name\":\"justify_content\",\"kind\":\"Any\",\"default\":\"flex-start\"}]},{\"type\":\"model\",\"name\":\"FloatPanel1\",\"properties\":[{\"name\":\"config\",\"kind\":\"Any\",\"default\":{\"type\":\"map\"}},{\"name\":\"contained\",\"kind\":\"Any\",\"default\":true},{\"name\":\"position\",\"kind\":\"Any\",\"default\":\"right-top\"},{\"name\":\"offsetx\",\"kind\":\"Any\",\"default\":null},{\"name\":\"offsety\",\"kind\":\"Any\",\"default\":null},{\"name\":\"theme\",\"kind\":\"Any\",\"default\":\"primary\"},{\"name\":\"status\",\"kind\":\"Any\",\"default\":\"normalized\"}]},{\"type\":\"model\",\"name\":\"GridStack1\",\"properties\":[{\"name\":\"mode\",\"kind\":\"Any\",\"default\":\"warn\"},{\"name\":\"ncols\",\"kind\":\"Any\",\"default\":null},{\"name\":\"nrows\",\"kind\":\"Any\",\"default\":null},{\"name\":\"allow_resize\",\"kind\":\"Any\",\"default\":true},{\"name\":\"allow_drag\",\"kind\":\"Any\",\"default\":true},{\"name\":\"state\",\"kind\":\"Any\",\"default\":[]}]},{\"type\":\"model\",\"name\":\"drag1\",\"properties\":[{\"name\":\"slider_width\",\"kind\":\"Any\",\"default\":5},{\"name\":\"slider_color\",\"kind\":\"Any\",\"default\":\"black\"},{\"name\":\"value\",\"kind\":\"Any\",\"default\":50}]},{\"type\":\"model\",\"name\":\"click1\",\"properties\":[{\"name\":\"terminal_output\",\"kind\":\"Any\",\"default\":\"\"},{\"name\":\"debug_name\",\"kind\":\"Any\",\"default\":\"\"},{\"name\":\"clears\",\"kind\":\"Any\",\"default\":0}]},{\"type\":\"model\",\"name\":\"FastWrapper1\",\"properties\":[{\"name\":\"object\",\"kind\":\"Any\",\"default\":null},{\"name\":\"style\",\"kind\":\"Any\",\"default\":null}]},{\"type\":\"model\",\"name\":\"NotificationAreaBase1\",\"properties\":[{\"name\":\"position\",\"kind\":\"Any\",\"default\":\"bottom-right\"},{\"name\":\"_clear\",\"kind\":\"Any\",\"default\":0}]},{\"type\":\"model\",\"name\":\"NotificationArea1\",\"properties\":[{\"name\":\"notifications\",\"kind\":\"Any\",\"default\":[]},{\"name\":\"position\",\"kind\":\"Any\",\"default\":\"bottom-right\"},{\"name\":\"_clear\",\"kind\":\"Any\",\"default\":0},{\"name\":\"types\",\"kind\":\"Any\",\"default\":[{\"type\":\"map\",\"entries\":[[\"type\",\"warning\"],[\"background\",\"#ffc107\"],[\"icon\",{\"type\":\"map\",\"entries\":[[\"className\",\"fas fa-exclamation-triangle\"],[\"tagName\",\"i\"],[\"color\",\"white\"]]}]]},{\"type\":\"map\",\"entries\":[[\"type\",\"info\"],[\"background\",\"#007bff\"],[\"icon\",{\"type\":\"map\",\"entries\":[[\"className\",\"fas fa-info-circle\"],[\"tagName\",\"i\"],[\"color\",\"white\"]]}]]}]}]},{\"type\":\"model\",\"name\":\"Notification\",\"properties\":[{\"name\":\"background\",\"kind\":\"Any\",\"default\":null},{\"name\":\"duration\",\"kind\":\"Any\",\"default\":3000},{\"name\":\"icon\",\"kind\":\"Any\",\"default\":null},{\"name\":\"message\",\"kind\":\"Any\",\"default\":\"\"},{\"name\":\"notification_type\",\"kind\":\"Any\",\"default\":null},{\"name\":\"_destroyed\",\"kind\":\"Any\",\"default\":false}]},{\"type\":\"model\",\"name\":\"TemplateActions1\",\"properties\":[{\"name\":\"open_modal\",\"kind\":\"Any\",\"default\":0},{\"name\":\"close_modal\",\"kind\":\"Any\",\"default\":0}]},{\"type\":\"model\",\"name\":\"BootstrapTemplateActions1\",\"properties\":[{\"name\":\"open_modal\",\"kind\":\"Any\",\"default\":0},{\"name\":\"close_modal\",\"kind\":\"Any\",\"default\":0}]},{\"type\":\"model\",\"name\":\"MaterialTemplateActions1\",\"properties\":[{\"name\":\"open_modal\",\"kind\":\"Any\",\"default\":0},{\"name\":\"close_modal\",\"kind\":\"Any\",\"default\":0}]}],\"roots\":[{\"type\":\"object\",\"name\":\"Row\",\"id\":\"9782ec20-c033-462a-990b-471c0f8ad545\",\"attributes\":{\"name\":\"Row00133\",\"stylesheets\":[\"\\n:host(.pn-loading.pn-arc):before, .pn-loading.pn-arc:before {\\n  background-image: url(\\\"data:image/svg+xml;base64,PHN2ZyB4bWxucz0iaHR0cDovL3d3dy53My5vcmcvMjAwMC9zdmciIHN0eWxlPSJtYXJnaW46IGF1dG87IGJhY2tncm91bmQ6IG5vbmU7IGRpc3BsYXk6IGJsb2NrOyBzaGFwZS1yZW5kZXJpbmc6IGF1dG87IiB2aWV3Qm94PSIwIDAgMTAwIDEwMCIgcHJlc2VydmVBc3BlY3RSYXRpbz0ieE1pZFlNaWQiPiAgPGNpcmNsZSBjeD0iNTAiIGN5PSI1MCIgZmlsbD0ibm9uZSIgc3Ryb2tlPSIjYzNjM2MzIiBzdHJva2Utd2lkdGg9IjEwIiByPSIzNSIgc3Ryb2tlLWRhc2hhcnJheT0iMTY0LjkzMzYxNDMxMzQ2NDE1IDU2Ljk3Nzg3MTQzNzgyMTM4Ij4gICAgPGFuaW1hdGVUcmFuc2Zvcm0gYXR0cmlidXRlTmFtZT0idHJhbnNmb3JtIiB0eXBlPSJyb3RhdGUiIHJlcGVhdENvdW50PSJpbmRlZmluaXRlIiBkdXI9IjFzIiB2YWx1ZXM9IjAgNTAgNTA7MzYwIDUwIDUwIiBrZXlUaW1lcz0iMDsxIj48L2FuaW1hdGVUcmFuc2Zvcm0+ICA8L2NpcmNsZT48L3N2Zz4=\\\");\\n  background-size: auto calc(min(50%, 400px));\\n}\",{\"type\":\"object\",\"name\":\"ImportedStyleSheet\",\"id\":\"bec6bed3-518c-4159-b63a-48d4c35c1855\",\"attributes\":{\"url\":\"https://cdn.holoviz.org/panel/1.1.0/dist/css/loading.css\"}},{\"type\":\"object\",\"name\":\"ImportedStyleSheet\",\"id\":\"40186795-b45f-4097-bbb1-8e1f28ff617b\",\"attributes\":{\"url\":\"https://cdn.holoviz.org/panel/1.1.0/dist/css/listpanel.css\"}},{\"type\":\"object\",\"name\":\"ImportedStyleSheet\",\"id\":\"3d1970a9-3e9c-43f4-ade0-f07bd045f220\",\"attributes\":{\"url\":\"https://cdn.holoviz.org/panel/1.1.0/dist/bundled/theme/default.css\"}},{\"type\":\"object\",\"name\":\"ImportedStyleSheet\",\"id\":\"eabba883-d6e1-4141-bc88-8c74be6702e9\",\"attributes\":{\"url\":\"https://cdn.holoviz.org/panel/1.1.0/dist/bundled/theme/native.css\"}}],\"margin\":0,\"align\":\"start\",\"children\":[{\"type\":\"object\",\"name\":\"Button\",\"id\":\"17aee185-8722-4757-8d50-dcdb5199f21a\",\"attributes\":{\"subscribed_events\":{\"type\":\"set\",\"entries\":[\"button_click\"]},\"css_classes\":[\"solid\"],\"stylesheets\":[\"\\n:host(.pn-loading.pn-arc):before, .pn-loading.pn-arc:before {\\n  background-image: url(\\\"data:image/svg+xml;base64,PHN2ZyB4bWxucz0iaHR0cDovL3d3dy53My5vcmcvMjAwMC9zdmciIHN0eWxlPSJtYXJnaW46IGF1dG87IGJhY2tncm91bmQ6IG5vbmU7IGRpc3BsYXk6IGJsb2NrOyBzaGFwZS1yZW5kZXJpbmc6IGF1dG87IiB2aWV3Qm94PSIwIDAgMTAwIDEwMCIgcHJlc2VydmVBc3BlY3RSYXRpbz0ieE1pZFlNaWQiPiAgPGNpcmNsZSBjeD0iNTAiIGN5PSI1MCIgZmlsbD0ibm9uZSIgc3Ryb2tlPSIjYzNjM2MzIiBzdHJva2Utd2lkdGg9IjEwIiByPSIzNSIgc3Ryb2tlLWRhc2hhcnJheT0iMTY0LjkzMzYxNDMxMzQ2NDE1IDU2Ljk3Nzg3MTQzNzgyMTM4Ij4gICAgPGFuaW1hdGVUcmFuc2Zvcm0gYXR0cmlidXRlTmFtZT0idHJhbnNmb3JtIiB0eXBlPSJyb3RhdGUiIHJlcGVhdENvdW50PSJpbmRlZmluaXRlIiBkdXI9IjFzIiB2YWx1ZXM9IjAgNTAgNTA7MzYwIDUwIDUwIiBrZXlUaW1lcz0iMDsxIj48L2FuaW1hdGVUcmFuc2Zvcm0+ICA8L2NpcmNsZT48L3N2Zz4=\\\");\\n  background-size: auto calc(min(50%, 400px));\\n}\",{\"id\":\"bec6bed3-518c-4159-b63a-48d4c35c1855\"},{\"type\":\"object\",\"name\":\"ImportedStyleSheet\",\"id\":\"4497cc0b-2767-4b98-9248-95d84845e2f3\",\"attributes\":{\"url\":\"https://cdn.holoviz.org/panel/1.1.0/dist/css/button.css\"}},{\"id\":\"3d1970a9-3e9c-43f4-ade0-f07bd045f220\"},{\"id\":\"eabba883-d6e1-4141-bc88-8c74be6702e9\"}],\"margin\":[5,10],\"align\":\"start\",\"label\":\"Folder\"}}]}},{\"type\":\"object\",\"name\":\"panel.models.comm_manager.CommManager\",\"id\":\"94761733-0792-40f1-bc91-876045dded2b\",\"attributes\":{\"plot_id\":\"9782ec20-c033-462a-990b-471c0f8ad545\",\"comm_id\":\"752125e2836b4896827db5795e9799b1\",\"client_comm_id\":\"9c7ab1d1ba91475cbf8ef8843012d8f9\"}}],\"callbacks\":{\"type\":\"map\"}}};\n",
       "  var render_items = [{\"docid\":\"5bb4feef-981f-4ebd-bf25-fff4d180c240\",\"roots\":{\"9782ec20-c033-462a-990b-471c0f8ad545\":\"c975d1f4-8319-410d-8ffb-5fb37b17cdc1\"},\"root_ids\":[\"9782ec20-c033-462a-990b-471c0f8ad545\"]}];\n",
       "  var docs = Object.values(docs_json)\n",
       "  if (!docs) {\n",
       "    return\n",
       "  }\n",
       "  const py_version = docs[0].version.replace('rc', '-rc.')\n",
       "  const is_dev = py_version.indexOf(\"+\") !== -1 || py_version.indexOf(\"-\") !== -1\n",
       "  function embed_document(root) {\n",
       "    var Bokeh = get_bokeh(root)\n",
       "    Bokeh.embed.embed_items_notebook(docs_json, render_items);\n",
       "    for (const render_item of render_items) {\n",
       "      for (const root_id of render_item.root_ids) {\n",
       "\tconst id_el = document.getElementById(root_id)\n",
       "\tif (id_el.children.length && (id_el.children[0].className === 'bk-root')) {\n",
       "\t  const root_el = id_el.children[0]\n",
       "\t  root_el.id = root_el.id + '-rendered'\n",
       "\t}\n",
       "      }\n",
       "    }\n",
       "  }\n",
       "  function get_bokeh(root) {\n",
       "    if (root.Bokeh === undefined) {\n",
       "      return null\n",
       "    } else if (root.Bokeh.version !== py_version && !is_dev) {\n",
       "      if (root.Bokeh.versions === undefined || !root.Bokeh.versions.has(py_version)) {\n",
       "\treturn null\n",
       "      }\n",
       "      return root.Bokeh.versions.get(py_version);\n",
       "    } else if (root.Bokeh.version === py_version) {\n",
       "      return root.Bokeh\n",
       "    }\n",
       "    return null\n",
       "  }\n",
       "  function is_loaded(root) {\n",
       "    var Bokeh = get_bokeh(root)\n",
       "    return (Bokeh != null && Bokeh.Panel !== undefined && ( root['jsPanel'] !== undefined))\n",
       "  }\n",
       "  if (is_loaded(root)) {\n",
       "    embed_document(root);\n",
       "  } else {\n",
       "    var attempts = 0;\n",
       "    var timer = setInterval(function(root) {\n",
       "      if (is_loaded(root)) {\n",
       "        clearInterval(timer);\n",
       "        embed_document(root);\n",
       "      } else if (document.readyState == \"complete\") {\n",
       "        attempts++;\n",
       "        if (attempts > 200) {\n",
       "          clearInterval(timer);\n",
       "\t  var Bokeh = get_bokeh(root)\n",
       "\t  if (Bokeh == null || Bokeh.Panel == null) {\n",
       "            console.warn(\"Panel: ERROR: Unable to run Panel code because Bokeh or Panel library is missing\");\n",
       "\t  } else {\n",
       "\t    console.warn(\"Panel: WARNING: Attempting to render but not all required libraries could be resolved.\")\n",
       "\t    embed_document(root)\n",
       "\t  }\n",
       "        }\n",
       "      }\n",
       "    }, 25, root)\n",
       "  }\n",
       "})(window);</script>"
      ],
      "text/plain": [
       "Row\n",
       "    [0] Button(name='Folder')"
      ]
     },
     "execution_count": null,
     "metadata": {
      "application/vnd.holoviews_exec.v0+json": {
       "id": "9782ec20-c033-462a-990b-471c0f8ad545"
      }
     },
     "output_type": "execute_result"
    }
   ],
   "source": [
    "def cb(v):\n",
    "  print(f'{v=} ')\n",
    "\n",
    "Fsb = ds.FileSystem.Folder_Button( name = \"Folder\",  call_back=cb )\n",
    "Fsb.folder_button"
   ]
  },
  {
   "cell_type": "markdown",
   "metadata": {},
   "source": [
    "After you select a folder, the result will also be in `Fsb.value`."
   ]
  },
  {
   "cell_type": "code",
   "execution_count": null,
   "metadata": {},
   "outputs": [],
   "source": [
    "Fsb.value"
   ]
  },
  {
   "cell_type": "markdown",
   "metadata": {},
   "source": [
    "## System_Status_widget()"
   ]
  },
  {
   "cell_type": "markdown",
   "metadata": {},
   "source": [
    "This widget provides a snapshot of the CPU utilization for each core\n",
    "RAM utilization, disk drive information at a user specified interval.\n",
    "The widget starts a thread which automatically updates widget values.\n",
    "\n",
    "Below is instantiate the widget which also starts the internal thread\n",
    "which updates the widget."
   ]
  },
  {
   "cell_type": "code",
   "execution_count": null,
   "metadata": {},
   "outputs": [
    {
     "name": "stdout",
     "output_type": "stream",
     "text": [
      "None\n"
     ]
    },
    {
     "data": {},
     "metadata": {},
     "output_type": "display_data"
    },
    {
     "data": {
      "application/vnd.holoviews_exec.v0+json": "",
      "text/html": [
       "<div id='979fcc45-b831-4271-bdb0-6f6077a387fc'>\n",
       "  <div id=\"e8f920ad-45db-406e-a27b-91dca573b45c\" data-root-id=\"979fcc45-b831-4271-bdb0-6f6077a387fc\" style=\"display: contents;\"></div>\n",
       "</div>\n",
       "<script type=\"application/javascript\">(function(root) {\n",
       "  var docs_json = {\"39ee6e02-0f17-48a2-999c-3b7b62a48950\":{\"version\":\"3.1.1\",\"title\":\"Bokeh Application\",\"defs\":[{\"type\":\"model\",\"name\":\"ReactiveHTML1\"},{\"type\":\"model\",\"name\":\"FlexBox1\",\"properties\":[{\"name\":\"align_content\",\"kind\":\"Any\",\"default\":\"flex-start\"},{\"name\":\"align_items\",\"kind\":\"Any\",\"default\":\"flex-start\"},{\"name\":\"flex_direction\",\"kind\":\"Any\",\"default\":\"row\"},{\"name\":\"flex_wrap\",\"kind\":\"Any\",\"default\":\"wrap\"},{\"name\":\"justify_content\",\"kind\":\"Any\",\"default\":\"flex-start\"}]},{\"type\":\"model\",\"name\":\"FloatPanel1\",\"properties\":[{\"name\":\"config\",\"kind\":\"Any\",\"default\":{\"type\":\"map\"}},{\"name\":\"contained\",\"kind\":\"Any\",\"default\":true},{\"name\":\"position\",\"kind\":\"Any\",\"default\":\"right-top\"},{\"name\":\"offsetx\",\"kind\":\"Any\",\"default\":null},{\"name\":\"offsety\",\"kind\":\"Any\",\"default\":null},{\"name\":\"theme\",\"kind\":\"Any\",\"default\":\"primary\"},{\"name\":\"status\",\"kind\":\"Any\",\"default\":\"normalized\"}]},{\"type\":\"model\",\"name\":\"GridStack1\",\"properties\":[{\"name\":\"mode\",\"kind\":\"Any\",\"default\":\"warn\"},{\"name\":\"ncols\",\"kind\":\"Any\",\"default\":null},{\"name\":\"nrows\",\"kind\":\"Any\",\"default\":null},{\"name\":\"allow_resize\",\"kind\":\"Any\",\"default\":true},{\"name\":\"allow_drag\",\"kind\":\"Any\",\"default\":true},{\"name\":\"state\",\"kind\":\"Any\",\"default\":[]}]},{\"type\":\"model\",\"name\":\"drag1\",\"properties\":[{\"name\":\"slider_width\",\"kind\":\"Any\",\"default\":5},{\"name\":\"slider_color\",\"kind\":\"Any\",\"default\":\"black\"},{\"name\":\"value\",\"kind\":\"Any\",\"default\":50}]},{\"type\":\"model\",\"name\":\"click1\",\"properties\":[{\"name\":\"terminal_output\",\"kind\":\"Any\",\"default\":\"\"},{\"name\":\"debug_name\",\"kind\":\"Any\",\"default\":\"\"},{\"name\":\"clears\",\"kind\":\"Any\",\"default\":0}]},{\"type\":\"model\",\"name\":\"FastWrapper1\",\"properties\":[{\"name\":\"object\",\"kind\":\"Any\",\"default\":null},{\"name\":\"style\",\"kind\":\"Any\",\"default\":null}]},{\"type\":\"model\",\"name\":\"NotificationAreaBase1\",\"properties\":[{\"name\":\"position\",\"kind\":\"Any\",\"default\":\"bottom-right\"},{\"name\":\"_clear\",\"kind\":\"Any\",\"default\":0}]},{\"type\":\"model\",\"name\":\"NotificationArea1\",\"properties\":[{\"name\":\"notifications\",\"kind\":\"Any\",\"default\":[]},{\"name\":\"position\",\"kind\":\"Any\",\"default\":\"bottom-right\"},{\"name\":\"_clear\",\"kind\":\"Any\",\"default\":0},{\"name\":\"types\",\"kind\":\"Any\",\"default\":[{\"type\":\"map\",\"entries\":[[\"type\",\"warning\"],[\"background\",\"#ffc107\"],[\"icon\",{\"type\":\"map\",\"entries\":[[\"className\",\"fas fa-exclamation-triangle\"],[\"tagName\",\"i\"],[\"color\",\"white\"]]}]]},{\"type\":\"map\",\"entries\":[[\"type\",\"info\"],[\"background\",\"#007bff\"],[\"icon\",{\"type\":\"map\",\"entries\":[[\"className\",\"fas fa-info-circle\"],[\"tagName\",\"i\"],[\"color\",\"white\"]]}]]}]}]},{\"type\":\"model\",\"name\":\"Notification\",\"properties\":[{\"name\":\"background\",\"kind\":\"Any\",\"default\":null},{\"name\":\"duration\",\"kind\":\"Any\",\"default\":3000},{\"name\":\"icon\",\"kind\":\"Any\",\"default\":null},{\"name\":\"message\",\"kind\":\"Any\",\"default\":\"\"},{\"name\":\"notification_type\",\"kind\":\"Any\",\"default\":null},{\"name\":\"_destroyed\",\"kind\":\"Any\",\"default\":false}]},{\"type\":\"model\",\"name\":\"TemplateActions1\",\"properties\":[{\"name\":\"open_modal\",\"kind\":\"Any\",\"default\":0},{\"name\":\"close_modal\",\"kind\":\"Any\",\"default\":0}]},{\"type\":\"model\",\"name\":\"BootstrapTemplateActions1\",\"properties\":[{\"name\":\"open_modal\",\"kind\":\"Any\",\"default\":0},{\"name\":\"close_modal\",\"kind\":\"Any\",\"default\":0}]},{\"type\":\"model\",\"name\":\"MaterialTemplateActions1\",\"properties\":[{\"name\":\"open_modal\",\"kind\":\"Any\",\"default\":0},{\"name\":\"close_modal\",\"kind\":\"Any\",\"default\":0}]}],\"roots\":[{\"type\":\"object\",\"name\":\"Column\",\"id\":\"979fcc45-b831-4271-bdb0-6f6077a387fc\",\"attributes\":{\"name\":\"Column00185\",\"stylesheets\":[\"\\n:host(.pn-loading.pn-arc):before, .pn-loading.pn-arc:before {\\n  background-image: url(\\\"data:image/svg+xml;base64,PHN2ZyB4bWxucz0iaHR0cDovL3d3dy53My5vcmcvMjAwMC9zdmciIHN0eWxlPSJtYXJnaW46IGF1dG87IGJhY2tncm91bmQ6IG5vbmU7IGRpc3BsYXk6IGJsb2NrOyBzaGFwZS1yZW5kZXJpbmc6IGF1dG87IiB2aWV3Qm94PSIwIDAgMTAwIDEwMCIgcHJlc2VydmVBc3BlY3RSYXRpbz0ieE1pZFlNaWQiPiAgPGNpcmNsZSBjeD0iNTAiIGN5PSI1MCIgZmlsbD0ibm9uZSIgc3Ryb2tlPSIjYzNjM2MzIiBzdHJva2Utd2lkdGg9IjEwIiByPSIzNSIgc3Ryb2tlLWRhc2hhcnJheT0iMTY0LjkzMzYxNDMxMzQ2NDE1IDU2Ljk3Nzg3MTQzNzgyMTM4Ij4gICAgPGFuaW1hdGVUcmFuc2Zvcm0gYXR0cmlidXRlTmFtZT0idHJhbnNmb3JtIiB0eXBlPSJyb3RhdGUiIHJlcGVhdENvdW50PSJpbmRlZmluaXRlIiBkdXI9IjFzIiB2YWx1ZXM9IjAgNTAgNTA7MzYwIDUwIDUwIiBrZXlUaW1lcz0iMDsxIj48L2FuaW1hdGVUcmFuc2Zvcm0+ICA8L2NpcmNsZT48L3N2Zz4=\\\");\\n  background-size: auto calc(min(50%, 400px));\\n}\",{\"type\":\"object\",\"name\":\"ImportedStyleSheet\",\"id\":\"593f8edd-1aab-48b1-9c33-4fe8289c7324\",\"attributes\":{\"url\":\"https://cdn.holoviz.org/panel/1.1.0/dist/css/loading.css\"}},{\"type\":\"object\",\"name\":\"ImportedStyleSheet\",\"id\":\"4a5ddbf2-27cc-497c-a521-b5af4365e5c5\",\"attributes\":{\"url\":\"https://cdn.holoviz.org/panel/1.1.0/dist/css/listpanel.css\"}},{\"type\":\"object\",\"name\":\"ImportedStyleSheet\",\"id\":\"3ee2d293-aafd-496e-944b-802f2303065d\",\"attributes\":{\"url\":\"https://cdn.holoviz.org/panel/1.1.0/dist/bundled/theme/default.css\"}},{\"type\":\"object\",\"name\":\"ImportedStyleSheet\",\"id\":\"1323e990-0110-497c-850b-ddd77fdee416\",\"attributes\":{\"url\":\"https://cdn.holoviz.org/panel/1.1.0/dist/bundled/theme/native.css\"}}],\"margin\":0,\"align\":\"start\",\"children\":[{\"type\":\"object\",\"name\":\"Div\",\"id\":\"314db75d-756e-4348-aa38-a1e888b70941\",\"attributes\":{\"stylesheets\":[\"\\n:host(.pn-loading.pn-arc):before, .pn-loading.pn-arc:before {\\n  background-image: url(\\\"data:image/svg+xml;base64,PHN2ZyB4bWxucz0iaHR0cDovL3d3dy53My5vcmcvMjAwMC9zdmciIHN0eWxlPSJtYXJnaW46IGF1dG87IGJhY2tncm91bmQ6IG5vbmU7IGRpc3BsYXk6IGJsb2NrOyBzaGFwZS1yZW5kZXJpbmc6IGF1dG87IiB2aWV3Qm94PSIwIDAgMTAwIDEwMCIgcHJlc2VydmVBc3BlY3RSYXRpbz0ieE1pZFlNaWQiPiAgPGNpcmNsZSBjeD0iNTAiIGN5PSI1MCIgZmlsbD0ibm9uZSIgc3Ryb2tlPSIjYzNjM2MzIiBzdHJva2Utd2lkdGg9IjEwIiByPSIzNSIgc3Ryb2tlLWRhc2hhcnJheT0iMTY0LjkzMzYxNDMxMzQ2NDE1IDU2Ljk3Nzg3MTQzNzgyMTM4Ij4gICAgPGFuaW1hdGVUcmFuc2Zvcm0gYXR0cmlidXRlTmFtZT0idHJhbnNmb3JtIiB0eXBlPSJyb3RhdGUiIHJlcGVhdENvdW50PSJpbmRlZmluaXRlIiBkdXI9IjFzIiB2YWx1ZXM9IjAgNTAgNTA7MzYwIDUwIDUwIiBrZXlUaW1lcz0iMDsxIj48L2FuaW1hdGVUcmFuc2Zvcm0+ICA8L2NpcmNsZT48L3N2Zz4=\\\");\\n  background-size: auto calc(min(50%, 400px));\\n}\",{\"id\":\"593f8edd-1aab-48b1-9c33-4fe8289c7324\"},{\"id\":\"3ee2d293-aafd-496e-944b-802f2303065d\"},{\"id\":\"1323e990-0110-497c-850b-ddd77fdee416\"}],\"margin\":[5,10],\"align\":\"start\",\"text\":\"2023-0626 15:33:31 UTC Load Avgs:(0.08, 0.11, 0.09)   Intel(R) Core(TM) i9-10900K CPU @ 3.70GHz\"}},{\"type\":\"object\",\"name\":\"Row\",\"id\":\"11b148d5-d027-4c0d-9708-baa7b561253e\",\"attributes\":{\"name\":\"xxxx\",\"styles\":{\"type\":\"map\",\"entries\":[[\"background\",\"lightgray\"]]},\"stylesheets\":[\"\\n:host(.pn-loading.pn-arc):before, .pn-loading.pn-arc:before {\\n  background-image: url(\\\"data:image/svg+xml;base64,PHN2ZyB4bWxucz0iaHR0cDovL3d3dy53My5vcmcvMjAwMC9zdmciIHN0eWxlPSJtYXJnaW46IGF1dG87IGJhY2tncm91bmQ6IG5vbmU7IGRpc3BsYXk6IGJsb2NrOyBzaGFwZS1yZW5kZXJpbmc6IGF1dG87IiB2aWV3Qm94PSIwIDAgMTAwIDEwMCIgcHJlc2VydmVBc3BlY3RSYXRpbz0ieE1pZFlNaWQiPiAgPGNpcmNsZSBjeD0iNTAiIGN5PSI1MCIgZmlsbD0ibm9uZSIgc3Ryb2tlPSIjYzNjM2MzIiBzdHJva2Utd2lkdGg9IjEwIiByPSIzNSIgc3Ryb2tlLWRhc2hhcnJheT0iMTY0LjkzMzYxNDMxMzQ2NDE1IDU2Ljk3Nzg3MTQzNzgyMTM4Ij4gICAgPGFuaW1hdGVUcmFuc2Zvcm0gYXR0cmlidXRlTmFtZT0idHJhbnNmb3JtIiB0eXBlPSJyb3RhdGUiIHJlcGVhdENvdW50PSJpbmRlZmluaXRlIiBkdXI9IjFzIiB2YWx1ZXM9IjAgNTAgNTA7MzYwIDUwIDUwIiBrZXlUaW1lcz0iMDsxIj48L2FuaW1hdGVUcmFuc2Zvcm0+ICA8L2NpcmNsZT48L3N2Zz4=\\\");\\n  background-size: auto calc(min(50%, 400px));\\n}\",{\"id\":\"593f8edd-1aab-48b1-9c33-4fe8289c7324\"},{\"id\":\"4a5ddbf2-27cc-497c-a521-b5af4365e5c5\"},{\"id\":\"3ee2d293-aafd-496e-944b-802f2303065d\"},{\"id\":\"1323e990-0110-497c-850b-ddd77fdee416\"}],\"margin\":0,\"align\":\"start\",\"children\":[{\"type\":\"object\",\"name\":\"panel.models.markup.HTML\",\"id\":\"bda72bad-e421-4bc9-85f2-f1e1deea92b8\",\"attributes\":{\"css_classes\":[\"markdown\"],\"stylesheets\":[\"\\n:host(.pn-loading.pn-arc):before, .pn-loading.pn-arc:before {\\n  background-image: url(\\\"data:image/svg+xml;base64,PHN2ZyB4bWxucz0iaHR0cDovL3d3dy53My5vcmcvMjAwMC9zdmciIHN0eWxlPSJtYXJnaW46IGF1dG87IGJhY2tncm91bmQ6IG5vbmU7IGRpc3BsYXk6IGJsb2NrOyBzaGFwZS1yZW5kZXJpbmc6IGF1dG87IiB2aWV3Qm94PSIwIDAgMTAwIDEwMCIgcHJlc2VydmVBc3BlY3RSYXRpbz0ieE1pZFlNaWQiPiAgPGNpcmNsZSBjeD0iNTAiIGN5PSI1MCIgZmlsbD0ibm9uZSIgc3Ryb2tlPSIjYzNjM2MzIiBzdHJva2Utd2lkdGg9IjEwIiByPSIzNSIgc3Ryb2tlLWRhc2hhcnJheT0iMTY0LjkzMzYxNDMxMzQ2NDE1IDU2Ljk3Nzg3MTQzNzgyMTM4Ij4gICAgPGFuaW1hdGVUcmFuc2Zvcm0gYXR0cmlidXRlTmFtZT0idHJhbnNmb3JtIiB0eXBlPSJyb3RhdGUiIHJlcGVhdENvdW50PSJpbmRlZmluaXRlIiBkdXI9IjFzIiB2YWx1ZXM9IjAgNTAgNTA7MzYwIDUwIDUwIiBrZXlUaW1lcz0iMDsxIj48L2FuaW1hdGVUcmFuc2Zvcm0+ICA8L2NpcmNsZT48L3N2Zz4=\\\");\\n  background-size: auto calc(min(50%, 400px));\\n}\",{\"id\":\"593f8edd-1aab-48b1-9c33-4fe8289c7324\"},{\"type\":\"object\",\"name\":\"ImportedStyleSheet\",\"id\":\"deecf200-5052-49a4-a80f-802aabb1bbfe\",\"attributes\":{\"url\":\"https://cdn.holoviz.org/panel/1.1.0/dist/css/markdown.css\"}},{\"id\":\"3ee2d293-aafd-496e-944b-802f2303065d\"},{\"id\":\"1323e990-0110-497c-850b-ddd77fdee416\"}],\"margin\":[5,10],\"align\":\"start\",\"text\":\"&lt;p&gt;&lt;strong&gt;CPU&lt;br&gt;Core&lt;br&gt;% usage&lt;br&gt;10 Cores&lt;/strong&gt;&lt;/p&gt;\\n\"}},{\"type\":\"object\",\"name\":\"Figure\",\"id\":\"dfb71a0b-bc03-4088-af8d-68672558c09c\",\"attributes\":{\"name\":\"\",\"stylesheets\":[\"\\n:host(.pn-loading.pn-arc):before, .pn-loading.pn-arc:before {\\n  background-image: url(\\\"data:image/svg+xml;base64,PHN2ZyB4bWxucz0iaHR0cDovL3d3dy53My5vcmcvMjAwMC9zdmciIHN0eWxlPSJtYXJnaW46IGF1dG87IGJhY2tncm91bmQ6IG5vbmU7IGRpc3BsYXk6IGJsb2NrOyBzaGFwZS1yZW5kZXJpbmc6IGF1dG87IiB2aWV3Qm94PSIwIDAgMTAwIDEwMCIgcHJlc2VydmVBc3BlY3RSYXRpbz0ieE1pZFlNaWQiPiAgPGNpcmNsZSBjeD0iNTAiIGN5PSI1MCIgZmlsbD0ibm9uZSIgc3Ryb2tlPSIjYzNjM2MzIiBzdHJva2Utd2lkdGg9IjEwIiByPSIzNSIgc3Ryb2tlLWRhc2hhcnJheT0iMTY0LjkzMzYxNDMxMzQ2NDE1IDU2Ljk3Nzg3MTQzNzgyMTM4Ij4gICAgPGFuaW1hdGVUcmFuc2Zvcm0gYXR0cmlidXRlTmFtZT0idHJhbnNmb3JtIiB0eXBlPSJyb3RhdGUiIHJlcGVhdENvdW50PSJpbmRlZmluaXRlIiBkdXI9IjFzIiB2YWx1ZXM9IjAgNTAgNTA7MzYwIDUwIDUwIiBrZXlUaW1lcz0iMDsxIj48L2FuaW1hdGVUcmFuc2Zvcm0+ICA8L2NpcmNsZT48L3N2Zz4=\\\");\\n  background-size: auto calc(min(50%, 400px));\\n}\",{\"type\":\"object\",\"name\":\"ImportedStyleSheet\",\"id\":\"f7be70eb-d2c3-481f-a7ee-beed43d4b14c\",\"attributes\":{\"url\":\"https://cdn.holoviz.org/panel/1.1.0/dist/css/loading.css\"}},{\"type\":\"object\",\"name\":\"ImportedStyleSheet\",\"id\":\"e6db7242-b1e9-44ca-b94d-a05569ec447b\",\"attributes\":{\"url\":\"https://cdn.holoviz.org/panel/1.1.0/dist/bundled/theme/default.css\"}},{\"type\":\"object\",\"name\":\"ImportedStyleSheet\",\"id\":\"cc786598-18a0-4021-a040-7e02de598628\",\"attributes\":{\"url\":\"https://cdn.holoviz.org/panel/1.1.0/dist/bundled/theme/native.css\"}}],\"width\":50,\"height\":200,\"margin\":[5,10],\"sizing_mode\":\"fixed\",\"align\":\"start\",\"x_range\":{\"type\":\"object\",\"name\":\"DataRange1d\",\"id\":\"52f186dc-48bf-469b-9a0a-92c3fd50a9b2\",\"attributes\":{\"start\":-0.8,\"end\":0.5}},\"y_range\":{\"type\":\"object\",\"name\":\"DataRange1d\",\"id\":\"bc8bdb66-2788-4730-9806-51edf4b746e5\",\"attributes\":{\"start\":0,\"end\":100}},\"x_scale\":{\"type\":\"object\",\"name\":\"LinearScale\",\"id\":\"76849d9f-d1da-479c-b63e-8acefbda8d42\"},\"y_scale\":{\"type\":\"object\",\"name\":\"LinearScale\",\"id\":\"9400b1cb-ae1c-4635-872f-0a9574560c37\"},\"title\":{\"type\":\"object\",\"name\":\"Title\",\"id\":\"ff525dc2-6412-4ee8-a78f-0ddbfb4f5082\"},\"outline_line_color\":null,\"renderers\":[{\"type\":\"object\",\"name\":\"GlyphRenderer\",\"id\":\"f757c4d0-b099-420c-96bf-a65ef80d83d9\",\"attributes\":{\"data_source\":{\"type\":\"object\",\"name\":\"ColumnDataSource\",\"id\":\"b9265a97-933b-43a9-8017-2cd7cb27a6fe\",\"attributes\":{\"name\":\"bar_source\",\"selected\":{\"type\":\"object\",\"name\":\"Selection\",\"id\":\"4e1003db-30a4-4298-b679-05092bb75147\",\"attributes\":{\"indices\":[],\"line_indices\":[]}},\"selection_policy\":{\"type\":\"object\",\"name\":\"UnionRenderers\",\"id\":\"d70a06a5-d809-48ed-8f42-c323160f5c9b\"},\"data\":{\"type\":\"map\",\"entries\":[[\"y0\",[0,0.0,50.0]],[\"y1\",[0.0,50.0,100]],[\"color\",[\"lightgreen\",\"whitesmoke\",\"whitesmoke\"]]]}}},\"view\":{\"type\":\"object\",\"name\":\"CDSView\",\"id\":\"71305354-e59c-4eb2-b9c9-551efde64e6e\",\"attributes\":{\"filter\":{\"type\":\"object\",\"name\":\"AllIndices\",\"id\":\"463bfa5a-1407-4ba7-b87a-07a9861c95ea\"}}},\"glyph\":{\"type\":\"object\",\"name\":\"VBar\",\"id\":\"31b5752b-c335-4a81-9c29-915e209d8fbb\",\"attributes\":{\"x\":{\"type\":\"value\",\"value\":0.1},\"width\":{\"type\":\"value\",\"value\":0.9},\"bottom\":{\"type\":\"field\",\"field\":\"y0\"},\"top\":{\"type\":\"field\",\"field\":\"y1\"},\"line_color\":{\"type\":\"field\",\"field\":\"color\"},\"fill_color\":{\"type\":\"field\",\"field\":\"color\"},\"hatch_color\":{\"type\":\"field\",\"field\":\"color\"}}},\"nonselection_glyph\":{\"type\":\"object\",\"name\":\"VBar\",\"id\":\"e80fbd09-6f1b-42c7-9c46-e0e6e9b3d03b\",\"attributes\":{\"x\":{\"type\":\"value\",\"value\":0.1},\"width\":{\"type\":\"value\",\"value\":0.9},\"bottom\":{\"type\":\"field\",\"field\":\"y0\"},\"top\":{\"type\":\"field\",\"field\":\"y1\"},\"line_color\":{\"type\":\"field\",\"field\":\"color\"},\"line_alpha\":{\"type\":\"value\",\"value\":0.1},\"fill_color\":{\"type\":\"field\",\"field\":\"color\"},\"fill_alpha\":{\"type\":\"value\",\"value\":0.1},\"hatch_color\":{\"type\":\"field\",\"field\":\"color\"},\"hatch_alpha\":{\"type\":\"value\",\"value\":0.1}}},\"muted_glyph\":{\"type\":\"object\",\"name\":\"VBar\",\"id\":\"1d862c93-812e-4c00-b6a1-c3a5b114c852\",\"attributes\":{\"x\":{\"type\":\"value\",\"value\":0.1},\"width\":{\"type\":\"value\",\"value\":0.9},\"bottom\":{\"type\":\"field\",\"field\":\"y0\"},\"top\":{\"type\":\"field\",\"field\":\"y1\"},\"line_color\":{\"type\":\"field\",\"field\":\"color\"},\"line_alpha\":{\"type\":\"value\",\"value\":0.2},\"fill_color\":{\"type\":\"field\",\"field\":\"color\"},\"fill_alpha\":{\"type\":\"value\",\"value\":0.2},\"hatch_color\":{\"type\":\"field\",\"field\":\"color\"},\"hatch_alpha\":{\"type\":\"value\",\"value\":0.2}}}}},{\"type\":\"object\",\"name\":\"GlyphRenderer\",\"id\":\"1376f920-2412-4ec5-91a3-dc60ab945c68\",\"attributes\":{\"name\":\"needle_renderer\",\"level\":\"overlay\",\"data_source\":{\"type\":\"object\",\"name\":\"ColumnDataSource\",\"id\":\"aaabbcdb-5f59-4d16-a7cc-e9beecaad74e\",\"attributes\":{\"name\":\"needle_source\",\"selected\":{\"type\":\"object\",\"name\":\"Selection\",\"id\":\"c31f8ac1-4f0f-4131-b09d-2064d953f80a\",\"attributes\":{\"indices\":[],\"line_indices\":[]}},\"selection_policy\":{\"type\":\"object\",\"name\":\"UnionRenderers\",\"id\":\"9648bd6d-3947-49d4-ab5e-fe1aafcbb51c\"},\"data\":{\"type\":\"map\",\"entries\":[[\"y\",[0.0]],[\"text\",[\"\"]]]}}},\"view\":{\"type\":\"object\",\"name\":\"CDSView\",\"id\":\"260233f1-fe6d-4e58-8798-008cca40c3ee\",\"attributes\":{\"filter\":{\"type\":\"object\",\"name\":\"AllIndices\",\"id\":\"79aad1a1-60bb-4958-a002-3a9d485bdefd\"}}},\"glyph\":{\"type\":\"object\",\"name\":\"Scatter\",\"id\":\"2f71e4df-a45f-44f3-a57e-0461848eb0ba\",\"attributes\":{\"x\":{\"type\":\"value\",\"value\":0.5},\"y\":{\"type\":\"field\",\"field\":\"y\"},\"size\":{\"type\":\"value\",\"value\":6},\"angle\":{\"type\":\"value\",\"value\":1.5707963267948966},\"line_color\":{\"type\":\"field\",\"field\":\"\"},\"fill_color\":{\"type\":\"field\",\"field\":\"\"},\"marker\":{\"type\":\"value\",\"value\":\"triangle\"}}},\"nonselection_glyph\":{\"type\":\"object\",\"name\":\"Scatter\",\"id\":\"47aeb7e0-cd3a-411b-ab0d-0e0cec61bf13\",\"attributes\":{\"x\":{\"type\":\"value\",\"value\":0.5},\"y\":{\"type\":\"field\",\"field\":\"y\"},\"size\":{\"type\":\"value\",\"value\":6},\"angle\":{\"type\":\"value\",\"value\":1.5707963267948966},\"line_color\":{\"type\":\"field\",\"field\":\"\"},\"line_alpha\":{\"type\":\"value\",\"value\":0.1},\"fill_color\":{\"type\":\"field\",\"field\":\"\"},\"fill_alpha\":{\"type\":\"value\",\"value\":0.1},\"hatch_alpha\":{\"type\":\"value\",\"value\":0.1},\"marker\":{\"type\":\"value\",\"value\":\"triangle\"}}},\"muted_glyph\":{\"type\":\"object\",\"name\":\"Scatter\",\"id\":\"b5f141f8-1c71-4882-b159-7c32044022d2\",\"attributes\":{\"x\":{\"type\":\"value\",\"value\":0.5},\"y\":{\"type\":\"field\",\"field\":\"y\"},\"size\":{\"type\":\"value\",\"value\":6},\"angle\":{\"type\":\"value\",\"value\":1.5707963267948966},\"line_color\":{\"type\":\"field\",\"field\":\"\"},\"line_alpha\":{\"type\":\"value\",\"value\":0.2},\"fill_color\":{\"type\":\"field\",\"field\":\"\"},\"fill_alpha\":{\"type\":\"value\",\"value\":0.2},\"hatch_alpha\":{\"type\":\"value\",\"value\":0.2},\"marker\":{\"type\":\"value\",\"value\":\"triangle\"}}}}},{\"type\":\"object\",\"name\":\"GlyphRenderer\",\"id\":\"8ce73d28-579d-40ab-b126-ee6878f57c96\",\"attributes\":{\"data_source\":{\"id\":\"aaabbcdb-5f59-4d16-a7cc-e9beecaad74e\"},\"view\":{\"type\":\"object\",\"name\":\"CDSView\",\"id\":\"1153cd6b-a4e0-4867-aee0-e7299977650c\",\"attributes\":{\"filter\":{\"type\":\"object\",\"name\":\"AllIndices\",\"id\":\"75029a90-b547-4eae-a76a-877f86941085\"}}},\"glyph\":{\"type\":\"object\",\"name\":\"Text\",\"id\":\"fb4603bf-46a2-462e-9ea1-c33c3ae6dd05\",\"attributes\":{\"x\":{\"type\":\"value\",\"value\":-0.4},\"y\":{\"type\":\"value\",\"value\":0},\"text\":{\"type\":\"field\",\"field\":\"text\"},\"angle\":{\"type\":\"value\",\"value\":1.5707963267948966},\"text_color\":{\"type\":\"value\",\"value\":\"black\"},\"text_font_size\":{\"type\":\"value\",\"value\":\"6.25px\"}}},\"nonselection_glyph\":{\"type\":\"object\",\"name\":\"Text\",\"id\":\"8250f01a-a688-405c-88f0-ba2fbe8616fc\",\"attributes\":{\"x\":{\"type\":\"value\",\"value\":-0.4},\"y\":{\"type\":\"value\",\"value\":0},\"text\":{\"type\":\"field\",\"field\":\"text\"},\"angle\":{\"type\":\"value\",\"value\":1.5707963267948966},\"text_color\":{\"type\":\"value\",\"value\":\"black\"},\"text_alpha\":{\"type\":\"value\",\"value\":0.1},\"text_font_size\":{\"type\":\"value\",\"value\":\"6.25px\"}}},\"muted_glyph\":{\"type\":\"object\",\"name\":\"Text\",\"id\":\"6b1a289f-0b3b-453e-86e5-b16a815f0c80\",\"attributes\":{\"x\":{\"type\":\"value\",\"value\":-0.4},\"y\":{\"type\":\"value\",\"value\":0},\"text\":{\"type\":\"field\",\"field\":\"text\"},\"angle\":{\"type\":\"value\",\"value\":1.5707963267948966},\"text_color\":{\"type\":\"value\",\"value\":\"black\"},\"text_alpha\":{\"type\":\"value\",\"value\":0.2},\"text_font_size\":{\"type\":\"value\",\"value\":\"6.25px\"}}}}}],\"toolbar\":{\"type\":\"object\",\"name\":\"Toolbar\",\"id\":\"a8749214-dd9c-419e-8e48-3679280ebb99\"},\"toolbar_location\":null,\"right\":[{\"type\":\"object\",\"name\":\"LinearAxis\",\"id\":\"0fcd59d1-856c-49f6-91c5-07d6697b4c87\",\"attributes\":{\"ticker\":{\"type\":\"object\",\"name\":\"FixedTicker\",\"id\":\"ebb4b7db-0057-41a9-bf63-5f01f0e47a99\",\"attributes\":{\"ticks\":[0,100],\"minor_ticks\":[]}},\"formatter\":{\"type\":\"object\",\"name\":\"BasicTickFormatter\",\"id\":\"cab9159e-5986-48f9-b472-359ea54782d7\"},\"axis_label\":\"\",\"axis_label_standoff\":2,\"axis_label_text_font_size\":\"0pt\",\"major_label_standoff\":2,\"major_label_policy\":{\"type\":\"object\",\"name\":\"AllLabels\",\"id\":\"b675f7bd-654c-4508-9a65-d4a02111447c\"},\"major_label_text_font_size\":\"0pt\"}}],\"above\":[{\"type\":\"object\",\"name\":\"LinearAxis\",\"id\":\"e1f4d08f-8ecf-47c7-b93d-acee91b7a4e5\",\"attributes\":{\"visible\":false,\"ticker\":{\"type\":\"object\",\"name\":\"BasicTicker\",\"id\":\"276b062a-7144-49d0-be1d-e9b38d18612f\",\"attributes\":{\"mantissas\":[1,2,5]}},\"formatter\":{\"type\":\"object\",\"name\":\"BasicTickFormatter\",\"id\":\"ad3e74fd-f079-4d7e-9743-387941862074\"},\"axis_label\":\"\",\"axis_label_standoff\":2,\"axis_label_text_font_size\":\"0pt\",\"major_label_standoff\":2,\"major_label_policy\":{\"type\":\"object\",\"name\":\"AllLabels\",\"id\":\"55c7e62b-b8a3-41df-be5c-8194a23cdd12\"},\"major_label_text_font_size\":\"0pt\"}}],\"center\":[{\"type\":\"object\",\"name\":\"Grid\",\"id\":\"e1fe6c73-ea63-4f72-9ce4-ce2f1c3f7233\",\"attributes\":{\"visible\":false,\"axis\":{\"id\":\"e1f4d08f-8ecf-47c7-b93d-acee91b7a4e5\"}}},{\"type\":\"object\",\"name\":\"Grid\",\"id\":\"c17d7df2-1fbb-4415-8066-63d37d8e8d3a\",\"attributes\":{\"visible\":false,\"dimension\":1,\"axis\":{\"id\":\"0fcd59d1-856c-49f6-91c5-07d6697b4c87\"}}}]}},{\"type\":\"object\",\"name\":\"Figure\",\"id\":\"f690457a-639e-4bc0-8953-b3beadb5214f\",\"attributes\":{\"name\":\"\",\"stylesheets\":[\"\\n:host(.pn-loading.pn-arc):before, .pn-loading.pn-arc:before {\\n  background-image: url(\\\"data:image/svg+xml;base64,PHN2ZyB4bWxucz0iaHR0cDovL3d3dy53My5vcmcvMjAwMC9zdmciIHN0eWxlPSJtYXJnaW46IGF1dG87IGJhY2tncm91bmQ6IG5vbmU7IGRpc3BsYXk6IGJsb2NrOyBzaGFwZS1yZW5kZXJpbmc6IGF1dG87IiB2aWV3Qm94PSIwIDAgMTAwIDEwMCIgcHJlc2VydmVBc3BlY3RSYXRpbz0ieE1pZFlNaWQiPiAgPGNpcmNsZSBjeD0iNTAiIGN5PSI1MCIgZmlsbD0ibm9uZSIgc3Ryb2tlPSIjYzNjM2MzIiBzdHJva2Utd2lkdGg9IjEwIiByPSIzNSIgc3Ryb2tlLWRhc2hhcnJheT0iMTY0LjkzMzYxNDMxMzQ2NDE1IDU2Ljk3Nzg3MTQzNzgyMTM4Ij4gICAgPGFuaW1hdGVUcmFuc2Zvcm0gYXR0cmlidXRlTmFtZT0idHJhbnNmb3JtIiB0eXBlPSJyb3RhdGUiIHJlcGVhdENvdW50PSJpbmRlZmluaXRlIiBkdXI9IjFzIiB2YWx1ZXM9IjAgNTAgNTA7MzYwIDUwIDUwIiBrZXlUaW1lcz0iMDsxIj48L2FuaW1hdGVUcmFuc2Zvcm0+ICA8L2NpcmNsZT48L3N2Zz4=\\\");\\n  background-size: auto calc(min(50%, 400px));\\n}\",{\"type\":\"object\",\"name\":\"ImportedStyleSheet\",\"id\":\"f1dc7b53-c177-4765-99eb-de8f0a27fafc\",\"attributes\":{\"url\":\"https://cdn.holoviz.org/panel/1.1.0/dist/css/loading.css\"}},{\"type\":\"object\",\"name\":\"ImportedStyleSheet\",\"id\":\"21d15ea0-01ff-4a49-b396-2826c5fae786\",\"attributes\":{\"url\":\"https://cdn.holoviz.org/panel/1.1.0/dist/bundled/theme/default.css\"}},{\"type\":\"object\",\"name\":\"ImportedStyleSheet\",\"id\":\"c49b9485-3f5f-4902-9eb5-b5d186ebbf86\",\"attributes\":{\"url\":\"https://cdn.holoviz.org/panel/1.1.0/dist/bundled/theme/native.css\"}}],\"width\":50,\"height\":200,\"margin\":[5,10],\"sizing_mode\":\"fixed\",\"align\":\"start\",\"x_range\":{\"type\":\"object\",\"name\":\"DataRange1d\",\"id\":\"49cbbf13-1cfa-456c-9c1f-d3fbf29c47b0\",\"attributes\":{\"start\":-0.8,\"end\":0.5}},\"y_range\":{\"type\":\"object\",\"name\":\"DataRange1d\",\"id\":\"4cee7d39-294b-43fc-8852-adfc9470d9ab\",\"attributes\":{\"start\":0,\"end\":100}},\"x_scale\":{\"type\":\"object\",\"name\":\"LinearScale\",\"id\":\"9f2a549d-eec3-48fb-b541-c9e79d80022e\"},\"y_scale\":{\"type\":\"object\",\"name\":\"LinearScale\",\"id\":\"5ba82a46-a835-4815-a2b5-35685d7bd58e\"},\"title\":{\"type\":\"object\",\"name\":\"Title\",\"id\":\"4a50a948-ef14-4b43-b908-78c7ab3cfdd4\"},\"outline_line_color\":null,\"renderers\":[{\"type\":\"object\",\"name\":\"GlyphRenderer\",\"id\":\"52bfef63-ad52-43cc-bfe5-2568df3a7a4c\",\"attributes\":{\"data_source\":{\"type\":\"object\",\"name\":\"ColumnDataSource\",\"id\":\"1fc594a8-c99d-46c0-9535-896a623da93c\",\"attributes\":{\"name\":\"bar_source\",\"selected\":{\"type\":\"object\",\"name\":\"Selection\",\"id\":\"5b894233-117d-40a6-b690-e81c6ae094c1\",\"attributes\":{\"indices\":[],\"line_indices\":[]}},\"selection_policy\":{\"type\":\"object\",\"name\":\"UnionRenderers\",\"id\":\"681ee802-ab18-454b-aec6-9e81cfbad7b6\"},\"data\":{\"type\":\"map\",\"entries\":[[\"y0\",[0,0.0,50.0]],[\"y1\",[0.0,50.0,100]],[\"color\",[\"lightgreen\",\"whitesmoke\",\"whitesmoke\"]]]}}},\"view\":{\"type\":\"object\",\"name\":\"CDSView\",\"id\":\"2ec24ae6-4b9f-44dc-aa74-8471135a6464\",\"attributes\":{\"filter\":{\"type\":\"object\",\"name\":\"AllIndices\",\"id\":\"11e57080-0c1b-4d98-9cea-3e4521846603\"}}},\"glyph\":{\"type\":\"object\",\"name\":\"VBar\",\"id\":\"eab66eff-cb70-4dbb-a67b-a72768e2e306\",\"attributes\":{\"x\":{\"type\":\"value\",\"value\":0.1},\"width\":{\"type\":\"value\",\"value\":0.9},\"bottom\":{\"type\":\"field\",\"field\":\"y0\"},\"top\":{\"type\":\"field\",\"field\":\"y1\"},\"line_color\":{\"type\":\"field\",\"field\":\"color\"},\"fill_color\":{\"type\":\"field\",\"field\":\"color\"},\"hatch_color\":{\"type\":\"field\",\"field\":\"color\"}}},\"nonselection_glyph\":{\"type\":\"object\",\"name\":\"VBar\",\"id\":\"b10913c0-caf2-4dc1-8e36-ac6b3753a72d\",\"attributes\":{\"x\":{\"type\":\"value\",\"value\":0.1},\"width\":{\"type\":\"value\",\"value\":0.9},\"bottom\":{\"type\":\"field\",\"field\":\"y0\"},\"top\":{\"type\":\"field\",\"field\":\"y1\"},\"line_color\":{\"type\":\"field\",\"field\":\"color\"},\"line_alpha\":{\"type\":\"value\",\"value\":0.1},\"fill_color\":{\"type\":\"field\",\"field\":\"color\"},\"fill_alpha\":{\"type\":\"value\",\"value\":0.1},\"hatch_color\":{\"type\":\"field\",\"field\":\"color\"},\"hatch_alpha\":{\"type\":\"value\",\"value\":0.1}}},\"muted_glyph\":{\"type\":\"object\",\"name\":\"VBar\",\"id\":\"e1c12963-8331-415a-9337-33619d55db34\",\"attributes\":{\"x\":{\"type\":\"value\",\"value\":0.1},\"width\":{\"type\":\"value\",\"value\":0.9},\"bottom\":{\"type\":\"field\",\"field\":\"y0\"},\"top\":{\"type\":\"field\",\"field\":\"y1\"},\"line_color\":{\"type\":\"field\",\"field\":\"color\"},\"line_alpha\":{\"type\":\"value\",\"value\":0.2},\"fill_color\":{\"type\":\"field\",\"field\":\"color\"},\"fill_alpha\":{\"type\":\"value\",\"value\":0.2},\"hatch_color\":{\"type\":\"field\",\"field\":\"color\"},\"hatch_alpha\":{\"type\":\"value\",\"value\":0.2}}}}},{\"type\":\"object\",\"name\":\"GlyphRenderer\",\"id\":\"b4fdea67-1139-482a-af48-78ae5c14d3d0\",\"attributes\":{\"name\":\"needle_renderer\",\"level\":\"overlay\",\"data_source\":{\"type\":\"object\",\"name\":\"ColumnDataSource\",\"id\":\"28b265ca-ccea-44c2-8be5-e77a4aa04df4\",\"attributes\":{\"name\":\"needle_source\",\"selected\":{\"type\":\"object\",\"name\":\"Selection\",\"id\":\"35dfa860-cf96-4388-803c-8f7028eab548\",\"attributes\":{\"indices\":[],\"line_indices\":[]}},\"selection_policy\":{\"type\":\"object\",\"name\":\"UnionRenderers\",\"id\":\"62d9b43d-c5f1-422a-87d6-e67594fd95fd\"},\"data\":{\"type\":\"map\",\"entries\":[[\"y\",[0.0]],[\"text\",[\"\"]]]}}},\"view\":{\"type\":\"object\",\"name\":\"CDSView\",\"id\":\"53adc625-c44a-49c7-a389-f3f86f37a7a8\",\"attributes\":{\"filter\":{\"type\":\"object\",\"name\":\"AllIndices\",\"id\":\"dae37149-d06e-40eb-96e9-ace7af2d4a0c\"}}},\"glyph\":{\"type\":\"object\",\"name\":\"Scatter\",\"id\":\"2ec6bfe6-741e-42b5-b7b2-71a2e51c64d6\",\"attributes\":{\"x\":{\"type\":\"value\",\"value\":0.5},\"y\":{\"type\":\"field\",\"field\":\"y\"},\"size\":{\"type\":\"value\",\"value\":6},\"angle\":{\"type\":\"value\",\"value\":1.5707963267948966},\"line_color\":{\"type\":\"field\",\"field\":\"\"},\"fill_color\":{\"type\":\"field\",\"field\":\"\"},\"marker\":{\"type\":\"value\",\"value\":\"triangle\"}}},\"nonselection_glyph\":{\"type\":\"object\",\"name\":\"Scatter\",\"id\":\"bf8f56c3-1bd3-47a0-b705-5e681cf09990\",\"attributes\":{\"x\":{\"type\":\"value\",\"value\":0.5},\"y\":{\"type\":\"field\",\"field\":\"y\"},\"size\":{\"type\":\"value\",\"value\":6},\"angle\":{\"type\":\"value\",\"value\":1.5707963267948966},\"line_color\":{\"type\":\"field\",\"field\":\"\"},\"line_alpha\":{\"type\":\"value\",\"value\":0.1},\"fill_color\":{\"type\":\"field\",\"field\":\"\"},\"fill_alpha\":{\"type\":\"value\",\"value\":0.1},\"hatch_alpha\":{\"type\":\"value\",\"value\":0.1},\"marker\":{\"type\":\"value\",\"value\":\"triangle\"}}},\"muted_glyph\":{\"type\":\"object\",\"name\":\"Scatter\",\"id\":\"57f51763-3794-4d84-a695-1d5867ce314d\",\"attributes\":{\"x\":{\"type\":\"value\",\"value\":0.5},\"y\":{\"type\":\"field\",\"field\":\"y\"},\"size\":{\"type\":\"value\",\"value\":6},\"angle\":{\"type\":\"value\",\"value\":1.5707963267948966},\"line_color\":{\"type\":\"field\",\"field\":\"\"},\"line_alpha\":{\"type\":\"value\",\"value\":0.2},\"fill_color\":{\"type\":\"field\",\"field\":\"\"},\"fill_alpha\":{\"type\":\"value\",\"value\":0.2},\"hatch_alpha\":{\"type\":\"value\",\"value\":0.2},\"marker\":{\"type\":\"value\",\"value\":\"triangle\"}}}}},{\"type\":\"object\",\"name\":\"GlyphRenderer\",\"id\":\"29854408-6cf4-4ee8-a7e0-0cf25588c949\",\"attributes\":{\"data_source\":{\"id\":\"28b265ca-ccea-44c2-8be5-e77a4aa04df4\"},\"view\":{\"type\":\"object\",\"name\":\"CDSView\",\"id\":\"04c337df-de8c-4a1d-af06-4b0ed288f3a5\",\"attributes\":{\"filter\":{\"type\":\"object\",\"name\":\"AllIndices\",\"id\":\"fe63a8ed-5949-4f9f-8980-d346e1738de8\"}}},\"glyph\":{\"type\":\"object\",\"name\":\"Text\",\"id\":\"608f6e37-0246-4b7b-ba9a-acf09505695c\",\"attributes\":{\"x\":{\"type\":\"value\",\"value\":-0.4},\"y\":{\"type\":\"value\",\"value\":0},\"text\":{\"type\":\"field\",\"field\":\"text\"},\"angle\":{\"type\":\"value\",\"value\":1.5707963267948966},\"text_color\":{\"type\":\"value\",\"value\":\"black\"},\"text_font_size\":{\"type\":\"value\",\"value\":\"6.25px\"}}},\"nonselection_glyph\":{\"type\":\"object\",\"name\":\"Text\",\"id\":\"da31ffa2-76f6-4f16-aff5-36edfaba5e97\",\"attributes\":{\"x\":{\"type\":\"value\",\"value\":-0.4},\"y\":{\"type\":\"value\",\"value\":0},\"text\":{\"type\":\"field\",\"field\":\"text\"},\"angle\":{\"type\":\"value\",\"value\":1.5707963267948966},\"text_color\":{\"type\":\"value\",\"value\":\"black\"},\"text_alpha\":{\"type\":\"value\",\"value\":0.1},\"text_font_size\":{\"type\":\"value\",\"value\":\"6.25px\"}}},\"muted_glyph\":{\"type\":\"object\",\"name\":\"Text\",\"id\":\"f44436fe-e018-42b8-a24b-36f2e61c00ea\",\"attributes\":{\"x\":{\"type\":\"value\",\"value\":-0.4},\"y\":{\"type\":\"value\",\"value\":0},\"text\":{\"type\":\"field\",\"field\":\"text\"},\"angle\":{\"type\":\"value\",\"value\":1.5707963267948966},\"text_color\":{\"type\":\"value\",\"value\":\"black\"},\"text_alpha\":{\"type\":\"value\",\"value\":0.2},\"text_font_size\":{\"type\":\"value\",\"value\":\"6.25px\"}}}}}],\"toolbar\":{\"type\":\"object\",\"name\":\"Toolbar\",\"id\":\"96e9fce7-6413-4fa7-a3d7-f1a0eb82b452\"},\"toolbar_location\":null,\"right\":[{\"type\":\"object\",\"name\":\"LinearAxis\",\"id\":\"68b041a3-22bf-417f-bef0-e28710d73416\",\"attributes\":{\"ticker\":{\"type\":\"object\",\"name\":\"FixedTicker\",\"id\":\"adbaf845-abd7-4c4d-a5eb-26545358707f\",\"attributes\":{\"ticks\":[0,100],\"minor_ticks\":[]}},\"formatter\":{\"type\":\"object\",\"name\":\"BasicTickFormatter\",\"id\":\"15f12308-7fb6-43e1-9494-860fb2570113\"},\"axis_label\":\"\",\"axis_label_standoff\":2,\"axis_label_text_font_size\":\"0pt\",\"major_label_standoff\":2,\"major_label_policy\":{\"type\":\"object\",\"name\":\"AllLabels\",\"id\":\"ce4e1f60-f04e-4e4e-a37e-76d35fbf1d8e\"},\"major_label_text_font_size\":\"0pt\"}}],\"above\":[{\"type\":\"object\",\"name\":\"LinearAxis\",\"id\":\"dd94cbab-460c-41b4-b136-9b7682a92044\",\"attributes\":{\"visible\":false,\"ticker\":{\"type\":\"object\",\"name\":\"BasicTicker\",\"id\":\"f8307514-5b62-4e7b-ab04-0a203e52c871\",\"attributes\":{\"mantissas\":[1,2,5]}},\"formatter\":{\"type\":\"object\",\"name\":\"BasicTickFormatter\",\"id\":\"4a61cf43-535a-4197-858b-dca2af4d1185\"},\"axis_label\":\"\",\"axis_label_standoff\":2,\"axis_label_text_font_size\":\"0pt\",\"major_label_standoff\":2,\"major_label_policy\":{\"type\":\"object\",\"name\":\"AllLabels\",\"id\":\"2abbcd78-bbce-4f4f-a728-b1f568ce41e4\"},\"major_label_text_font_size\":\"0pt\"}}],\"center\":[{\"type\":\"object\",\"name\":\"Grid\",\"id\":\"aca5f86b-6c96-4901-9fb6-c629d109625d\",\"attributes\":{\"visible\":false,\"axis\":{\"id\":\"dd94cbab-460c-41b4-b136-9b7682a92044\"}}},{\"type\":\"object\",\"name\":\"Grid\",\"id\":\"b80ea765-4c4e-44d9-947b-07b48d1591ec\",\"attributes\":{\"visible\":false,\"dimension\":1,\"axis\":{\"id\":\"68b041a3-22bf-417f-bef0-e28710d73416\"}}}]}},{\"type\":\"object\",\"name\":\"Figure\",\"id\":\"70b68194-3233-4e53-9bfa-5c42d5899543\",\"attributes\":{\"name\":\"\",\"stylesheets\":[\"\\n:host(.pn-loading.pn-arc):before, .pn-loading.pn-arc:before {\\n  background-image: url(\\\"data:image/svg+xml;base64,PHN2ZyB4bWxucz0iaHR0cDovL3d3dy53My5vcmcvMjAwMC9zdmciIHN0eWxlPSJtYXJnaW46IGF1dG87IGJhY2tncm91bmQ6IG5vbmU7IGRpc3BsYXk6IGJsb2NrOyBzaGFwZS1yZW5kZXJpbmc6IGF1dG87IiB2aWV3Qm94PSIwIDAgMTAwIDEwMCIgcHJlc2VydmVBc3BlY3RSYXRpbz0ieE1pZFlNaWQiPiAgPGNpcmNsZSBjeD0iNTAiIGN5PSI1MCIgZmlsbD0ibm9uZSIgc3Ryb2tlPSIjYzNjM2MzIiBzdHJva2Utd2lkdGg9IjEwIiByPSIzNSIgc3Ryb2tlLWRhc2hhcnJheT0iMTY0LjkzMzYxNDMxMzQ2NDE1IDU2Ljk3Nzg3MTQzNzgyMTM4Ij4gICAgPGFuaW1hdGVUcmFuc2Zvcm0gYXR0cmlidXRlTmFtZT0idHJhbnNmb3JtIiB0eXBlPSJyb3RhdGUiIHJlcGVhdENvdW50PSJpbmRlZmluaXRlIiBkdXI9IjFzIiB2YWx1ZXM9IjAgNTAgNTA7MzYwIDUwIDUwIiBrZXlUaW1lcz0iMDsxIj48L2FuaW1hdGVUcmFuc2Zvcm0+ICA8L2NpcmNsZT48L3N2Zz4=\\\");\\n  background-size: auto calc(min(50%, 400px));\\n}\",{\"type\":\"object\",\"name\":\"ImportedStyleSheet\",\"id\":\"9cfe01be-171d-4d5c-a8c5-5cd81328f972\",\"attributes\":{\"url\":\"https://cdn.holoviz.org/panel/1.1.0/dist/css/loading.css\"}},{\"type\":\"object\",\"name\":\"ImportedStyleSheet\",\"id\":\"e76ec467-207b-4319-aee7-da5699d80a9f\",\"attributes\":{\"url\":\"https://cdn.holoviz.org/panel/1.1.0/dist/bundled/theme/default.css\"}},{\"type\":\"object\",\"name\":\"ImportedStyleSheet\",\"id\":\"7161c06f-c516-485b-9ca5-92fe3e8b0d84\",\"attributes\":{\"url\":\"https://cdn.holoviz.org/panel/1.1.0/dist/bundled/theme/native.css\"}}],\"width\":50,\"height\":200,\"margin\":[5,10],\"sizing_mode\":\"fixed\",\"align\":\"start\",\"x_range\":{\"type\":\"object\",\"name\":\"DataRange1d\",\"id\":\"9bfe5505-7712-4840-ba6c-92f3b7910d00\",\"attributes\":{\"start\":-0.8,\"end\":0.5}},\"y_range\":{\"type\":\"object\",\"name\":\"DataRange1d\",\"id\":\"f3019f33-9aa8-4aa7-96af-23e03fad59c5\",\"attributes\":{\"start\":0,\"end\":100}},\"x_scale\":{\"type\":\"object\",\"name\":\"LinearScale\",\"id\":\"18671f65-d081-404e-b8a5-2c5e046e1a73\"},\"y_scale\":{\"type\":\"object\",\"name\":\"LinearScale\",\"id\":\"9d49f843-4fc6-4b77-b963-562e7920d35a\"},\"title\":{\"type\":\"object\",\"name\":\"Title\",\"id\":\"ba3d5e6e-8f0d-41df-af78-6f32276940a3\"},\"outline_line_color\":null,\"renderers\":[{\"type\":\"object\",\"name\":\"GlyphRenderer\",\"id\":\"d6f4a594-3e09-42f3-9bbe-2a981733326c\",\"attributes\":{\"data_source\":{\"type\":\"object\",\"name\":\"ColumnDataSource\",\"id\":\"54409b1f-50b7-46bd-90d0-b7dc71178ec3\",\"attributes\":{\"name\":\"bar_source\",\"selected\":{\"type\":\"object\",\"name\":\"Selection\",\"id\":\"d24a43aa-62f5-4361-ac3f-ed1c278c8035\",\"attributes\":{\"indices\":[],\"line_indices\":[]}},\"selection_policy\":{\"type\":\"object\",\"name\":\"UnionRenderers\",\"id\":\"ea6441a0-4fb1-4ffc-a55c-41e8b5c204e4\"},\"data\":{\"type\":\"map\",\"entries\":[[\"y0\",[0,0.0,50.0]],[\"y1\",[0.0,50.0,100]],[\"color\",[\"lightgreen\",\"whitesmoke\",\"whitesmoke\"]]]}}},\"view\":{\"type\":\"object\",\"name\":\"CDSView\",\"id\":\"7c259837-f6ac-428c-8145-e136b9342ec7\",\"attributes\":{\"filter\":{\"type\":\"object\",\"name\":\"AllIndices\",\"id\":\"cbf4dfa5-e164-4384-94ee-a6b12cd78852\"}}},\"glyph\":{\"type\":\"object\",\"name\":\"VBar\",\"id\":\"0ca83f85-a855-47ee-85de-e17d0420a9ca\",\"attributes\":{\"x\":{\"type\":\"value\",\"value\":0.1},\"width\":{\"type\":\"value\",\"value\":0.9},\"bottom\":{\"type\":\"field\",\"field\":\"y0\"},\"top\":{\"type\":\"field\",\"field\":\"y1\"},\"line_color\":{\"type\":\"field\",\"field\":\"color\"},\"fill_color\":{\"type\":\"field\",\"field\":\"color\"},\"hatch_color\":{\"type\":\"field\",\"field\":\"color\"}}},\"nonselection_glyph\":{\"type\":\"object\",\"name\":\"VBar\",\"id\":\"3b64776b-4531-47bf-8f8f-da4b8c60f5d2\",\"attributes\":{\"x\":{\"type\":\"value\",\"value\":0.1},\"width\":{\"type\":\"value\",\"value\":0.9},\"bottom\":{\"type\":\"field\",\"field\":\"y0\"},\"top\":{\"type\":\"field\",\"field\":\"y1\"},\"line_color\":{\"type\":\"field\",\"field\":\"color\"},\"line_alpha\":{\"type\":\"value\",\"value\":0.1},\"fill_color\":{\"type\":\"field\",\"field\":\"color\"},\"fill_alpha\":{\"type\":\"value\",\"value\":0.1},\"hatch_color\":{\"type\":\"field\",\"field\":\"color\"},\"hatch_alpha\":{\"type\":\"value\",\"value\":0.1}}},\"muted_glyph\":{\"type\":\"object\",\"name\":\"VBar\",\"id\":\"0d32b49c-8e0e-45b0-845a-3ac17524cfe6\",\"attributes\":{\"x\":{\"type\":\"value\",\"value\":0.1},\"width\":{\"type\":\"value\",\"value\":0.9},\"bottom\":{\"type\":\"field\",\"field\":\"y0\"},\"top\":{\"type\":\"field\",\"field\":\"y1\"},\"line_color\":{\"type\":\"field\",\"field\":\"color\"},\"line_alpha\":{\"type\":\"value\",\"value\":0.2},\"fill_color\":{\"type\":\"field\",\"field\":\"color\"},\"fill_alpha\":{\"type\":\"value\",\"value\":0.2},\"hatch_color\":{\"type\":\"field\",\"field\":\"color\"},\"hatch_alpha\":{\"type\":\"value\",\"value\":0.2}}}}},{\"type\":\"object\",\"name\":\"GlyphRenderer\",\"id\":\"853e32b2-75e3-4ce8-8c39-7c6edd6d0c7b\",\"attributes\":{\"name\":\"needle_renderer\",\"level\":\"overlay\",\"data_source\":{\"type\":\"object\",\"name\":\"ColumnDataSource\",\"id\":\"f900f465-b05d-400a-a9c1-4709ffa779ea\",\"attributes\":{\"name\":\"needle_source\",\"selected\":{\"type\":\"object\",\"name\":\"Selection\",\"id\":\"b19ad39b-bc93-43f9-b1c1-b1e4c74048e2\",\"attributes\":{\"indices\":[],\"line_indices\":[]}},\"selection_policy\":{\"type\":\"object\",\"name\":\"UnionRenderers\",\"id\":\"f05d87cb-2d88-4b22-8d5f-693fdb4ac4b0\"},\"data\":{\"type\":\"map\",\"entries\":[[\"y\",[0.0]],[\"text\",[\"\"]]]}}},\"view\":{\"type\":\"object\",\"name\":\"CDSView\",\"id\":\"f63e726b-787b-40c3-98c6-7d0413c4c44d\",\"attributes\":{\"filter\":{\"type\":\"object\",\"name\":\"AllIndices\",\"id\":\"e7e54992-ab21-4a5f-bde1-4f740335afe5\"}}},\"glyph\":{\"type\":\"object\",\"name\":\"Scatter\",\"id\":\"e2ca83bd-5e03-4606-9bdc-9566d1e96462\",\"attributes\":{\"x\":{\"type\":\"value\",\"value\":0.5},\"y\":{\"type\":\"field\",\"field\":\"y\"},\"size\":{\"type\":\"value\",\"value\":6},\"angle\":{\"type\":\"value\",\"value\":1.5707963267948966},\"line_color\":{\"type\":\"field\",\"field\":\"\"},\"fill_color\":{\"type\":\"field\",\"field\":\"\"},\"marker\":{\"type\":\"value\",\"value\":\"triangle\"}}},\"nonselection_glyph\":{\"type\":\"object\",\"name\":\"Scatter\",\"id\":\"8e0a443c-d958-4b30-a040-c4f172d62985\",\"attributes\":{\"x\":{\"type\":\"value\",\"value\":0.5},\"y\":{\"type\":\"field\",\"field\":\"y\"},\"size\":{\"type\":\"value\",\"value\":6},\"angle\":{\"type\":\"value\",\"value\":1.5707963267948966},\"line_color\":{\"type\":\"field\",\"field\":\"\"},\"line_alpha\":{\"type\":\"value\",\"value\":0.1},\"fill_color\":{\"type\":\"field\",\"field\":\"\"},\"fill_alpha\":{\"type\":\"value\",\"value\":0.1},\"hatch_alpha\":{\"type\":\"value\",\"value\":0.1},\"marker\":{\"type\":\"value\",\"value\":\"triangle\"}}},\"muted_glyph\":{\"type\":\"object\",\"name\":\"Scatter\",\"id\":\"d1a4b113-b2fa-4dc1-9052-37460349a30a\",\"attributes\":{\"x\":{\"type\":\"value\",\"value\":0.5},\"y\":{\"type\":\"field\",\"field\":\"y\"},\"size\":{\"type\":\"value\",\"value\":6},\"angle\":{\"type\":\"value\",\"value\":1.5707963267948966},\"line_color\":{\"type\":\"field\",\"field\":\"\"},\"line_alpha\":{\"type\":\"value\",\"value\":0.2},\"fill_color\":{\"type\":\"field\",\"field\":\"\"},\"fill_alpha\":{\"type\":\"value\",\"value\":0.2},\"hatch_alpha\":{\"type\":\"value\",\"value\":0.2},\"marker\":{\"type\":\"value\",\"value\":\"triangle\"}}}}},{\"type\":\"object\",\"name\":\"GlyphRenderer\",\"id\":\"58db90c9-c664-4a47-bef9-735014bd456f\",\"attributes\":{\"data_source\":{\"id\":\"f900f465-b05d-400a-a9c1-4709ffa779ea\"},\"view\":{\"type\":\"object\",\"name\":\"CDSView\",\"id\":\"d4ec3a5c-e03c-4b3d-97c1-0918c5cdf1b8\",\"attributes\":{\"filter\":{\"type\":\"object\",\"name\":\"AllIndices\",\"id\":\"16ec32ae-ce6b-4b7f-a7cf-ec8b148b6667\"}}},\"glyph\":{\"type\":\"object\",\"name\":\"Text\",\"id\":\"c05d0044-b215-4c95-9ed1-7002e267675f\",\"attributes\":{\"x\":{\"type\":\"value\",\"value\":-0.4},\"y\":{\"type\":\"value\",\"value\":0},\"text\":{\"type\":\"field\",\"field\":\"text\"},\"angle\":{\"type\":\"value\",\"value\":1.5707963267948966},\"text_color\":{\"type\":\"value\",\"value\":\"black\"},\"text_font_size\":{\"type\":\"value\",\"value\":\"6.25px\"}}},\"nonselection_glyph\":{\"type\":\"object\",\"name\":\"Text\",\"id\":\"31c4d35c-735c-44d9-8580-b715bc6a0db6\",\"attributes\":{\"x\":{\"type\":\"value\",\"value\":-0.4},\"y\":{\"type\":\"value\",\"value\":0},\"text\":{\"type\":\"field\",\"field\":\"text\"},\"angle\":{\"type\":\"value\",\"value\":1.5707963267948966},\"text_color\":{\"type\":\"value\",\"value\":\"black\"},\"text_alpha\":{\"type\":\"value\",\"value\":0.1},\"text_font_size\":{\"type\":\"value\",\"value\":\"6.25px\"}}},\"muted_glyph\":{\"type\":\"object\",\"name\":\"Text\",\"id\":\"6823b020-b036-4243-bdd5-0149880d1bd1\",\"attributes\":{\"x\":{\"type\":\"value\",\"value\":-0.4},\"y\":{\"type\":\"value\",\"value\":0},\"text\":{\"type\":\"field\",\"field\":\"text\"},\"angle\":{\"type\":\"value\",\"value\":1.5707963267948966},\"text_color\":{\"type\":\"value\",\"value\":\"black\"},\"text_alpha\":{\"type\":\"value\",\"value\":0.2},\"text_font_size\":{\"type\":\"value\",\"value\":\"6.25px\"}}}}}],\"toolbar\":{\"type\":\"object\",\"name\":\"Toolbar\",\"id\":\"7aa58548-bcca-4e66-938d-4febc4d0ee77\"},\"toolbar_location\":null,\"right\":[{\"type\":\"object\",\"name\":\"LinearAxis\",\"id\":\"ba1c2701-7d5c-40b6-b49a-9232fa3cc5ac\",\"attributes\":{\"ticker\":{\"type\":\"object\",\"name\":\"FixedTicker\",\"id\":\"f2dc1a15-5659-461e-bfcc-361fda1d209b\",\"attributes\":{\"ticks\":[0,100],\"minor_ticks\":[]}},\"formatter\":{\"type\":\"object\",\"name\":\"BasicTickFormatter\",\"id\":\"ee2e51aa-6dca-44ea-9ce4-3b1fc024ef12\"},\"axis_label\":\"\",\"axis_label_standoff\":2,\"axis_label_text_font_size\":\"0pt\",\"major_label_standoff\":2,\"major_label_policy\":{\"type\":\"object\",\"name\":\"AllLabels\",\"id\":\"2d912871-a626-43ce-a6bd-8226a33759ad\"},\"major_label_text_font_size\":\"0pt\"}}],\"above\":[{\"type\":\"object\",\"name\":\"LinearAxis\",\"id\":\"4ab6994a-eeba-44d6-bbf3-f8635318e3e1\",\"attributes\":{\"visible\":false,\"ticker\":{\"type\":\"object\",\"name\":\"BasicTicker\",\"id\":\"35a9ec58-51c8-46cb-a174-b28c24720f1d\",\"attributes\":{\"mantissas\":[1,2,5]}},\"formatter\":{\"type\":\"object\",\"name\":\"BasicTickFormatter\",\"id\":\"209ce9f3-2283-4dea-b15a-9e1ed0213d07\"},\"axis_label\":\"\",\"axis_label_standoff\":2,\"axis_label_text_font_size\":\"0pt\",\"major_label_standoff\":2,\"major_label_policy\":{\"type\":\"object\",\"name\":\"AllLabels\",\"id\":\"e7e4dfa0-8a4f-4aa9-8718-be47c70f2878\"},\"major_label_text_font_size\":\"0pt\"}}],\"center\":[{\"type\":\"object\",\"name\":\"Grid\",\"id\":\"4a970a6a-6c57-41e4-a35e-4910674c7769\",\"attributes\":{\"visible\":false,\"axis\":{\"id\":\"4ab6994a-eeba-44d6-bbf3-f8635318e3e1\"}}},{\"type\":\"object\",\"name\":\"Grid\",\"id\":\"5043ef03-3975-47f4-b4c9-a5cdda222f0a\",\"attributes\":{\"visible\":false,\"dimension\":1,\"axis\":{\"id\":\"ba1c2701-7d5c-40b6-b49a-9232fa3cc5ac\"}}}]}},{\"type\":\"object\",\"name\":\"Figure\",\"id\":\"e696659d-c1bc-4f08-be5a-bd59eed8671b\",\"attributes\":{\"name\":\"\",\"stylesheets\":[\"\\n:host(.pn-loading.pn-arc):before, .pn-loading.pn-arc:before {\\n  background-image: url(\\\"data:image/svg+xml;base64,PHN2ZyB4bWxucz0iaHR0cDovL3d3dy53My5vcmcvMjAwMC9zdmciIHN0eWxlPSJtYXJnaW46IGF1dG87IGJhY2tncm91bmQ6IG5vbmU7IGRpc3BsYXk6IGJsb2NrOyBzaGFwZS1yZW5kZXJpbmc6IGF1dG87IiB2aWV3Qm94PSIwIDAgMTAwIDEwMCIgcHJlc2VydmVBc3BlY3RSYXRpbz0ieE1pZFlNaWQiPiAgPGNpcmNsZSBjeD0iNTAiIGN5PSI1MCIgZmlsbD0ibm9uZSIgc3Ryb2tlPSIjYzNjM2MzIiBzdHJva2Utd2lkdGg9IjEwIiByPSIzNSIgc3Ryb2tlLWRhc2hhcnJheT0iMTY0LjkzMzYxNDMxMzQ2NDE1IDU2Ljk3Nzg3MTQzNzgyMTM4Ij4gICAgPGFuaW1hdGVUcmFuc2Zvcm0gYXR0cmlidXRlTmFtZT0idHJhbnNmb3JtIiB0eXBlPSJyb3RhdGUiIHJlcGVhdENvdW50PSJpbmRlZmluaXRlIiBkdXI9IjFzIiB2YWx1ZXM9IjAgNTAgNTA7MzYwIDUwIDUwIiBrZXlUaW1lcz0iMDsxIj48L2FuaW1hdGVUcmFuc2Zvcm0+ICA8L2NpcmNsZT48L3N2Zz4=\\\");\\n  background-size: auto calc(min(50%, 400px));\\n}\",{\"type\":\"object\",\"name\":\"ImportedStyleSheet\",\"id\":\"9edcd786-ff73-4abb-a143-9634f656ae9a\",\"attributes\":{\"url\":\"https://cdn.holoviz.org/panel/1.1.0/dist/css/loading.css\"}},{\"type\":\"object\",\"name\":\"ImportedStyleSheet\",\"id\":\"4a324c41-5e1d-47bf-9ab7-510cf2fc1b86\",\"attributes\":{\"url\":\"https://cdn.holoviz.org/panel/1.1.0/dist/bundled/theme/default.css\"}},{\"type\":\"object\",\"name\":\"ImportedStyleSheet\",\"id\":\"46f62476-b9af-4a59-9eb5-d695a25d7f51\",\"attributes\":{\"url\":\"https://cdn.holoviz.org/panel/1.1.0/dist/bundled/theme/native.css\"}}],\"width\":50,\"height\":200,\"margin\":[5,10],\"sizing_mode\":\"fixed\",\"align\":\"start\",\"x_range\":{\"type\":\"object\",\"name\":\"DataRange1d\",\"id\":\"8043b58b-b9de-4dd1-9504-0292ef797d63\",\"attributes\":{\"start\":-0.8,\"end\":0.5}},\"y_range\":{\"type\":\"object\",\"name\":\"DataRange1d\",\"id\":\"48da8fb4-fd24-41d3-9618-018d9cf89964\",\"attributes\":{\"start\":0,\"end\":100}},\"x_scale\":{\"type\":\"object\",\"name\":\"LinearScale\",\"id\":\"a6d28d6f-e7ae-4aa1-a03e-447195cf21c8\"},\"y_scale\":{\"type\":\"object\",\"name\":\"LinearScale\",\"id\":\"822c79fd-a1ac-4eb1-968c-8aa1df8daa1c\"},\"title\":{\"type\":\"object\",\"name\":\"Title\",\"id\":\"8db83a9a-d955-4d50-a3a8-37fc33f6efb1\"},\"outline_line_color\":null,\"renderers\":[{\"type\":\"object\",\"name\":\"GlyphRenderer\",\"id\":\"c5838195-0692-4afc-8649-c7e3e01f33b6\",\"attributes\":{\"data_source\":{\"type\":\"object\",\"name\":\"ColumnDataSource\",\"id\":\"27a8ef4c-b088-4ff9-8394-5cf0f5a62865\",\"attributes\":{\"name\":\"bar_source\",\"selected\":{\"type\":\"object\",\"name\":\"Selection\",\"id\":\"efbce456-6f46-4904-a069-896a38af454c\",\"attributes\":{\"indices\":[],\"line_indices\":[]}},\"selection_policy\":{\"type\":\"object\",\"name\":\"UnionRenderers\",\"id\":\"3a6fe92b-ef2d-4b5c-8b8c-f1ae3bae0e27\"},\"data\":{\"type\":\"map\",\"entries\":[[\"y0\",[0,0.0,50.0]],[\"y1\",[0.0,50.0,100]],[\"color\",[\"lightgreen\",\"whitesmoke\",\"whitesmoke\"]]]}}},\"view\":{\"type\":\"object\",\"name\":\"CDSView\",\"id\":\"d83c9705-8be9-4b7d-aa51-7f64d3fc77c2\",\"attributes\":{\"filter\":{\"type\":\"object\",\"name\":\"AllIndices\",\"id\":\"a70a59e0-c39e-479a-9ca9-e725e0baf7e2\"}}},\"glyph\":{\"type\":\"object\",\"name\":\"VBar\",\"id\":\"e15b2d95-798e-409b-9531-a0101d4c3948\",\"attributes\":{\"x\":{\"type\":\"value\",\"value\":0.1},\"width\":{\"type\":\"value\",\"value\":0.9},\"bottom\":{\"type\":\"field\",\"field\":\"y0\"},\"top\":{\"type\":\"field\",\"field\":\"y1\"},\"line_color\":{\"type\":\"field\",\"field\":\"color\"},\"fill_color\":{\"type\":\"field\",\"field\":\"color\"},\"hatch_color\":{\"type\":\"field\",\"field\":\"color\"}}},\"nonselection_glyph\":{\"type\":\"object\",\"name\":\"VBar\",\"id\":\"1aefd592-fa92-471f-817a-f51d15caa104\",\"attributes\":{\"x\":{\"type\":\"value\",\"value\":0.1},\"width\":{\"type\":\"value\",\"value\":0.9},\"bottom\":{\"type\":\"field\",\"field\":\"y0\"},\"top\":{\"type\":\"field\",\"field\":\"y1\"},\"line_color\":{\"type\":\"field\",\"field\":\"color\"},\"line_alpha\":{\"type\":\"value\",\"value\":0.1},\"fill_color\":{\"type\":\"field\",\"field\":\"color\"},\"fill_alpha\":{\"type\":\"value\",\"value\":0.1},\"hatch_color\":{\"type\":\"field\",\"field\":\"color\"},\"hatch_alpha\":{\"type\":\"value\",\"value\":0.1}}},\"muted_glyph\":{\"type\":\"object\",\"name\":\"VBar\",\"id\":\"91174d24-acfc-4f30-811f-e54705bd353a\",\"attributes\":{\"x\":{\"type\":\"value\",\"value\":0.1},\"width\":{\"type\":\"value\",\"value\":0.9},\"bottom\":{\"type\":\"field\",\"field\":\"y0\"},\"top\":{\"type\":\"field\",\"field\":\"y1\"},\"line_color\":{\"type\":\"field\",\"field\":\"color\"},\"line_alpha\":{\"type\":\"value\",\"value\":0.2},\"fill_color\":{\"type\":\"field\",\"field\":\"color\"},\"fill_alpha\":{\"type\":\"value\",\"value\":0.2},\"hatch_color\":{\"type\":\"field\",\"field\":\"color\"},\"hatch_alpha\":{\"type\":\"value\",\"value\":0.2}}}}},{\"type\":\"object\",\"name\":\"GlyphRenderer\",\"id\":\"23e7839a-3882-48bc-8ee1-c5a2e265f32b\",\"attributes\":{\"name\":\"needle_renderer\",\"level\":\"overlay\",\"data_source\":{\"type\":\"object\",\"name\":\"ColumnDataSource\",\"id\":\"306b891a-949e-4436-8a7f-24d307e84207\",\"attributes\":{\"name\":\"needle_source\",\"selected\":{\"type\":\"object\",\"name\":\"Selection\",\"id\":\"4df80af7-ffce-4ce8-9a3a-60b3e9a56083\",\"attributes\":{\"indices\":[],\"line_indices\":[]}},\"selection_policy\":{\"type\":\"object\",\"name\":\"UnionRenderers\",\"id\":\"58b9ee43-90fb-4f16-89ec-d5036dfc2a3d\"},\"data\":{\"type\":\"map\",\"entries\":[[\"y\",[0.0]],[\"text\",[\"\"]]]}}},\"view\":{\"type\":\"object\",\"name\":\"CDSView\",\"id\":\"0b86de10-4e6b-4100-9e55-1e3ee67da551\",\"attributes\":{\"filter\":{\"type\":\"object\",\"name\":\"AllIndices\",\"id\":\"c5fed924-8027-4642-9601-24ba5f3c0007\"}}},\"glyph\":{\"type\":\"object\",\"name\":\"Scatter\",\"id\":\"1d6f04c9-9871-4f0b-bad9-25ef77a70311\",\"attributes\":{\"x\":{\"type\":\"value\",\"value\":0.5},\"y\":{\"type\":\"field\",\"field\":\"y\"},\"size\":{\"type\":\"value\",\"value\":6},\"angle\":{\"type\":\"value\",\"value\":1.5707963267948966},\"line_color\":{\"type\":\"field\",\"field\":\"\"},\"fill_color\":{\"type\":\"field\",\"field\":\"\"},\"marker\":{\"type\":\"value\",\"value\":\"triangle\"}}},\"nonselection_glyph\":{\"type\":\"object\",\"name\":\"Scatter\",\"id\":\"7b7576cf-3f18-45ca-951a-7df7e5f5a485\",\"attributes\":{\"x\":{\"type\":\"value\",\"value\":0.5},\"y\":{\"type\":\"field\",\"field\":\"y\"},\"size\":{\"type\":\"value\",\"value\":6},\"angle\":{\"type\":\"value\",\"value\":1.5707963267948966},\"line_color\":{\"type\":\"field\",\"field\":\"\"},\"line_alpha\":{\"type\":\"value\",\"value\":0.1},\"fill_color\":{\"type\":\"field\",\"field\":\"\"},\"fill_alpha\":{\"type\":\"value\",\"value\":0.1},\"hatch_alpha\":{\"type\":\"value\",\"value\":0.1},\"marker\":{\"type\":\"value\",\"value\":\"triangle\"}}},\"muted_glyph\":{\"type\":\"object\",\"name\":\"Scatter\",\"id\":\"3f0892fc-a033-4f17-af3b-8befba8b01ae\",\"attributes\":{\"x\":{\"type\":\"value\",\"value\":0.5},\"y\":{\"type\":\"field\",\"field\":\"y\"},\"size\":{\"type\":\"value\",\"value\":6},\"angle\":{\"type\":\"value\",\"value\":1.5707963267948966},\"line_color\":{\"type\":\"field\",\"field\":\"\"},\"line_alpha\":{\"type\":\"value\",\"value\":0.2},\"fill_color\":{\"type\":\"field\",\"field\":\"\"},\"fill_alpha\":{\"type\":\"value\",\"value\":0.2},\"hatch_alpha\":{\"type\":\"value\",\"value\":0.2},\"marker\":{\"type\":\"value\",\"value\":\"triangle\"}}}}},{\"type\":\"object\",\"name\":\"GlyphRenderer\",\"id\":\"5d3a237b-6a7a-4c3e-bbd4-7e59a3be17f7\",\"attributes\":{\"data_source\":{\"id\":\"306b891a-949e-4436-8a7f-24d307e84207\"},\"view\":{\"type\":\"object\",\"name\":\"CDSView\",\"id\":\"3d540e3a-8409-47ce-8beb-18c8c8cd0726\",\"attributes\":{\"filter\":{\"type\":\"object\",\"name\":\"AllIndices\",\"id\":\"19aa37d2-ed84-4b26-9b82-367942809b22\"}}},\"glyph\":{\"type\":\"object\",\"name\":\"Text\",\"id\":\"b0de1dfc-de5f-478d-a41a-cdfd513ab70c\",\"attributes\":{\"x\":{\"type\":\"value\",\"value\":-0.4},\"y\":{\"type\":\"value\",\"value\":0},\"text\":{\"type\":\"field\",\"field\":\"text\"},\"angle\":{\"type\":\"value\",\"value\":1.5707963267948966},\"text_color\":{\"type\":\"value\",\"value\":\"black\"},\"text_font_size\":{\"type\":\"value\",\"value\":\"6.25px\"}}},\"nonselection_glyph\":{\"type\":\"object\",\"name\":\"Text\",\"id\":\"b1bcbeb0-b98c-4e3f-8a6d-46d5d5cb0da3\",\"attributes\":{\"x\":{\"type\":\"value\",\"value\":-0.4},\"y\":{\"type\":\"value\",\"value\":0},\"text\":{\"type\":\"field\",\"field\":\"text\"},\"angle\":{\"type\":\"value\",\"value\":1.5707963267948966},\"text_color\":{\"type\":\"value\",\"value\":\"black\"},\"text_alpha\":{\"type\":\"value\",\"value\":0.1},\"text_font_size\":{\"type\":\"value\",\"value\":\"6.25px\"}}},\"muted_glyph\":{\"type\":\"object\",\"name\":\"Text\",\"id\":\"b72ddf15-8ca0-426e-b0e6-f791755de5f4\",\"attributes\":{\"x\":{\"type\":\"value\",\"value\":-0.4},\"y\":{\"type\":\"value\",\"value\":0},\"text\":{\"type\":\"field\",\"field\":\"text\"},\"angle\":{\"type\":\"value\",\"value\":1.5707963267948966},\"text_color\":{\"type\":\"value\",\"value\":\"black\"},\"text_alpha\":{\"type\":\"value\",\"value\":0.2},\"text_font_size\":{\"type\":\"value\",\"value\":\"6.25px\"}}}}}],\"toolbar\":{\"type\":\"object\",\"name\":\"Toolbar\",\"id\":\"bb1dc4cb-aef3-4e5f-b2a1-f7c6314eee33\"},\"toolbar_location\":null,\"right\":[{\"type\":\"object\",\"name\":\"LinearAxis\",\"id\":\"95d1ac9e-2102-49b9-bc68-a0ed47b1be21\",\"attributes\":{\"ticker\":{\"type\":\"object\",\"name\":\"FixedTicker\",\"id\":\"c38e63f6-9e15-4c0e-a748-4008af660d77\",\"attributes\":{\"ticks\":[0,100],\"minor_ticks\":[]}},\"formatter\":{\"type\":\"object\",\"name\":\"BasicTickFormatter\",\"id\":\"def47dd7-fda9-4148-be57-36c4e8906ee4\"},\"axis_label\":\"\",\"axis_label_standoff\":2,\"axis_label_text_font_size\":\"0pt\",\"major_label_standoff\":2,\"major_label_policy\":{\"type\":\"object\",\"name\":\"AllLabels\",\"id\":\"97cdf034-fa5a-4182-9bab-a69e479bd690\"},\"major_label_text_font_size\":\"0pt\"}}],\"above\":[{\"type\":\"object\",\"name\":\"LinearAxis\",\"id\":\"949b9029-ba0d-4cd9-8698-d226fa76dd08\",\"attributes\":{\"visible\":false,\"ticker\":{\"type\":\"object\",\"name\":\"BasicTicker\",\"id\":\"157a7003-6c0e-43e9-90dd-46206e1942a6\",\"attributes\":{\"mantissas\":[1,2,5]}},\"formatter\":{\"type\":\"object\",\"name\":\"BasicTickFormatter\",\"id\":\"99d7892f-9c17-45e4-975c-e23a33e79a55\"},\"axis_label\":\"\",\"axis_label_standoff\":2,\"axis_label_text_font_size\":\"0pt\",\"major_label_standoff\":2,\"major_label_policy\":{\"type\":\"object\",\"name\":\"AllLabels\",\"id\":\"36a0cc8e-e562-4983-beae-97e3630d3e2c\"},\"major_label_text_font_size\":\"0pt\"}}],\"center\":[{\"type\":\"object\",\"name\":\"Grid\",\"id\":\"8ca919a6-86c9-4c0d-a6ce-24e572123d0a\",\"attributes\":{\"visible\":false,\"axis\":{\"id\":\"949b9029-ba0d-4cd9-8698-d226fa76dd08\"}}},{\"type\":\"object\",\"name\":\"Grid\",\"id\":\"0c6edb7f-74b4-458a-a765-9a8859a55a7c\",\"attributes\":{\"visible\":false,\"dimension\":1,\"axis\":{\"id\":\"95d1ac9e-2102-49b9-bc68-a0ed47b1be21\"}}}]}},{\"type\":\"object\",\"name\":\"Figure\",\"id\":\"1369d8d8-5364-4521-8a65-d7efba46361d\",\"attributes\":{\"name\":\"\",\"stylesheets\":[\"\\n:host(.pn-loading.pn-arc):before, .pn-loading.pn-arc:before {\\n  background-image: url(\\\"data:image/svg+xml;base64,PHN2ZyB4bWxucz0iaHR0cDovL3d3dy53My5vcmcvMjAwMC9zdmciIHN0eWxlPSJtYXJnaW46IGF1dG87IGJhY2tncm91bmQ6IG5vbmU7IGRpc3BsYXk6IGJsb2NrOyBzaGFwZS1yZW5kZXJpbmc6IGF1dG87IiB2aWV3Qm94PSIwIDAgMTAwIDEwMCIgcHJlc2VydmVBc3BlY3RSYXRpbz0ieE1pZFlNaWQiPiAgPGNpcmNsZSBjeD0iNTAiIGN5PSI1MCIgZmlsbD0ibm9uZSIgc3Ryb2tlPSIjYzNjM2MzIiBzdHJva2Utd2lkdGg9IjEwIiByPSIzNSIgc3Ryb2tlLWRhc2hhcnJheT0iMTY0LjkzMzYxNDMxMzQ2NDE1IDU2Ljk3Nzg3MTQzNzgyMTM4Ij4gICAgPGFuaW1hdGVUcmFuc2Zvcm0gYXR0cmlidXRlTmFtZT0idHJhbnNmb3JtIiB0eXBlPSJyb3RhdGUiIHJlcGVhdENvdW50PSJpbmRlZmluaXRlIiBkdXI9IjFzIiB2YWx1ZXM9IjAgNTAgNTA7MzYwIDUwIDUwIiBrZXlUaW1lcz0iMDsxIj48L2FuaW1hdGVUcmFuc2Zvcm0+ICA8L2NpcmNsZT48L3N2Zz4=\\\");\\n  background-size: auto calc(min(50%, 400px));\\n}\",{\"type\":\"object\",\"name\":\"ImportedStyleSheet\",\"id\":\"5290d4af-8766-4c9c-a899-aeccc176c50e\",\"attributes\":{\"url\":\"https://cdn.holoviz.org/panel/1.1.0/dist/css/loading.css\"}},{\"type\":\"object\",\"name\":\"ImportedStyleSheet\",\"id\":\"615e648d-0ef6-4405-971e-ed6fa850a685\",\"attributes\":{\"url\":\"https://cdn.holoviz.org/panel/1.1.0/dist/bundled/theme/default.css\"}},{\"type\":\"object\",\"name\":\"ImportedStyleSheet\",\"id\":\"95e3133d-6854-4208-bb04-f9cc4860c366\",\"attributes\":{\"url\":\"https://cdn.holoviz.org/panel/1.1.0/dist/bundled/theme/native.css\"}}],\"width\":50,\"height\":200,\"margin\":[5,10],\"sizing_mode\":\"fixed\",\"align\":\"start\",\"x_range\":{\"type\":\"object\",\"name\":\"DataRange1d\",\"id\":\"25407dc2-78e1-4a1c-b865-211aeedc9d01\",\"attributes\":{\"start\":-0.8,\"end\":0.5}},\"y_range\":{\"type\":\"object\",\"name\":\"DataRange1d\",\"id\":\"26733fcd-c891-4940-b3a2-b24908ef05b7\",\"attributes\":{\"start\":0,\"end\":100}},\"x_scale\":{\"type\":\"object\",\"name\":\"LinearScale\",\"id\":\"4afd2738-a45c-44fb-972a-c690c7ffe5ac\"},\"y_scale\":{\"type\":\"object\",\"name\":\"LinearScale\",\"id\":\"5ddfaf8a-943c-4971-8a44-eed7bcd6eebb\"},\"title\":{\"type\":\"object\",\"name\":\"Title\",\"id\":\"f1afc850-54d9-4916-a5e7-4255b47dbbc1\"},\"outline_line_color\":null,\"renderers\":[{\"type\":\"object\",\"name\":\"GlyphRenderer\",\"id\":\"3487b614-dd69-4f67-88f6-366962dda2a7\",\"attributes\":{\"data_source\":{\"type\":\"object\",\"name\":\"ColumnDataSource\",\"id\":\"c1debd66-ec5e-4aa4-8cf5-88ea891750ca\",\"attributes\":{\"name\":\"bar_source\",\"selected\":{\"type\":\"object\",\"name\":\"Selection\",\"id\":\"7710676b-6457-4853-add7-548c0cd4b4b5\",\"attributes\":{\"indices\":[],\"line_indices\":[]}},\"selection_policy\":{\"type\":\"object\",\"name\":\"UnionRenderers\",\"id\":\"1ea70d1c-b9dc-4572-9139-7a29bd994091\"},\"data\":{\"type\":\"map\",\"entries\":[[\"y0\",[0,0.0,50.0]],[\"y1\",[0.0,50.0,100]],[\"color\",[\"lightgreen\",\"whitesmoke\",\"whitesmoke\"]]]}}},\"view\":{\"type\":\"object\",\"name\":\"CDSView\",\"id\":\"5a4ca833-c788-433f-a7b5-f90606f784c0\",\"attributes\":{\"filter\":{\"type\":\"object\",\"name\":\"AllIndices\",\"id\":\"c6920d24-b756-4af2-b934-147f78122a70\"}}},\"glyph\":{\"type\":\"object\",\"name\":\"VBar\",\"id\":\"d59a7ca9-6530-4fb8-ac85-6d917a3b52eb\",\"attributes\":{\"x\":{\"type\":\"value\",\"value\":0.1},\"width\":{\"type\":\"value\",\"value\":0.9},\"bottom\":{\"type\":\"field\",\"field\":\"y0\"},\"top\":{\"type\":\"field\",\"field\":\"y1\"},\"line_color\":{\"type\":\"field\",\"field\":\"color\"},\"fill_color\":{\"type\":\"field\",\"field\":\"color\"},\"hatch_color\":{\"type\":\"field\",\"field\":\"color\"}}},\"nonselection_glyph\":{\"type\":\"object\",\"name\":\"VBar\",\"id\":\"afe40c9c-e2fc-4247-bf86-0bab2ebc6767\",\"attributes\":{\"x\":{\"type\":\"value\",\"value\":0.1},\"width\":{\"type\":\"value\",\"value\":0.9},\"bottom\":{\"type\":\"field\",\"field\":\"y0\"},\"top\":{\"type\":\"field\",\"field\":\"y1\"},\"line_color\":{\"type\":\"field\",\"field\":\"color\"},\"line_alpha\":{\"type\":\"value\",\"value\":0.1},\"fill_color\":{\"type\":\"field\",\"field\":\"color\"},\"fill_alpha\":{\"type\":\"value\",\"value\":0.1},\"hatch_color\":{\"type\":\"field\",\"field\":\"color\"},\"hatch_alpha\":{\"type\":\"value\",\"value\":0.1}}},\"muted_glyph\":{\"type\":\"object\",\"name\":\"VBar\",\"id\":\"92cb809d-0858-4567-8d1e-b1dbabcd8a69\",\"attributes\":{\"x\":{\"type\":\"value\",\"value\":0.1},\"width\":{\"type\":\"value\",\"value\":0.9},\"bottom\":{\"type\":\"field\",\"field\":\"y0\"},\"top\":{\"type\":\"field\",\"field\":\"y1\"},\"line_color\":{\"type\":\"field\",\"field\":\"color\"},\"line_alpha\":{\"type\":\"value\",\"value\":0.2},\"fill_color\":{\"type\":\"field\",\"field\":\"color\"},\"fill_alpha\":{\"type\":\"value\",\"value\":0.2},\"hatch_color\":{\"type\":\"field\",\"field\":\"color\"},\"hatch_alpha\":{\"type\":\"value\",\"value\":0.2}}}}},{\"type\":\"object\",\"name\":\"GlyphRenderer\",\"id\":\"8cb6ddb8-852c-445f-a176-9316cb61978e\",\"attributes\":{\"name\":\"needle_renderer\",\"level\":\"overlay\",\"data_source\":{\"type\":\"object\",\"name\":\"ColumnDataSource\",\"id\":\"31d762a8-006c-4e94-aa46-ba23feb49f95\",\"attributes\":{\"name\":\"needle_source\",\"selected\":{\"type\":\"object\",\"name\":\"Selection\",\"id\":\"246cf53f-a6ec-44ad-a5d9-008c6ec37398\",\"attributes\":{\"indices\":[],\"line_indices\":[]}},\"selection_policy\":{\"type\":\"object\",\"name\":\"UnionRenderers\",\"id\":\"ad57bb3c-13a7-4c7f-a01f-c5980f2348a4\"},\"data\":{\"type\":\"map\",\"entries\":[[\"y\",[0.0]],[\"text\",[\"\"]]]}}},\"view\":{\"type\":\"object\",\"name\":\"CDSView\",\"id\":\"978e1388-9e95-4f2c-9d79-7c924c732aed\",\"attributes\":{\"filter\":{\"type\":\"object\",\"name\":\"AllIndices\",\"id\":\"b7a9a856-16b3-4a37-b833-338f67972b9f\"}}},\"glyph\":{\"type\":\"object\",\"name\":\"Scatter\",\"id\":\"eaf18ded-1094-4f34-8e52-ee01effe0b75\",\"attributes\":{\"x\":{\"type\":\"value\",\"value\":0.5},\"y\":{\"type\":\"field\",\"field\":\"y\"},\"size\":{\"type\":\"value\",\"value\":6},\"angle\":{\"type\":\"value\",\"value\":1.5707963267948966},\"line_color\":{\"type\":\"field\",\"field\":\"\"},\"fill_color\":{\"type\":\"field\",\"field\":\"\"},\"marker\":{\"type\":\"value\",\"value\":\"triangle\"}}},\"nonselection_glyph\":{\"type\":\"object\",\"name\":\"Scatter\",\"id\":\"8b31dbe0-0fe2-4b16-9b16-9b1cb9fb8d2e\",\"attributes\":{\"x\":{\"type\":\"value\",\"value\":0.5},\"y\":{\"type\":\"field\",\"field\":\"y\"},\"size\":{\"type\":\"value\",\"value\":6},\"angle\":{\"type\":\"value\",\"value\":1.5707963267948966},\"line_color\":{\"type\":\"field\",\"field\":\"\"},\"line_alpha\":{\"type\":\"value\",\"value\":0.1},\"fill_color\":{\"type\":\"field\",\"field\":\"\"},\"fill_alpha\":{\"type\":\"value\",\"value\":0.1},\"hatch_alpha\":{\"type\":\"value\",\"value\":0.1},\"marker\":{\"type\":\"value\",\"value\":\"triangle\"}}},\"muted_glyph\":{\"type\":\"object\",\"name\":\"Scatter\",\"id\":\"79015715-6adc-4bde-8cc1-089062364aec\",\"attributes\":{\"x\":{\"type\":\"value\",\"value\":0.5},\"y\":{\"type\":\"field\",\"field\":\"y\"},\"size\":{\"type\":\"value\",\"value\":6},\"angle\":{\"type\":\"value\",\"value\":1.5707963267948966},\"line_color\":{\"type\":\"field\",\"field\":\"\"},\"line_alpha\":{\"type\":\"value\",\"value\":0.2},\"fill_color\":{\"type\":\"field\",\"field\":\"\"},\"fill_alpha\":{\"type\":\"value\",\"value\":0.2},\"hatch_alpha\":{\"type\":\"value\",\"value\":0.2},\"marker\":{\"type\":\"value\",\"value\":\"triangle\"}}}}},{\"type\":\"object\",\"name\":\"GlyphRenderer\",\"id\":\"ffe8e454-dbff-4382-89f1-c671ca5ef421\",\"attributes\":{\"data_source\":{\"id\":\"31d762a8-006c-4e94-aa46-ba23feb49f95\"},\"view\":{\"type\":\"object\",\"name\":\"CDSView\",\"id\":\"75fb5093-24b3-42a0-9e33-ff7843868314\",\"attributes\":{\"filter\":{\"type\":\"object\",\"name\":\"AllIndices\",\"id\":\"e70d3018-854c-471f-8bb4-b9fe8997c129\"}}},\"glyph\":{\"type\":\"object\",\"name\":\"Text\",\"id\":\"3a5abf1e-bfa2-4e43-b1e6-17f1235f2a29\",\"attributes\":{\"x\":{\"type\":\"value\",\"value\":-0.4},\"y\":{\"type\":\"value\",\"value\":0},\"text\":{\"type\":\"field\",\"field\":\"text\"},\"angle\":{\"type\":\"value\",\"value\":1.5707963267948966},\"text_color\":{\"type\":\"value\",\"value\":\"black\"},\"text_font_size\":{\"type\":\"value\",\"value\":\"6.25px\"}}},\"nonselection_glyph\":{\"type\":\"object\",\"name\":\"Text\",\"id\":\"d9280cae-1a75-41c1-a45a-0c497ef55056\",\"attributes\":{\"x\":{\"type\":\"value\",\"value\":-0.4},\"y\":{\"type\":\"value\",\"value\":0},\"text\":{\"type\":\"field\",\"field\":\"text\"},\"angle\":{\"type\":\"value\",\"value\":1.5707963267948966},\"text_color\":{\"type\":\"value\",\"value\":\"black\"},\"text_alpha\":{\"type\":\"value\",\"value\":0.1},\"text_font_size\":{\"type\":\"value\",\"value\":\"6.25px\"}}},\"muted_glyph\":{\"type\":\"object\",\"name\":\"Text\",\"id\":\"75a8e395-0d14-4378-9072-25c664ebea46\",\"attributes\":{\"x\":{\"type\":\"value\",\"value\":-0.4},\"y\":{\"type\":\"value\",\"value\":0},\"text\":{\"type\":\"field\",\"field\":\"text\"},\"angle\":{\"type\":\"value\",\"value\":1.5707963267948966},\"text_color\":{\"type\":\"value\",\"value\":\"black\"},\"text_alpha\":{\"type\":\"value\",\"value\":0.2},\"text_font_size\":{\"type\":\"value\",\"value\":\"6.25px\"}}}}}],\"toolbar\":{\"type\":\"object\",\"name\":\"Toolbar\",\"id\":\"2b3a56cd-17f0-48ba-a0d2-12376774209e\"},\"toolbar_location\":null,\"right\":[{\"type\":\"object\",\"name\":\"LinearAxis\",\"id\":\"424d6a6a-7632-4c69-8d1f-f49ddbf82422\",\"attributes\":{\"ticker\":{\"type\":\"object\",\"name\":\"FixedTicker\",\"id\":\"cf1c97b3-2677-4a0c-b565-35668786af6e\",\"attributes\":{\"ticks\":[0,100],\"minor_ticks\":[]}},\"formatter\":{\"type\":\"object\",\"name\":\"BasicTickFormatter\",\"id\":\"3197dcda-1a64-4581-aaaa-7e5c866628bd\"},\"axis_label\":\"\",\"axis_label_standoff\":2,\"axis_label_text_font_size\":\"0pt\",\"major_label_standoff\":2,\"major_label_policy\":{\"type\":\"object\",\"name\":\"AllLabels\",\"id\":\"3148dc66-ede1-4d80-9eef-21c44b855989\"},\"major_label_text_font_size\":\"0pt\"}}],\"above\":[{\"type\":\"object\",\"name\":\"LinearAxis\",\"id\":\"dec8a34a-76d9-4f18-8dc7-20f8ef94099f\",\"attributes\":{\"visible\":false,\"ticker\":{\"type\":\"object\",\"name\":\"BasicTicker\",\"id\":\"55304740-cbbc-4de1-9c66-84b13aa38f83\",\"attributes\":{\"mantissas\":[1,2,5]}},\"formatter\":{\"type\":\"object\",\"name\":\"BasicTickFormatter\",\"id\":\"053ca961-95c8-4a05-a8e0-a4170b2e0316\"},\"axis_label\":\"\",\"axis_label_standoff\":2,\"axis_label_text_font_size\":\"0pt\",\"major_label_standoff\":2,\"major_label_policy\":{\"type\":\"object\",\"name\":\"AllLabels\",\"id\":\"f9cec643-d1ab-4693-a06b-ea3351c7b93e\"},\"major_label_text_font_size\":\"0pt\"}}],\"center\":[{\"type\":\"object\",\"name\":\"Grid\",\"id\":\"4a3666fc-7d81-408e-83d9-8b1bb596f94f\",\"attributes\":{\"visible\":false,\"axis\":{\"id\":\"dec8a34a-76d9-4f18-8dc7-20f8ef94099f\"}}},{\"type\":\"object\",\"name\":\"Grid\",\"id\":\"64c253c2-2b1a-4ffe-ae2b-67d6a57c58cb\",\"attributes\":{\"visible\":false,\"dimension\":1,\"axis\":{\"id\":\"424d6a6a-7632-4c69-8d1f-f49ddbf82422\"}}}]}},{\"type\":\"object\",\"name\":\"Figure\",\"id\":\"5e97df4e-f5e9-49b9-b3e4-6e4d2bc7cd08\",\"attributes\":{\"name\":\"\",\"stylesheets\":[\"\\n:host(.pn-loading.pn-arc):before, .pn-loading.pn-arc:before {\\n  background-image: url(\\\"data:image/svg+xml;base64,PHN2ZyB4bWxucz0iaHR0cDovL3d3dy53My5vcmcvMjAwMC9zdmciIHN0eWxlPSJtYXJnaW46IGF1dG87IGJhY2tncm91bmQ6IG5vbmU7IGRpc3BsYXk6IGJsb2NrOyBzaGFwZS1yZW5kZXJpbmc6IGF1dG87IiB2aWV3Qm94PSIwIDAgMTAwIDEwMCIgcHJlc2VydmVBc3BlY3RSYXRpbz0ieE1pZFlNaWQiPiAgPGNpcmNsZSBjeD0iNTAiIGN5PSI1MCIgZmlsbD0ibm9uZSIgc3Ryb2tlPSIjYzNjM2MzIiBzdHJva2Utd2lkdGg9IjEwIiByPSIzNSIgc3Ryb2tlLWRhc2hhcnJheT0iMTY0LjkzMzYxNDMxMzQ2NDE1IDU2Ljk3Nzg3MTQzNzgyMTM4Ij4gICAgPGFuaW1hdGVUcmFuc2Zvcm0gYXR0cmlidXRlTmFtZT0idHJhbnNmb3JtIiB0eXBlPSJyb3RhdGUiIHJlcGVhdENvdW50PSJpbmRlZmluaXRlIiBkdXI9IjFzIiB2YWx1ZXM9IjAgNTAgNTA7MzYwIDUwIDUwIiBrZXlUaW1lcz0iMDsxIj48L2FuaW1hdGVUcmFuc2Zvcm0+ICA8L2NpcmNsZT48L3N2Zz4=\\\");\\n  background-size: auto calc(min(50%, 400px));\\n}\",{\"type\":\"object\",\"name\":\"ImportedStyleSheet\",\"id\":\"efc62d32-adca-487a-b36d-df84edc447cf\",\"attributes\":{\"url\":\"https://cdn.holoviz.org/panel/1.1.0/dist/css/loading.css\"}},{\"type\":\"object\",\"name\":\"ImportedStyleSheet\",\"id\":\"6a32b357-4801-4a5e-9b02-814f02b5477a\",\"attributes\":{\"url\":\"https://cdn.holoviz.org/panel/1.1.0/dist/bundled/theme/default.css\"}},{\"type\":\"object\",\"name\":\"ImportedStyleSheet\",\"id\":\"1f248432-7d20-44b4-a3a5-56183d99fdc7\",\"attributes\":{\"url\":\"https://cdn.holoviz.org/panel/1.1.0/dist/bundled/theme/native.css\"}}],\"width\":50,\"height\":200,\"margin\":[5,10],\"sizing_mode\":\"fixed\",\"align\":\"start\",\"x_range\":{\"type\":\"object\",\"name\":\"DataRange1d\",\"id\":\"f7eec56a-ea3a-4a6b-9a0e-a2faf33cd700\",\"attributes\":{\"start\":-0.8,\"end\":0.5}},\"y_range\":{\"type\":\"object\",\"name\":\"DataRange1d\",\"id\":\"c07acd2f-01db-4d19-8a23-14c627daaea1\",\"attributes\":{\"start\":0,\"end\":100}},\"x_scale\":{\"type\":\"object\",\"name\":\"LinearScale\",\"id\":\"335b38c0-00da-4314-9e2b-7e63ac8b9840\"},\"y_scale\":{\"type\":\"object\",\"name\":\"LinearScale\",\"id\":\"f2a58fff-93c4-4fff-abdb-9df871dd43a2\"},\"title\":{\"type\":\"object\",\"name\":\"Title\",\"id\":\"dec9bc77-5d8c-4cef-b7d3-17fe87fe86d9\"},\"outline_line_color\":null,\"renderers\":[{\"type\":\"object\",\"name\":\"GlyphRenderer\",\"id\":\"72b6686e-a670-4ae8-ad41-ef98d0eeff41\",\"attributes\":{\"data_source\":{\"type\":\"object\",\"name\":\"ColumnDataSource\",\"id\":\"546dbc95-921c-49cd-988c-c7c40cd5e92e\",\"attributes\":{\"name\":\"bar_source\",\"selected\":{\"type\":\"object\",\"name\":\"Selection\",\"id\":\"745ebb7f-5049-4744-9210-744593c790a6\",\"attributes\":{\"indices\":[],\"line_indices\":[]}},\"selection_policy\":{\"type\":\"object\",\"name\":\"UnionRenderers\",\"id\":\"5b1d09d7-9a29-4a7d-84fa-cf5bba78f989\"},\"data\":{\"type\":\"map\",\"entries\":[[\"y0\",[0,0.0,50.0]],[\"y1\",[0.0,50.0,100]],[\"color\",[\"lightgreen\",\"whitesmoke\",\"whitesmoke\"]]]}}},\"view\":{\"type\":\"object\",\"name\":\"CDSView\",\"id\":\"bd3f1e88-e287-4dcc-9601-fbd2dce56b80\",\"attributes\":{\"filter\":{\"type\":\"object\",\"name\":\"AllIndices\",\"id\":\"e5b68a03-8825-49d6-b0c2-8d6ff5cfb2e8\"}}},\"glyph\":{\"type\":\"object\",\"name\":\"VBar\",\"id\":\"614beea1-7988-4adf-9697-3d8af47973c6\",\"attributes\":{\"x\":{\"type\":\"value\",\"value\":0.1},\"width\":{\"type\":\"value\",\"value\":0.9},\"bottom\":{\"type\":\"field\",\"field\":\"y0\"},\"top\":{\"type\":\"field\",\"field\":\"y1\"},\"line_color\":{\"type\":\"field\",\"field\":\"color\"},\"fill_color\":{\"type\":\"field\",\"field\":\"color\"},\"hatch_color\":{\"type\":\"field\",\"field\":\"color\"}}},\"nonselection_glyph\":{\"type\":\"object\",\"name\":\"VBar\",\"id\":\"3fcff969-e69b-453f-93d4-34cbd7eb2ad3\",\"attributes\":{\"x\":{\"type\":\"value\",\"value\":0.1},\"width\":{\"type\":\"value\",\"value\":0.9},\"bottom\":{\"type\":\"field\",\"field\":\"y0\"},\"top\":{\"type\":\"field\",\"field\":\"y1\"},\"line_color\":{\"type\":\"field\",\"field\":\"color\"},\"line_alpha\":{\"type\":\"value\",\"value\":0.1},\"fill_color\":{\"type\":\"field\",\"field\":\"color\"},\"fill_alpha\":{\"type\":\"value\",\"value\":0.1},\"hatch_color\":{\"type\":\"field\",\"field\":\"color\"},\"hatch_alpha\":{\"type\":\"value\",\"value\":0.1}}},\"muted_glyph\":{\"type\":\"object\",\"name\":\"VBar\",\"id\":\"ca4d8f2a-d94f-4183-bd74-e83a9a1aab50\",\"attributes\":{\"x\":{\"type\":\"value\",\"value\":0.1},\"width\":{\"type\":\"value\",\"value\":0.9},\"bottom\":{\"type\":\"field\",\"field\":\"y0\"},\"top\":{\"type\":\"field\",\"field\":\"y1\"},\"line_color\":{\"type\":\"field\",\"field\":\"color\"},\"line_alpha\":{\"type\":\"value\",\"value\":0.2},\"fill_color\":{\"type\":\"field\",\"field\":\"color\"},\"fill_alpha\":{\"type\":\"value\",\"value\":0.2},\"hatch_color\":{\"type\":\"field\",\"field\":\"color\"},\"hatch_alpha\":{\"type\":\"value\",\"value\":0.2}}}}},{\"type\":\"object\",\"name\":\"GlyphRenderer\",\"id\":\"2a1fc133-f70e-4b60-bbc4-3fcd2feed392\",\"attributes\":{\"name\":\"needle_renderer\",\"level\":\"overlay\",\"data_source\":{\"type\":\"object\",\"name\":\"ColumnDataSource\",\"id\":\"de477437-80cc-4c11-bb6b-1d76b38be769\",\"attributes\":{\"name\":\"needle_source\",\"selected\":{\"type\":\"object\",\"name\":\"Selection\",\"id\":\"f522e58e-7257-4c8c-9b4d-39476b7f7217\",\"attributes\":{\"indices\":[],\"line_indices\":[]}},\"selection_policy\":{\"type\":\"object\",\"name\":\"UnionRenderers\",\"id\":\"01423eac-442a-47ec-9a7d-a3ccf80965e1\"},\"data\":{\"type\":\"map\",\"entries\":[[\"y\",[0.0]],[\"text\",[\"\"]]]}}},\"view\":{\"type\":\"object\",\"name\":\"CDSView\",\"id\":\"acf0bbc5-7774-492b-a768-db44d99254f0\",\"attributes\":{\"filter\":{\"type\":\"object\",\"name\":\"AllIndices\",\"id\":\"bd278bd3-a6ab-421b-bb92-1e2b88e9a778\"}}},\"glyph\":{\"type\":\"object\",\"name\":\"Scatter\",\"id\":\"a50d9a71-8787-407c-8c72-24b6a270e26a\",\"attributes\":{\"x\":{\"type\":\"value\",\"value\":0.5},\"y\":{\"type\":\"field\",\"field\":\"y\"},\"size\":{\"type\":\"value\",\"value\":6},\"angle\":{\"type\":\"value\",\"value\":1.5707963267948966},\"line_color\":{\"type\":\"field\",\"field\":\"\"},\"fill_color\":{\"type\":\"field\",\"field\":\"\"},\"marker\":{\"type\":\"value\",\"value\":\"triangle\"}}},\"nonselection_glyph\":{\"type\":\"object\",\"name\":\"Scatter\",\"id\":\"02f60100-9922-44e7-a5c7-f16dffd30064\",\"attributes\":{\"x\":{\"type\":\"value\",\"value\":0.5},\"y\":{\"type\":\"field\",\"field\":\"y\"},\"size\":{\"type\":\"value\",\"value\":6},\"angle\":{\"type\":\"value\",\"value\":1.5707963267948966},\"line_color\":{\"type\":\"field\",\"field\":\"\"},\"line_alpha\":{\"type\":\"value\",\"value\":0.1},\"fill_color\":{\"type\":\"field\",\"field\":\"\"},\"fill_alpha\":{\"type\":\"value\",\"value\":0.1},\"hatch_alpha\":{\"type\":\"value\",\"value\":0.1},\"marker\":{\"type\":\"value\",\"value\":\"triangle\"}}},\"muted_glyph\":{\"type\":\"object\",\"name\":\"Scatter\",\"id\":\"39e8cdb8-f66f-440f-a98c-93592d92ab45\",\"attributes\":{\"x\":{\"type\":\"value\",\"value\":0.5},\"y\":{\"type\":\"field\",\"field\":\"y\"},\"size\":{\"type\":\"value\",\"value\":6},\"angle\":{\"type\":\"value\",\"value\":1.5707963267948966},\"line_color\":{\"type\":\"field\",\"field\":\"\"},\"line_alpha\":{\"type\":\"value\",\"value\":0.2},\"fill_color\":{\"type\":\"field\",\"field\":\"\"},\"fill_alpha\":{\"type\":\"value\",\"value\":0.2},\"hatch_alpha\":{\"type\":\"value\",\"value\":0.2},\"marker\":{\"type\":\"value\",\"value\":\"triangle\"}}}}},{\"type\":\"object\",\"name\":\"GlyphRenderer\",\"id\":\"1310948b-b660-45a7-b90c-7bd59fc77de0\",\"attributes\":{\"data_source\":{\"id\":\"de477437-80cc-4c11-bb6b-1d76b38be769\"},\"view\":{\"type\":\"object\",\"name\":\"CDSView\",\"id\":\"168b70ae-b095-4d82-b4e4-5aec9ec20bd8\",\"attributes\":{\"filter\":{\"type\":\"object\",\"name\":\"AllIndices\",\"id\":\"f40721e7-54de-45aa-88b5-8a07e208d0f5\"}}},\"glyph\":{\"type\":\"object\",\"name\":\"Text\",\"id\":\"66231f7f-fdc7-4ec1-864e-e844dca4649c\",\"attributes\":{\"x\":{\"type\":\"value\",\"value\":-0.4},\"y\":{\"type\":\"value\",\"value\":0},\"text\":{\"type\":\"field\",\"field\":\"text\"},\"angle\":{\"type\":\"value\",\"value\":1.5707963267948966},\"text_color\":{\"type\":\"value\",\"value\":\"black\"},\"text_font_size\":{\"type\":\"value\",\"value\":\"6.25px\"}}},\"nonselection_glyph\":{\"type\":\"object\",\"name\":\"Text\",\"id\":\"e80a4918-796e-48ea-be3e-d504b146423e\",\"attributes\":{\"x\":{\"type\":\"value\",\"value\":-0.4},\"y\":{\"type\":\"value\",\"value\":0},\"text\":{\"type\":\"field\",\"field\":\"text\"},\"angle\":{\"type\":\"value\",\"value\":1.5707963267948966},\"text_color\":{\"type\":\"value\",\"value\":\"black\"},\"text_alpha\":{\"type\":\"value\",\"value\":0.1},\"text_font_size\":{\"type\":\"value\",\"value\":\"6.25px\"}}},\"muted_glyph\":{\"type\":\"object\",\"name\":\"Text\",\"id\":\"66590b51-4003-448d-a994-1f42f6e9aa89\",\"attributes\":{\"x\":{\"type\":\"value\",\"value\":-0.4},\"y\":{\"type\":\"value\",\"value\":0},\"text\":{\"type\":\"field\",\"field\":\"text\"},\"angle\":{\"type\":\"value\",\"value\":1.5707963267948966},\"text_color\":{\"type\":\"value\",\"value\":\"black\"},\"text_alpha\":{\"type\":\"value\",\"value\":0.2},\"text_font_size\":{\"type\":\"value\",\"value\":\"6.25px\"}}}}}],\"toolbar\":{\"type\":\"object\",\"name\":\"Toolbar\",\"id\":\"fc2ea5ea-89f6-42bf-b4f8-829237821b29\"},\"toolbar_location\":null,\"right\":[{\"type\":\"object\",\"name\":\"LinearAxis\",\"id\":\"ff8fa588-744e-47e2-ae4f-606150ebcefc\",\"attributes\":{\"ticker\":{\"type\":\"object\",\"name\":\"FixedTicker\",\"id\":\"ad650ff9-f5c9-4780-b27c-628103d82949\",\"attributes\":{\"ticks\":[0,100],\"minor_ticks\":[]}},\"formatter\":{\"type\":\"object\",\"name\":\"BasicTickFormatter\",\"id\":\"83131ef9-4daf-4767-adec-e34f88a8a4b1\"},\"axis_label\":\"\",\"axis_label_standoff\":2,\"axis_label_text_font_size\":\"0pt\",\"major_label_standoff\":2,\"major_label_policy\":{\"type\":\"object\",\"name\":\"AllLabels\",\"id\":\"41bf1e4a-ac31-41bd-90e4-37e70a18cd74\"},\"major_label_text_font_size\":\"0pt\"}}],\"above\":[{\"type\":\"object\",\"name\":\"LinearAxis\",\"id\":\"01fff1f8-38be-4235-aba7-ad2861ac50c9\",\"attributes\":{\"visible\":false,\"ticker\":{\"type\":\"object\",\"name\":\"BasicTicker\",\"id\":\"2b7035f3-8095-48ed-a840-6d2481973953\",\"attributes\":{\"mantissas\":[1,2,5]}},\"formatter\":{\"type\":\"object\",\"name\":\"BasicTickFormatter\",\"id\":\"20f1fe69-63dc-4701-a05a-53445a1be458\"},\"axis_label\":\"\",\"axis_label_standoff\":2,\"axis_label_text_font_size\":\"0pt\",\"major_label_standoff\":2,\"major_label_policy\":{\"type\":\"object\",\"name\":\"AllLabels\",\"id\":\"801e595f-79ef-4692-9fc8-037350472a5b\"},\"major_label_text_font_size\":\"0pt\"}}],\"center\":[{\"type\":\"object\",\"name\":\"Grid\",\"id\":\"8ed133c1-ded5-43ad-9f7e-6a1a67ccd7c8\",\"attributes\":{\"visible\":false,\"axis\":{\"id\":\"01fff1f8-38be-4235-aba7-ad2861ac50c9\"}}},{\"type\":\"object\",\"name\":\"Grid\",\"id\":\"08ebc1ec-3d4d-4ab7-9961-ec09f2d6eb50\",\"attributes\":{\"visible\":false,\"dimension\":1,\"axis\":{\"id\":\"ff8fa588-744e-47e2-ae4f-606150ebcefc\"}}}]}},{\"type\":\"object\",\"name\":\"Figure\",\"id\":\"5f6a2168-84da-4f7b-9e59-a2018aeefae0\",\"attributes\":{\"name\":\"\",\"stylesheets\":[\"\\n:host(.pn-loading.pn-arc):before, .pn-loading.pn-arc:before {\\n  background-image: url(\\\"data:image/svg+xml;base64,PHN2ZyB4bWxucz0iaHR0cDovL3d3dy53My5vcmcvMjAwMC9zdmciIHN0eWxlPSJtYXJnaW46IGF1dG87IGJhY2tncm91bmQ6IG5vbmU7IGRpc3BsYXk6IGJsb2NrOyBzaGFwZS1yZW5kZXJpbmc6IGF1dG87IiB2aWV3Qm94PSIwIDAgMTAwIDEwMCIgcHJlc2VydmVBc3BlY3RSYXRpbz0ieE1pZFlNaWQiPiAgPGNpcmNsZSBjeD0iNTAiIGN5PSI1MCIgZmlsbD0ibm9uZSIgc3Ryb2tlPSIjYzNjM2MzIiBzdHJva2Utd2lkdGg9IjEwIiByPSIzNSIgc3Ryb2tlLWRhc2hhcnJheT0iMTY0LjkzMzYxNDMxMzQ2NDE1IDU2Ljk3Nzg3MTQzNzgyMTM4Ij4gICAgPGFuaW1hdGVUcmFuc2Zvcm0gYXR0cmlidXRlTmFtZT0idHJhbnNmb3JtIiB0eXBlPSJyb3RhdGUiIHJlcGVhdENvdW50PSJpbmRlZmluaXRlIiBkdXI9IjFzIiB2YWx1ZXM9IjAgNTAgNTA7MzYwIDUwIDUwIiBrZXlUaW1lcz0iMDsxIj48L2FuaW1hdGVUcmFuc2Zvcm0+ICA8L2NpcmNsZT48L3N2Zz4=\\\");\\n  background-size: auto calc(min(50%, 400px));\\n}\",{\"type\":\"object\",\"name\":\"ImportedStyleSheet\",\"id\":\"12a4f138-5f6a-4068-9eb8-2f8643fba478\",\"attributes\":{\"url\":\"https://cdn.holoviz.org/panel/1.1.0/dist/css/loading.css\"}},{\"type\":\"object\",\"name\":\"ImportedStyleSheet\",\"id\":\"7057849d-7f89-4b80-8e95-90ea73b72954\",\"attributes\":{\"url\":\"https://cdn.holoviz.org/panel/1.1.0/dist/bundled/theme/default.css\"}},{\"type\":\"object\",\"name\":\"ImportedStyleSheet\",\"id\":\"59164a22-2fd3-41e3-97e2-19f5e28448b5\",\"attributes\":{\"url\":\"https://cdn.holoviz.org/panel/1.1.0/dist/bundled/theme/native.css\"}}],\"width\":50,\"height\":200,\"margin\":[5,10],\"sizing_mode\":\"fixed\",\"align\":\"start\",\"x_range\":{\"type\":\"object\",\"name\":\"DataRange1d\",\"id\":\"6abac485-8469-4490-ae9f-e0d8b65cc154\",\"attributes\":{\"start\":-0.8,\"end\":0.5}},\"y_range\":{\"type\":\"object\",\"name\":\"DataRange1d\",\"id\":\"54b86320-88c5-493c-ac4f-365a03827827\",\"attributes\":{\"start\":0,\"end\":100}},\"x_scale\":{\"type\":\"object\",\"name\":\"LinearScale\",\"id\":\"7bc97d98-57ff-4dcd-97b7-63b84e7a8016\"},\"y_scale\":{\"type\":\"object\",\"name\":\"LinearScale\",\"id\":\"48242029-d28f-4e12-ab85-9fbf365764eb\"},\"title\":{\"type\":\"object\",\"name\":\"Title\",\"id\":\"1dca8575-92e4-4f84-8291-746f2c029af9\"},\"outline_line_color\":null,\"renderers\":[{\"type\":\"object\",\"name\":\"GlyphRenderer\",\"id\":\"fac161ac-92df-4d2e-8455-3be63683b474\",\"attributes\":{\"data_source\":{\"type\":\"object\",\"name\":\"ColumnDataSource\",\"id\":\"58cd86e4-e5f1-41e0-a14c-037cf40ab954\",\"attributes\":{\"name\":\"bar_source\",\"selected\":{\"type\":\"object\",\"name\":\"Selection\",\"id\":\"cb3417ea-d8c4-4aad-8d77-c6c9c81e0522\",\"attributes\":{\"indices\":[],\"line_indices\":[]}},\"selection_policy\":{\"type\":\"object\",\"name\":\"UnionRenderers\",\"id\":\"50ac6804-0895-4ae7-b6b3-94805ebbc8e8\"},\"data\":{\"type\":\"map\",\"entries\":[[\"y0\",[0,0.0,50.0]],[\"y1\",[0.0,50.0,100]],[\"color\",[\"lightgreen\",\"whitesmoke\",\"whitesmoke\"]]]}}},\"view\":{\"type\":\"object\",\"name\":\"CDSView\",\"id\":\"58e58f3b-5917-4c9a-934d-1df6ebd3a572\",\"attributes\":{\"filter\":{\"type\":\"object\",\"name\":\"AllIndices\",\"id\":\"e2207d40-723c-4cf8-b0a9-f6c1a4d49a61\"}}},\"glyph\":{\"type\":\"object\",\"name\":\"VBar\",\"id\":\"7d1ea6a6-4f7f-41ef-a2f5-b3bfea2428b8\",\"attributes\":{\"x\":{\"type\":\"value\",\"value\":0.1},\"width\":{\"type\":\"value\",\"value\":0.9},\"bottom\":{\"type\":\"field\",\"field\":\"y0\"},\"top\":{\"type\":\"field\",\"field\":\"y1\"},\"line_color\":{\"type\":\"field\",\"field\":\"color\"},\"fill_color\":{\"type\":\"field\",\"field\":\"color\"},\"hatch_color\":{\"type\":\"field\",\"field\":\"color\"}}},\"nonselection_glyph\":{\"type\":\"object\",\"name\":\"VBar\",\"id\":\"4db78951-a312-449f-a584-a7832229171b\",\"attributes\":{\"x\":{\"type\":\"value\",\"value\":0.1},\"width\":{\"type\":\"value\",\"value\":0.9},\"bottom\":{\"type\":\"field\",\"field\":\"y0\"},\"top\":{\"type\":\"field\",\"field\":\"y1\"},\"line_color\":{\"type\":\"field\",\"field\":\"color\"},\"line_alpha\":{\"type\":\"value\",\"value\":0.1},\"fill_color\":{\"type\":\"field\",\"field\":\"color\"},\"fill_alpha\":{\"type\":\"value\",\"value\":0.1},\"hatch_color\":{\"type\":\"field\",\"field\":\"color\"},\"hatch_alpha\":{\"type\":\"value\",\"value\":0.1}}},\"muted_glyph\":{\"type\":\"object\",\"name\":\"VBar\",\"id\":\"13850e63-45f2-49c3-88b6-5c7659d7cbd6\",\"attributes\":{\"x\":{\"type\":\"value\",\"value\":0.1},\"width\":{\"type\":\"value\",\"value\":0.9},\"bottom\":{\"type\":\"field\",\"field\":\"y0\"},\"top\":{\"type\":\"field\",\"field\":\"y1\"},\"line_color\":{\"type\":\"field\",\"field\":\"color\"},\"line_alpha\":{\"type\":\"value\",\"value\":0.2},\"fill_color\":{\"type\":\"field\",\"field\":\"color\"},\"fill_alpha\":{\"type\":\"value\",\"value\":0.2},\"hatch_color\":{\"type\":\"field\",\"field\":\"color\"},\"hatch_alpha\":{\"type\":\"value\",\"value\":0.2}}}}},{\"type\":\"object\",\"name\":\"GlyphRenderer\",\"id\":\"d72ce259-a5d4-429e-9cc6-8cf50691f2a0\",\"attributes\":{\"name\":\"needle_renderer\",\"level\":\"overlay\",\"data_source\":{\"type\":\"object\",\"name\":\"ColumnDataSource\",\"id\":\"7d4122fa-0382-4f58-afdf-e823493dc004\",\"attributes\":{\"name\":\"needle_source\",\"selected\":{\"type\":\"object\",\"name\":\"Selection\",\"id\":\"5ea5b150-de31-49a6-a554-8e17e1a11415\",\"attributes\":{\"indices\":[],\"line_indices\":[]}},\"selection_policy\":{\"type\":\"object\",\"name\":\"UnionRenderers\",\"id\":\"a933e4f9-908a-472a-a4fb-813bd8f12c67\"},\"data\":{\"type\":\"map\",\"entries\":[[\"y\",[0.0]],[\"text\",[\"\"]]]}}},\"view\":{\"type\":\"object\",\"name\":\"CDSView\",\"id\":\"fd463119-28d0-4371-bcc6-dd3154bd12f8\",\"attributes\":{\"filter\":{\"type\":\"object\",\"name\":\"AllIndices\",\"id\":\"14f77802-bf82-4025-8c19-e21fc6510383\"}}},\"glyph\":{\"type\":\"object\",\"name\":\"Scatter\",\"id\":\"d37b2019-53d9-4925-9007-90dc05f4f692\",\"attributes\":{\"x\":{\"type\":\"value\",\"value\":0.5},\"y\":{\"type\":\"field\",\"field\":\"y\"},\"size\":{\"type\":\"value\",\"value\":6},\"angle\":{\"type\":\"value\",\"value\":1.5707963267948966},\"line_color\":{\"type\":\"field\",\"field\":\"\"},\"fill_color\":{\"type\":\"field\",\"field\":\"\"},\"marker\":{\"type\":\"value\",\"value\":\"triangle\"}}},\"nonselection_glyph\":{\"type\":\"object\",\"name\":\"Scatter\",\"id\":\"89e6a228-3e0b-4f5a-a53a-218bbddec78f\",\"attributes\":{\"x\":{\"type\":\"value\",\"value\":0.5},\"y\":{\"type\":\"field\",\"field\":\"y\"},\"size\":{\"type\":\"value\",\"value\":6},\"angle\":{\"type\":\"value\",\"value\":1.5707963267948966},\"line_color\":{\"type\":\"field\",\"field\":\"\"},\"line_alpha\":{\"type\":\"value\",\"value\":0.1},\"fill_color\":{\"type\":\"field\",\"field\":\"\"},\"fill_alpha\":{\"type\":\"value\",\"value\":0.1},\"hatch_alpha\":{\"type\":\"value\",\"value\":0.1},\"marker\":{\"type\":\"value\",\"value\":\"triangle\"}}},\"muted_glyph\":{\"type\":\"object\",\"name\":\"Scatter\",\"id\":\"1dea5d3e-af97-4b41-b40f-c13050d4d992\",\"attributes\":{\"x\":{\"type\":\"value\",\"value\":0.5},\"y\":{\"type\":\"field\",\"field\":\"y\"},\"size\":{\"type\":\"value\",\"value\":6},\"angle\":{\"type\":\"value\",\"value\":1.5707963267948966},\"line_color\":{\"type\":\"field\",\"field\":\"\"},\"line_alpha\":{\"type\":\"value\",\"value\":0.2},\"fill_color\":{\"type\":\"field\",\"field\":\"\"},\"fill_alpha\":{\"type\":\"value\",\"value\":0.2},\"hatch_alpha\":{\"type\":\"value\",\"value\":0.2},\"marker\":{\"type\":\"value\",\"value\":\"triangle\"}}}}},{\"type\":\"object\",\"name\":\"GlyphRenderer\",\"id\":\"62879803-4a40-4980-90c9-796ce65314ac\",\"attributes\":{\"data_source\":{\"id\":\"7d4122fa-0382-4f58-afdf-e823493dc004\"},\"view\":{\"type\":\"object\",\"name\":\"CDSView\",\"id\":\"e6381763-f6d0-493b-9338-dec5c2e5df18\",\"attributes\":{\"filter\":{\"type\":\"object\",\"name\":\"AllIndices\",\"id\":\"aebeff6e-d3a6-4056-9b47-5706909c760b\"}}},\"glyph\":{\"type\":\"object\",\"name\":\"Text\",\"id\":\"876432ff-26e1-4fc0-9348-a6c4a934b3bf\",\"attributes\":{\"x\":{\"type\":\"value\",\"value\":-0.4},\"y\":{\"type\":\"value\",\"value\":0},\"text\":{\"type\":\"field\",\"field\":\"text\"},\"angle\":{\"type\":\"value\",\"value\":1.5707963267948966},\"text_color\":{\"type\":\"value\",\"value\":\"black\"},\"text_font_size\":{\"type\":\"value\",\"value\":\"6.25px\"}}},\"nonselection_glyph\":{\"type\":\"object\",\"name\":\"Text\",\"id\":\"d5e5f107-191a-4105-8110-9ef3db062b6a\",\"attributes\":{\"x\":{\"type\":\"value\",\"value\":-0.4},\"y\":{\"type\":\"value\",\"value\":0},\"text\":{\"type\":\"field\",\"field\":\"text\"},\"angle\":{\"type\":\"value\",\"value\":1.5707963267948966},\"text_color\":{\"type\":\"value\",\"value\":\"black\"},\"text_alpha\":{\"type\":\"value\",\"value\":0.1},\"text_font_size\":{\"type\":\"value\",\"value\":\"6.25px\"}}},\"muted_glyph\":{\"type\":\"object\",\"name\":\"Text\",\"id\":\"6c7ab943-48a1-4ca0-8228-4c8291c02db6\",\"attributes\":{\"x\":{\"type\":\"value\",\"value\":-0.4},\"y\":{\"type\":\"value\",\"value\":0},\"text\":{\"type\":\"field\",\"field\":\"text\"},\"angle\":{\"type\":\"value\",\"value\":1.5707963267948966},\"text_color\":{\"type\":\"value\",\"value\":\"black\"},\"text_alpha\":{\"type\":\"value\",\"value\":0.2},\"text_font_size\":{\"type\":\"value\",\"value\":\"6.25px\"}}}}}],\"toolbar\":{\"type\":\"object\",\"name\":\"Toolbar\",\"id\":\"1aea26ce-5574-455e-9e10-b543087bd43e\"},\"toolbar_location\":null,\"right\":[{\"type\":\"object\",\"name\":\"LinearAxis\",\"id\":\"4ad30a81-b2df-435c-ac9f-7bafdf2bfdbe\",\"attributes\":{\"ticker\":{\"type\":\"object\",\"name\":\"FixedTicker\",\"id\":\"a64baef5-6096-4557-bfd8-24ca7846f7b5\",\"attributes\":{\"ticks\":[0,100],\"minor_ticks\":[]}},\"formatter\":{\"type\":\"object\",\"name\":\"BasicTickFormatter\",\"id\":\"6562d61f-cb20-4dee-93ef-77d8a298b610\"},\"axis_label\":\"\",\"axis_label_standoff\":2,\"axis_label_text_font_size\":\"0pt\",\"major_label_standoff\":2,\"major_label_policy\":{\"type\":\"object\",\"name\":\"AllLabels\",\"id\":\"145c3953-c173-4294-94a9-dc6746a858a6\"},\"major_label_text_font_size\":\"0pt\"}}],\"above\":[{\"type\":\"object\",\"name\":\"LinearAxis\",\"id\":\"5b088537-cd0b-44c0-a9bb-16e65f82b3ae\",\"attributes\":{\"visible\":false,\"ticker\":{\"type\":\"object\",\"name\":\"BasicTicker\",\"id\":\"7e581ab6-d0eb-44eb-be38-ea9d7c597970\",\"attributes\":{\"mantissas\":[1,2,5]}},\"formatter\":{\"type\":\"object\",\"name\":\"BasicTickFormatter\",\"id\":\"2a41f93e-dcd7-48f8-97e1-dec2cb7acae4\"},\"axis_label\":\"\",\"axis_label_standoff\":2,\"axis_label_text_font_size\":\"0pt\",\"major_label_standoff\":2,\"major_label_policy\":{\"type\":\"object\",\"name\":\"AllLabels\",\"id\":\"64848e43-e4e5-4127-9098-5a645f69cfe2\"},\"major_label_text_font_size\":\"0pt\"}}],\"center\":[{\"type\":\"object\",\"name\":\"Grid\",\"id\":\"4d3bb775-8b8a-4024-af7c-a4d61b223c35\",\"attributes\":{\"visible\":false,\"axis\":{\"id\":\"5b088537-cd0b-44c0-a9bb-16e65f82b3ae\"}}},{\"type\":\"object\",\"name\":\"Grid\",\"id\":\"79d42803-d959-488b-8dc5-02cdccbe1f08\",\"attributes\":{\"visible\":false,\"dimension\":1,\"axis\":{\"id\":\"4ad30a81-b2df-435c-ac9f-7bafdf2bfdbe\"}}}]}},{\"type\":\"object\",\"name\":\"Figure\",\"id\":\"4572d739-28ca-4167-9699-deb21318d41d\",\"attributes\":{\"name\":\"\",\"stylesheets\":[\"\\n:host(.pn-loading.pn-arc):before, .pn-loading.pn-arc:before {\\n  background-image: url(\\\"data:image/svg+xml;base64,PHN2ZyB4bWxucz0iaHR0cDovL3d3dy53My5vcmcvMjAwMC9zdmciIHN0eWxlPSJtYXJnaW46IGF1dG87IGJhY2tncm91bmQ6IG5vbmU7IGRpc3BsYXk6IGJsb2NrOyBzaGFwZS1yZW5kZXJpbmc6IGF1dG87IiB2aWV3Qm94PSIwIDAgMTAwIDEwMCIgcHJlc2VydmVBc3BlY3RSYXRpbz0ieE1pZFlNaWQiPiAgPGNpcmNsZSBjeD0iNTAiIGN5PSI1MCIgZmlsbD0ibm9uZSIgc3Ryb2tlPSIjYzNjM2MzIiBzdHJva2Utd2lkdGg9IjEwIiByPSIzNSIgc3Ryb2tlLWRhc2hhcnJheT0iMTY0LjkzMzYxNDMxMzQ2NDE1IDU2Ljk3Nzg3MTQzNzgyMTM4Ij4gICAgPGFuaW1hdGVUcmFuc2Zvcm0gYXR0cmlidXRlTmFtZT0idHJhbnNmb3JtIiB0eXBlPSJyb3RhdGUiIHJlcGVhdENvdW50PSJpbmRlZmluaXRlIiBkdXI9IjFzIiB2YWx1ZXM9IjAgNTAgNTA7MzYwIDUwIDUwIiBrZXlUaW1lcz0iMDsxIj48L2FuaW1hdGVUcmFuc2Zvcm0+ICA8L2NpcmNsZT48L3N2Zz4=\\\");\\n  background-size: auto calc(min(50%, 400px));\\n}\",{\"type\":\"object\",\"name\":\"ImportedStyleSheet\",\"id\":\"d06c73df-fe68-45e3-a84a-9a834b96cd95\",\"attributes\":{\"url\":\"https://cdn.holoviz.org/panel/1.1.0/dist/css/loading.css\"}},{\"type\":\"object\",\"name\":\"ImportedStyleSheet\",\"id\":\"7415d9c3-69e1-4955-a617-ef13f5ebec11\",\"attributes\":{\"url\":\"https://cdn.holoviz.org/panel/1.1.0/dist/bundled/theme/default.css\"}},{\"type\":\"object\",\"name\":\"ImportedStyleSheet\",\"id\":\"0adc039d-1fe3-4de0-b54c-29aae68afcd1\",\"attributes\":{\"url\":\"https://cdn.holoviz.org/panel/1.1.0/dist/bundled/theme/native.css\"}}],\"width\":50,\"height\":200,\"margin\":[5,10],\"sizing_mode\":\"fixed\",\"align\":\"start\",\"x_range\":{\"type\":\"object\",\"name\":\"DataRange1d\",\"id\":\"8b317649-0f44-44d2-adc2-7a0043f78110\",\"attributes\":{\"start\":-0.8,\"end\":0.5}},\"y_range\":{\"type\":\"object\",\"name\":\"DataRange1d\",\"id\":\"9ebb9c24-ebb5-4105-8fb0-8d954bfade8e\",\"attributes\":{\"start\":0,\"end\":100}},\"x_scale\":{\"type\":\"object\",\"name\":\"LinearScale\",\"id\":\"8585e66d-cef4-4ffe-be78-1361c98a467d\"},\"y_scale\":{\"type\":\"object\",\"name\":\"LinearScale\",\"id\":\"f427a4b1-d3da-4513-9034-c8647d3bd45b\"},\"title\":{\"type\":\"object\",\"name\":\"Title\",\"id\":\"4a0dab43-79f0-4a3c-b999-53d502f3b50d\"},\"outline_line_color\":null,\"renderers\":[{\"type\":\"object\",\"name\":\"GlyphRenderer\",\"id\":\"c6606dd2-bf93-48f9-8252-ac0516c8257c\",\"attributes\":{\"data_source\":{\"type\":\"object\",\"name\":\"ColumnDataSource\",\"id\":\"31a08c13-509d-4f03-bba7-75ade324ff91\",\"attributes\":{\"name\":\"bar_source\",\"selected\":{\"type\":\"object\",\"name\":\"Selection\",\"id\":\"92173ade-1e53-4e49-8590-992986b372a0\",\"attributes\":{\"indices\":[],\"line_indices\":[]}},\"selection_policy\":{\"type\":\"object\",\"name\":\"UnionRenderers\",\"id\":\"82354b06-d475-4425-a201-0d9c5000ae68\"},\"data\":{\"type\":\"map\",\"entries\":[[\"y0\",[0,0.0,50.0]],[\"y1\",[0.0,50.0,100]],[\"color\",[\"lightgreen\",\"whitesmoke\",\"whitesmoke\"]]]}}},\"view\":{\"type\":\"object\",\"name\":\"CDSView\",\"id\":\"5de51bb8-cb21-4ddb-a99f-9c3726ebb672\",\"attributes\":{\"filter\":{\"type\":\"object\",\"name\":\"AllIndices\",\"id\":\"1b39d232-a2c8-4fd8-8ffc-55a064a18747\"}}},\"glyph\":{\"type\":\"object\",\"name\":\"VBar\",\"id\":\"47879773-fee7-4137-a3b3-8a0304b8f5b4\",\"attributes\":{\"x\":{\"type\":\"value\",\"value\":0.1},\"width\":{\"type\":\"value\",\"value\":0.9},\"bottom\":{\"type\":\"field\",\"field\":\"y0\"},\"top\":{\"type\":\"field\",\"field\":\"y1\"},\"line_color\":{\"type\":\"field\",\"field\":\"color\"},\"fill_color\":{\"type\":\"field\",\"field\":\"color\"},\"hatch_color\":{\"type\":\"field\",\"field\":\"color\"}}},\"nonselection_glyph\":{\"type\":\"object\",\"name\":\"VBar\",\"id\":\"41eade3b-9697-4f2a-ab40-bb823416c3ed\",\"attributes\":{\"x\":{\"type\":\"value\",\"value\":0.1},\"width\":{\"type\":\"value\",\"value\":0.9},\"bottom\":{\"type\":\"field\",\"field\":\"y0\"},\"top\":{\"type\":\"field\",\"field\":\"y1\"},\"line_color\":{\"type\":\"field\",\"field\":\"color\"},\"line_alpha\":{\"type\":\"value\",\"value\":0.1},\"fill_color\":{\"type\":\"field\",\"field\":\"color\"},\"fill_alpha\":{\"type\":\"value\",\"value\":0.1},\"hatch_color\":{\"type\":\"field\",\"field\":\"color\"},\"hatch_alpha\":{\"type\":\"value\",\"value\":0.1}}},\"muted_glyph\":{\"type\":\"object\",\"name\":\"VBar\",\"id\":\"c01cdf5c-1488-4164-a883-12258c249f74\",\"attributes\":{\"x\":{\"type\":\"value\",\"value\":0.1},\"width\":{\"type\":\"value\",\"value\":0.9},\"bottom\":{\"type\":\"field\",\"field\":\"y0\"},\"top\":{\"type\":\"field\",\"field\":\"y1\"},\"line_color\":{\"type\":\"field\",\"field\":\"color\"},\"line_alpha\":{\"type\":\"value\",\"value\":0.2},\"fill_color\":{\"type\":\"field\",\"field\":\"color\"},\"fill_alpha\":{\"type\":\"value\",\"value\":0.2},\"hatch_color\":{\"type\":\"field\",\"field\":\"color\"},\"hatch_alpha\":{\"type\":\"value\",\"value\":0.2}}}}},{\"type\":\"object\",\"name\":\"GlyphRenderer\",\"id\":\"1c9554d4-e8e9-429e-93a3-54ee061a36d9\",\"attributes\":{\"name\":\"needle_renderer\",\"level\":\"overlay\",\"data_source\":{\"type\":\"object\",\"name\":\"ColumnDataSource\",\"id\":\"a777dae8-96e1-4a1b-b224-f055d59ffb4d\",\"attributes\":{\"name\":\"needle_source\",\"selected\":{\"type\":\"object\",\"name\":\"Selection\",\"id\":\"4c065a02-f555-4c99-9ec8-e7385ff058c4\",\"attributes\":{\"indices\":[],\"line_indices\":[]}},\"selection_policy\":{\"type\":\"object\",\"name\":\"UnionRenderers\",\"id\":\"4e9d3699-f8b3-45e6-874e-2e1130929e91\"},\"data\":{\"type\":\"map\",\"entries\":[[\"y\",[0.0]],[\"text\",[\"\"]]]}}},\"view\":{\"type\":\"object\",\"name\":\"CDSView\",\"id\":\"74d9d833-d09c-4abd-af93-a51730bb5f8a\",\"attributes\":{\"filter\":{\"type\":\"object\",\"name\":\"AllIndices\",\"id\":\"9b20f692-eaff-4f75-a4e3-ab2e83da2480\"}}},\"glyph\":{\"type\":\"object\",\"name\":\"Scatter\",\"id\":\"5af3f8bd-e02c-4884-ba25-49419508f997\",\"attributes\":{\"x\":{\"type\":\"value\",\"value\":0.5},\"y\":{\"type\":\"field\",\"field\":\"y\"},\"size\":{\"type\":\"value\",\"value\":6},\"angle\":{\"type\":\"value\",\"value\":1.5707963267948966},\"line_color\":{\"type\":\"field\",\"field\":\"\"},\"fill_color\":{\"type\":\"field\",\"field\":\"\"},\"marker\":{\"type\":\"value\",\"value\":\"triangle\"}}},\"nonselection_glyph\":{\"type\":\"object\",\"name\":\"Scatter\",\"id\":\"884db299-18d1-4c56-bfb3-2ceccdc30005\",\"attributes\":{\"x\":{\"type\":\"value\",\"value\":0.5},\"y\":{\"type\":\"field\",\"field\":\"y\"},\"size\":{\"type\":\"value\",\"value\":6},\"angle\":{\"type\":\"value\",\"value\":1.5707963267948966},\"line_color\":{\"type\":\"field\",\"field\":\"\"},\"line_alpha\":{\"type\":\"value\",\"value\":0.1},\"fill_color\":{\"type\":\"field\",\"field\":\"\"},\"fill_alpha\":{\"type\":\"value\",\"value\":0.1},\"hatch_alpha\":{\"type\":\"value\",\"value\":0.1},\"marker\":{\"type\":\"value\",\"value\":\"triangle\"}}},\"muted_glyph\":{\"type\":\"object\",\"name\":\"Scatter\",\"id\":\"f923dbe1-c737-4465-8710-a052d604e916\",\"attributes\":{\"x\":{\"type\":\"value\",\"value\":0.5},\"y\":{\"type\":\"field\",\"field\":\"y\"},\"size\":{\"type\":\"value\",\"value\":6},\"angle\":{\"type\":\"value\",\"value\":1.5707963267948966},\"line_color\":{\"type\":\"field\",\"field\":\"\"},\"line_alpha\":{\"type\":\"value\",\"value\":0.2},\"fill_color\":{\"type\":\"field\",\"field\":\"\"},\"fill_alpha\":{\"type\":\"value\",\"value\":0.2},\"hatch_alpha\":{\"type\":\"value\",\"value\":0.2},\"marker\":{\"type\":\"value\",\"value\":\"triangle\"}}}}},{\"type\":\"object\",\"name\":\"GlyphRenderer\",\"id\":\"3508977a-0ec7-4e7b-92cf-35ec155fe25a\",\"attributes\":{\"data_source\":{\"id\":\"a777dae8-96e1-4a1b-b224-f055d59ffb4d\"},\"view\":{\"type\":\"object\",\"name\":\"CDSView\",\"id\":\"6e9a7f9d-fa9e-4148-b61a-ab7fcf4de06c\",\"attributes\":{\"filter\":{\"type\":\"object\",\"name\":\"AllIndices\",\"id\":\"2596f7c2-4d51-4207-9e31-f23ee469782e\"}}},\"glyph\":{\"type\":\"object\",\"name\":\"Text\",\"id\":\"d0fd96bd-1f94-4eee-a936-57a5b4966346\",\"attributes\":{\"x\":{\"type\":\"value\",\"value\":-0.4},\"y\":{\"type\":\"value\",\"value\":0},\"text\":{\"type\":\"field\",\"field\":\"text\"},\"angle\":{\"type\":\"value\",\"value\":1.5707963267948966},\"text_color\":{\"type\":\"value\",\"value\":\"black\"},\"text_font_size\":{\"type\":\"value\",\"value\":\"6.25px\"}}},\"nonselection_glyph\":{\"type\":\"object\",\"name\":\"Text\",\"id\":\"50a6c28c-7027-4c6c-9f38-8d87e75efdba\",\"attributes\":{\"x\":{\"type\":\"value\",\"value\":-0.4},\"y\":{\"type\":\"value\",\"value\":0},\"text\":{\"type\":\"field\",\"field\":\"text\"},\"angle\":{\"type\":\"value\",\"value\":1.5707963267948966},\"text_color\":{\"type\":\"value\",\"value\":\"black\"},\"text_alpha\":{\"type\":\"value\",\"value\":0.1},\"text_font_size\":{\"type\":\"value\",\"value\":\"6.25px\"}}},\"muted_glyph\":{\"type\":\"object\",\"name\":\"Text\",\"id\":\"5ebd1b9a-498a-463f-91e3-3407f76d2b42\",\"attributes\":{\"x\":{\"type\":\"value\",\"value\":-0.4},\"y\":{\"type\":\"value\",\"value\":0},\"text\":{\"type\":\"field\",\"field\":\"text\"},\"angle\":{\"type\":\"value\",\"value\":1.5707963267948966},\"text_color\":{\"type\":\"value\",\"value\":\"black\"},\"text_alpha\":{\"type\":\"value\",\"value\":0.2},\"text_font_size\":{\"type\":\"value\",\"value\":\"6.25px\"}}}}}],\"toolbar\":{\"type\":\"object\",\"name\":\"Toolbar\",\"id\":\"e318def4-000f-426b-a32f-019832f279b1\"},\"toolbar_location\":null,\"right\":[{\"type\":\"object\",\"name\":\"LinearAxis\",\"id\":\"e3c746d2-65e5-4174-a809-9c7e818c5ce5\",\"attributes\":{\"ticker\":{\"type\":\"object\",\"name\":\"FixedTicker\",\"id\":\"c4006afa-cbcc-4f62-90d2-b4b90b86bad3\",\"attributes\":{\"ticks\":[0,100],\"minor_ticks\":[]}},\"formatter\":{\"type\":\"object\",\"name\":\"BasicTickFormatter\",\"id\":\"60ed04b9-9dcc-451a-a12c-7e2237e41682\"},\"axis_label\":\"\",\"axis_label_standoff\":2,\"axis_label_text_font_size\":\"0pt\",\"major_label_standoff\":2,\"major_label_policy\":{\"type\":\"object\",\"name\":\"AllLabels\",\"id\":\"0aabcded-2d39-4f3d-b6fd-e406cbf9e62b\"},\"major_label_text_font_size\":\"0pt\"}}],\"above\":[{\"type\":\"object\",\"name\":\"LinearAxis\",\"id\":\"ec0d22da-7e97-4cd1-95cd-84387ad1146a\",\"attributes\":{\"visible\":false,\"ticker\":{\"type\":\"object\",\"name\":\"BasicTicker\",\"id\":\"a066a419-8454-4ca4-ba36-c7827360f631\",\"attributes\":{\"mantissas\":[1,2,5]}},\"formatter\":{\"type\":\"object\",\"name\":\"BasicTickFormatter\",\"id\":\"5643ba62-c654-45c9-9a19-2cffaf0a2dbd\"},\"axis_label\":\"\",\"axis_label_standoff\":2,\"axis_label_text_font_size\":\"0pt\",\"major_label_standoff\":2,\"major_label_policy\":{\"type\":\"object\",\"name\":\"AllLabels\",\"id\":\"a65d9586-1ca9-4520-b828-bcccac2412fc\"},\"major_label_text_font_size\":\"0pt\"}}],\"center\":[{\"type\":\"object\",\"name\":\"Grid\",\"id\":\"57ef5846-1d5d-46c0-a49e-70f2cf76eabf\",\"attributes\":{\"visible\":false,\"axis\":{\"id\":\"ec0d22da-7e97-4cd1-95cd-84387ad1146a\"}}},{\"type\":\"object\",\"name\":\"Grid\",\"id\":\"6a6d4339-54c0-41bc-8d0a-1d6b8d95aab5\",\"attributes\":{\"visible\":false,\"dimension\":1,\"axis\":{\"id\":\"e3c746d2-65e5-4174-a809-9c7e818c5ce5\"}}}]}},{\"type\":\"object\",\"name\":\"Figure\",\"id\":\"cd83f0d5-2fa2-4310-b33f-b03123529a27\",\"attributes\":{\"name\":\"\",\"stylesheets\":[\"\\n:host(.pn-loading.pn-arc):before, .pn-loading.pn-arc:before {\\n  background-image: url(\\\"data:image/svg+xml;base64,PHN2ZyB4bWxucz0iaHR0cDovL3d3dy53My5vcmcvMjAwMC9zdmciIHN0eWxlPSJtYXJnaW46IGF1dG87IGJhY2tncm91bmQ6IG5vbmU7IGRpc3BsYXk6IGJsb2NrOyBzaGFwZS1yZW5kZXJpbmc6IGF1dG87IiB2aWV3Qm94PSIwIDAgMTAwIDEwMCIgcHJlc2VydmVBc3BlY3RSYXRpbz0ieE1pZFlNaWQiPiAgPGNpcmNsZSBjeD0iNTAiIGN5PSI1MCIgZmlsbD0ibm9uZSIgc3Ryb2tlPSIjYzNjM2MzIiBzdHJva2Utd2lkdGg9IjEwIiByPSIzNSIgc3Ryb2tlLWRhc2hhcnJheT0iMTY0LjkzMzYxNDMxMzQ2NDE1IDU2Ljk3Nzg3MTQzNzgyMTM4Ij4gICAgPGFuaW1hdGVUcmFuc2Zvcm0gYXR0cmlidXRlTmFtZT0idHJhbnNmb3JtIiB0eXBlPSJyb3RhdGUiIHJlcGVhdENvdW50PSJpbmRlZmluaXRlIiBkdXI9IjFzIiB2YWx1ZXM9IjAgNTAgNTA7MzYwIDUwIDUwIiBrZXlUaW1lcz0iMDsxIj48L2FuaW1hdGVUcmFuc2Zvcm0+ICA8L2NpcmNsZT48L3N2Zz4=\\\");\\n  background-size: auto calc(min(50%, 400px));\\n}\",{\"type\":\"object\",\"name\":\"ImportedStyleSheet\",\"id\":\"7b4c1582-194e-4e3d-84f7-7e206ae895f0\",\"attributes\":{\"url\":\"https://cdn.holoviz.org/panel/1.1.0/dist/css/loading.css\"}},{\"type\":\"object\",\"name\":\"ImportedStyleSheet\",\"id\":\"b4a31d3a-b714-4601-b85a-db03f5fa98f2\",\"attributes\":{\"url\":\"https://cdn.holoviz.org/panel/1.1.0/dist/bundled/theme/default.css\"}},{\"type\":\"object\",\"name\":\"ImportedStyleSheet\",\"id\":\"3c7af5c3-f5b4-4c46-a108-b5ff3b371720\",\"attributes\":{\"url\":\"https://cdn.holoviz.org/panel/1.1.0/dist/bundled/theme/native.css\"}}],\"width\":50,\"height\":200,\"margin\":[5,10],\"sizing_mode\":\"fixed\",\"align\":\"start\",\"x_range\":{\"type\":\"object\",\"name\":\"DataRange1d\",\"id\":\"ddd8b652-f52e-4c76-9e6d-3e9ea564f9a2\",\"attributes\":{\"start\":-0.8,\"end\":0.5}},\"y_range\":{\"type\":\"object\",\"name\":\"DataRange1d\",\"id\":\"bd5780cc-60b0-4fec-b018-9fb342d090cb\",\"attributes\":{\"start\":0,\"end\":100}},\"x_scale\":{\"type\":\"object\",\"name\":\"LinearScale\",\"id\":\"5a274bbf-aad3-46c5-bc67-4b95da055fed\"},\"y_scale\":{\"type\":\"object\",\"name\":\"LinearScale\",\"id\":\"93fd2c91-3d10-488d-aa7d-7758dbcb8d56\"},\"title\":{\"type\":\"object\",\"name\":\"Title\",\"id\":\"28f328d7-df14-48cb-96b3-1c447fbe8bbd\"},\"outline_line_color\":null,\"renderers\":[{\"type\":\"object\",\"name\":\"GlyphRenderer\",\"id\":\"555719ae-866d-4756-924c-c9b891f0078f\",\"attributes\":{\"data_source\":{\"type\":\"object\",\"name\":\"ColumnDataSource\",\"id\":\"3323b4e0-0ee3-4526-98af-6220e704c3e2\",\"attributes\":{\"name\":\"bar_source\",\"selected\":{\"type\":\"object\",\"name\":\"Selection\",\"id\":\"9d947d91-5a8c-4d85-9918-a1b5061fa2f8\",\"attributes\":{\"indices\":[],\"line_indices\":[]}},\"selection_policy\":{\"type\":\"object\",\"name\":\"UnionRenderers\",\"id\":\"2ea49d43-18fd-4870-8a7b-aa74e34e5396\"},\"data\":{\"type\":\"map\",\"entries\":[[\"y0\",[0,0.0,50.0]],[\"y1\",[0.0,50.0,100]],[\"color\",[\"lightgreen\",\"whitesmoke\",\"whitesmoke\"]]]}}},\"view\":{\"type\":\"object\",\"name\":\"CDSView\",\"id\":\"cb5810b4-0ba2-4289-87c6-e927cd37292f\",\"attributes\":{\"filter\":{\"type\":\"object\",\"name\":\"AllIndices\",\"id\":\"aa3ba336-dbd9-4081-be3b-fbdd73c95621\"}}},\"glyph\":{\"type\":\"object\",\"name\":\"VBar\",\"id\":\"aa525704-3878-48b8-9828-42a9b2952aae\",\"attributes\":{\"x\":{\"type\":\"value\",\"value\":0.1},\"width\":{\"type\":\"value\",\"value\":0.9},\"bottom\":{\"type\":\"field\",\"field\":\"y0\"},\"top\":{\"type\":\"field\",\"field\":\"y1\"},\"line_color\":{\"type\":\"field\",\"field\":\"color\"},\"fill_color\":{\"type\":\"field\",\"field\":\"color\"},\"hatch_color\":{\"type\":\"field\",\"field\":\"color\"}}},\"nonselection_glyph\":{\"type\":\"object\",\"name\":\"VBar\",\"id\":\"9b7e6781-67fb-4cac-b447-baa384a02306\",\"attributes\":{\"x\":{\"type\":\"value\",\"value\":0.1},\"width\":{\"type\":\"value\",\"value\":0.9},\"bottom\":{\"type\":\"field\",\"field\":\"y0\"},\"top\":{\"type\":\"field\",\"field\":\"y1\"},\"line_color\":{\"type\":\"field\",\"field\":\"color\"},\"line_alpha\":{\"type\":\"value\",\"value\":0.1},\"fill_color\":{\"type\":\"field\",\"field\":\"color\"},\"fill_alpha\":{\"type\":\"value\",\"value\":0.1},\"hatch_color\":{\"type\":\"field\",\"field\":\"color\"},\"hatch_alpha\":{\"type\":\"value\",\"value\":0.1}}},\"muted_glyph\":{\"type\":\"object\",\"name\":\"VBar\",\"id\":\"b1d3350e-7c2b-40b5-b52a-010d446bd760\",\"attributes\":{\"x\":{\"type\":\"value\",\"value\":0.1},\"width\":{\"type\":\"value\",\"value\":0.9},\"bottom\":{\"type\":\"field\",\"field\":\"y0\"},\"top\":{\"type\":\"field\",\"field\":\"y1\"},\"line_color\":{\"type\":\"field\",\"field\":\"color\"},\"line_alpha\":{\"type\":\"value\",\"value\":0.2},\"fill_color\":{\"type\":\"field\",\"field\":\"color\"},\"fill_alpha\":{\"type\":\"value\",\"value\":0.2},\"hatch_color\":{\"type\":\"field\",\"field\":\"color\"},\"hatch_alpha\":{\"type\":\"value\",\"value\":0.2}}}}},{\"type\":\"object\",\"name\":\"GlyphRenderer\",\"id\":\"5d91411c-f392-41b1-8caa-f93cd841b4a2\",\"attributes\":{\"name\":\"needle_renderer\",\"level\":\"overlay\",\"data_source\":{\"type\":\"object\",\"name\":\"ColumnDataSource\",\"id\":\"7bb211fb-749f-418d-96c2-8851ba68cc58\",\"attributes\":{\"name\":\"needle_source\",\"selected\":{\"type\":\"object\",\"name\":\"Selection\",\"id\":\"15576f73-5001-4367-bf09-dcc69236c07a\",\"attributes\":{\"indices\":[],\"line_indices\":[]}},\"selection_policy\":{\"type\":\"object\",\"name\":\"UnionRenderers\",\"id\":\"639143d6-48f9-4a64-b449-8052bf46c606\"},\"data\":{\"type\":\"map\",\"entries\":[[\"y\",[0.0]],[\"text\",[\"\"]]]}}},\"view\":{\"type\":\"object\",\"name\":\"CDSView\",\"id\":\"e9b07ffa-3e36-4b4a-9c2c-1194e8832cd3\",\"attributes\":{\"filter\":{\"type\":\"object\",\"name\":\"AllIndices\",\"id\":\"d3e42df8-4745-4a67-b456-ca1036020531\"}}},\"glyph\":{\"type\":\"object\",\"name\":\"Scatter\",\"id\":\"19c49cf7-80df-4a48-86bc-58728c1a6ab9\",\"attributes\":{\"x\":{\"type\":\"value\",\"value\":0.5},\"y\":{\"type\":\"field\",\"field\":\"y\"},\"size\":{\"type\":\"value\",\"value\":6},\"angle\":{\"type\":\"value\",\"value\":1.5707963267948966},\"line_color\":{\"type\":\"field\",\"field\":\"\"},\"fill_color\":{\"type\":\"field\",\"field\":\"\"},\"marker\":{\"type\":\"value\",\"value\":\"triangle\"}}},\"nonselection_glyph\":{\"type\":\"object\",\"name\":\"Scatter\",\"id\":\"78a92688-62c4-439e-8a0d-7504039f80a7\",\"attributes\":{\"x\":{\"type\":\"value\",\"value\":0.5},\"y\":{\"type\":\"field\",\"field\":\"y\"},\"size\":{\"type\":\"value\",\"value\":6},\"angle\":{\"type\":\"value\",\"value\":1.5707963267948966},\"line_color\":{\"type\":\"field\",\"field\":\"\"},\"line_alpha\":{\"type\":\"value\",\"value\":0.1},\"fill_color\":{\"type\":\"field\",\"field\":\"\"},\"fill_alpha\":{\"type\":\"value\",\"value\":0.1},\"hatch_alpha\":{\"type\":\"value\",\"value\":0.1},\"marker\":{\"type\":\"value\",\"value\":\"triangle\"}}},\"muted_glyph\":{\"type\":\"object\",\"name\":\"Scatter\",\"id\":\"bd8b49c2-e34d-4f50-ab02-c0f151f17575\",\"attributes\":{\"x\":{\"type\":\"value\",\"value\":0.5},\"y\":{\"type\":\"field\",\"field\":\"y\"},\"size\":{\"type\":\"value\",\"value\":6},\"angle\":{\"type\":\"value\",\"value\":1.5707963267948966},\"line_color\":{\"type\":\"field\",\"field\":\"\"},\"line_alpha\":{\"type\":\"value\",\"value\":0.2},\"fill_color\":{\"type\":\"field\",\"field\":\"\"},\"fill_alpha\":{\"type\":\"value\",\"value\":0.2},\"hatch_alpha\":{\"type\":\"value\",\"value\":0.2},\"marker\":{\"type\":\"value\",\"value\":\"triangle\"}}}}},{\"type\":\"object\",\"name\":\"GlyphRenderer\",\"id\":\"004b1d56-4394-4080-89b7-37560c918ddc\",\"attributes\":{\"data_source\":{\"id\":\"7bb211fb-749f-418d-96c2-8851ba68cc58\"},\"view\":{\"type\":\"object\",\"name\":\"CDSView\",\"id\":\"770708e9-a28b-4e6d-a07a-5b936a369554\",\"attributes\":{\"filter\":{\"type\":\"object\",\"name\":\"AllIndices\",\"id\":\"c96e08d5-8d52-4853-9e27-41b93c3c1df3\"}}},\"glyph\":{\"type\":\"object\",\"name\":\"Text\",\"id\":\"d2d89f94-2a2d-42f9-8a37-23ef2be2fd30\",\"attributes\":{\"x\":{\"type\":\"value\",\"value\":-0.4},\"y\":{\"type\":\"value\",\"value\":0},\"text\":{\"type\":\"field\",\"field\":\"text\"},\"angle\":{\"type\":\"value\",\"value\":1.5707963267948966},\"text_color\":{\"type\":\"value\",\"value\":\"black\"},\"text_font_size\":{\"type\":\"value\",\"value\":\"6.25px\"}}},\"nonselection_glyph\":{\"type\":\"object\",\"name\":\"Text\",\"id\":\"1ac59e8f-79c1-47ee-930c-84003f4e49bc\",\"attributes\":{\"x\":{\"type\":\"value\",\"value\":-0.4},\"y\":{\"type\":\"value\",\"value\":0},\"text\":{\"type\":\"field\",\"field\":\"text\"},\"angle\":{\"type\":\"value\",\"value\":1.5707963267948966},\"text_color\":{\"type\":\"value\",\"value\":\"black\"},\"text_alpha\":{\"type\":\"value\",\"value\":0.1},\"text_font_size\":{\"type\":\"value\",\"value\":\"6.25px\"}}},\"muted_glyph\":{\"type\":\"object\",\"name\":\"Text\",\"id\":\"767cc40e-0fd6-4251-97af-d84bf087b524\",\"attributes\":{\"x\":{\"type\":\"value\",\"value\":-0.4},\"y\":{\"type\":\"value\",\"value\":0},\"text\":{\"type\":\"field\",\"field\":\"text\"},\"angle\":{\"type\":\"value\",\"value\":1.5707963267948966},\"text_color\":{\"type\":\"value\",\"value\":\"black\"},\"text_alpha\":{\"type\":\"value\",\"value\":0.2},\"text_font_size\":{\"type\":\"value\",\"value\":\"6.25px\"}}}}}],\"toolbar\":{\"type\":\"object\",\"name\":\"Toolbar\",\"id\":\"8b2ff8f9-ce30-4938-a507-ade7f41fe302\"},\"toolbar_location\":null,\"right\":[{\"type\":\"object\",\"name\":\"LinearAxis\",\"id\":\"2acb0378-5ba2-4042-95e1-b86930e911bf\",\"attributes\":{\"ticker\":{\"type\":\"object\",\"name\":\"FixedTicker\",\"id\":\"be7121f5-4608-463b-8c43-e63bfeeedade\",\"attributes\":{\"ticks\":[0,100],\"minor_ticks\":[]}},\"formatter\":{\"type\":\"object\",\"name\":\"BasicTickFormatter\",\"id\":\"b0703e71-2074-4a67-8ae0-e94ac5db197f\"},\"axis_label\":\"\",\"axis_label_standoff\":2,\"axis_label_text_font_size\":\"0pt\",\"major_label_standoff\":2,\"major_label_policy\":{\"type\":\"object\",\"name\":\"AllLabels\",\"id\":\"00fe33cd-4fbb-4e26-bd68-718423949265\"},\"major_label_text_font_size\":\"0pt\"}}],\"above\":[{\"type\":\"object\",\"name\":\"LinearAxis\",\"id\":\"731b1b77-a027-4677-88d7-071b5b481d73\",\"attributes\":{\"visible\":false,\"ticker\":{\"type\":\"object\",\"name\":\"BasicTicker\",\"id\":\"fd1785fa-75bd-4365-8d7b-a5fa8f057860\",\"attributes\":{\"mantissas\":[1,2,5]}},\"formatter\":{\"type\":\"object\",\"name\":\"BasicTickFormatter\",\"id\":\"ea309583-571f-4bc1-b7d6-28bef1cd9cfe\"},\"axis_label\":\"\",\"axis_label_standoff\":2,\"axis_label_text_font_size\":\"0pt\",\"major_label_standoff\":2,\"major_label_policy\":{\"type\":\"object\",\"name\":\"AllLabels\",\"id\":\"e323ec32-38ff-4a6c-83d3-b7dfb69231be\"},\"major_label_text_font_size\":\"0pt\"}}],\"center\":[{\"type\":\"object\",\"name\":\"Grid\",\"id\":\"66f8deec-7a3e-42bb-bd24-21259a40305d\",\"attributes\":{\"visible\":false,\"axis\":{\"id\":\"731b1b77-a027-4677-88d7-071b5b481d73\"}}},{\"type\":\"object\",\"name\":\"Grid\",\"id\":\"181bfd46-5401-477f-9b75-1c27e2a5a3f3\",\"attributes\":{\"visible\":false,\"dimension\":1,\"axis\":{\"id\":\"2acb0378-5ba2-4042-95e1-b86930e911bf\"}}}]}},{\"type\":\"object\",\"name\":\"Figure\",\"id\":\"8a8f34d1-643a-4b15-8f09-1a63edf02a7e\",\"attributes\":{\"name\":\"\",\"stylesheets\":[\"\\n:host(.pn-loading.pn-arc):before, .pn-loading.pn-arc:before {\\n  background-image: url(\\\"data:image/svg+xml;base64,PHN2ZyB4bWxucz0iaHR0cDovL3d3dy53My5vcmcvMjAwMC9zdmciIHN0eWxlPSJtYXJnaW46IGF1dG87IGJhY2tncm91bmQ6IG5vbmU7IGRpc3BsYXk6IGJsb2NrOyBzaGFwZS1yZW5kZXJpbmc6IGF1dG87IiB2aWV3Qm94PSIwIDAgMTAwIDEwMCIgcHJlc2VydmVBc3BlY3RSYXRpbz0ieE1pZFlNaWQiPiAgPGNpcmNsZSBjeD0iNTAiIGN5PSI1MCIgZmlsbD0ibm9uZSIgc3Ryb2tlPSIjYzNjM2MzIiBzdHJva2Utd2lkdGg9IjEwIiByPSIzNSIgc3Ryb2tlLWRhc2hhcnJheT0iMTY0LjkzMzYxNDMxMzQ2NDE1IDU2Ljk3Nzg3MTQzNzgyMTM4Ij4gICAgPGFuaW1hdGVUcmFuc2Zvcm0gYXR0cmlidXRlTmFtZT0idHJhbnNmb3JtIiB0eXBlPSJyb3RhdGUiIHJlcGVhdENvdW50PSJpbmRlZmluaXRlIiBkdXI9IjFzIiB2YWx1ZXM9IjAgNTAgNTA7MzYwIDUwIDUwIiBrZXlUaW1lcz0iMDsxIj48L2FuaW1hdGVUcmFuc2Zvcm0+ICA8L2NpcmNsZT48L3N2Zz4=\\\");\\n  background-size: auto calc(min(50%, 400px));\\n}\",{\"type\":\"object\",\"name\":\"ImportedStyleSheet\",\"id\":\"5c328f77-d5a8-48cb-9a56-22b62e8b94ff\",\"attributes\":{\"url\":\"https://cdn.holoviz.org/panel/1.1.0/dist/css/loading.css\"}},{\"type\":\"object\",\"name\":\"ImportedStyleSheet\",\"id\":\"e9e59f00-bfab-444d-8bf0-83034bba19e5\",\"attributes\":{\"url\":\"https://cdn.holoviz.org/panel/1.1.0/dist/bundled/theme/default.css\"}},{\"type\":\"object\",\"name\":\"ImportedStyleSheet\",\"id\":\"e48744ad-600e-4cf2-9c6b-7b6821458106\",\"attributes\":{\"url\":\"https://cdn.holoviz.org/panel/1.1.0/dist/bundled/theme/native.css\"}}],\"width\":50,\"height\":200,\"margin\":[5,10],\"sizing_mode\":\"fixed\",\"align\":\"start\",\"x_range\":{\"type\":\"object\",\"name\":\"DataRange1d\",\"id\":\"843ac781-bbb6-47aa-9c58-3522f4bd857f\",\"attributes\":{\"start\":-0.8,\"end\":0.5}},\"y_range\":{\"type\":\"object\",\"name\":\"DataRange1d\",\"id\":\"48e13fdd-ea4a-4582-9bd2-5b292b876f3e\",\"attributes\":{\"start\":0,\"end\":100}},\"x_scale\":{\"type\":\"object\",\"name\":\"LinearScale\",\"id\":\"e5128969-6fea-44e9-945e-764c62804b14\"},\"y_scale\":{\"type\":\"object\",\"name\":\"LinearScale\",\"id\":\"eb8b7253-cc0b-4e22-a4b3-4c2adb62434a\"},\"title\":{\"type\":\"object\",\"name\":\"Title\",\"id\":\"38224c92-33a6-4541-a649-4c01e0fe07db\"},\"outline_line_color\":null,\"renderers\":[{\"type\":\"object\",\"name\":\"GlyphRenderer\",\"id\":\"c0a12690-dd18-4809-8e6e-fb468b2e6219\",\"attributes\":{\"data_source\":{\"type\":\"object\",\"name\":\"ColumnDataSource\",\"id\":\"6d58a283-523a-43d2-a78c-df5d97c26a32\",\"attributes\":{\"name\":\"bar_source\",\"selected\":{\"type\":\"object\",\"name\":\"Selection\",\"id\":\"d158aa7f-3d36-4532-9376-954db22d8620\",\"attributes\":{\"indices\":[],\"line_indices\":[]}},\"selection_policy\":{\"type\":\"object\",\"name\":\"UnionRenderers\",\"id\":\"bedd7a98-c392-4f5d-a0df-4cb3fcd307a5\"},\"data\":{\"type\":\"map\",\"entries\":[[\"y0\",[0,0.0,50.0]],[\"y1\",[0.0,50.0,100]],[\"color\",[\"lightgreen\",\"whitesmoke\",\"whitesmoke\"]]]}}},\"view\":{\"type\":\"object\",\"name\":\"CDSView\",\"id\":\"d28569f3-d423-4505-aece-5af1c4caf92c\",\"attributes\":{\"filter\":{\"type\":\"object\",\"name\":\"AllIndices\",\"id\":\"a68e9e70-7bb0-476a-842f-8beb33043674\"}}},\"glyph\":{\"type\":\"object\",\"name\":\"VBar\",\"id\":\"dd3cb369-a66e-4f35-a926-6cc4102dcf17\",\"attributes\":{\"x\":{\"type\":\"value\",\"value\":0.1},\"width\":{\"type\":\"value\",\"value\":0.9},\"bottom\":{\"type\":\"field\",\"field\":\"y0\"},\"top\":{\"type\":\"field\",\"field\":\"y1\"},\"line_color\":{\"type\":\"field\",\"field\":\"color\"},\"fill_color\":{\"type\":\"field\",\"field\":\"color\"},\"hatch_color\":{\"type\":\"field\",\"field\":\"color\"}}},\"nonselection_glyph\":{\"type\":\"object\",\"name\":\"VBar\",\"id\":\"894b712f-2471-4456-928c-439b5ebab3d3\",\"attributes\":{\"x\":{\"type\":\"value\",\"value\":0.1},\"width\":{\"type\":\"value\",\"value\":0.9},\"bottom\":{\"type\":\"field\",\"field\":\"y0\"},\"top\":{\"type\":\"field\",\"field\":\"y1\"},\"line_color\":{\"type\":\"field\",\"field\":\"color\"},\"line_alpha\":{\"type\":\"value\",\"value\":0.1},\"fill_color\":{\"type\":\"field\",\"field\":\"color\"},\"fill_alpha\":{\"type\":\"value\",\"value\":0.1},\"hatch_color\":{\"type\":\"field\",\"field\":\"color\"},\"hatch_alpha\":{\"type\":\"value\",\"value\":0.1}}},\"muted_glyph\":{\"type\":\"object\",\"name\":\"VBar\",\"id\":\"295dec24-c7aa-4e1d-9e97-9085f8e0735e\",\"attributes\":{\"x\":{\"type\":\"value\",\"value\":0.1},\"width\":{\"type\":\"value\",\"value\":0.9},\"bottom\":{\"type\":\"field\",\"field\":\"y0\"},\"top\":{\"type\":\"field\",\"field\":\"y1\"},\"line_color\":{\"type\":\"field\",\"field\":\"color\"},\"line_alpha\":{\"type\":\"value\",\"value\":0.2},\"fill_color\":{\"type\":\"field\",\"field\":\"color\"},\"fill_alpha\":{\"type\":\"value\",\"value\":0.2},\"hatch_color\":{\"type\":\"field\",\"field\":\"color\"},\"hatch_alpha\":{\"type\":\"value\",\"value\":0.2}}}}},{\"type\":\"object\",\"name\":\"GlyphRenderer\",\"id\":\"c898b5b3-7051-43d2-bf6a-f0cd37fb065d\",\"attributes\":{\"name\":\"needle_renderer\",\"level\":\"overlay\",\"data_source\":{\"type\":\"object\",\"name\":\"ColumnDataSource\",\"id\":\"2f5b3964-58b4-40d9-ba43-96283081a2a3\",\"attributes\":{\"name\":\"needle_source\",\"selected\":{\"type\":\"object\",\"name\":\"Selection\",\"id\":\"d4f32a9c-17ef-48b2-95eb-625bd7a51619\",\"attributes\":{\"indices\":[],\"line_indices\":[]}},\"selection_policy\":{\"type\":\"object\",\"name\":\"UnionRenderers\",\"id\":\"a2b50ec9-d8e6-49d1-871a-e44b672b145b\"},\"data\":{\"type\":\"map\",\"entries\":[[\"y\",[0.0]],[\"text\",[\"\"]]]}}},\"view\":{\"type\":\"object\",\"name\":\"CDSView\",\"id\":\"a662297e-eab6-4a57-a2eb-1c6a6ef4a99a\",\"attributes\":{\"filter\":{\"type\":\"object\",\"name\":\"AllIndices\",\"id\":\"f22988d9-bc43-437c-a1aa-cde9fc2ffb6c\"}}},\"glyph\":{\"type\":\"object\",\"name\":\"Scatter\",\"id\":\"5b935187-ec15-4b26-9544-fcf0a3dabe5d\",\"attributes\":{\"x\":{\"type\":\"value\",\"value\":0.5},\"y\":{\"type\":\"field\",\"field\":\"y\"},\"size\":{\"type\":\"value\",\"value\":6},\"angle\":{\"type\":\"value\",\"value\":1.5707963267948966},\"line_color\":{\"type\":\"field\",\"field\":\"\"},\"fill_color\":{\"type\":\"field\",\"field\":\"\"},\"marker\":{\"type\":\"value\",\"value\":\"triangle\"}}},\"nonselection_glyph\":{\"type\":\"object\",\"name\":\"Scatter\",\"id\":\"7b24810c-3bed-4fee-b2bd-432d7e43f604\",\"attributes\":{\"x\":{\"type\":\"value\",\"value\":0.5},\"y\":{\"type\":\"field\",\"field\":\"y\"},\"size\":{\"type\":\"value\",\"value\":6},\"angle\":{\"type\":\"value\",\"value\":1.5707963267948966},\"line_color\":{\"type\":\"field\",\"field\":\"\"},\"line_alpha\":{\"type\":\"value\",\"value\":0.1},\"fill_color\":{\"type\":\"field\",\"field\":\"\"},\"fill_alpha\":{\"type\":\"value\",\"value\":0.1},\"hatch_alpha\":{\"type\":\"value\",\"value\":0.1},\"marker\":{\"type\":\"value\",\"value\":\"triangle\"}}},\"muted_glyph\":{\"type\":\"object\",\"name\":\"Scatter\",\"id\":\"552f872f-33bb-436f-a453-20e1b86f3353\",\"attributes\":{\"x\":{\"type\":\"value\",\"value\":0.5},\"y\":{\"type\":\"field\",\"field\":\"y\"},\"size\":{\"type\":\"value\",\"value\":6},\"angle\":{\"type\":\"value\",\"value\":1.5707963267948966},\"line_color\":{\"type\":\"field\",\"field\":\"\"},\"line_alpha\":{\"type\":\"value\",\"value\":0.2},\"fill_color\":{\"type\":\"field\",\"field\":\"\"},\"fill_alpha\":{\"type\":\"value\",\"value\":0.2},\"hatch_alpha\":{\"type\":\"value\",\"value\":0.2},\"marker\":{\"type\":\"value\",\"value\":\"triangle\"}}}}},{\"type\":\"object\",\"name\":\"GlyphRenderer\",\"id\":\"fbeae42b-234b-405b-8489-cf6ed64b2c5c\",\"attributes\":{\"data_source\":{\"id\":\"2f5b3964-58b4-40d9-ba43-96283081a2a3\"},\"view\":{\"type\":\"object\",\"name\":\"CDSView\",\"id\":\"9fc4283d-43de-4404-9f0d-f2a2eaf174f8\",\"attributes\":{\"filter\":{\"type\":\"object\",\"name\":\"AllIndices\",\"id\":\"06a894d9-8cc7-498c-bc46-ecbf92f52340\"}}},\"glyph\":{\"type\":\"object\",\"name\":\"Text\",\"id\":\"dadf98d6-0fa8-4689-939d-7fc043b3e801\",\"attributes\":{\"x\":{\"type\":\"value\",\"value\":-0.4},\"y\":{\"type\":\"value\",\"value\":0},\"text\":{\"type\":\"field\",\"field\":\"text\"},\"angle\":{\"type\":\"value\",\"value\":1.5707963267948966},\"text_color\":{\"type\":\"value\",\"value\":\"black\"},\"text_font_size\":{\"type\":\"value\",\"value\":\"6.25px\"}}},\"nonselection_glyph\":{\"type\":\"object\",\"name\":\"Text\",\"id\":\"c6aaed05-7c88-4e6b-a3a3-909dc977ab7c\",\"attributes\":{\"x\":{\"type\":\"value\",\"value\":-0.4},\"y\":{\"type\":\"value\",\"value\":0},\"text\":{\"type\":\"field\",\"field\":\"text\"},\"angle\":{\"type\":\"value\",\"value\":1.5707963267948966},\"text_color\":{\"type\":\"value\",\"value\":\"black\"},\"text_alpha\":{\"type\":\"value\",\"value\":0.1},\"text_font_size\":{\"type\":\"value\",\"value\":\"6.25px\"}}},\"muted_glyph\":{\"type\":\"object\",\"name\":\"Text\",\"id\":\"c30d7908-5880-41ee-9d11-cd05d0e406d1\",\"attributes\":{\"x\":{\"type\":\"value\",\"value\":-0.4},\"y\":{\"type\":\"value\",\"value\":0},\"text\":{\"type\":\"field\",\"field\":\"text\"},\"angle\":{\"type\":\"value\",\"value\":1.5707963267948966},\"text_color\":{\"type\":\"value\",\"value\":\"black\"},\"text_alpha\":{\"type\":\"value\",\"value\":0.2},\"text_font_size\":{\"type\":\"value\",\"value\":\"6.25px\"}}}}}],\"toolbar\":{\"type\":\"object\",\"name\":\"Toolbar\",\"id\":\"956e222d-cc0c-45c1-b2e8-9c58116614e1\"},\"toolbar_location\":null,\"right\":[{\"type\":\"object\",\"name\":\"LinearAxis\",\"id\":\"da1ef0fa-e73c-4d4b-9c28-1b9085bac5f8\",\"attributes\":{\"ticker\":{\"type\":\"object\",\"name\":\"FixedTicker\",\"id\":\"8f9f97f8-70f5-47d8-bfea-51011dbe11d5\",\"attributes\":{\"ticks\":[0,100],\"minor_ticks\":[]}},\"formatter\":{\"type\":\"object\",\"name\":\"BasicTickFormatter\",\"id\":\"7df8907a-8494-419f-9c90-42d26a4ec716\"},\"axis_label\":\"\",\"axis_label_standoff\":2,\"axis_label_text_font_size\":\"0pt\",\"major_label_standoff\":2,\"major_label_policy\":{\"type\":\"object\",\"name\":\"AllLabels\",\"id\":\"a6ffa5d6-ce4e-4f67-add5-bb98ec1f32c1\"},\"major_label_text_font_size\":\"0pt\"}}],\"above\":[{\"type\":\"object\",\"name\":\"LinearAxis\",\"id\":\"fae7ff6f-229e-490a-a9dc-2e86db169f20\",\"attributes\":{\"visible\":false,\"ticker\":{\"type\":\"object\",\"name\":\"BasicTicker\",\"id\":\"6d4bf676-96d4-428e-b5bb-1a574988ee90\",\"attributes\":{\"mantissas\":[1,2,5]}},\"formatter\":{\"type\":\"object\",\"name\":\"BasicTickFormatter\",\"id\":\"c5dc8a7e-32d1-491e-8b9a-b774de09438c\"},\"axis_label\":\"\",\"axis_label_standoff\":2,\"axis_label_text_font_size\":\"0pt\",\"major_label_standoff\":2,\"major_label_policy\":{\"type\":\"object\",\"name\":\"AllLabels\",\"id\":\"26d6356a-6adf-4a20-b2e7-19f3d620f4cd\"},\"major_label_text_font_size\":\"0pt\"}}],\"center\":[{\"type\":\"object\",\"name\":\"Grid\",\"id\":\"b53d0fea-19a3-4e43-be3c-7938c37c025b\",\"attributes\":{\"visible\":false,\"axis\":{\"id\":\"fae7ff6f-229e-490a-a9dc-2e86db169f20\"}}},{\"type\":\"object\",\"name\":\"Grid\",\"id\":\"56a02e85-7be7-461f-9a78-eb72bfd31789\",\"attributes\":{\"visible\":false,\"dimension\":1,\"axis\":{\"id\":\"da1ef0fa-e73c-4d4b-9c28-1b9085bac5f8\"}}}]}}]}}]}},{\"type\":\"object\",\"name\":\"panel.models.comm_manager.CommManager\",\"id\":\"262c054a-5b6d-4793-aa2e-9b5a7884edef\",\"attributes\":{\"plot_id\":\"979fcc45-b831-4271-bdb0-6f6077a387fc\",\"comm_id\":\"1dcb28ec7a4b4bd88c887ae1c63c7c34\",\"client_comm_id\":\"2a37b4bf06e04a33b01961a8ebaf1414\"}}],\"callbacks\":{\"type\":\"map\"}}};\n",
       "  var render_items = [{\"docid\":\"39ee6e02-0f17-48a2-999c-3b7b62a48950\",\"roots\":{\"979fcc45-b831-4271-bdb0-6f6077a387fc\":\"e8f920ad-45db-406e-a27b-91dca573b45c\"},\"root_ids\":[\"979fcc45-b831-4271-bdb0-6f6077a387fc\"]}];\n",
       "  var docs = Object.values(docs_json)\n",
       "  if (!docs) {\n",
       "    return\n",
       "  }\n",
       "  const py_version = docs[0].version.replace('rc', '-rc.')\n",
       "  const is_dev = py_version.indexOf(\"+\") !== -1 || py_version.indexOf(\"-\") !== -1\n",
       "  function embed_document(root) {\n",
       "    var Bokeh = get_bokeh(root)\n",
       "    Bokeh.embed.embed_items_notebook(docs_json, render_items);\n",
       "    for (const render_item of render_items) {\n",
       "      for (const root_id of render_item.root_ids) {\n",
       "\tconst id_el = document.getElementById(root_id)\n",
       "\tif (id_el.children.length && (id_el.children[0].className === 'bk-root')) {\n",
       "\t  const root_el = id_el.children[0]\n",
       "\t  root_el.id = root_el.id + '-rendered'\n",
       "\t}\n",
       "      }\n",
       "    }\n",
       "  }\n",
       "  function get_bokeh(root) {\n",
       "    if (root.Bokeh === undefined) {\n",
       "      return null\n",
       "    } else if (root.Bokeh.version !== py_version && !is_dev) {\n",
       "      if (root.Bokeh.versions === undefined || !root.Bokeh.versions.has(py_version)) {\n",
       "\treturn null\n",
       "      }\n",
       "      return root.Bokeh.versions.get(py_version);\n",
       "    } else if (root.Bokeh.version === py_version) {\n",
       "      return root.Bokeh\n",
       "    }\n",
       "    return null\n",
       "  }\n",
       "  function is_loaded(root) {\n",
       "    var Bokeh = get_bokeh(root)\n",
       "    return (Bokeh != null && Bokeh.Panel !== undefined && ( root['jsPanel'] !== undefined))\n",
       "  }\n",
       "  if (is_loaded(root)) {\n",
       "    embed_document(root);\n",
       "  } else {\n",
       "    var attempts = 0;\n",
       "    var timer = setInterval(function(root) {\n",
       "      if (is_loaded(root)) {\n",
       "        clearInterval(timer);\n",
       "        embed_document(root);\n",
       "      } else if (document.readyState == \"complete\") {\n",
       "        attempts++;\n",
       "        if (attempts > 200) {\n",
       "          clearInterval(timer);\n",
       "\t  var Bokeh = get_bokeh(root)\n",
       "\t  if (Bokeh == null || Bokeh.Panel == null) {\n",
       "            console.warn(\"Panel: ERROR: Unable to run Panel code because Bokeh or Panel library is missing\");\n",
       "\t  } else {\n",
       "\t    console.warn(\"Panel: WARNING: Attempting to render but not all required libraries could be resolved.\")\n",
       "\t    embed_document(root)\n",
       "\t  }\n",
       "        }\n",
       "      }\n",
       "    }, 25, root)\n",
       "  }\n",
       "})(window);</script>"
      ],
      "text/plain": [
       "Column\n",
       "    [0] StaticText(value='2023-0626 15:33:31 UTC Lo...)\n",
       "    [1] Row(name='xxxx', styles={'background': '...})\n",
       "        [0] Markdown(str)\n",
       "        [1] LinearGauge(colors=[(0.5, 'lightgreen'), ...], default_color='lightgreen', height=200, tick_size='0pt', title_size='0pt', value=0.0, width=50)\n",
       "        [2] LinearGauge(colors=[(0.5, 'lightgreen'), ...], default_color='lightgreen', height=200, tick_size='0pt', title_size='0pt', value=0.0, width=50)\n",
       "        [3] LinearGauge(colors=[(0.5, 'lightgreen'), ...], default_color='lightgreen', height=200, tick_size='0pt', title_size='0pt', value=0.0, width=50)\n",
       "        [4] LinearGauge(colors=[(0.5, 'lightgreen'), ...], default_color='lightgreen', height=200, tick_size='0pt', title_size='0pt', value=0.0, width=50)\n",
       "        [5] LinearGauge(colors=[(0.5, 'lightgreen'), ...], default_color='lightgreen', height=200, tick_size='0pt', title_size='0pt', value=0.0, width=50)\n",
       "        [6] LinearGauge(colors=[(0.5, 'lightgreen'), ...], default_color='lightgreen', height=200, tick_size='0pt', title_size='0pt', value=0.0, width=50)\n",
       "        [7] LinearGauge(colors=[(0.5, 'lightgreen'), ...], default_color='lightgreen', height=200, tick_size='0pt', title_size='0pt', value=0.0, width=50)\n",
       "        [8] LinearGauge(colors=[(0.5, 'lightgreen'), ...], default_color='lightgreen', height=200, tick_size='0pt', title_size='0pt', value=0.0, width=50)\n",
       "        [9] LinearGauge(colors=[(0.5, 'lightgreen'), ...], default_color='lightgreen', height=200, tick_size='0pt', title_size='0pt', value=0.0, width=50)\n",
       "        [10] LinearGauge(colors=[(0.5, 'lightgreen'), ...], default_color='lightgreen', height=200, tick_size='0pt', title_size='0pt', value=0.0, width=50)"
      ]
     },
     "execution_count": null,
     "metadata": {
      "application/vnd.holoviews_exec.v0+json": {
       "id": "979fcc45-b831-4271-bdb0-6f6077a387fc"
      }
     },
     "output_type": "execute_result"
    }
   ],
   "source": [
    "cw = ds.FileSystem.CPU_WIDGET()\n",
    "cw.cpu_status_widget.servable()"
   ]
  },
  {
   "cell_type": "markdown",
   "metadata": {},
   "source": [
    "For debugging, you can check the status of the widget with `show_status()`."
   ]
  },
  {
   "cell_type": "code",
   "execution_count": null,
   "metadata": {},
   "outputs": [
    {
     "name": "stdout",
     "output_type": "stream",
     "text": [
      "      Thread Name                         Run  Alive    Loops  Interval\n",
      "Thread-5 (system_status_thread)          True   True        0   1.0 Sec\n"
     ]
    }
   ],
   "source": [
    "cw.show_status()"
   ]
  },
  {
   "cell_type": "markdown",
   "metadata": {},
   "source": [
    "You can also change the visibilty of the widget.  Let's hide it."
   ]
  },
  {
   "cell_type": "code",
   "execution_count": null,
   "metadata": {},
   "outputs": [],
   "source": [
    "cw.cpu_status_widget.visible = False"
   ]
  },
  {
   "cell_type": "markdown",
   "metadata": {},
   "source": [
    "Now lets redisplay it."
   ]
  },
  {
   "cell_type": "code",
   "execution_count": null,
   "metadata": {},
   "outputs": [],
   "source": [
    "cw.cpu_status_widget.visible = True"
   ]
  }
 ],
 "metadata": {
  "kernelspec": {
   "display_name": "python3",
   "language": "python",
   "name": "python3"
  }
 },
 "nbformat": 4,
 "nbformat_minor": 4
}
