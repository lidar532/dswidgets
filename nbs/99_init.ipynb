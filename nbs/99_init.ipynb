{
 "cells": [
  {
   "cell_type": "code",
   "execution_count": null,
   "id": "c70f39fa-93b4-42f7-827f-8f122c530e5c",
   "metadata": {},
   "outputs": [],
   "source": [
    "#| default_exp __init__"
   ]
  },
  {
   "cell_type": "markdown",
   "id": "057f6b1a-4e55-41ea-b0c2-890bc747e8c1",
   "metadata": {},
   "source": [
    "### Hidden Imports"
   ]
  },
  {
   "cell_type": "code",
   "execution_count": null,
   "id": "98e56733-34ac-4f8b-b1d2-a6402a1d6d8e",
   "metadata": {},
   "outputs": [],
   "source": [
    "#| hide\n",
    "from nbdev.showdoc  import *\n",
    "from fastcore.test  import *\n",
    "from fastcore.utils import *\n",
    "import nbdev"
   ]
  },
  {
   "cell_type": "code",
   "execution_count": null,
   "id": "90e87dda-d90f-47ed-a294-f7219cd52680",
   "metadata": {},
   "outputs": [],
   "source": [
    "import sys"
   ]
  },
  {
   "cell_type": "code",
   "execution_count": null,
   "id": "2de29be0-21fd-4467-b5e2-f8796a2946c8",
   "metadata": {},
   "outputs": [],
   "source": [
    "#| export\n",
    "import dswidgets.Buttons\n",
    "import dswidgets.FileSystem"
   ]
  },
  {
   "cell_type": "code",
   "execution_count": null,
   "id": "4ce99d89-8812-48e0-ad1a-40f9fc65d2b1",
   "metadata": {},
   "outputs": [],
   "source": []
  }
 ],
 "metadata": {
  "kernelspec": {
   "display_name": "Python 3 (ipykernel)",
   "language": "python",
   "name": "python3"
  },
  "language_info": {
   "codemirror_mode": {
    "name": "ipython",
    "version": 3
   },
   "file_extension": ".py",
   "mimetype": "text/x-python",
   "name": "python",
   "nbconvert_exporter": "python",
   "pygments_lexer": "ipython3",
   "version": "3.11.7"
  }
 },
 "nbformat": 4,
 "nbformat_minor": 5
}
