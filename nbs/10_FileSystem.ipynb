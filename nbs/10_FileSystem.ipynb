{
 "cells": [
  {
   "cell_type": "markdown",
   "metadata": {},
   "source": [
    "# widgets\n",
    "\n",
    "> Widgets for building data systems."
   ]
  },
  {
   "cell_type": "markdown",
   "metadata": {},
   "source": [
    "- File\n",
    "  - FolderSelector()\n",
    "  - Folder_Button()\n",
    "  \n",
    "- System [psutil](https://pypi.org/project/psutil/)\n",
    "  - CPU load, Percent, temperature\n",
    "  - Memory\n",
    "  - Disk \n",
    "    - Disk size\n",
    "    - Disk space remaining\n",
    "\n",
    "    \n"
   ]
  },
  {
   "cell_type": "code",
   "execution_count": null,
   "metadata": {},
   "outputs": [],
   "source": [
    "#| default_exp FileSystem"
   ]
  },
  {
   "cell_type": "markdown",
   "metadata": {},
   "source": [
    "## Imports"
   ]
  },
  {
   "cell_type": "markdown",
   "metadata": {},
   "source": [
    "### Module Imports"
   ]
  },
  {
   "cell_type": "code",
   "execution_count": null,
   "metadata": {},
   "outputs": [],
   "source": [
    "#| export\n",
    "import csv\n",
    "import datetime  as dt\n",
    "import panel     as pn\n",
    "import psutil    as ps\n",
    "import sys\n",
    "import threading as th\n",
    "import time\n",
    "\n",
    "from collections import namedtuple\n"
   ]
  },
  {
   "cell_type": "markdown",
   "metadata": {},
   "source": [
    "### Hidden Imports"
   ]
  },
  {
   "cell_type": "code",
   "execution_count": null,
   "metadata": {},
   "outputs": [],
   "source": [
    "#| hide\n",
    "from nbdev.showdoc  import *\n",
    "from fastcore.test  import *\n",
    "from fastcore.utils import *\n",
    "import nbdev"
   ]
  },
  {
   "cell_type": "code",
   "execution_count": null,
   "metadata": {},
   "outputs": [],
   "source": [
    "#| hide\n",
    "import nbdev; nbdev.nbdev_export()"
   ]
  },
  {
   "cell_type": "markdown",
   "metadata": {},
   "source": [
    "## Globals, Module wide"
   ]
  },
  {
   "cell_type": "markdown",
   "metadata": {},
   "source": [
    "## Init calls for local testing."
   ]
  },
  {
   "cell_type": "code",
   "execution_count": null,
   "metadata": {},
   "outputs": [
    {
     "data": {
      "application/javascript": [
       "(function(root) {\n",
       "  function now() {\n",
       "    return new Date();\n",
       "  }\n",
       "\n",
       "  var force = true;\n",
       "  var py_version = '3.1.1'.replace('rc', '-rc.');\n",
       "  var is_dev = py_version.indexOf(\"+\") !== -1 || py_version.indexOf(\"-\") !== -1;\n",
       "  var reloading = false;\n",
       "  var Bokeh = root.Bokeh;\n",
       "  var bokeh_loaded = Bokeh != null && (Bokeh.version === py_version || (Bokeh.versions !== undefined && Bokeh.versions.has(py_version)));\n",
       "\n",
       "  if (typeof (root._bokeh_timeout) === \"undefined\" || force) {\n",
       "    root._bokeh_timeout = Date.now() + 5000;\n",
       "    root._bokeh_failed_load = false;\n",
       "  }\n",
       "\n",
       "  function run_callbacks() {\n",
       "    try {\n",
       "      root._bokeh_onload_callbacks.forEach(function(callback) {\n",
       "        if (callback != null)\n",
       "          callback();\n",
       "      });\n",
       "    } finally {\n",
       "      delete root._bokeh_onload_callbacks;\n",
       "    }\n",
       "    console.debug(\"Bokeh: all callbacks have finished\");\n",
       "  }\n",
       "\n",
       "  function load_libs(css_urls, js_urls, js_modules, js_exports, callback) {\n",
       "    if (css_urls == null) css_urls = [];\n",
       "    if (js_urls == null) js_urls = [];\n",
       "    if (js_modules == null) js_modules = [];\n",
       "    if (js_exports == null) js_exports = {};\n",
       "\n",
       "    root._bokeh_onload_callbacks.push(callback);\n",
       "\n",
       "    if (root._bokeh_is_loading > 0) {\n",
       "      console.debug(\"Bokeh: BokehJS is being loaded, scheduling callback at\", now());\n",
       "      return null;\n",
       "    }\n",
       "    if (js_urls.length === 0 && js_modules.length === 0 && Object.keys(js_exports).length === 0) {\n",
       "      run_callbacks();\n",
       "      return null;\n",
       "    }\n",
       "    if (!reloading) {\n",
       "      console.debug(\"Bokeh: BokehJS not loaded, scheduling load and callback at\", now());\n",
       "    }\n",
       "\n",
       "    function on_load() {\n",
       "      root._bokeh_is_loading--;\n",
       "      if (root._bokeh_is_loading === 0) {\n",
       "        console.debug(\"Bokeh: all BokehJS libraries/stylesheets loaded\");\n",
       "        run_callbacks()\n",
       "      }\n",
       "    }\n",
       "    window._bokeh_on_load = on_load\n",
       "\n",
       "    function on_error() {\n",
       "      console.error(\"failed to load \" + url);\n",
       "    }\n",
       "\n",
       "    var skip = [];\n",
       "    if (window.requirejs) {\n",
       "      window.requirejs.config({'packages': {}, 'paths': {'jspanel': 'https://cdn.jsdelivr.net/npm/jspanel4@4.12.0/dist/jspanel', 'jspanel-modal': 'https://cdn.jsdelivr.net/npm/jspanel4@4.12.0/dist/extensions/modal/jspanel.modal', 'jspanel-tooltip': 'https://cdn.jsdelivr.net/npm/jspanel4@4.12.0/dist/extensions/tooltip/jspanel.tooltip', 'jspanel-hint': 'https://cdn.jsdelivr.net/npm/jspanel4@4.12.0/dist/extensions/hint/jspanel.hint', 'jspanel-layout': 'https://cdn.jsdelivr.net/npm/jspanel4@4.12.0/dist/extensions/layout/jspanel.layout', 'jspanel-contextmenu': 'https://cdn.jsdelivr.net/npm/jspanel4@4.12.0/dist/extensions/contextmenu/jspanel.contextmenu', 'jspanel-dock': 'https://cdn.jsdelivr.net/npm/jspanel4@4.12.0/dist/extensions/dock/jspanel.dock', 'gridstack': 'https://cdn.jsdelivr.net/npm/gridstack@7.2.3/dist/gridstack-all', 'notyf': 'https://cdn.jsdelivr.net/npm/notyf@3/notyf.min'}, 'shim': {'jspanel': {'exports': 'jsPanel'}, 'gridstack': {'exports': 'GridStack'}}});\n",
       "      require([\"jspanel\"], function(jsPanel) {\n",
       "\twindow.jsPanel = jsPanel\n",
       "\ton_load()\n",
       "      })\n",
       "      require([\"jspanel-modal\"], function() {\n",
       "\ton_load()\n",
       "      })\n",
       "      require([\"jspanel-tooltip\"], function() {\n",
       "\ton_load()\n",
       "      })\n",
       "      require([\"jspanel-hint\"], function() {\n",
       "\ton_load()\n",
       "      })\n",
       "      require([\"jspanel-layout\"], function() {\n",
       "\ton_load()\n",
       "      })\n",
       "      require([\"jspanel-contextmenu\"], function() {\n",
       "\ton_load()\n",
       "      })\n",
       "      require([\"jspanel-dock\"], function() {\n",
       "\ton_load()\n",
       "      })\n",
       "      require([\"gridstack\"], function(GridStack) {\n",
       "\twindow.GridStack = GridStack\n",
       "\ton_load()\n",
       "      })\n",
       "      require([\"notyf\"], function() {\n",
       "\ton_load()\n",
       "      })\n",
       "      root._bokeh_is_loading = css_urls.length + 9;\n",
       "    } else {\n",
       "      root._bokeh_is_loading = css_urls.length + js_urls.length + js_modules.length + Object.keys(js_exports).length;\n",
       "    }\n",
       "\n",
       "    var existing_stylesheets = []\n",
       "    var links = document.getElementsByTagName('link')\n",
       "    for (var i = 0; i < links.length; i++) {\n",
       "      var link = links[i]\n",
       "      if (link.href != null) {\n",
       "\texisting_stylesheets.push(link.href)\n",
       "      }\n",
       "    }\n",
       "    for (var i = 0; i < css_urls.length; i++) {\n",
       "      var url = css_urls[i];\n",
       "      if (existing_stylesheets.indexOf(url) !== -1) {\n",
       "\ton_load()\n",
       "\tcontinue;\n",
       "      }\n",
       "      const element = document.createElement(\"link\");\n",
       "      element.onload = on_load;\n",
       "      element.onerror = on_error;\n",
       "      element.rel = \"stylesheet\";\n",
       "      element.type = \"text/css\";\n",
       "      element.href = url;\n",
       "      console.debug(\"Bokeh: injecting link tag for BokehJS stylesheet: \", url);\n",
       "      document.body.appendChild(element);\n",
       "    }    if (((window['jsPanel'] !== undefined) && (!(window['jsPanel'] instanceof HTMLElement))) || window.requirejs) {\n",
       "      var urls = ['https://cdn.holoviz.org/panel/1.1.0/dist/bundled/floatpanel/jspanel4@4.12.0/dist/jspanel.js', 'https://cdn.holoviz.org/panel/1.1.0/dist/bundled/floatpanel/jspanel4@4.12.0/dist/extensions/modal/jspanel.modal.js', 'https://cdn.holoviz.org/panel/1.1.0/dist/bundled/floatpanel/jspanel4@4.12.0/dist/extensions/tooltip/jspanel.tooltip.js', 'https://cdn.holoviz.org/panel/1.1.0/dist/bundled/floatpanel/jspanel4@4.12.0/dist/extensions/hint/jspanel.hint.js', 'https://cdn.holoviz.org/panel/1.1.0/dist/bundled/floatpanel/jspanel4@4.12.0/dist/extensions/layout/jspanel.layout.js', 'https://cdn.holoviz.org/panel/1.1.0/dist/bundled/floatpanel/jspanel4@4.12.0/dist/extensions/contextmenu/jspanel.contextmenu.js', 'https://cdn.holoviz.org/panel/1.1.0/dist/bundled/floatpanel/jspanel4@4.12.0/dist/extensions/dock/jspanel.dock.js'];\n",
       "      for (var i = 0; i < urls.length; i++) {\n",
       "        skip.push(urls[i])\n",
       "      }\n",
       "    }    if (((window['GridStack'] !== undefined) && (!(window['GridStack'] instanceof HTMLElement))) || window.requirejs) {\n",
       "      var urls = ['https://cdn.holoviz.org/panel/1.1.0/dist/bundled/gridstack/gridstack@7.2.3/dist/gridstack-all.js'];\n",
       "      for (var i = 0; i < urls.length; i++) {\n",
       "        skip.push(urls[i])\n",
       "      }\n",
       "    }    if (((window['Notyf'] !== undefined) && (!(window['Notyf'] instanceof HTMLElement))) || window.requirejs) {\n",
       "      var urls = ['https://cdn.holoviz.org/panel/1.1.0/dist/bundled/notificationarea/notyf@3/notyf.min.js'];\n",
       "      for (var i = 0; i < urls.length; i++) {\n",
       "        skip.push(urls[i])\n",
       "      }\n",
       "    }    var existing_scripts = []\n",
       "    var scripts = document.getElementsByTagName('script')\n",
       "    for (var i = 0; i < scripts.length; i++) {\n",
       "      var script = scripts[i]\n",
       "      if (script.src != null) {\n",
       "\texisting_scripts.push(script.src)\n",
       "      }\n",
       "    }\n",
       "    for (var i = 0; i < js_urls.length; i++) {\n",
       "      var url = js_urls[i];\n",
       "      if (skip.indexOf(url) !== -1 || existing_scripts.indexOf(url) !== -1) {\n",
       "\tif (!window.requirejs) {\n",
       "\t  on_load();\n",
       "\t}\n",
       "\tcontinue;\n",
       "      }\n",
       "      var element = document.createElement('script');\n",
       "      element.onload = on_load;\n",
       "      element.onerror = on_error;\n",
       "      element.async = false;\n",
       "      element.src = url;\n",
       "      console.debug(\"Bokeh: injecting script tag for BokehJS library: \", url);\n",
       "      document.head.appendChild(element);\n",
       "    }\n",
       "    for (var i = 0; i < js_modules.length; i++) {\n",
       "      var url = js_modules[i];\n",
       "      if (skip.indexOf(url) !== -1 || existing_scripts.indexOf(url) !== -1) {\n",
       "\tif (!window.requirejs) {\n",
       "\t  on_load();\n",
       "\t}\n",
       "\tcontinue;\n",
       "      }\n",
       "      var element = document.createElement('script');\n",
       "      element.onload = on_load;\n",
       "      element.onerror = on_error;\n",
       "      element.async = false;\n",
       "      element.src = url;\n",
       "      element.type = \"module\";\n",
       "      console.debug(\"Bokeh: injecting script tag for BokehJS library: \", url);\n",
       "      document.head.appendChild(element);\n",
       "    }\n",
       "    for (const name in js_exports) {\n",
       "      var url = js_exports[name];\n",
       "      if (skip.indexOf(url) >= 0 || root[name] != null) {\n",
       "\tif (!window.requirejs) {\n",
       "\t  on_load();\n",
       "\t}\n",
       "\tcontinue;\n",
       "      }\n",
       "      var element = document.createElement('script');\n",
       "      element.onerror = on_error;\n",
       "      element.async = false;\n",
       "      element.type = \"module\";\n",
       "      console.debug(\"Bokeh: injecting script tag for BokehJS library: \", url);\n",
       "      element.textContent = `\n",
       "      import ${name} from \"${url}\"\n",
       "      window.${name} = ${name}\n",
       "      window._bokeh_on_load()\n",
       "      `\n",
       "      document.head.appendChild(element);\n",
       "    }\n",
       "    if (!js_urls.length && !js_modules.length) {\n",
       "      on_load()\n",
       "    }\n",
       "  };\n",
       "\n",
       "  function inject_raw_css(css) {\n",
       "    const element = document.createElement(\"style\");\n",
       "    element.appendChild(document.createTextNode(css));\n",
       "    document.body.appendChild(element);\n",
       "  }\n",
       "\n",
       "  var js_urls = [\"https://cdn.bokeh.org/bokeh/release/bokeh-3.1.1.min.js\", \"https://cdn.bokeh.org/bokeh/release/bokeh-gl-3.1.1.min.js\", \"https://cdn.bokeh.org/bokeh/release/bokeh-widgets-3.1.1.min.js\", \"https://cdn.bokeh.org/bokeh/release/bokeh-tables-3.1.1.min.js\", \"https://cdn.holoviz.org/panel/1.1.0/dist/bundled/floatpanel/jspanel4@4.12.0/dist/jspanel.js\", \"https://cdn.holoviz.org/panel/1.1.0/dist/bundled/floatpanel/jspanel4@4.12.0/dist/extensions/modal/jspanel.modal.js\", \"https://cdn.holoviz.org/panel/1.1.0/dist/bundled/floatpanel/jspanel4@4.12.0/dist/extensions/tooltip/jspanel.tooltip.js\", \"https://cdn.holoviz.org/panel/1.1.0/dist/bundled/floatpanel/jspanel4@4.12.0/dist/extensions/hint/jspanel.hint.js\", \"https://cdn.holoviz.org/panel/1.1.0/dist/bundled/floatpanel/jspanel4@4.12.0/dist/extensions/layout/jspanel.layout.js\", \"https://cdn.holoviz.org/panel/1.1.0/dist/bundled/floatpanel/jspanel4@4.12.0/dist/extensions/contextmenu/jspanel.contextmenu.js\", \"https://cdn.holoviz.org/panel/1.1.0/dist/bundled/floatpanel/jspanel4@4.12.0/dist/extensions/dock/jspanel.dock.js\", \"https://cdn.holoviz.org/panel/1.1.0/dist/panel.min.js\"];\n",
       "  var js_modules = [];\n",
       "  var js_exports = {};\n",
       "  var css_urls = [\"https://cdn.holoviz.org/panel/1.1.0/dist/bundled/floatpanel/jspanel4@4.12.0/dist/jspanel.css\"];\n",
       "  var inline_js = [    function(Bokeh) {\n",
       "      inject_raw_css(\"/**\\n * jsPanel - A JavaScript library to create highly configurable multifunctional floating panels that can also be used as modal, tooltip, hint or contextmenu\\n * @version v4.12.0\\n * @homepage https://jspanel.de/\\n * @license MIT\\n * @author Stefan Str\\u00e4\\u00dfer - info@jspanel.de\\n * @github https://github.com/Flyer53/jsPanel4.git\\n */\\n.default-bg, .secondary-bg {\\n  background-color: #b0bec5; }\\n\\n.primary-bg {\\n  background-color: #01579b; }\\n\\n.info-bg {\\n  background-color: #039be5; }\\n\\n.success-bg {\\n  background-color: #2e7d32; }\\n\\n.warning-bg {\\n  background-color: #f57f17; }\\n\\n.danger-bg {\\n  background-color: #dd2c00; }\\n\\n.light-bg {\\n  background-color: #e0e0e0; }\\n\\n.dark-bg {\\n  background-color: #263238; }\\n\\n.jsPanel {\\n  border: 0;\\n  box-sizing: border-box;\\n  vertical-align: baseline;\\n  font-family: Roboto,\\\"Open Sans\\\",Lato,\\\"Helvetica Neue\\\",Arial,sans-serif;\\n  font-weight: normal;\\n  display: flex;\\n  flex-direction: column;\\n  opacity: 0;\\n  overflow: visible;\\n  position: absolute;\\n  /* top: 0  do not remove, otherwise panel is at the very bottom of the page -> results in vertical scrollbars -> positioning at right incorrect */\\n  z-index: 100; }\\n  .jsPanel .jsPanel-hdr {\\n    border: 0;\\n    box-sizing: border-box;\\n    vertical-align: baseline;\\n    font-family: Roboto,\\\"Open Sans\\\",Lato,\\\"Helvetica Neue\\\",Arial,sans-serif;\\n    font-weight: normal;\\n    display: flex;\\n    flex-direction: column;\\n    flex-shrink: 0;\\n    line-height: normal; }\\n  .jsPanel .jsPanel-content {\\n    border: 0;\\n    box-sizing: border-box;\\n    vertical-align: baseline;\\n    font-family: Roboto,\\\"Open Sans\\\",Lato,\\\"Helvetica Neue\\\",Arial,sans-serif;\\n    font-weight: normal;\\n    background: #ffffff;\\n    color: #000000;\\n    font-size: 1rem;\\n    position: relative;\\n    overflow-x: hidden;\\n    overflow-y: auto;\\n    flex-grow: 1; }\\n    .jsPanel .jsPanel-content pre {\\n      color: inherit; }\\n  .jsPanel .jsPanel-ftr {\\n    flex-direction: row;\\n    justify-content: flex-end;\\n    flex-wrap: nowrap;\\n    align-items: center;\\n    display: none;\\n    box-sizing: border-box;\\n    font-size: 1rem;\\n    height: auto;\\n    background: #f5f5f5;\\n    font-weight: normal;\\n    color: black;\\n    overflow: hidden; }\\n  .jsPanel .jsPanel-ftr.active {\\n    display: flex;\\n    flex-shrink: 0;\\n    margin: 0;\\n    padding: 3px 8px; }\\n\\n.jsPanel-hdr.jsPanel-hdr-dark .jsPanel-btn:hover {\\n  background-color: rgba(255, 255, 255, 0.4); }\\n\\n.jsPanel-hdr.jsPanel-hdr-light .jsPanel-btn:hover {\\n  background-color: rgba(0, 0, 0, 0.15); }\\n\\n.jsPanel-hdr-toolbar {\\n  font-size: 1rem; }\\n\\n.jsPanel-headerbar {\\n  box-sizing: border-box;\\n  display: flex;\\n  flex-direction: row;\\n  flex-wrap: nowrap;\\n  align-items: center; }\\n  .jsPanel-headerbar img {\\n    vertical-align: middle;\\n    max-height: 38px; }\\n\\n.jsPanel-titlebar {\\n  display: flex;\\n  align-items: center;\\n  font-size: 1rem;\\n  flex: 1 1 0;\\n  cursor: move;\\n  height: 100%;\\n  overflow: hidden;\\n  user-select: none; }\\n  .jsPanel-titlebar .jsPanel-title {\\n    white-space: nowrap;\\n    overflow: hidden;\\n    text-overflow: ellipsis;\\n    font-variant: small-caps;\\n    font-weight: normal;\\n    margin: 0 5px 0 8px;\\n    min-width: 0; }\\n\\n.jsPanel-titlebar.jsPanel-rtl {\\n  flex-direction: row-reverse; }\\n\\n.jsPanel-controlbar {\\n  display: flex;\\n  align-items: center;\\n  align-self: start;\\n  touch-action: none;\\n  margin: 3px; }\\n  .jsPanel-controlbar .jsPanel-btn {\\n    cursor: pointer;\\n    touch-action: none;\\n    border-radius: 3px;\\n    border: 0;\\n    padding: 0;\\n    margin: 0;\\n    background-color: transparent;\\n    box-shadow: none; }\\n    .jsPanel-controlbar .jsPanel-btn svg.jsPanel-icon, .jsPanel-controlbar .jsPanel-btn span, .jsPanel-controlbar .jsPanel-btn i {\\n      vertical-align: middle; }\\n    .jsPanel-controlbar .jsPanel-btn span.glyphicon {\\n      padding: 0 2px; }\\n    .jsPanel-controlbar .jsPanel-btn svg.svg-inline--fa {\\n      margin: 2px 3px; }\\n  .jsPanel-controlbar .jsPanel-btn-normalize {\\n    display: none; }\\n  .jsPanel-controlbar .jsPanel-btn.jsPanel-btn-xl svg:not(.svg-inline--fa), .jsPanel-controlbar .jsPanel-btn.jsPanel-btn-xl span:not(.material-icons) {\\n    width: 2rem;\\n    height: 2rem;\\n    margin: 2px 3px; }\\n  .jsPanel-controlbar .jsPanel-btn.jsPanel-btn-xl .svg-inline--fa {\\n    font-size: 2rem; }\\n  .jsPanel-controlbar .jsPanel-btn.jsPanel-btn-xl span.material-icons {\\n    font-size: 2.2rem; }\\n  .jsPanel-controlbar .jsPanel-btn.jsPanel-btn-xl span[class^=fa] {\\n    width: auto;\\n    height: auto;\\n    font-size: 2rem;\\n    margin: 0 4px; }\\n  .jsPanel-controlbar .jsPanel-btn.jsPanel-btn-lg svg:not(.svg-inline--fa), .jsPanel-controlbar .jsPanel-btn.jsPanel-btn-lg span:not(.material-icons) {\\n    width: 1.75rem;\\n    height: 1.75rem;\\n    margin: 2px 3px; }\\n  .jsPanel-controlbar .jsPanel-btn.jsPanel-btn-lg .svg-inline--fa {\\n    font-size: 1.75rem; }\\n  .jsPanel-controlbar .jsPanel-btn.jsPanel-btn-lg span.material-icons {\\n    font-size: 1.9rem; }\\n  .jsPanel-controlbar .jsPanel-btn.jsPanel-btn-lg span[class^=fa] {\\n    width: auto;\\n    height: auto;\\n    font-size: 1.75rem; }\\n  .jsPanel-controlbar .jsPanel-btn.jsPanel-btn-md svg:not(.svg-inline--fa), .jsPanel-controlbar .jsPanel-btn.jsPanel-btn-md span:not(.material-icons) {\\n    width: 1.5rem;\\n    height: 1.5rem;\\n    margin: 2px 3px; }\\n  .jsPanel-controlbar .jsPanel-btn.jsPanel-btn-md .svg-inline--fa {\\n    font-size: 1.5rem; }\\n  .jsPanel-controlbar .jsPanel-btn.jsPanel-btn-md span.material-icons {\\n    font-size: 1.6rem; }\\n  .jsPanel-controlbar .jsPanel-btn.jsPanel-btn-md span[class^=fa] {\\n    width: auto;\\n    height: auto;\\n    font-size: 1.5rem; }\\n  .jsPanel-controlbar .jsPanel-btn.jsPanel-btn-sm svg:not(.svg-inline--fa), .jsPanel-controlbar .jsPanel-btn.jsPanel-btn-sm span:not(.material-icons) {\\n    width: 1.25rem;\\n    height: 1.25rem;\\n    margin: 2px 3px; }\\n  .jsPanel-controlbar .jsPanel-btn.jsPanel-btn-sm .svg-inline--fa {\\n    font-size: 1.25rem; }\\n  .jsPanel-controlbar .jsPanel-btn.jsPanel-btn-sm span.material-icons {\\n    font-size: 1.3rem; }\\n  .jsPanel-controlbar .jsPanel-btn.jsPanel-btn-sm span[class^=fa] {\\n    width: auto;\\n    height: auto;\\n    font-size: 1.25rem; }\\n  .jsPanel-controlbar .jsPanel-btn.jsPanel-btn-xs svg:not(.svg-inline--fa), .jsPanel-controlbar .jsPanel-btn.jsPanel-btn-xs span:not(.material-icons) {\\n    width: 1rem;\\n    height: 1rem;\\n    margin: 1px 3px; }\\n  .jsPanel-controlbar .jsPanel-btn.jsPanel-btn-xs .svg-inline--fa {\\n    font-size: 1rem; }\\n  .jsPanel-controlbar .jsPanel-btn.jsPanel-btn-xs span.material-icons {\\n    font-size: 1rem; }\\n  .jsPanel-controlbar .jsPanel-btn.jsPanel-btn-xs span[class^=fa] {\\n    width: auto;\\n    height: auto;\\n    font-size: 1rem; }\\n\\n.jsPanel-hdr-toolbar {\\n  display: none;\\n  width: auto;\\n  height: auto; }\\n\\n.jsPanel-hdr-toolbar.active {\\n  box-sizing: border-box;\\n  display: flex;\\n  flex-direction: row;\\n  flex-wrap: nowrap;\\n  align-items: center;\\n  padding: 3px 8px; }\\n\\n/* styles for panels using option.rtl */\\n.jsPanel-titlebar .jsPanel-title[dir=rtl] {\\n  margin: 0 8px 0 5px; }\\n\\n.jsPanel-hdr-toolbar[dir=rtl].active {\\n  padding: 0 8px 0 8px; }\\n\\n.jsPanel-content[dir=rtl] {\\n  text-align: right; }\\n\\n.jsPanel-ftr[dir=rtl] {\\n  flex-direction: row; }\\n\\n/* container that takes the minified jsPanels */\\n#jsPanel-replacement-container, .jsPanel-minimized-box, .jsPanel-minimized-container {\\n  display: flex;\\n  flex-flow: row wrap-reverse;\\n  background: transparent none repeat scroll 0 0;\\n  bottom: 0;\\n  height: auto;\\n  left: 0;\\n  position: fixed;\\n  width: auto;\\n  z-index: 9998; }\\n\\n.jsPanel-replacement {\\n  font-family: Roboto,\\\"Open Sans\\\",Lato,\\\"Helvetica Neue\\\",Arial,sans-serif;\\n  display: flex;\\n  align-items: center;\\n  width: 200px;\\n  height: 34px;\\n  margin: 1px 1px 0 0;\\n  z-index: 9999; }\\n  .jsPanel-replacement .jsPanel-hdr {\\n    flex-grow: 1;\\n    min-width: 0;\\n    padding: 0;\\n    height: 34px;\\n    overflow: hidden; }\\n    .jsPanel-replacement .jsPanel-hdr .jsPanel-headerlogo {\\n      max-width: 50%;\\n      overflow: hidden; }\\n      .jsPanel-replacement .jsPanel-hdr .jsPanel-headerlogo img {\\n        max-width: 100px;\\n        max-height: 34px; }\\n  .jsPanel-replacement .jsPanel-titlebar {\\n    cursor: default;\\n    min-width: 0; }\\n  .jsPanel-replacement .jsPanel-btn.jsPanel-btn-normalize {\\n    display: block; }\\n\\n.jsPanel-minimized-box, .jsPanel-minimized-container {\\n  position: absolute;\\n  width: 100%;\\n  overflow: hidden; }\\n\\n/* helper classes to make .jsPanel-content a flex box */\\n.flexOne {\\n  display: flex;\\n  flex-flow: row wrap; }\\n\\n/* css for resizeit handles -------------- */\\n.jsPanel-resizeit-handle {\\n  display: block;\\n  font-size: 0.1px;\\n  position: absolute;\\n  touch-action: none; }\\n\\n.jsPanel-resizeit-handle.jsPanel-resizeit-n {\\n  cursor: n-resize;\\n  height: 12px;\\n  left: 9px;\\n  top: -5px;\\n  width: calc(100% - 18px); }\\n\\n.jsPanel-resizeit-handle.jsPanel-resizeit-e {\\n  cursor: e-resize;\\n  height: calc(100% - 18px);\\n  right: -9px;\\n  top: 9px;\\n  width: 12px; }\\n\\n.jsPanel-resizeit-handle.jsPanel-resizeit-s {\\n  bottom: -9px;\\n  cursor: s-resize;\\n  height: 12px;\\n  left: 9px;\\n  width: calc(100% - 18px); }\\n\\n.jsPanel-resizeit-handle.jsPanel-resizeit-w {\\n  cursor: w-resize;\\n  height: calc(100% - 18px);\\n  left: -9px;\\n  top: 9px;\\n  width: 12px; }\\n\\n.jsPanel-resizeit-handle.jsPanel-resizeit-ne {\\n  cursor: ne-resize;\\n  height: 18px;\\n  right: -9px;\\n  top: -9px;\\n  width: 18px; }\\n\\n.jsPanel-resizeit-handle.jsPanel-resizeit-se {\\n  bottom: -9px;\\n  cursor: se-resize;\\n  height: 18px;\\n  right: -9px;\\n  width: 18px; }\\n\\n.jsPanel-resizeit-handle.jsPanel-resizeit-sw {\\n  bottom: -9px;\\n  cursor: sw-resize;\\n  height: 18px;\\n  left: -9px;\\n  width: 18px; }\\n\\n.jsPanel-resizeit-handle.jsPanel-resizeit-nw {\\n  cursor: nw-resize;\\n  height: 18px;\\n  left: -9px;\\n  top: -9px;\\n  width: 18px; }\\n\\n.jsPanel-drag-overlay {\\n  width: 100%;\\n  height: 100%;\\n  position: absolute;\\n  left: 0;\\n  top: 0; }\\n\\n/* Error panel ----------------- */\\n.jsPanel-error .jsPanel-content {\\n  border: 0 !important;\\n  padding-top: 0 !important;\\n  font-size: .9rem;\\n  text-align: center; }\\n  .jsPanel-error .jsPanel-content p {\\n    margin: 0 0 10px 0; }\\n  .jsPanel-error .jsPanel-content mark {\\n    background: lavender;\\n    border-radius: .33rem;\\n    padding: 0 8px;\\n    font-family: monospace; }\\n  .jsPanel-error .jsPanel-content .jsPanel-error-content-separator {\\n    width: 100%;\\n    height: 1px;\\n    background-image: linear-gradient(90deg, white 0%, rebeccapurple 50%, white 100%);\\n    margin-bottom: 10px; }\\n\\n/* box-shadows -------------------------------------------------------- */\\n.jsPanel-depth-1 {\\n  box-shadow: 0 3px 6px rgba(0, 0, 0, 0.16), 0 3px 6px rgba(0, 0, 0, 0.23); }\\n\\n.jsPanel-depth-2 {\\n  box-shadow: 0 10px 20px rgba(0, 0, 0, 0.19), 0 6px 6px rgba(0, 0, 0, 0.23); }\\n\\n.jsPanel-depth-3 {\\n  box-shadow: 0 14px 28px rgba(0, 0, 0, 0.25), 0 10px 10px rgba(0, 0, 0, 0.22); }\\n\\n.jsPanel-depth-4 {\\n  box-shadow: 0 19px 38px rgba(0, 0, 0, 0.3), 0 15px 12px rgba(0, 0, 0, 0.22); }\\n\\n.jsPanel-depth-5 {\\n  box-shadow: 0 24px 48px rgba(0, 0, 0, 0.3), 0 20px 14px rgba(0, 0, 0, 0.22); }\\n\\n/* snap sensitive areas ------------------------------------------------ */\\n.jsPanel-snap-area {\\n  position: fixed;\\n  background: black;\\n  opacity: .2;\\n  border: 1px solid silver;\\n  box-shadow: 0 14px 28px rgba(0, 0, 0, 0.5), 0 10px 10px rgba(0, 0, 0, 0.5);\\n  z-index: 9999; }\\n\\n.jsPanel-snap-area-lt, .jsPanel-snap-area-lc, .jsPanel-snap-area-lb, .jsPanel-snap-area-left-top, .jsPanel-snap-area-left-center, .jsPanel-snap-area-left-bottom {\\n  left: 0; }\\n\\n.jsPanel-snap-area-ct, .jsPanel-snap-area-cb {\\n  left: 37.5%; }\\n\\n.jsPanel-snap-area-rt, .jsPanel-snap-area-rc, .jsPanel-snap-area-rb, .jsPanel-snap-area-right-top, .jsPanel-snap-area-right-center, .jsPanel-snap-area-right-bottom {\\n  right: 0; }\\n\\n.jsPanel-snap-area-lt, .jsPanel-snap-area-ct, .jsPanel-snap-area-rt, .jsPanel-snap-area-left-top, .jsPanel-snap-area-center-top, .jsPanel-snap-area-right-top {\\n  top: 0; }\\n\\n.jsPanel-snap-area-lc, .jsPanel-snap-area-rc {\\n  top: 37.5%; }\\n\\n.jsPanel-snap-area-lb, .jsPanel-snap-area-cb, .jsPanel-snap-area-rb, .jsPanel-snap-area-left-bottom, .jsPanel-snap-area-center-bottom, .jsPanel-snap-area-right-bottom {\\n  bottom: 0; }\\n\\n.jsPanel-snap-area-ct, .jsPanel-snap-area-cb {\\n  width: 25%; }\\n\\n.jsPanel-snap-area-lc, .jsPanel-snap-area-rc {\\n  height: 25%; }\\n\\n.jsPanel-snap-area-lt, .jsPanel-snap-area-left-top {\\n  border-bottom-right-radius: 100%; }\\n\\n.jsPanel-snap-area-rt, .jsPanel-snap-area-right-top {\\n  border-bottom-left-radius: 100%; }\\n\\n.jsPanel-snap-area-rb, .jsPanel-snap-area-right-bottom {\\n  border-top-left-radius: 100%; }\\n\\n.jsPanel-snap-area-lb, .jsPanel-snap-area-left-bottom {\\n  border-top-right-radius: 100%; }\\n\\n/* tooltip and tooltip connectors */\\n.jsPanel-connector-left-top-corner,\\n.jsPanel-connector-right-top-corner,\\n.jsPanel-connector-left-bottom-corner,\\n.jsPanel-connector-right-bottom-corner {\\n  width: 12px;\\n  height: 12px;\\n  position: absolute;\\n  border-radius: 50%; }\\n\\n.jsPanel-connector-left-top-corner {\\n  left: calc(100% - 6px);\\n  top: calc(100% - 6px); }\\n\\n.jsPanel-connector-right-top-corner {\\n  left: -6px;\\n  top: calc(100% - 6px); }\\n\\n.jsPanel-connector-right-bottom-corner {\\n  left: -6px;\\n  top: -6px; }\\n\\n.jsPanel-connector-left-bottom-corner {\\n  left: calc(100% - 6px);\\n  top: -6px; }\\n\\n.jsPanel-connector-top,\\n.jsPanel-connector-topleft,\\n.jsPanel-connector-topright,\\n.jsPanel-connector-bottom,\\n.jsPanel-connector-bottomleft,\\n.jsPanel-connector-bottomright,\\n.jsPanel-connector-left,\\n.jsPanel-connector-lefttop,\\n.jsPanel-connector-leftbottom,\\n.jsPanel-connector-right,\\n.jsPanel-connector-righttop,\\n.jsPanel-connector-rightbottom {\\n  width: 0;\\n  height: 0;\\n  position: absolute;\\n  border: 12px solid transparent; }\\n\\n.jsPanel-connector-top,\\n.jsPanel-connector-topleft,\\n.jsPanel-connector-topright {\\n  top: 100%;\\n  border-bottom-width: 0; }\\n\\n.jsPanel-connector-top {\\n  left: calc(50% - 12px); }\\n\\n.jsPanel-connector-topleft {\\n  left: 0px; }\\n\\n.jsPanel-connector-topright {\\n  left: calc(100% - 24px); }\\n\\n.jsPanel-connector-bottom,\\n.jsPanel-connector-bottomleft,\\n.jsPanel-connector-bottomright {\\n  top: -12px;\\n  border-top-width: 0; }\\n\\n.jsPanel-connector-bottom {\\n  left: calc(50% - 12px); }\\n\\n.jsPanel-connector-bottomleft {\\n  left: 0px; }\\n\\n.jsPanel-connector-bottomright {\\n  left: calc(100% - 24px); }\\n\\n.jsPanel-connector-left,\\n.jsPanel-connector-lefttop,\\n.jsPanel-connector-leftbottom {\\n  left: 100%;\\n  border-right-width: 0; }\\n\\n.jsPanel-connector-left {\\n  top: calc(50% - 12px); }\\n\\n.jsPanel-connector-lefttop {\\n  top: 0px; }\\n\\n.jsPanel-connector-leftbottom {\\n  top: calc(100% - 24px); }\\n\\n.jsPanel-connector-right,\\n.jsPanel-connector-righttop,\\n.jsPanel-connector-rightbottom {\\n  left: -12px;\\n  border-left-width: 0; }\\n\\n.jsPanel-connector-right {\\n  top: calc(50% - 12px); }\\n\\n.jsPanel-connector-righttop {\\n  top: 0px; }\\n\\n.jsPanel-connector-rightbottom {\\n  top: calc(100% - 24px); }\\n\\n/* IE11 CSS styles go here */\\n@media all and (-ms-high-contrast: none), (-ms-high-contrast: active) {\\n  .jsPanel-replacement .jsPanel-titlebar {\\n    max-width: 105px; } }\\n\\n/* XXXXXXXXXXXXXXXXXXXXXXX */\\n/* css3 animations */\\n@keyframes jsPanelFadeIn {\\n  from {\\n    opacity: 0; }\\n  to {\\n    opacity: 1; } }\\n\\n.jsPanelFadeIn {\\n  opacity: 0;\\n  animation: jsPanelFadeIn ease-in 1;\\n  animation-fill-mode: forwards;\\n  animation-duration: 600ms; }\\n\\n@keyframes jsPanelFadeOut {\\n  from {\\n    opacity: 1; }\\n  to {\\n    opacity: 0; } }\\n\\n.jsPanelFadeOut {\\n  animation: jsPanelFadeOut ease-in 1;\\n  animation-fill-mode: forwards;\\n  animation-duration: 600ms; }\\n\\n@keyframes modalBackdropFadeIn {\\n  from {\\n    opacity: 0; }\\n  to {\\n    opacity: 0.65; } }\\n\\n.jsPanel-modal-backdrop {\\n  animation: modalBackdropFadeIn ease-in 1;\\n  animation-fill-mode: forwards;\\n  animation-duration: 750ms;\\n  background: black;\\n  position: fixed;\\n  top: 0;\\n  left: 0;\\n  width: 100%;\\n  height: 100%; }\\n\\n@keyframes modalBackdropFadeOut {\\n  from {\\n    opacity: 0.65; }\\n  to {\\n    opacity: 0; } }\\n\\n.jsPanel-modal-backdrop-out {\\n  animation: modalBackdropFadeOut ease-in 1;\\n  animation-fill-mode: forwards;\\n  animation-duration: 400ms; }\\n\\n.jsPanel-modal-backdrop-multi {\\n  background: rgba(0, 0, 0, 0.15); }\\n\\n.jsPanel-content .jsPanel-iframe-overlay {\\n  position: absolute;\\n  top: 0;\\n  width: 100%;\\n  height: 100%;\\n  background: transparent; }\\n\\n.jsPanel-addCloseCtrl {\\n  position: absolute;\\n  top: 0;\\n  right: 0;\\n  width: .8rem;\\n  height: .8rem;\\n  margin: 2px;\\n  cursor: pointer;\\n  line-height: .8rem;\\n  padding: 0;\\n  z-index: 100;\\n  border: 0;\\n  background-color: transparent; }\\n\\n.jsPanel-addCloseCtrl.rtl {\\n  right: unset;\\n  left: 0; }\\n\\n.jsPanel-progressbar {\\n  position: relative;\\n  width: 100%;\\n  height: 0;\\n  overflow: hidden; }\\n  .jsPanel-progressbar .jsPanel-progressbar-slider {\\n    position: absolute;\\n    width: 0;\\n    height: 3px;\\n    background: lightgray;\\n    right: 0; }\\n\\n.jsPanel-progressbar.active {\\n  height: 3px; }\\n\\n@keyframes progressbar {\\n  from {\\n    width: 0; }\\n  to {\\n    width: 100%; } }\\n\\n.jsPanel-content.jsPanel-content-noheader {\\n  border: none !important; }\\n\\nbody {\\n  -ms-overflow-style: scrollbar; }\\n\");\n",
       "    },    function(Bokeh) {\n",
       "      Bokeh.set_log_level(\"info\");\n",
       "    },\n",
       "function(Bokeh) {} // ensure no trailing comma for IE\n",
       "  ];\n",
       "\n",
       "  function run_inline_js() {\n",
       "    if ((root.Bokeh !== undefined) || (force === true)) {\n",
       "      for (var i = 0; i < inline_js.length; i++) {\n",
       "        inline_js[i].call(root, root.Bokeh);\n",
       "      }\n",
       "      // Cache old bokeh versions\n",
       "      if (Bokeh != undefined && !reloading) {\n",
       "\tvar NewBokeh = root.Bokeh;\n",
       "\tif (Bokeh.versions === undefined) {\n",
       "\t  Bokeh.versions = new Map();\n",
       "\t}\n",
       "\tif (NewBokeh.version !== Bokeh.version) {\n",
       "\t  Bokeh.versions.set(NewBokeh.version, NewBokeh)\n",
       "\t}\n",
       "\troot.Bokeh = Bokeh;\n",
       "      }} else if (Date.now() < root._bokeh_timeout) {\n",
       "      setTimeout(run_inline_js, 100);\n",
       "    } else if (!root._bokeh_failed_load) {\n",
       "      console.log(\"Bokeh: BokehJS failed to load within specified timeout.\");\n",
       "      root._bokeh_failed_load = true;\n",
       "    }\n",
       "    root._bokeh_is_initializing = false\n",
       "  }\n",
       "\n",
       "  function load_or_wait() {\n",
       "    // Implement a backoff loop that tries to ensure we do not load multiple\n",
       "    // versions of Bokeh and its dependencies at the same time.\n",
       "    // In recent versions we use the root._bokeh_is_initializing flag\n",
       "    // to determine whether there is an ongoing attempt to initialize\n",
       "    // bokeh, however for backward compatibility we also try to ensure\n",
       "    // that we do not start loading a newer (Panel>=1.0 and Bokeh>3) version\n",
       "    // before older versions are fully initialized.\n",
       "    if (root._bokeh_is_initializing && Date.now() > root._bokeh_timeout) {\n",
       "      root._bokeh_is_initializing = false;\n",
       "      root._bokeh_onload_callbacks = undefined;\n",
       "      console.log(\"Bokeh: BokehJS was loaded multiple times but one version failed to initialize.\");\n",
       "      load_or_wait();\n",
       "    } else if (root._bokeh_is_initializing || (typeof root._bokeh_is_initializing === \"undefined\" && root._bokeh_onload_callbacks !== undefined)) {\n",
       "      setTimeout(load_or_wait, 100);\n",
       "    } else {\n",
       "      Bokeh = root.Bokeh;\n",
       "      bokeh_loaded = Bokeh != null && (Bokeh.version === py_version || (Bokeh.versions !== undefined && Bokeh.versions.has(py_version)));\n",
       "      root._bokeh_is_initializing = true\n",
       "      root._bokeh_onload_callbacks = []\n",
       "      if (!reloading && (!bokeh_loaded || is_dev)) {\n",
       "\troot.Bokeh = undefined;\n",
       "      }\n",
       "      load_libs(css_urls, js_urls, js_modules, js_exports, function() {\n",
       "\tconsole.debug(\"Bokeh: BokehJS plotting callback run at\", now());\n",
       "\trun_inline_js();\n",
       "      });\n",
       "    }\n",
       "  }\n",
       "  // Give older versions of the autoload script a head-start to ensure\n",
       "  // they initialize before we start loading newer version.\n",
       "  setTimeout(load_or_wait, 100)\n",
       "}(window));"
      ],
      "application/vnd.holoviews_load.v0+json": "(function(root) {\n  function now() {\n    return new Date();\n  }\n\n  var force = true;\n  var py_version = '3.1.1'.replace('rc', '-rc.');\n  var is_dev = py_version.indexOf(\"+\") !== -1 || py_version.indexOf(\"-\") !== -1;\n  var reloading = false;\n  var Bokeh = root.Bokeh;\n  var bokeh_loaded = Bokeh != null && (Bokeh.version === py_version || (Bokeh.versions !== undefined && Bokeh.versions.has(py_version)));\n\n  if (typeof (root._bokeh_timeout) === \"undefined\" || force) {\n    root._bokeh_timeout = Date.now() + 5000;\n    root._bokeh_failed_load = false;\n  }\n\n  function run_callbacks() {\n    try {\n      root._bokeh_onload_callbacks.forEach(function(callback) {\n        if (callback != null)\n          callback();\n      });\n    } finally {\n      delete root._bokeh_onload_callbacks;\n    }\n    console.debug(\"Bokeh: all callbacks have finished\");\n  }\n\n  function load_libs(css_urls, js_urls, js_modules, js_exports, callback) {\n    if (css_urls == null) css_urls = [];\n    if (js_urls == null) js_urls = [];\n    if (js_modules == null) js_modules = [];\n    if (js_exports == null) js_exports = {};\n\n    root._bokeh_onload_callbacks.push(callback);\n\n    if (root._bokeh_is_loading > 0) {\n      console.debug(\"Bokeh: BokehJS is being loaded, scheduling callback at\", now());\n      return null;\n    }\n    if (js_urls.length === 0 && js_modules.length === 0 && Object.keys(js_exports).length === 0) {\n      run_callbacks();\n      return null;\n    }\n    if (!reloading) {\n      console.debug(\"Bokeh: BokehJS not loaded, scheduling load and callback at\", now());\n    }\n\n    function on_load() {\n      root._bokeh_is_loading--;\n      if (root._bokeh_is_loading === 0) {\n        console.debug(\"Bokeh: all BokehJS libraries/stylesheets loaded\");\n        run_callbacks()\n      }\n    }\n    window._bokeh_on_load = on_load\n\n    function on_error() {\n      console.error(\"failed to load \" + url);\n    }\n\n    var skip = [];\n    if (window.requirejs) {\n      window.requirejs.config({'packages': {}, 'paths': {'jspanel': 'https://cdn.jsdelivr.net/npm/jspanel4@4.12.0/dist/jspanel', 'jspanel-modal': 'https://cdn.jsdelivr.net/npm/jspanel4@4.12.0/dist/extensions/modal/jspanel.modal', 'jspanel-tooltip': 'https://cdn.jsdelivr.net/npm/jspanel4@4.12.0/dist/extensions/tooltip/jspanel.tooltip', 'jspanel-hint': 'https://cdn.jsdelivr.net/npm/jspanel4@4.12.0/dist/extensions/hint/jspanel.hint', 'jspanel-layout': 'https://cdn.jsdelivr.net/npm/jspanel4@4.12.0/dist/extensions/layout/jspanel.layout', 'jspanel-contextmenu': 'https://cdn.jsdelivr.net/npm/jspanel4@4.12.0/dist/extensions/contextmenu/jspanel.contextmenu', 'jspanel-dock': 'https://cdn.jsdelivr.net/npm/jspanel4@4.12.0/dist/extensions/dock/jspanel.dock', 'gridstack': 'https://cdn.jsdelivr.net/npm/gridstack@7.2.3/dist/gridstack-all', 'notyf': 'https://cdn.jsdelivr.net/npm/notyf@3/notyf.min'}, 'shim': {'jspanel': {'exports': 'jsPanel'}, 'gridstack': {'exports': 'GridStack'}}});\n      require([\"jspanel\"], function(jsPanel) {\n\twindow.jsPanel = jsPanel\n\ton_load()\n      })\n      require([\"jspanel-modal\"], function() {\n\ton_load()\n      })\n      require([\"jspanel-tooltip\"], function() {\n\ton_load()\n      })\n      require([\"jspanel-hint\"], function() {\n\ton_load()\n      })\n      require([\"jspanel-layout\"], function() {\n\ton_load()\n      })\n      require([\"jspanel-contextmenu\"], function() {\n\ton_load()\n      })\n      require([\"jspanel-dock\"], function() {\n\ton_load()\n      })\n      require([\"gridstack\"], function(GridStack) {\n\twindow.GridStack = GridStack\n\ton_load()\n      })\n      require([\"notyf\"], function() {\n\ton_load()\n      })\n      root._bokeh_is_loading = css_urls.length + 9;\n    } else {\n      root._bokeh_is_loading = css_urls.length + js_urls.length + js_modules.length + Object.keys(js_exports).length;\n    }\n\n    var existing_stylesheets = []\n    var links = document.getElementsByTagName('link')\n    for (var i = 0; i < links.length; i++) {\n      var link = links[i]\n      if (link.href != null) {\n\texisting_stylesheets.push(link.href)\n      }\n    }\n    for (var i = 0; i < css_urls.length; i++) {\n      var url = css_urls[i];\n      if (existing_stylesheets.indexOf(url) !== -1) {\n\ton_load()\n\tcontinue;\n      }\n      const element = document.createElement(\"link\");\n      element.onload = on_load;\n      element.onerror = on_error;\n      element.rel = \"stylesheet\";\n      element.type = \"text/css\";\n      element.href = url;\n      console.debug(\"Bokeh: injecting link tag for BokehJS stylesheet: \", url);\n      document.body.appendChild(element);\n    }    if (((window['jsPanel'] !== undefined) && (!(window['jsPanel'] instanceof HTMLElement))) || window.requirejs) {\n      var urls = ['https://cdn.holoviz.org/panel/1.1.0/dist/bundled/floatpanel/jspanel4@4.12.0/dist/jspanel.js', 'https://cdn.holoviz.org/panel/1.1.0/dist/bundled/floatpanel/jspanel4@4.12.0/dist/extensions/modal/jspanel.modal.js', 'https://cdn.holoviz.org/panel/1.1.0/dist/bundled/floatpanel/jspanel4@4.12.0/dist/extensions/tooltip/jspanel.tooltip.js', 'https://cdn.holoviz.org/panel/1.1.0/dist/bundled/floatpanel/jspanel4@4.12.0/dist/extensions/hint/jspanel.hint.js', 'https://cdn.holoviz.org/panel/1.1.0/dist/bundled/floatpanel/jspanel4@4.12.0/dist/extensions/layout/jspanel.layout.js', 'https://cdn.holoviz.org/panel/1.1.0/dist/bundled/floatpanel/jspanel4@4.12.0/dist/extensions/contextmenu/jspanel.contextmenu.js', 'https://cdn.holoviz.org/panel/1.1.0/dist/bundled/floatpanel/jspanel4@4.12.0/dist/extensions/dock/jspanel.dock.js'];\n      for (var i = 0; i < urls.length; i++) {\n        skip.push(urls[i])\n      }\n    }    if (((window['GridStack'] !== undefined) && (!(window['GridStack'] instanceof HTMLElement))) || window.requirejs) {\n      var urls = ['https://cdn.holoviz.org/panel/1.1.0/dist/bundled/gridstack/gridstack@7.2.3/dist/gridstack-all.js'];\n      for (var i = 0; i < urls.length; i++) {\n        skip.push(urls[i])\n      }\n    }    if (((window['Notyf'] !== undefined) && (!(window['Notyf'] instanceof HTMLElement))) || window.requirejs) {\n      var urls = ['https://cdn.holoviz.org/panel/1.1.0/dist/bundled/notificationarea/notyf@3/notyf.min.js'];\n      for (var i = 0; i < urls.length; i++) {\n        skip.push(urls[i])\n      }\n    }    var existing_scripts = []\n    var scripts = document.getElementsByTagName('script')\n    for (var i = 0; i < scripts.length; i++) {\n      var script = scripts[i]\n      if (script.src != null) {\n\texisting_scripts.push(script.src)\n      }\n    }\n    for (var i = 0; i < js_urls.length; i++) {\n      var url = js_urls[i];\n      if (skip.indexOf(url) !== -1 || existing_scripts.indexOf(url) !== -1) {\n\tif (!window.requirejs) {\n\t  on_load();\n\t}\n\tcontinue;\n      }\n      var element = document.createElement('script');\n      element.onload = on_load;\n      element.onerror = on_error;\n      element.async = false;\n      element.src = url;\n      console.debug(\"Bokeh: injecting script tag for BokehJS library: \", url);\n      document.head.appendChild(element);\n    }\n    for (var i = 0; i < js_modules.length; i++) {\n      var url = js_modules[i];\n      if (skip.indexOf(url) !== -1 || existing_scripts.indexOf(url) !== -1) {\n\tif (!window.requirejs) {\n\t  on_load();\n\t}\n\tcontinue;\n      }\n      var element = document.createElement('script');\n      element.onload = on_load;\n      element.onerror = on_error;\n      element.async = false;\n      element.src = url;\n      element.type = \"module\";\n      console.debug(\"Bokeh: injecting script tag for BokehJS library: \", url);\n      document.head.appendChild(element);\n    }\n    for (const name in js_exports) {\n      var url = js_exports[name];\n      if (skip.indexOf(url) >= 0 || root[name] != null) {\n\tif (!window.requirejs) {\n\t  on_load();\n\t}\n\tcontinue;\n      }\n      var element = document.createElement('script');\n      element.onerror = on_error;\n      element.async = false;\n      element.type = \"module\";\n      console.debug(\"Bokeh: injecting script tag for BokehJS library: \", url);\n      element.textContent = `\n      import ${name} from \"${url}\"\n      window.${name} = ${name}\n      window._bokeh_on_load()\n      `\n      document.head.appendChild(element);\n    }\n    if (!js_urls.length && !js_modules.length) {\n      on_load()\n    }\n  };\n\n  function inject_raw_css(css) {\n    const element = document.createElement(\"style\");\n    element.appendChild(document.createTextNode(css));\n    document.body.appendChild(element);\n  }\n\n  var js_urls = [\"https://cdn.bokeh.org/bokeh/release/bokeh-3.1.1.min.js\", \"https://cdn.bokeh.org/bokeh/release/bokeh-gl-3.1.1.min.js\", \"https://cdn.bokeh.org/bokeh/release/bokeh-widgets-3.1.1.min.js\", \"https://cdn.bokeh.org/bokeh/release/bokeh-tables-3.1.1.min.js\", \"https://cdn.holoviz.org/panel/1.1.0/dist/bundled/floatpanel/jspanel4@4.12.0/dist/jspanel.js\", \"https://cdn.holoviz.org/panel/1.1.0/dist/bundled/floatpanel/jspanel4@4.12.0/dist/extensions/modal/jspanel.modal.js\", \"https://cdn.holoviz.org/panel/1.1.0/dist/bundled/floatpanel/jspanel4@4.12.0/dist/extensions/tooltip/jspanel.tooltip.js\", \"https://cdn.holoviz.org/panel/1.1.0/dist/bundled/floatpanel/jspanel4@4.12.0/dist/extensions/hint/jspanel.hint.js\", \"https://cdn.holoviz.org/panel/1.1.0/dist/bundled/floatpanel/jspanel4@4.12.0/dist/extensions/layout/jspanel.layout.js\", \"https://cdn.holoviz.org/panel/1.1.0/dist/bundled/floatpanel/jspanel4@4.12.0/dist/extensions/contextmenu/jspanel.contextmenu.js\", \"https://cdn.holoviz.org/panel/1.1.0/dist/bundled/floatpanel/jspanel4@4.12.0/dist/extensions/dock/jspanel.dock.js\", \"https://cdn.holoviz.org/panel/1.1.0/dist/panel.min.js\"];\n  var js_modules = [];\n  var js_exports = {};\n  var css_urls = [\"https://cdn.holoviz.org/panel/1.1.0/dist/bundled/floatpanel/jspanel4@4.12.0/dist/jspanel.css\"];\n  var inline_js = [    function(Bokeh) {\n      inject_raw_css(\"/**\\n * jsPanel - A JavaScript library to create highly configurable multifunctional floating panels that can also be used as modal, tooltip, hint or contextmenu\\n * @version v4.12.0\\n * @homepage https://jspanel.de/\\n * @license MIT\\n * @author Stefan Str\\u00e4\\u00dfer - info@jspanel.de\\n * @github https://github.com/Flyer53/jsPanel4.git\\n */\\n.default-bg, .secondary-bg {\\n  background-color: #b0bec5; }\\n\\n.primary-bg {\\n  background-color: #01579b; }\\n\\n.info-bg {\\n  background-color: #039be5; }\\n\\n.success-bg {\\n  background-color: #2e7d32; }\\n\\n.warning-bg {\\n  background-color: #f57f17; }\\n\\n.danger-bg {\\n  background-color: #dd2c00; }\\n\\n.light-bg {\\n  background-color: #e0e0e0; }\\n\\n.dark-bg {\\n  background-color: #263238; }\\n\\n.jsPanel {\\n  border: 0;\\n  box-sizing: border-box;\\n  vertical-align: baseline;\\n  font-family: Roboto,\\\"Open Sans\\\",Lato,\\\"Helvetica Neue\\\",Arial,sans-serif;\\n  font-weight: normal;\\n  display: flex;\\n  flex-direction: column;\\n  opacity: 0;\\n  overflow: visible;\\n  position: absolute;\\n  /* top: 0  do not remove, otherwise panel is at the very bottom of the page -> results in vertical scrollbars -> positioning at right incorrect */\\n  z-index: 100; }\\n  .jsPanel .jsPanel-hdr {\\n    border: 0;\\n    box-sizing: border-box;\\n    vertical-align: baseline;\\n    font-family: Roboto,\\\"Open Sans\\\",Lato,\\\"Helvetica Neue\\\",Arial,sans-serif;\\n    font-weight: normal;\\n    display: flex;\\n    flex-direction: column;\\n    flex-shrink: 0;\\n    line-height: normal; }\\n  .jsPanel .jsPanel-content {\\n    border: 0;\\n    box-sizing: border-box;\\n    vertical-align: baseline;\\n    font-family: Roboto,\\\"Open Sans\\\",Lato,\\\"Helvetica Neue\\\",Arial,sans-serif;\\n    font-weight: normal;\\n    background: #ffffff;\\n    color: #000000;\\n    font-size: 1rem;\\n    position: relative;\\n    overflow-x: hidden;\\n    overflow-y: auto;\\n    flex-grow: 1; }\\n    .jsPanel .jsPanel-content pre {\\n      color: inherit; }\\n  .jsPanel .jsPanel-ftr {\\n    flex-direction: row;\\n    justify-content: flex-end;\\n    flex-wrap: nowrap;\\n    align-items: center;\\n    display: none;\\n    box-sizing: border-box;\\n    font-size: 1rem;\\n    height: auto;\\n    background: #f5f5f5;\\n    font-weight: normal;\\n    color: black;\\n    overflow: hidden; }\\n  .jsPanel .jsPanel-ftr.active {\\n    display: flex;\\n    flex-shrink: 0;\\n    margin: 0;\\n    padding: 3px 8px; }\\n\\n.jsPanel-hdr.jsPanel-hdr-dark .jsPanel-btn:hover {\\n  background-color: rgba(255, 255, 255, 0.4); }\\n\\n.jsPanel-hdr.jsPanel-hdr-light .jsPanel-btn:hover {\\n  background-color: rgba(0, 0, 0, 0.15); }\\n\\n.jsPanel-hdr-toolbar {\\n  font-size: 1rem; }\\n\\n.jsPanel-headerbar {\\n  box-sizing: border-box;\\n  display: flex;\\n  flex-direction: row;\\n  flex-wrap: nowrap;\\n  align-items: center; }\\n  .jsPanel-headerbar img {\\n    vertical-align: middle;\\n    max-height: 38px; }\\n\\n.jsPanel-titlebar {\\n  display: flex;\\n  align-items: center;\\n  font-size: 1rem;\\n  flex: 1 1 0;\\n  cursor: move;\\n  height: 100%;\\n  overflow: hidden;\\n  user-select: none; }\\n  .jsPanel-titlebar .jsPanel-title {\\n    white-space: nowrap;\\n    overflow: hidden;\\n    text-overflow: ellipsis;\\n    font-variant: small-caps;\\n    font-weight: normal;\\n    margin: 0 5px 0 8px;\\n    min-width: 0; }\\n\\n.jsPanel-titlebar.jsPanel-rtl {\\n  flex-direction: row-reverse; }\\n\\n.jsPanel-controlbar {\\n  display: flex;\\n  align-items: center;\\n  align-self: start;\\n  touch-action: none;\\n  margin: 3px; }\\n  .jsPanel-controlbar .jsPanel-btn {\\n    cursor: pointer;\\n    touch-action: none;\\n    border-radius: 3px;\\n    border: 0;\\n    padding: 0;\\n    margin: 0;\\n    background-color: transparent;\\n    box-shadow: none; }\\n    .jsPanel-controlbar .jsPanel-btn svg.jsPanel-icon, .jsPanel-controlbar .jsPanel-btn span, .jsPanel-controlbar .jsPanel-btn i {\\n      vertical-align: middle; }\\n    .jsPanel-controlbar .jsPanel-btn span.glyphicon {\\n      padding: 0 2px; }\\n    .jsPanel-controlbar .jsPanel-btn svg.svg-inline--fa {\\n      margin: 2px 3px; }\\n  .jsPanel-controlbar .jsPanel-btn-normalize {\\n    display: none; }\\n  .jsPanel-controlbar .jsPanel-btn.jsPanel-btn-xl svg:not(.svg-inline--fa), .jsPanel-controlbar .jsPanel-btn.jsPanel-btn-xl span:not(.material-icons) {\\n    width: 2rem;\\n    height: 2rem;\\n    margin: 2px 3px; }\\n  .jsPanel-controlbar .jsPanel-btn.jsPanel-btn-xl .svg-inline--fa {\\n    font-size: 2rem; }\\n  .jsPanel-controlbar .jsPanel-btn.jsPanel-btn-xl span.material-icons {\\n    font-size: 2.2rem; }\\n  .jsPanel-controlbar .jsPanel-btn.jsPanel-btn-xl span[class^=fa] {\\n    width: auto;\\n    height: auto;\\n    font-size: 2rem;\\n    margin: 0 4px; }\\n  .jsPanel-controlbar .jsPanel-btn.jsPanel-btn-lg svg:not(.svg-inline--fa), .jsPanel-controlbar .jsPanel-btn.jsPanel-btn-lg span:not(.material-icons) {\\n    width: 1.75rem;\\n    height: 1.75rem;\\n    margin: 2px 3px; }\\n  .jsPanel-controlbar .jsPanel-btn.jsPanel-btn-lg .svg-inline--fa {\\n    font-size: 1.75rem; }\\n  .jsPanel-controlbar .jsPanel-btn.jsPanel-btn-lg span.material-icons {\\n    font-size: 1.9rem; }\\n  .jsPanel-controlbar .jsPanel-btn.jsPanel-btn-lg span[class^=fa] {\\n    width: auto;\\n    height: auto;\\n    font-size: 1.75rem; }\\n  .jsPanel-controlbar .jsPanel-btn.jsPanel-btn-md svg:not(.svg-inline--fa), .jsPanel-controlbar .jsPanel-btn.jsPanel-btn-md span:not(.material-icons) {\\n    width: 1.5rem;\\n    height: 1.5rem;\\n    margin: 2px 3px; }\\n  .jsPanel-controlbar .jsPanel-btn.jsPanel-btn-md .svg-inline--fa {\\n    font-size: 1.5rem; }\\n  .jsPanel-controlbar .jsPanel-btn.jsPanel-btn-md span.material-icons {\\n    font-size: 1.6rem; }\\n  .jsPanel-controlbar .jsPanel-btn.jsPanel-btn-md span[class^=fa] {\\n    width: auto;\\n    height: auto;\\n    font-size: 1.5rem; }\\n  .jsPanel-controlbar .jsPanel-btn.jsPanel-btn-sm svg:not(.svg-inline--fa), .jsPanel-controlbar .jsPanel-btn.jsPanel-btn-sm span:not(.material-icons) {\\n    width: 1.25rem;\\n    height: 1.25rem;\\n    margin: 2px 3px; }\\n  .jsPanel-controlbar .jsPanel-btn.jsPanel-btn-sm .svg-inline--fa {\\n    font-size: 1.25rem; }\\n  .jsPanel-controlbar .jsPanel-btn.jsPanel-btn-sm span.material-icons {\\n    font-size: 1.3rem; }\\n  .jsPanel-controlbar .jsPanel-btn.jsPanel-btn-sm span[class^=fa] {\\n    width: auto;\\n    height: auto;\\n    font-size: 1.25rem; }\\n  .jsPanel-controlbar .jsPanel-btn.jsPanel-btn-xs svg:not(.svg-inline--fa), .jsPanel-controlbar .jsPanel-btn.jsPanel-btn-xs span:not(.material-icons) {\\n    width: 1rem;\\n    height: 1rem;\\n    margin: 1px 3px; }\\n  .jsPanel-controlbar .jsPanel-btn.jsPanel-btn-xs .svg-inline--fa {\\n    font-size: 1rem; }\\n  .jsPanel-controlbar .jsPanel-btn.jsPanel-btn-xs span.material-icons {\\n    font-size: 1rem; }\\n  .jsPanel-controlbar .jsPanel-btn.jsPanel-btn-xs span[class^=fa] {\\n    width: auto;\\n    height: auto;\\n    font-size: 1rem; }\\n\\n.jsPanel-hdr-toolbar {\\n  display: none;\\n  width: auto;\\n  height: auto; }\\n\\n.jsPanel-hdr-toolbar.active {\\n  box-sizing: border-box;\\n  display: flex;\\n  flex-direction: row;\\n  flex-wrap: nowrap;\\n  align-items: center;\\n  padding: 3px 8px; }\\n\\n/* styles for panels using option.rtl */\\n.jsPanel-titlebar .jsPanel-title[dir=rtl] {\\n  margin: 0 8px 0 5px; }\\n\\n.jsPanel-hdr-toolbar[dir=rtl].active {\\n  padding: 0 8px 0 8px; }\\n\\n.jsPanel-content[dir=rtl] {\\n  text-align: right; }\\n\\n.jsPanel-ftr[dir=rtl] {\\n  flex-direction: row; }\\n\\n/* container that takes the minified jsPanels */\\n#jsPanel-replacement-container, .jsPanel-minimized-box, .jsPanel-minimized-container {\\n  display: flex;\\n  flex-flow: row wrap-reverse;\\n  background: transparent none repeat scroll 0 0;\\n  bottom: 0;\\n  height: auto;\\n  left: 0;\\n  position: fixed;\\n  width: auto;\\n  z-index: 9998; }\\n\\n.jsPanel-replacement {\\n  font-family: Roboto,\\\"Open Sans\\\",Lato,\\\"Helvetica Neue\\\",Arial,sans-serif;\\n  display: flex;\\n  align-items: center;\\n  width: 200px;\\n  height: 34px;\\n  margin: 1px 1px 0 0;\\n  z-index: 9999; }\\n  .jsPanel-replacement .jsPanel-hdr {\\n    flex-grow: 1;\\n    min-width: 0;\\n    padding: 0;\\n    height: 34px;\\n    overflow: hidden; }\\n    .jsPanel-replacement .jsPanel-hdr .jsPanel-headerlogo {\\n      max-width: 50%;\\n      overflow: hidden; }\\n      .jsPanel-replacement .jsPanel-hdr .jsPanel-headerlogo img {\\n        max-width: 100px;\\n        max-height: 34px; }\\n  .jsPanel-replacement .jsPanel-titlebar {\\n    cursor: default;\\n    min-width: 0; }\\n  .jsPanel-replacement .jsPanel-btn.jsPanel-btn-normalize {\\n    display: block; }\\n\\n.jsPanel-minimized-box, .jsPanel-minimized-container {\\n  position: absolute;\\n  width: 100%;\\n  overflow: hidden; }\\n\\n/* helper classes to make .jsPanel-content a flex box */\\n.flexOne {\\n  display: flex;\\n  flex-flow: row wrap; }\\n\\n/* css for resizeit handles -------------- */\\n.jsPanel-resizeit-handle {\\n  display: block;\\n  font-size: 0.1px;\\n  position: absolute;\\n  touch-action: none; }\\n\\n.jsPanel-resizeit-handle.jsPanel-resizeit-n {\\n  cursor: n-resize;\\n  height: 12px;\\n  left: 9px;\\n  top: -5px;\\n  width: calc(100% - 18px); }\\n\\n.jsPanel-resizeit-handle.jsPanel-resizeit-e {\\n  cursor: e-resize;\\n  height: calc(100% - 18px);\\n  right: -9px;\\n  top: 9px;\\n  width: 12px; }\\n\\n.jsPanel-resizeit-handle.jsPanel-resizeit-s {\\n  bottom: -9px;\\n  cursor: s-resize;\\n  height: 12px;\\n  left: 9px;\\n  width: calc(100% - 18px); }\\n\\n.jsPanel-resizeit-handle.jsPanel-resizeit-w {\\n  cursor: w-resize;\\n  height: calc(100% - 18px);\\n  left: -9px;\\n  top: 9px;\\n  width: 12px; }\\n\\n.jsPanel-resizeit-handle.jsPanel-resizeit-ne {\\n  cursor: ne-resize;\\n  height: 18px;\\n  right: -9px;\\n  top: -9px;\\n  width: 18px; }\\n\\n.jsPanel-resizeit-handle.jsPanel-resizeit-se {\\n  bottom: -9px;\\n  cursor: se-resize;\\n  height: 18px;\\n  right: -9px;\\n  width: 18px; }\\n\\n.jsPanel-resizeit-handle.jsPanel-resizeit-sw {\\n  bottom: -9px;\\n  cursor: sw-resize;\\n  height: 18px;\\n  left: -9px;\\n  width: 18px; }\\n\\n.jsPanel-resizeit-handle.jsPanel-resizeit-nw {\\n  cursor: nw-resize;\\n  height: 18px;\\n  left: -9px;\\n  top: -9px;\\n  width: 18px; }\\n\\n.jsPanel-drag-overlay {\\n  width: 100%;\\n  height: 100%;\\n  position: absolute;\\n  left: 0;\\n  top: 0; }\\n\\n/* Error panel ----------------- */\\n.jsPanel-error .jsPanel-content {\\n  border: 0 !important;\\n  padding-top: 0 !important;\\n  font-size: .9rem;\\n  text-align: center; }\\n  .jsPanel-error .jsPanel-content p {\\n    margin: 0 0 10px 0; }\\n  .jsPanel-error .jsPanel-content mark {\\n    background: lavender;\\n    border-radius: .33rem;\\n    padding: 0 8px;\\n    font-family: monospace; }\\n  .jsPanel-error .jsPanel-content .jsPanel-error-content-separator {\\n    width: 100%;\\n    height: 1px;\\n    background-image: linear-gradient(90deg, white 0%, rebeccapurple 50%, white 100%);\\n    margin-bottom: 10px; }\\n\\n/* box-shadows -------------------------------------------------------- */\\n.jsPanel-depth-1 {\\n  box-shadow: 0 3px 6px rgba(0, 0, 0, 0.16), 0 3px 6px rgba(0, 0, 0, 0.23); }\\n\\n.jsPanel-depth-2 {\\n  box-shadow: 0 10px 20px rgba(0, 0, 0, 0.19), 0 6px 6px rgba(0, 0, 0, 0.23); }\\n\\n.jsPanel-depth-3 {\\n  box-shadow: 0 14px 28px rgba(0, 0, 0, 0.25), 0 10px 10px rgba(0, 0, 0, 0.22); }\\n\\n.jsPanel-depth-4 {\\n  box-shadow: 0 19px 38px rgba(0, 0, 0, 0.3), 0 15px 12px rgba(0, 0, 0, 0.22); }\\n\\n.jsPanel-depth-5 {\\n  box-shadow: 0 24px 48px rgba(0, 0, 0, 0.3), 0 20px 14px rgba(0, 0, 0, 0.22); }\\n\\n/* snap sensitive areas ------------------------------------------------ */\\n.jsPanel-snap-area {\\n  position: fixed;\\n  background: black;\\n  opacity: .2;\\n  border: 1px solid silver;\\n  box-shadow: 0 14px 28px rgba(0, 0, 0, 0.5), 0 10px 10px rgba(0, 0, 0, 0.5);\\n  z-index: 9999; }\\n\\n.jsPanel-snap-area-lt, .jsPanel-snap-area-lc, .jsPanel-snap-area-lb, .jsPanel-snap-area-left-top, .jsPanel-snap-area-left-center, .jsPanel-snap-area-left-bottom {\\n  left: 0; }\\n\\n.jsPanel-snap-area-ct, .jsPanel-snap-area-cb {\\n  left: 37.5%; }\\n\\n.jsPanel-snap-area-rt, .jsPanel-snap-area-rc, .jsPanel-snap-area-rb, .jsPanel-snap-area-right-top, .jsPanel-snap-area-right-center, .jsPanel-snap-area-right-bottom {\\n  right: 0; }\\n\\n.jsPanel-snap-area-lt, .jsPanel-snap-area-ct, .jsPanel-snap-area-rt, .jsPanel-snap-area-left-top, .jsPanel-snap-area-center-top, .jsPanel-snap-area-right-top {\\n  top: 0; }\\n\\n.jsPanel-snap-area-lc, .jsPanel-snap-area-rc {\\n  top: 37.5%; }\\n\\n.jsPanel-snap-area-lb, .jsPanel-snap-area-cb, .jsPanel-snap-area-rb, .jsPanel-snap-area-left-bottom, .jsPanel-snap-area-center-bottom, .jsPanel-snap-area-right-bottom {\\n  bottom: 0; }\\n\\n.jsPanel-snap-area-ct, .jsPanel-snap-area-cb {\\n  width: 25%; }\\n\\n.jsPanel-snap-area-lc, .jsPanel-snap-area-rc {\\n  height: 25%; }\\n\\n.jsPanel-snap-area-lt, .jsPanel-snap-area-left-top {\\n  border-bottom-right-radius: 100%; }\\n\\n.jsPanel-snap-area-rt, .jsPanel-snap-area-right-top {\\n  border-bottom-left-radius: 100%; }\\n\\n.jsPanel-snap-area-rb, .jsPanel-snap-area-right-bottom {\\n  border-top-left-radius: 100%; }\\n\\n.jsPanel-snap-area-lb, .jsPanel-snap-area-left-bottom {\\n  border-top-right-radius: 100%; }\\n\\n/* tooltip and tooltip connectors */\\n.jsPanel-connector-left-top-corner,\\n.jsPanel-connector-right-top-corner,\\n.jsPanel-connector-left-bottom-corner,\\n.jsPanel-connector-right-bottom-corner {\\n  width: 12px;\\n  height: 12px;\\n  position: absolute;\\n  border-radius: 50%; }\\n\\n.jsPanel-connector-left-top-corner {\\n  left: calc(100% - 6px);\\n  top: calc(100% - 6px); }\\n\\n.jsPanel-connector-right-top-corner {\\n  left: -6px;\\n  top: calc(100% - 6px); }\\n\\n.jsPanel-connector-right-bottom-corner {\\n  left: -6px;\\n  top: -6px; }\\n\\n.jsPanel-connector-left-bottom-corner {\\n  left: calc(100% - 6px);\\n  top: -6px; }\\n\\n.jsPanel-connector-top,\\n.jsPanel-connector-topleft,\\n.jsPanel-connector-topright,\\n.jsPanel-connector-bottom,\\n.jsPanel-connector-bottomleft,\\n.jsPanel-connector-bottomright,\\n.jsPanel-connector-left,\\n.jsPanel-connector-lefttop,\\n.jsPanel-connector-leftbottom,\\n.jsPanel-connector-right,\\n.jsPanel-connector-righttop,\\n.jsPanel-connector-rightbottom {\\n  width: 0;\\n  height: 0;\\n  position: absolute;\\n  border: 12px solid transparent; }\\n\\n.jsPanel-connector-top,\\n.jsPanel-connector-topleft,\\n.jsPanel-connector-topright {\\n  top: 100%;\\n  border-bottom-width: 0; }\\n\\n.jsPanel-connector-top {\\n  left: calc(50% - 12px); }\\n\\n.jsPanel-connector-topleft {\\n  left: 0px; }\\n\\n.jsPanel-connector-topright {\\n  left: calc(100% - 24px); }\\n\\n.jsPanel-connector-bottom,\\n.jsPanel-connector-bottomleft,\\n.jsPanel-connector-bottomright {\\n  top: -12px;\\n  border-top-width: 0; }\\n\\n.jsPanel-connector-bottom {\\n  left: calc(50% - 12px); }\\n\\n.jsPanel-connector-bottomleft {\\n  left: 0px; }\\n\\n.jsPanel-connector-bottomright {\\n  left: calc(100% - 24px); }\\n\\n.jsPanel-connector-left,\\n.jsPanel-connector-lefttop,\\n.jsPanel-connector-leftbottom {\\n  left: 100%;\\n  border-right-width: 0; }\\n\\n.jsPanel-connector-left {\\n  top: calc(50% - 12px); }\\n\\n.jsPanel-connector-lefttop {\\n  top: 0px; }\\n\\n.jsPanel-connector-leftbottom {\\n  top: calc(100% - 24px); }\\n\\n.jsPanel-connector-right,\\n.jsPanel-connector-righttop,\\n.jsPanel-connector-rightbottom {\\n  left: -12px;\\n  border-left-width: 0; }\\n\\n.jsPanel-connector-right {\\n  top: calc(50% - 12px); }\\n\\n.jsPanel-connector-righttop {\\n  top: 0px; }\\n\\n.jsPanel-connector-rightbottom {\\n  top: calc(100% - 24px); }\\n\\n/* IE11 CSS styles go here */\\n@media all and (-ms-high-contrast: none), (-ms-high-contrast: active) {\\n  .jsPanel-replacement .jsPanel-titlebar {\\n    max-width: 105px; } }\\n\\n/* XXXXXXXXXXXXXXXXXXXXXXX */\\n/* css3 animations */\\n@keyframes jsPanelFadeIn {\\n  from {\\n    opacity: 0; }\\n  to {\\n    opacity: 1; } }\\n\\n.jsPanelFadeIn {\\n  opacity: 0;\\n  animation: jsPanelFadeIn ease-in 1;\\n  animation-fill-mode: forwards;\\n  animation-duration: 600ms; }\\n\\n@keyframes jsPanelFadeOut {\\n  from {\\n    opacity: 1; }\\n  to {\\n    opacity: 0; } }\\n\\n.jsPanelFadeOut {\\n  animation: jsPanelFadeOut ease-in 1;\\n  animation-fill-mode: forwards;\\n  animation-duration: 600ms; }\\n\\n@keyframes modalBackdropFadeIn {\\n  from {\\n    opacity: 0; }\\n  to {\\n    opacity: 0.65; } }\\n\\n.jsPanel-modal-backdrop {\\n  animation: modalBackdropFadeIn ease-in 1;\\n  animation-fill-mode: forwards;\\n  animation-duration: 750ms;\\n  background: black;\\n  position: fixed;\\n  top: 0;\\n  left: 0;\\n  width: 100%;\\n  height: 100%; }\\n\\n@keyframes modalBackdropFadeOut {\\n  from {\\n    opacity: 0.65; }\\n  to {\\n    opacity: 0; } }\\n\\n.jsPanel-modal-backdrop-out {\\n  animation: modalBackdropFadeOut ease-in 1;\\n  animation-fill-mode: forwards;\\n  animation-duration: 400ms; }\\n\\n.jsPanel-modal-backdrop-multi {\\n  background: rgba(0, 0, 0, 0.15); }\\n\\n.jsPanel-content .jsPanel-iframe-overlay {\\n  position: absolute;\\n  top: 0;\\n  width: 100%;\\n  height: 100%;\\n  background: transparent; }\\n\\n.jsPanel-addCloseCtrl {\\n  position: absolute;\\n  top: 0;\\n  right: 0;\\n  width: .8rem;\\n  height: .8rem;\\n  margin: 2px;\\n  cursor: pointer;\\n  line-height: .8rem;\\n  padding: 0;\\n  z-index: 100;\\n  border: 0;\\n  background-color: transparent; }\\n\\n.jsPanel-addCloseCtrl.rtl {\\n  right: unset;\\n  left: 0; }\\n\\n.jsPanel-progressbar {\\n  position: relative;\\n  width: 100%;\\n  height: 0;\\n  overflow: hidden; }\\n  .jsPanel-progressbar .jsPanel-progressbar-slider {\\n    position: absolute;\\n    width: 0;\\n    height: 3px;\\n    background: lightgray;\\n    right: 0; }\\n\\n.jsPanel-progressbar.active {\\n  height: 3px; }\\n\\n@keyframes progressbar {\\n  from {\\n    width: 0; }\\n  to {\\n    width: 100%; } }\\n\\n.jsPanel-content.jsPanel-content-noheader {\\n  border: none !important; }\\n\\nbody {\\n  -ms-overflow-style: scrollbar; }\\n\");\n    },    function(Bokeh) {\n      Bokeh.set_log_level(\"info\");\n    },\nfunction(Bokeh) {} // ensure no trailing comma for IE\n  ];\n\n  function run_inline_js() {\n    if ((root.Bokeh !== undefined) || (force === true)) {\n      for (var i = 0; i < inline_js.length; i++) {\n        inline_js[i].call(root, root.Bokeh);\n      }\n      // Cache old bokeh versions\n      if (Bokeh != undefined && !reloading) {\n\tvar NewBokeh = root.Bokeh;\n\tif (Bokeh.versions === undefined) {\n\t  Bokeh.versions = new Map();\n\t}\n\tif (NewBokeh.version !== Bokeh.version) {\n\t  Bokeh.versions.set(NewBokeh.version, NewBokeh)\n\t}\n\troot.Bokeh = Bokeh;\n      }} else if (Date.now() < root._bokeh_timeout) {\n      setTimeout(run_inline_js, 100);\n    } else if (!root._bokeh_failed_load) {\n      console.log(\"Bokeh: BokehJS failed to load within specified timeout.\");\n      root._bokeh_failed_load = true;\n    }\n    root._bokeh_is_initializing = false\n  }\n\n  function load_or_wait() {\n    // Implement a backoff loop that tries to ensure we do not load multiple\n    // versions of Bokeh and its dependencies at the same time.\n    // In recent versions we use the root._bokeh_is_initializing flag\n    // to determine whether there is an ongoing attempt to initialize\n    // bokeh, however for backward compatibility we also try to ensure\n    // that we do not start loading a newer (Panel>=1.0 and Bokeh>3) version\n    // before older versions are fully initialized.\n    if (root._bokeh_is_initializing && Date.now() > root._bokeh_timeout) {\n      root._bokeh_is_initializing = false;\n      root._bokeh_onload_callbacks = undefined;\n      console.log(\"Bokeh: BokehJS was loaded multiple times but one version failed to initialize.\");\n      load_or_wait();\n    } else if (root._bokeh_is_initializing || (typeof root._bokeh_is_initializing === \"undefined\" && root._bokeh_onload_callbacks !== undefined)) {\n      setTimeout(load_or_wait, 100);\n    } else {\n      Bokeh = root.Bokeh;\n      bokeh_loaded = Bokeh != null && (Bokeh.version === py_version || (Bokeh.versions !== undefined && Bokeh.versions.has(py_version)));\n      root._bokeh_is_initializing = true\n      root._bokeh_onload_callbacks = []\n      if (!reloading && (!bokeh_loaded || is_dev)) {\n\troot.Bokeh = undefined;\n      }\n      load_libs(css_urls, js_urls, js_modules, js_exports, function() {\n\tconsole.debug(\"Bokeh: BokehJS plotting callback run at\", now());\n\trun_inline_js();\n      });\n    }\n  }\n  // Give older versions of the autoload script a head-start to ensure\n  // they initialize before we start loading newer version.\n  setTimeout(load_or_wait, 100)\n}(window));"
     },
     "metadata": {},
     "output_type": "display_data"
    },
    {
     "data": {
      "application/javascript": [
       "\n",
       "if ((window.PyViz === undefined) || (window.PyViz instanceof HTMLElement)) {\n",
       "  window.PyViz = {comms: {}, comm_status:{}, kernels:{}, receivers: {}, plot_index: []}\n",
       "}\n",
       "\n",
       "\n",
       "    function JupyterCommManager() {\n",
       "    }\n",
       "\n",
       "    JupyterCommManager.prototype.register_target = function(plot_id, comm_id, msg_handler) {\n",
       "      if (window.comm_manager || ((window.Jupyter !== undefined) && (Jupyter.notebook.kernel != null))) {\n",
       "        var comm_manager = window.comm_manager || Jupyter.notebook.kernel.comm_manager;\n",
       "        comm_manager.register_target(comm_id, function(comm) {\n",
       "          comm.on_msg(msg_handler);\n",
       "        });\n",
       "      } else if ((plot_id in window.PyViz.kernels) && (window.PyViz.kernels[plot_id])) {\n",
       "        window.PyViz.kernels[plot_id].registerCommTarget(comm_id, function(comm) {\n",
       "          comm.onMsg = msg_handler;\n",
       "        });\n",
       "      } else if (typeof google != 'undefined' && google.colab.kernel != null) {\n",
       "        google.colab.kernel.comms.registerTarget(comm_id, (comm) => {\n",
       "          var messages = comm.messages[Symbol.asyncIterator]();\n",
       "          function processIteratorResult(result) {\n",
       "            var message = result.value;\n",
       "            console.log(message)\n",
       "            var content = {data: message.data, comm_id};\n",
       "            var buffers = []\n",
       "            for (var buffer of message.buffers || []) {\n",
       "              buffers.push(new DataView(buffer))\n",
       "            }\n",
       "            var metadata = message.metadata || {};\n",
       "            var msg = {content, buffers, metadata}\n",
       "            msg_handler(msg);\n",
       "            return messages.next().then(processIteratorResult);\n",
       "          }\n",
       "          return messages.next().then(processIteratorResult);\n",
       "        })\n",
       "      }\n",
       "    }\n",
       "\n",
       "    JupyterCommManager.prototype.get_client_comm = function(plot_id, comm_id, msg_handler) {\n",
       "      if (comm_id in window.PyViz.comms) {\n",
       "        return window.PyViz.comms[comm_id];\n",
       "      } else if (window.comm_manager || ((window.Jupyter !== undefined) && (Jupyter.notebook.kernel != null))) {\n",
       "        var comm_manager = window.comm_manager || Jupyter.notebook.kernel.comm_manager;\n",
       "        var comm = comm_manager.new_comm(comm_id, {}, {}, {}, comm_id);\n",
       "        if (msg_handler) {\n",
       "          comm.on_msg(msg_handler);\n",
       "        }\n",
       "      } else if ((plot_id in window.PyViz.kernels) && (window.PyViz.kernels[plot_id])) {\n",
       "        var comm = window.PyViz.kernels[plot_id].connectToComm(comm_id);\n",
       "        comm.open();\n",
       "        if (msg_handler) {\n",
       "          comm.onMsg = msg_handler;\n",
       "        }\n",
       "      } else if (typeof google != 'undefined' && google.colab.kernel != null) {\n",
       "        var comm_promise = google.colab.kernel.comms.open(comm_id)\n",
       "        comm_promise.then((comm) => {\n",
       "          window.PyViz.comms[comm_id] = comm;\n",
       "          if (msg_handler) {\n",
       "            var messages = comm.messages[Symbol.asyncIterator]();\n",
       "            function processIteratorResult(result) {\n",
       "              var message = result.value;\n",
       "              var content = {data: message.data};\n",
       "              var metadata = message.metadata || {comm_id};\n",
       "              var msg = {content, metadata}\n",
       "              msg_handler(msg);\n",
       "              return messages.next().then(processIteratorResult);\n",
       "            }\n",
       "            return messages.next().then(processIteratorResult);\n",
       "          }\n",
       "        }) \n",
       "        var sendClosure = (data, metadata, buffers, disposeOnDone) => {\n",
       "          return comm_promise.then((comm) => {\n",
       "            comm.send(data, metadata, buffers, disposeOnDone);\n",
       "          });\n",
       "        };\n",
       "        var comm = {\n",
       "          send: sendClosure\n",
       "        };\n",
       "      }\n",
       "      window.PyViz.comms[comm_id] = comm;\n",
       "      return comm;\n",
       "    }\n",
       "    window.PyViz.comm_manager = new JupyterCommManager();\n",
       "    \n",
       "\n",
       "\n",
       "var JS_MIME_TYPE = 'application/javascript';\n",
       "var HTML_MIME_TYPE = 'text/html';\n",
       "var EXEC_MIME_TYPE = 'application/vnd.holoviews_exec.v0+json';\n",
       "var CLASS_NAME = 'output';\n",
       "\n",
       "/**\n",
       " * Render data to the DOM node\n",
       " */\n",
       "function render(props, node) {\n",
       "  var div = document.createElement(\"div\");\n",
       "  var script = document.createElement(\"script\");\n",
       "  node.appendChild(div);\n",
       "  node.appendChild(script);\n",
       "}\n",
       "\n",
       "/**\n",
       " * Handle when a new output is added\n",
       " */\n",
       "function handle_add_output(event, handle) {\n",
       "  var output_area = handle.output_area;\n",
       "  var output = handle.output;\n",
       "  if ((output.data == undefined) || (!output.data.hasOwnProperty(EXEC_MIME_TYPE))) {\n",
       "    return\n",
       "  }\n",
       "  var id = output.metadata[EXEC_MIME_TYPE][\"id\"];\n",
       "  var toinsert = output_area.element.find(\".\" + CLASS_NAME.split(' ')[0]);\n",
       "  if (id !== undefined) {\n",
       "    var nchildren = toinsert.length;\n",
       "    var html_node = toinsert[nchildren-1].children[0];\n",
       "    html_node.innerHTML = output.data[HTML_MIME_TYPE];\n",
       "    var scripts = [];\n",
       "    var nodelist = html_node.querySelectorAll(\"script\");\n",
       "    for (var i in nodelist) {\n",
       "      if (nodelist.hasOwnProperty(i)) {\n",
       "        scripts.push(nodelist[i])\n",
       "      }\n",
       "    }\n",
       "\n",
       "    scripts.forEach( function (oldScript) {\n",
       "      var newScript = document.createElement(\"script\");\n",
       "      var attrs = [];\n",
       "      var nodemap = oldScript.attributes;\n",
       "      for (var j in nodemap) {\n",
       "        if (nodemap.hasOwnProperty(j)) {\n",
       "          attrs.push(nodemap[j])\n",
       "        }\n",
       "      }\n",
       "      attrs.forEach(function(attr) { newScript.setAttribute(attr.name, attr.value) });\n",
       "      newScript.appendChild(document.createTextNode(oldScript.innerHTML));\n",
       "      oldScript.parentNode.replaceChild(newScript, oldScript);\n",
       "    });\n",
       "    if (JS_MIME_TYPE in output.data) {\n",
       "      toinsert[nchildren-1].children[1].textContent = output.data[JS_MIME_TYPE];\n",
       "    }\n",
       "    output_area._hv_plot_id = id;\n",
       "    if ((window.Bokeh !== undefined) && (id in Bokeh.index)) {\n",
       "      window.PyViz.plot_index[id] = Bokeh.index[id];\n",
       "    } else {\n",
       "      window.PyViz.plot_index[id] = null;\n",
       "    }\n",
       "  } else if (output.metadata[EXEC_MIME_TYPE][\"server_id\"] !== undefined) {\n",
       "    var bk_div = document.createElement(\"div\");\n",
       "    bk_div.innerHTML = output.data[HTML_MIME_TYPE];\n",
       "    var script_attrs = bk_div.children[0].attributes;\n",
       "    for (var i = 0; i < script_attrs.length; i++) {\n",
       "      toinsert[toinsert.length - 1].childNodes[1].setAttribute(script_attrs[i].name, script_attrs[i].value);\n",
       "    }\n",
       "    // store reference to server id on output_area\n",
       "    output_area._bokeh_server_id = output.metadata[EXEC_MIME_TYPE][\"server_id\"];\n",
       "  }\n",
       "}\n",
       "\n",
       "/**\n",
       " * Handle when an output is cleared or removed\n",
       " */\n",
       "function handle_clear_output(event, handle) {\n",
       "  var id = handle.cell.output_area._hv_plot_id;\n",
       "  var server_id = handle.cell.output_area._bokeh_server_id;\n",
       "  if (((id === undefined) || !(id in PyViz.plot_index)) && (server_id !== undefined)) { return; }\n",
       "  var comm = window.PyViz.comm_manager.get_client_comm(\"hv-extension-comm\", \"hv-extension-comm\", function () {});\n",
       "  if (server_id !== null) {\n",
       "    comm.send({event_type: 'server_delete', 'id': server_id});\n",
       "    return;\n",
       "  } else if (comm !== null) {\n",
       "    comm.send({event_type: 'delete', 'id': id});\n",
       "  }\n",
       "  delete PyViz.plot_index[id];\n",
       "  if ((window.Bokeh !== undefined) & (id in window.Bokeh.index)) {\n",
       "    var doc = window.Bokeh.index[id].model.document\n",
       "    doc.clear();\n",
       "    const i = window.Bokeh.documents.indexOf(doc);\n",
       "    if (i > -1) {\n",
       "      window.Bokeh.documents.splice(i, 1);\n",
       "    }\n",
       "  }\n",
       "}\n",
       "\n",
       "/**\n",
       " * Handle kernel restart event\n",
       " */\n",
       "function handle_kernel_cleanup(event, handle) {\n",
       "  delete PyViz.comms[\"hv-extension-comm\"];\n",
       "  window.PyViz.plot_index = {}\n",
       "}\n",
       "\n",
       "/**\n",
       " * Handle update_display_data messages\n",
       " */\n",
       "function handle_update_output(event, handle) {\n",
       "  handle_clear_output(event, {cell: {output_area: handle.output_area}})\n",
       "  handle_add_output(event, handle)\n",
       "}\n",
       "\n",
       "function register_renderer(events, OutputArea) {\n",
       "  function append_mime(data, metadata, element) {\n",
       "    // create a DOM node to render to\n",
       "    var toinsert = this.create_output_subarea(\n",
       "    metadata,\n",
       "    CLASS_NAME,\n",
       "    EXEC_MIME_TYPE\n",
       "    );\n",
       "    this.keyboard_manager.register_events(toinsert);\n",
       "    // Render to node\n",
       "    var props = {data: data, metadata: metadata[EXEC_MIME_TYPE]};\n",
       "    render(props, toinsert[0]);\n",
       "    element.append(toinsert);\n",
       "    return toinsert\n",
       "  }\n",
       "\n",
       "  events.on('output_added.OutputArea', handle_add_output);\n",
       "  events.on('output_updated.OutputArea', handle_update_output);\n",
       "  events.on('clear_output.CodeCell', handle_clear_output);\n",
       "  events.on('delete.Cell', handle_clear_output);\n",
       "  events.on('kernel_ready.Kernel', handle_kernel_cleanup);\n",
       "\n",
       "  OutputArea.prototype.register_mime_type(EXEC_MIME_TYPE, append_mime, {\n",
       "    safe: true,\n",
       "    index: 0\n",
       "  });\n",
       "}\n",
       "\n",
       "if (window.Jupyter !== undefined) {\n",
       "  try {\n",
       "    var events = require('base/js/events');\n",
       "    var OutputArea = require('notebook/js/outputarea').OutputArea;\n",
       "    if (OutputArea.prototype.mime_types().indexOf(EXEC_MIME_TYPE) == -1) {\n",
       "      register_renderer(events, OutputArea);\n",
       "    }\n",
       "  } catch(err) {\n",
       "  }\n",
       "}\n"
      ],
      "application/vnd.holoviews_load.v0+json": "\nif ((window.PyViz === undefined) || (window.PyViz instanceof HTMLElement)) {\n  window.PyViz = {comms: {}, comm_status:{}, kernels:{}, receivers: {}, plot_index: []}\n}\n\n\n    function JupyterCommManager() {\n    }\n\n    JupyterCommManager.prototype.register_target = function(plot_id, comm_id, msg_handler) {\n      if (window.comm_manager || ((window.Jupyter !== undefined) && (Jupyter.notebook.kernel != null))) {\n        var comm_manager = window.comm_manager || Jupyter.notebook.kernel.comm_manager;\n        comm_manager.register_target(comm_id, function(comm) {\n          comm.on_msg(msg_handler);\n        });\n      } else if ((plot_id in window.PyViz.kernels) && (window.PyViz.kernels[plot_id])) {\n        window.PyViz.kernels[plot_id].registerCommTarget(comm_id, function(comm) {\n          comm.onMsg = msg_handler;\n        });\n      } else if (typeof google != 'undefined' && google.colab.kernel != null) {\n        google.colab.kernel.comms.registerTarget(comm_id, (comm) => {\n          var messages = comm.messages[Symbol.asyncIterator]();\n          function processIteratorResult(result) {\n            var message = result.value;\n            console.log(message)\n            var content = {data: message.data, comm_id};\n            var buffers = []\n            for (var buffer of message.buffers || []) {\n              buffers.push(new DataView(buffer))\n            }\n            var metadata = message.metadata || {};\n            var msg = {content, buffers, metadata}\n            msg_handler(msg);\n            return messages.next().then(processIteratorResult);\n          }\n          return messages.next().then(processIteratorResult);\n        })\n      }\n    }\n\n    JupyterCommManager.prototype.get_client_comm = function(plot_id, comm_id, msg_handler) {\n      if (comm_id in window.PyViz.comms) {\n        return window.PyViz.comms[comm_id];\n      } else if (window.comm_manager || ((window.Jupyter !== undefined) && (Jupyter.notebook.kernel != null))) {\n        var comm_manager = window.comm_manager || Jupyter.notebook.kernel.comm_manager;\n        var comm = comm_manager.new_comm(comm_id, {}, {}, {}, comm_id);\n        if (msg_handler) {\n          comm.on_msg(msg_handler);\n        }\n      } else if ((plot_id in window.PyViz.kernels) && (window.PyViz.kernels[plot_id])) {\n        var comm = window.PyViz.kernels[plot_id].connectToComm(comm_id);\n        comm.open();\n        if (msg_handler) {\n          comm.onMsg = msg_handler;\n        }\n      } else if (typeof google != 'undefined' && google.colab.kernel != null) {\n        var comm_promise = google.colab.kernel.comms.open(comm_id)\n        comm_promise.then((comm) => {\n          window.PyViz.comms[comm_id] = comm;\n          if (msg_handler) {\n            var messages = comm.messages[Symbol.asyncIterator]();\n            function processIteratorResult(result) {\n              var message = result.value;\n              var content = {data: message.data};\n              var metadata = message.metadata || {comm_id};\n              var msg = {content, metadata}\n              msg_handler(msg);\n              return messages.next().then(processIteratorResult);\n            }\n            return messages.next().then(processIteratorResult);\n          }\n        }) \n        var sendClosure = (data, metadata, buffers, disposeOnDone) => {\n          return comm_promise.then((comm) => {\n            comm.send(data, metadata, buffers, disposeOnDone);\n          });\n        };\n        var comm = {\n          send: sendClosure\n        };\n      }\n      window.PyViz.comms[comm_id] = comm;\n      return comm;\n    }\n    window.PyViz.comm_manager = new JupyterCommManager();\n    \n\n\nvar JS_MIME_TYPE = 'application/javascript';\nvar HTML_MIME_TYPE = 'text/html';\nvar EXEC_MIME_TYPE = 'application/vnd.holoviews_exec.v0+json';\nvar CLASS_NAME = 'output';\n\n/**\n * Render data to the DOM node\n */\nfunction render(props, node) {\n  var div = document.createElement(\"div\");\n  var script = document.createElement(\"script\");\n  node.appendChild(div);\n  node.appendChild(script);\n}\n\n/**\n * Handle when a new output is added\n */\nfunction handle_add_output(event, handle) {\n  var output_area = handle.output_area;\n  var output = handle.output;\n  if ((output.data == undefined) || (!output.data.hasOwnProperty(EXEC_MIME_TYPE))) {\n    return\n  }\n  var id = output.metadata[EXEC_MIME_TYPE][\"id\"];\n  var toinsert = output_area.element.find(\".\" + CLASS_NAME.split(' ')[0]);\n  if (id !== undefined) {\n    var nchildren = toinsert.length;\n    var html_node = toinsert[nchildren-1].children[0];\n    html_node.innerHTML = output.data[HTML_MIME_TYPE];\n    var scripts = [];\n    var nodelist = html_node.querySelectorAll(\"script\");\n    for (var i in nodelist) {\n      if (nodelist.hasOwnProperty(i)) {\n        scripts.push(nodelist[i])\n      }\n    }\n\n    scripts.forEach( function (oldScript) {\n      var newScript = document.createElement(\"script\");\n      var attrs = [];\n      var nodemap = oldScript.attributes;\n      for (var j in nodemap) {\n        if (nodemap.hasOwnProperty(j)) {\n          attrs.push(nodemap[j])\n        }\n      }\n      attrs.forEach(function(attr) { newScript.setAttribute(attr.name, attr.value) });\n      newScript.appendChild(document.createTextNode(oldScript.innerHTML));\n      oldScript.parentNode.replaceChild(newScript, oldScript);\n    });\n    if (JS_MIME_TYPE in output.data) {\n      toinsert[nchildren-1].children[1].textContent = output.data[JS_MIME_TYPE];\n    }\n    output_area._hv_plot_id = id;\n    if ((window.Bokeh !== undefined) && (id in Bokeh.index)) {\n      window.PyViz.plot_index[id] = Bokeh.index[id];\n    } else {\n      window.PyViz.plot_index[id] = null;\n    }\n  } else if (output.metadata[EXEC_MIME_TYPE][\"server_id\"] !== undefined) {\n    var bk_div = document.createElement(\"div\");\n    bk_div.innerHTML = output.data[HTML_MIME_TYPE];\n    var script_attrs = bk_div.children[0].attributes;\n    for (var i = 0; i < script_attrs.length; i++) {\n      toinsert[toinsert.length - 1].childNodes[1].setAttribute(script_attrs[i].name, script_attrs[i].value);\n    }\n    // store reference to server id on output_area\n    output_area._bokeh_server_id = output.metadata[EXEC_MIME_TYPE][\"server_id\"];\n  }\n}\n\n/**\n * Handle when an output is cleared or removed\n */\nfunction handle_clear_output(event, handle) {\n  var id = handle.cell.output_area._hv_plot_id;\n  var server_id = handle.cell.output_area._bokeh_server_id;\n  if (((id === undefined) || !(id in PyViz.plot_index)) && (server_id !== undefined)) { return; }\n  var comm = window.PyViz.comm_manager.get_client_comm(\"hv-extension-comm\", \"hv-extension-comm\", function () {});\n  if (server_id !== null) {\n    comm.send({event_type: 'server_delete', 'id': server_id});\n    return;\n  } else if (comm !== null) {\n    comm.send({event_type: 'delete', 'id': id});\n  }\n  delete PyViz.plot_index[id];\n  if ((window.Bokeh !== undefined) & (id in window.Bokeh.index)) {\n    var doc = window.Bokeh.index[id].model.document\n    doc.clear();\n    const i = window.Bokeh.documents.indexOf(doc);\n    if (i > -1) {\n      window.Bokeh.documents.splice(i, 1);\n    }\n  }\n}\n\n/**\n * Handle kernel restart event\n */\nfunction handle_kernel_cleanup(event, handle) {\n  delete PyViz.comms[\"hv-extension-comm\"];\n  window.PyViz.plot_index = {}\n}\n\n/**\n * Handle update_display_data messages\n */\nfunction handle_update_output(event, handle) {\n  handle_clear_output(event, {cell: {output_area: handle.output_area}})\n  handle_add_output(event, handle)\n}\n\nfunction register_renderer(events, OutputArea) {\n  function append_mime(data, metadata, element) {\n    // create a DOM node to render to\n    var toinsert = this.create_output_subarea(\n    metadata,\n    CLASS_NAME,\n    EXEC_MIME_TYPE\n    );\n    this.keyboard_manager.register_events(toinsert);\n    // Render to node\n    var props = {data: data, metadata: metadata[EXEC_MIME_TYPE]};\n    render(props, toinsert[0]);\n    element.append(toinsert);\n    return toinsert\n  }\n\n  events.on('output_added.OutputArea', handle_add_output);\n  events.on('output_updated.OutputArea', handle_update_output);\n  events.on('clear_output.CodeCell', handle_clear_output);\n  events.on('delete.Cell', handle_clear_output);\n  events.on('kernel_ready.Kernel', handle_kernel_cleanup);\n\n  OutputArea.prototype.register_mime_type(EXEC_MIME_TYPE, append_mime, {\n    safe: true,\n    index: 0\n  });\n}\n\nif (window.Jupyter !== undefined) {\n  try {\n    var events = require('base/js/events');\n    var OutputArea = require('notebook/js/outputarea').OutputArea;\n    if (OutputArea.prototype.mime_types().indexOf(EXEC_MIME_TYPE) == -1) {\n      register_renderer(events, OutputArea);\n    }\n  } catch(err) {\n  }\n}\n"
     },
     "metadata": {},
     "output_type": "display_data"
    },
    {
     "data": {
      "text/html": [
       "<style>*[data-root-id],\n",
       "*[data-root-id] > * {\n",
       "  box-sizing: border-box;\n",
       "  font-family: var(--jp-ui-font-family);\n",
       "  font-size: var(--jp-ui-font-size1);\n",
       "  color: var(--vscode-editor-foreground, var(--jp-ui-font-color1));\n",
       "}\n",
       "\n",
       "/* Override VSCode background color */\n",
       ".cell-output-ipywidget-background:has(> .cell-output-ipywidget-background\n",
       "    > .lm-Widget\n",
       "    > *[data-root-id]),\n",
       ".cell-output-ipywidget-background:has(> .lm-Widget > *[data-root-id]) {\n",
       "  background-color: transparent !important;\n",
       "}\n",
       "</style>"
      ]
     },
     "metadata": {},
     "output_type": "display_data"
    },
    {
     "data": {
      "application/vnd.holoviews_exec.v0+json": "",
      "text/html": [
       "<div id='dd22990d-b0c8-40f7-a713-7f06101d580f'>\n",
       "  <div id=\"df710cea-d76e-450e-bb2b-73c7b96804b4\" data-root-id=\"dd22990d-b0c8-40f7-a713-7f06101d580f\" style=\"display: contents;\"></div>\n",
       "</div>\n",
       "<script type=\"application/javascript\">(function(root) {\n",
       "  var docs_json = {\"5818e88a-7685-48b2-9085-64502ca1b06c\":{\"version\":\"3.1.1\",\"title\":\"Bokeh Application\",\"defs\":[{\"type\":\"model\",\"name\":\"ReactiveHTML1\"},{\"type\":\"model\",\"name\":\"FlexBox1\",\"properties\":[{\"name\":\"align_content\",\"kind\":\"Any\",\"default\":\"flex-start\"},{\"name\":\"align_items\",\"kind\":\"Any\",\"default\":\"flex-start\"},{\"name\":\"flex_direction\",\"kind\":\"Any\",\"default\":\"row\"},{\"name\":\"flex_wrap\",\"kind\":\"Any\",\"default\":\"wrap\"},{\"name\":\"justify_content\",\"kind\":\"Any\",\"default\":\"flex-start\"}]},{\"type\":\"model\",\"name\":\"FloatPanel1\",\"properties\":[{\"name\":\"config\",\"kind\":\"Any\",\"default\":{\"type\":\"map\"}},{\"name\":\"contained\",\"kind\":\"Any\",\"default\":true},{\"name\":\"position\",\"kind\":\"Any\",\"default\":\"right-top\"},{\"name\":\"offsetx\",\"kind\":\"Any\",\"default\":null},{\"name\":\"offsety\",\"kind\":\"Any\",\"default\":null},{\"name\":\"theme\",\"kind\":\"Any\",\"default\":\"primary\"},{\"name\":\"status\",\"kind\":\"Any\",\"default\":\"normalized\"}]},{\"type\":\"model\",\"name\":\"GridStack1\",\"properties\":[{\"name\":\"mode\",\"kind\":\"Any\",\"default\":\"warn\"},{\"name\":\"ncols\",\"kind\":\"Any\",\"default\":null},{\"name\":\"nrows\",\"kind\":\"Any\",\"default\":null},{\"name\":\"allow_resize\",\"kind\":\"Any\",\"default\":true},{\"name\":\"allow_drag\",\"kind\":\"Any\",\"default\":true},{\"name\":\"state\",\"kind\":\"Any\",\"default\":[]}]},{\"type\":\"model\",\"name\":\"drag1\",\"properties\":[{\"name\":\"slider_width\",\"kind\":\"Any\",\"default\":5},{\"name\":\"slider_color\",\"kind\":\"Any\",\"default\":\"black\"},{\"name\":\"value\",\"kind\":\"Any\",\"default\":50}]},{\"type\":\"model\",\"name\":\"click1\",\"properties\":[{\"name\":\"terminal_output\",\"kind\":\"Any\",\"default\":\"\"},{\"name\":\"debug_name\",\"kind\":\"Any\",\"default\":\"\"},{\"name\":\"clears\",\"kind\":\"Any\",\"default\":0}]},{\"type\":\"model\",\"name\":\"FastWrapper1\",\"properties\":[{\"name\":\"object\",\"kind\":\"Any\",\"default\":null},{\"name\":\"style\",\"kind\":\"Any\",\"default\":null}]},{\"type\":\"model\",\"name\":\"NotificationAreaBase1\",\"properties\":[{\"name\":\"position\",\"kind\":\"Any\",\"default\":\"bottom-right\"},{\"name\":\"_clear\",\"kind\":\"Any\",\"default\":0}]},{\"type\":\"model\",\"name\":\"NotificationArea1\",\"properties\":[{\"name\":\"notifications\",\"kind\":\"Any\",\"default\":[]},{\"name\":\"position\",\"kind\":\"Any\",\"default\":\"bottom-right\"},{\"name\":\"_clear\",\"kind\":\"Any\",\"default\":0},{\"name\":\"types\",\"kind\":\"Any\",\"default\":[{\"type\":\"map\",\"entries\":[[\"type\",\"warning\"],[\"background\",\"#ffc107\"],[\"icon\",{\"type\":\"map\",\"entries\":[[\"className\",\"fas fa-exclamation-triangle\"],[\"tagName\",\"i\"],[\"color\",\"white\"]]}]]},{\"type\":\"map\",\"entries\":[[\"type\",\"info\"],[\"background\",\"#007bff\"],[\"icon\",{\"type\":\"map\",\"entries\":[[\"className\",\"fas fa-info-circle\"],[\"tagName\",\"i\"],[\"color\",\"white\"]]}]]}]}]},{\"type\":\"model\",\"name\":\"Notification\",\"properties\":[{\"name\":\"background\",\"kind\":\"Any\",\"default\":null},{\"name\":\"duration\",\"kind\":\"Any\",\"default\":3000},{\"name\":\"icon\",\"kind\":\"Any\",\"default\":null},{\"name\":\"message\",\"kind\":\"Any\",\"default\":\"\"},{\"name\":\"notification_type\",\"kind\":\"Any\",\"default\":null},{\"name\":\"_destroyed\",\"kind\":\"Any\",\"default\":false}]},{\"type\":\"model\",\"name\":\"TemplateActions1\",\"properties\":[{\"name\":\"open_modal\",\"kind\":\"Any\",\"default\":0},{\"name\":\"close_modal\",\"kind\":\"Any\",\"default\":0}]},{\"type\":\"model\",\"name\":\"BootstrapTemplateActions1\",\"properties\":[{\"name\":\"open_modal\",\"kind\":\"Any\",\"default\":0},{\"name\":\"close_modal\",\"kind\":\"Any\",\"default\":0}]},{\"type\":\"model\",\"name\":\"MaterialTemplateActions1\",\"properties\":[{\"name\":\"open_modal\",\"kind\":\"Any\",\"default\":0},{\"name\":\"close_modal\",\"kind\":\"Any\",\"default\":0}]}],\"roots\":[{\"type\":\"object\",\"name\":\"panel.models.browser.BrowserInfo\",\"id\":\"dd22990d-b0c8-40f7-a713-7f06101d580f\"},{\"type\":\"object\",\"name\":\"panel.models.comm_manager.CommManager\",\"id\":\"14788a4e-c2f8-482e-9ae3-36d62cacce2b\",\"attributes\":{\"plot_id\":\"dd22990d-b0c8-40f7-a713-7f06101d580f\",\"comm_id\":\"47c04756791345bbaab4569d512a5922\",\"client_comm_id\":\"f98c3871ded0479580a1355cba23fcb8\"}}],\"callbacks\":{\"type\":\"map\"}}};\n",
       "  var render_items = [{\"docid\":\"5818e88a-7685-48b2-9085-64502ca1b06c\",\"roots\":{\"dd22990d-b0c8-40f7-a713-7f06101d580f\":\"df710cea-d76e-450e-bb2b-73c7b96804b4\"},\"root_ids\":[\"dd22990d-b0c8-40f7-a713-7f06101d580f\"]}];\n",
       "  var docs = Object.values(docs_json)\n",
       "  if (!docs) {\n",
       "    return\n",
       "  }\n",
       "  const py_version = docs[0].version.replace('rc', '-rc.')\n",
       "  const is_dev = py_version.indexOf(\"+\") !== -1 || py_version.indexOf(\"-\") !== -1\n",
       "  function embed_document(root) {\n",
       "    var Bokeh = get_bokeh(root)\n",
       "    Bokeh.embed.embed_items_notebook(docs_json, render_items);\n",
       "    for (const render_item of render_items) {\n",
       "      for (const root_id of render_item.root_ids) {\n",
       "\tconst id_el = document.getElementById(root_id)\n",
       "\tif (id_el.children.length && (id_el.children[0].className === 'bk-root')) {\n",
       "\t  const root_el = id_el.children[0]\n",
       "\t  root_el.id = root_el.id + '-rendered'\n",
       "\t}\n",
       "      }\n",
       "    }\n",
       "  }\n",
       "  function get_bokeh(root) {\n",
       "    if (root.Bokeh === undefined) {\n",
       "      return null\n",
       "    } else if (root.Bokeh.version !== py_version && !is_dev) {\n",
       "      if (root.Bokeh.versions === undefined || !root.Bokeh.versions.has(py_version)) {\n",
       "\treturn null\n",
       "      }\n",
       "      return root.Bokeh.versions.get(py_version);\n",
       "    } else if (root.Bokeh.version === py_version) {\n",
       "      return root.Bokeh\n",
       "    }\n",
       "    return null\n",
       "  }\n",
       "  function is_loaded(root) {\n",
       "    var Bokeh = get_bokeh(root)\n",
       "    return (Bokeh != null && Bokeh.Panel !== undefined && ( root['jsPanel'] !== undefined))\n",
       "  }\n",
       "  if (is_loaded(root)) {\n",
       "    embed_document(root);\n",
       "  } else {\n",
       "    var attempts = 0;\n",
       "    var timer = setInterval(function(root) {\n",
       "      if (is_loaded(root)) {\n",
       "        clearInterval(timer);\n",
       "        embed_document(root);\n",
       "      } else if (document.readyState == \"complete\") {\n",
       "        attempts++;\n",
       "        if (attempts > 200) {\n",
       "          clearInterval(timer);\n",
       "\t  var Bokeh = get_bokeh(root)\n",
       "\t  if (Bokeh == null || Bokeh.Panel == null) {\n",
       "            console.warn(\"Panel: ERROR: Unable to run Panel code because Bokeh or Panel library is missing\");\n",
       "\t  } else {\n",
       "\t    console.warn(\"Panel: WARNING: Attempting to render but not all required libraries could be resolved.\")\n",
       "\t    embed_document(root)\n",
       "\t  }\n",
       "        }\n",
       "      }\n",
       "    }, 25, root)\n",
       "  }\n",
       "})(window);</script>"
      ]
     },
     "metadata": {
      "application/vnd.holoviews_exec.v0+json": {
       "id": "dd22990d-b0c8-40f7-a713-7f06101d580f"
      }
     },
     "output_type": "display_data"
    }
   ],
   "source": [
    "pn.extension('floatpanel') "
   ]
  },
  {
   "cell_type": "markdown",
   "metadata": {},
   "source": [
    "## Functions"
   ]
  },
  {
   "cell_type": "markdown",
   "metadata": {},
   "source": [
    "### CPU"
   ]
  },
  {
   "cell_type": "markdown",
   "metadata": {},
   "source": [
    "#### def get_cpu_model():"
   ]
  },
  {
   "cell_type": "code",
   "execution_count": null,
   "metadata": {},
   "outputs": [],
   "source": [
    "#| export\n",
    "def get_cpu_model( ) ->str: # `\"model name\"` string.\n",
    "  '''\n",
    "  Reads `\"/proc/cpuinfo\"` and returns the `\"model name\"` string.\n",
    "  '''\n",
    "  with open('/proc/cpuinfo') as f:\n",
    "    lines = f.readlines()\n",
    "  for i in lines:\n",
    "    i = i.strip()              # Remove CRLF\n",
    "    t = i.split('\\t:')         # Split string by '\\t:'\n",
    "    if len(t) >1:              # \n",
    "      if t[0] == 'model name': # If we find \"model name\"\n",
    "        rv = t[1]              #  then put in `rv` break out and return `rv`\n",
    "        break\n",
    "  return rv"
   ]
  },
  {
   "cell_type": "code",
   "execution_count": null,
   "metadata": {},
   "outputs": [],
   "source": [
    "# show_doc(get_cpu_model)"
   ]
  },
  {
   "cell_type": "code",
   "execution_count": null,
   "metadata": {},
   "outputs": [
    {
     "name": "stdout",
     "output_type": "stream",
     "text": [
      " Intel(R) Core(TM) i9-10900K CPU @ 3.70GHz\n"
     ]
    }
   ],
   "source": [
    "print(get_cpu_model() )"
   ]
  },
  {
   "cell_type": "markdown",
   "metadata": {},
   "source": [
    "#### def cpu_use_stats()"
   ]
  },
  {
   "cell_type": "code",
   "execution_count": null,
   "metadata": {},
   "outputs": [],
   "source": [
    "#| export\n",
    "# return list has:\n",
    "# scputimes(user=7815.26, nice=2.28, system=3641.48, idle=8743022.95, iowait=7.88, irq=0.0, softirq=669.33, steal=0.0, guest=0.0, guest_nice=0.0)\n",
    "# wsl ww dt3 Execution time:\n",
    "#   92.2 µs ± 17.8 µs per loop (mean ± std. dev. of 7 runs, 1,000 loops each)\n",
    "def cpu_use_stats( # None\n",
    ") -> tuple:  # A named tuple\n",
    "  '''\n",
    "  Returns CPU usage stats as a named tuple consisting of: \n",
    "  - totalsecs : Total CPU seconds the analysis is based on.\n",
    "  - **all** : sum of: user+syst+iowait+softirq percent use.\n",
    "  - **user** : user %\n",
    "  - **system** : system %\n",
    "  - **iowait** : iowait %\n",
    "  - **softirq** : softirq %\n",
    "  - **header** : A header string for str.\n",
    "  - **str** : string variable with fully formatted values for each of above.\n",
    "  '''\n",
    "  v = ps.cpu_times()\n",
    "  vtotal = 0.0\n",
    "  for i in range(0,len(v)):\n",
    "    vtotal += v[i]\n",
    "  user    = 100*v.user/vtotal\n",
    "  syst    = 100*v.system/vtotal\n",
    "  iowait  = 100*v.iowait/vtotal\n",
    "  softirq = 100*v.softirq/vtotal\n",
    "  header  = 'Total time        All    User  System  IOwait softirq'\n",
    "  str     = f'{vtotal/1e6:,f} sec  {user+syst+iowait+softirq:6.3f}% {user:6.3f}% { syst:6.3f}% {iowait:6.3f}% {softirq:6.3f}%'\n",
    "\n",
    "  CPU_STATS = namedtuple('CPUStats', 'totalsecs all user system iowait softirq header str')\n",
    "  cpu_stats = CPU_STATS(vtotal/1e6, user+syst+iowait+softirq, user, syst, iowait, softirq, header, str)\n",
    "  return cpu_stats"
   ]
  },
  {
   "cell_type": "code",
   "execution_count": null,
   "metadata": {},
   "outputs": [],
   "source": [
    "#show_doc(cpu_use_stats)"
   ]
  },
  {
   "cell_type": "markdown",
   "metadata": {},
   "source": [
    "Measure the average execution."
   ]
  },
  {
   "cell_type": "code",
   "execution_count": null,
   "metadata": {},
   "outputs": [
    {
     "name": "stdout",
     "output_type": "stream",
     "text": [
      "89.9 µs ± 6.78 µs per loop (mean ± std. dev. of 7 runs, 1,000 loops each)\n"
     ]
    }
   ],
   "source": [
    "%%timeit -n 1000\n",
    "cpu_stats = cpu_use_stats()"
   ]
  },
  {
   "cell_type": "markdown",
   "metadata": {},
   "source": [
    "Print the `header` and `str` elememts. These can generally be used as is."
   ]
  },
  {
   "cell_type": "markdown",
   "metadata": {},
   "source": [
    "cpu_stats.header,cpu_stats.str"
   ]
  },
  {
   "cell_type": "markdown",
   "metadata": {},
   "source": [
    "## Widgets"
   ]
  },
  {
   "cell_type": "markdown",
   "metadata": {},
   "source": [
    "###    def FolderSelector( parent, initial_dir='/', CallBack_func = None ):"
   ]
  },
  {
   "cell_type": "code",
   "execution_count": null,
   "metadata": {},
   "outputs": [],
   "source": [
    "#| export\n",
    "def FolderSelector( parent,              # Parent widget\n",
    "                   initial_dir='/',      # Dir to start in.\n",
    "                   CallBack_func = None  # Function to call with selected folder.\n",
    "                  ) ->object:            # The folder selector object\n",
    "  \"\"\"\n",
    "  \"\"\"\n",
    "  def button_handler(event):\n",
    "    floatpanel.status = 'closed'\n",
    "\n",
    "    if event.obj.name   == 'Ok':\n",
    "      parent.Selected_Folder = file_w._directory.value  \n",
    "    elif event.obj.name == 'Cancel':\n",
    "      parent.Selected_Folder = None\n",
    "\n",
    "    if CallBack_func != None:\n",
    "      CallBack_func( [parent.Selected_Folder, event]  )\n",
    "\n",
    "  file_w          = pn.widgets.FileSelector(initial_dir,     root_directory ='/', refresh_period=500)\n",
    "  FolderSel_b     = pn.widgets.Button(name='Ok',     button_type='primary')\n",
    "  folder_cancel_b = pn.widgets.Button(name='Cancel', button_type='primary')\n",
    "  folder_w        = pn.WidgetBox(file_w, pn.Row(FolderSel_b, folder_cancel_b) )\n",
    "  floatpanel      = pn.layout.FloatPanel(folder_w, name='Basic FloatPanel', margin=20, contained=False, position='center')\n",
    "  floatpanel.Selected_Folder = None\n",
    "  FolderSel_b.on_click(    button_handler )\n",
    "  folder_cancel_b.on_click( button_handler )\n",
    "  parent.append( floatpanel )\n",
    "  return floatpanel"
   ]
  },
  {
   "cell_type": "markdown",
   "metadata": {},
   "source": [
    "Test & Debug: File_Selector( parent, initial_dir='/', CallBack_func = None ):"
   ]
  },
  {
   "cell_type": "code",
   "execution_count": null,
   "metadata": {},
   "outputs": [
    {
     "data": {},
     "metadata": {},
     "output_type": "display_data"
    },
    {
     "data": {
      "application/vnd.holoviews_exec.v0+json": "",
      "text/html": [
       "<div id='c94ee51a-6178-4239-be37-7ff2429a1b1e'>\n",
       "  <div id=\"d08cb915-305b-4a2d-8d9f-c63f5af52079\" data-root-id=\"c94ee51a-6178-4239-be37-7ff2429a1b1e\" style=\"display: contents;\"></div>\n",
       "</div>\n",
       "<script type=\"application/javascript\">(function(root) {\n",
       "  var docs_json = {\"dc15cbe2-5882-406c-8bf3-35f9202dd23c\":{\"version\":\"3.1.1\",\"title\":\"Bokeh Application\",\"defs\":[{\"type\":\"model\",\"name\":\"ReactiveHTML1\"},{\"type\":\"model\",\"name\":\"FlexBox1\",\"properties\":[{\"name\":\"align_content\",\"kind\":\"Any\",\"default\":\"flex-start\"},{\"name\":\"align_items\",\"kind\":\"Any\",\"default\":\"flex-start\"},{\"name\":\"flex_direction\",\"kind\":\"Any\",\"default\":\"row\"},{\"name\":\"flex_wrap\",\"kind\":\"Any\",\"default\":\"wrap\"},{\"name\":\"justify_content\",\"kind\":\"Any\",\"default\":\"flex-start\"}]},{\"type\":\"model\",\"name\":\"FloatPanel1\",\"properties\":[{\"name\":\"config\",\"kind\":\"Any\",\"default\":{\"type\":\"map\"}},{\"name\":\"contained\",\"kind\":\"Any\",\"default\":true},{\"name\":\"position\",\"kind\":\"Any\",\"default\":\"right-top\"},{\"name\":\"offsetx\",\"kind\":\"Any\",\"default\":null},{\"name\":\"offsety\",\"kind\":\"Any\",\"default\":null},{\"name\":\"theme\",\"kind\":\"Any\",\"default\":\"primary\"},{\"name\":\"status\",\"kind\":\"Any\",\"default\":\"normalized\"}]},{\"type\":\"model\",\"name\":\"GridStack1\",\"properties\":[{\"name\":\"mode\",\"kind\":\"Any\",\"default\":\"warn\"},{\"name\":\"ncols\",\"kind\":\"Any\",\"default\":null},{\"name\":\"nrows\",\"kind\":\"Any\",\"default\":null},{\"name\":\"allow_resize\",\"kind\":\"Any\",\"default\":true},{\"name\":\"allow_drag\",\"kind\":\"Any\",\"default\":true},{\"name\":\"state\",\"kind\":\"Any\",\"default\":[]}]},{\"type\":\"model\",\"name\":\"drag1\",\"properties\":[{\"name\":\"slider_width\",\"kind\":\"Any\",\"default\":5},{\"name\":\"slider_color\",\"kind\":\"Any\",\"default\":\"black\"},{\"name\":\"value\",\"kind\":\"Any\",\"default\":50}]},{\"type\":\"model\",\"name\":\"click1\",\"properties\":[{\"name\":\"terminal_output\",\"kind\":\"Any\",\"default\":\"\"},{\"name\":\"debug_name\",\"kind\":\"Any\",\"default\":\"\"},{\"name\":\"clears\",\"kind\":\"Any\",\"default\":0}]},{\"type\":\"model\",\"name\":\"FastWrapper1\",\"properties\":[{\"name\":\"object\",\"kind\":\"Any\",\"default\":null},{\"name\":\"style\",\"kind\":\"Any\",\"default\":null}]},{\"type\":\"model\",\"name\":\"NotificationAreaBase1\",\"properties\":[{\"name\":\"position\",\"kind\":\"Any\",\"default\":\"bottom-right\"},{\"name\":\"_clear\",\"kind\":\"Any\",\"default\":0}]},{\"type\":\"model\",\"name\":\"NotificationArea1\",\"properties\":[{\"name\":\"notifications\",\"kind\":\"Any\",\"default\":[]},{\"name\":\"position\",\"kind\":\"Any\",\"default\":\"bottom-right\"},{\"name\":\"_clear\",\"kind\":\"Any\",\"default\":0},{\"name\":\"types\",\"kind\":\"Any\",\"default\":[{\"type\":\"map\",\"entries\":[[\"type\",\"warning\"],[\"background\",\"#ffc107\"],[\"icon\",{\"type\":\"map\",\"entries\":[[\"className\",\"fas fa-exclamation-triangle\"],[\"tagName\",\"i\"],[\"color\",\"white\"]]}]]},{\"type\":\"map\",\"entries\":[[\"type\",\"info\"],[\"background\",\"#007bff\"],[\"icon\",{\"type\":\"map\",\"entries\":[[\"className\",\"fas fa-info-circle\"],[\"tagName\",\"i\"],[\"color\",\"white\"]]}]]}]}]},{\"type\":\"model\",\"name\":\"Notification\",\"properties\":[{\"name\":\"background\",\"kind\":\"Any\",\"default\":null},{\"name\":\"duration\",\"kind\":\"Any\",\"default\":3000},{\"name\":\"icon\",\"kind\":\"Any\",\"default\":null},{\"name\":\"message\",\"kind\":\"Any\",\"default\":\"\"},{\"name\":\"notification_type\",\"kind\":\"Any\",\"default\":null},{\"name\":\"_destroyed\",\"kind\":\"Any\",\"default\":false}]},{\"type\":\"model\",\"name\":\"TemplateActions1\",\"properties\":[{\"name\":\"open_modal\",\"kind\":\"Any\",\"default\":0},{\"name\":\"close_modal\",\"kind\":\"Any\",\"default\":0}]},{\"type\":\"model\",\"name\":\"BootstrapTemplateActions1\",\"properties\":[{\"name\":\"open_modal\",\"kind\":\"Any\",\"default\":0},{\"name\":\"close_modal\",\"kind\":\"Any\",\"default\":0}]},{\"type\":\"model\",\"name\":\"MaterialTemplateActions1\",\"properties\":[{\"name\":\"open_modal\",\"kind\":\"Any\",\"default\":0},{\"name\":\"close_modal\",\"kind\":\"Any\",\"default\":0}]}],\"roots\":[{\"type\":\"object\",\"name\":\"Row\",\"id\":\"c94ee51a-6178-4239-be37-7ff2429a1b1e\",\"attributes\":{\"name\":\"Row00125\",\"stylesheets\":[\"\\n:host(.pn-loading.pn-arc):before, .pn-loading.pn-arc:before {\\n  background-image: url(\\\"data:image/svg+xml;base64,PHN2ZyB4bWxucz0iaHR0cDovL3d3dy53My5vcmcvMjAwMC9zdmciIHN0eWxlPSJtYXJnaW46IGF1dG87IGJhY2tncm91bmQ6IG5vbmU7IGRpc3BsYXk6IGJsb2NrOyBzaGFwZS1yZW5kZXJpbmc6IGF1dG87IiB2aWV3Qm94PSIwIDAgMTAwIDEwMCIgcHJlc2VydmVBc3BlY3RSYXRpbz0ieE1pZFlNaWQiPiAgPGNpcmNsZSBjeD0iNTAiIGN5PSI1MCIgZmlsbD0ibm9uZSIgc3Ryb2tlPSIjYzNjM2MzIiBzdHJva2Utd2lkdGg9IjEwIiByPSIzNSIgc3Ryb2tlLWRhc2hhcnJheT0iMTY0LjkzMzYxNDMxMzQ2NDE1IDU2Ljk3Nzg3MTQzNzgyMTM4Ij4gICAgPGFuaW1hdGVUcmFuc2Zvcm0gYXR0cmlidXRlTmFtZT0idHJhbnNmb3JtIiB0eXBlPSJyb3RhdGUiIHJlcGVhdENvdW50PSJpbmRlZmluaXRlIiBkdXI9IjFzIiB2YWx1ZXM9IjAgNTAgNTA7MzYwIDUwIDUwIiBrZXlUaW1lcz0iMDsxIj48L2FuaW1hdGVUcmFuc2Zvcm0+ICA8L2NpcmNsZT48L3N2Zz4=\\\");\\n  background-size: auto calc(min(50%, 400px));\\n}\",{\"type\":\"object\",\"name\":\"ImportedStyleSheet\",\"id\":\"fba5da53-c346-40dd-81c5-515822732047\",\"attributes\":{\"url\":\"https://cdn.holoviz.org/panel/1.1.0/dist/css/loading.css\"}},{\"type\":\"object\",\"name\":\"ImportedStyleSheet\",\"id\":\"d46f8974-b356-4bc1-a943-7f59be66643d\",\"attributes\":{\"url\":\"https://cdn.holoviz.org/panel/1.1.0/dist/css/listpanel.css\"}},{\"type\":\"object\",\"name\":\"ImportedStyleSheet\",\"id\":\"47d3f720-441a-424e-8b53-f5080a42a8a3\",\"attributes\":{\"url\":\"https://cdn.holoviz.org/panel/1.1.0/dist/bundled/theme/default.css\"}},{\"type\":\"object\",\"name\":\"ImportedStyleSheet\",\"id\":\"8c223931-ffa9-458d-ae2a-6186d4cc4495\",\"attributes\":{\"url\":\"https://cdn.holoviz.org/panel/1.1.0/dist/bundled/theme/native.css\"}}],\"margin\":0,\"align\":\"start\",\"children\":[{\"type\":\"object\",\"name\":\"panel.models.markup.HTML\",\"id\":\"ff419041-21ae-48e4-ba61-c295348ae36e\",\"attributes\":{\"css_classes\":[\"markdown\"],\"stylesheets\":[\"\\n:host(.pn-loading.pn-arc):before, .pn-loading.pn-arc:before {\\n  background-image: url(\\\"data:image/svg+xml;base64,PHN2ZyB4bWxucz0iaHR0cDovL3d3dy53My5vcmcvMjAwMC9zdmciIHN0eWxlPSJtYXJnaW46IGF1dG87IGJhY2tncm91bmQ6IG5vbmU7IGRpc3BsYXk6IGJsb2NrOyBzaGFwZS1yZW5kZXJpbmc6IGF1dG87IiB2aWV3Qm94PSIwIDAgMTAwIDEwMCIgcHJlc2VydmVBc3BlY3RSYXRpbz0ieE1pZFlNaWQiPiAgPGNpcmNsZSBjeD0iNTAiIGN5PSI1MCIgZmlsbD0ibm9uZSIgc3Ryb2tlPSIjYzNjM2MzIiBzdHJva2Utd2lkdGg9IjEwIiByPSIzNSIgc3Ryb2tlLWRhc2hhcnJheT0iMTY0LjkzMzYxNDMxMzQ2NDE1IDU2Ljk3Nzg3MTQzNzgyMTM4Ij4gICAgPGFuaW1hdGVUcmFuc2Zvcm0gYXR0cmlidXRlTmFtZT0idHJhbnNmb3JtIiB0eXBlPSJyb3RhdGUiIHJlcGVhdENvdW50PSJpbmRlZmluaXRlIiBkdXI9IjFzIiB2YWx1ZXM9IjAgNTAgNTA7MzYwIDUwIDUwIiBrZXlUaW1lcz0iMDsxIj48L2FuaW1hdGVUcmFuc2Zvcm0+ICA8L2NpcmNsZT48L3N2Zz4=\\\");\\n  background-size: auto calc(min(50%, 400px));\\n}\",{\"id\":\"fba5da53-c346-40dd-81c5-515822732047\"},{\"type\":\"object\",\"name\":\"ImportedStyleSheet\",\"id\":\"f36e9d5a-9be3-4a11-81d8-2f66a2cc23cd\",\"attributes\":{\"url\":\"https://cdn.holoviz.org/panel/1.1.0/dist/css/markdown.css\"}},{\"id\":\"47d3f720-441a-424e-8b53-f5080a42a8a3\"},{\"id\":\"8c223931-ffa9-458d-ae2a-6186d4cc4495\"}],\"margin\":[5,10],\"align\":\"start\",\"text\":\"&lt;p&gt;Main&lt;/p&gt;\\n\"}},{\"type\":\"object\",\"name\":\"Button\",\"id\":\"33a4f975-c544-4a72-a2a0-aa9cdc9683c6\",\"attributes\":{\"subscribed_events\":{\"type\":\"set\",\"entries\":[\"button_click\"]},\"css_classes\":[\"solid\"],\"stylesheets\":[\"\\n:host(.pn-loading.pn-arc):before, .pn-loading.pn-arc:before {\\n  background-image: url(\\\"data:image/svg+xml;base64,PHN2ZyB4bWxucz0iaHR0cDovL3d3dy53My5vcmcvMjAwMC9zdmciIHN0eWxlPSJtYXJnaW46IGF1dG87IGJhY2tncm91bmQ6IG5vbmU7IGRpc3BsYXk6IGJsb2NrOyBzaGFwZS1yZW5kZXJpbmc6IGF1dG87IiB2aWV3Qm94PSIwIDAgMTAwIDEwMCIgcHJlc2VydmVBc3BlY3RSYXRpbz0ieE1pZFlNaWQiPiAgPGNpcmNsZSBjeD0iNTAiIGN5PSI1MCIgZmlsbD0ibm9uZSIgc3Ryb2tlPSIjYzNjM2MzIiBzdHJva2Utd2lkdGg9IjEwIiByPSIzNSIgc3Ryb2tlLWRhc2hhcnJheT0iMTY0LjkzMzYxNDMxMzQ2NDE1IDU2Ljk3Nzg3MTQzNzgyMTM4Ij4gICAgPGFuaW1hdGVUcmFuc2Zvcm0gYXR0cmlidXRlTmFtZT0idHJhbnNmb3JtIiB0eXBlPSJyb3RhdGUiIHJlcGVhdENvdW50PSJpbmRlZmluaXRlIiBkdXI9IjFzIiB2YWx1ZXM9IjAgNTAgNTA7MzYwIDUwIDUwIiBrZXlUaW1lcz0iMDsxIj48L2FuaW1hdGVUcmFuc2Zvcm0+ICA8L2NpcmNsZT48L3N2Zz4=\\\");\\n  background-size: auto calc(min(50%, 400px));\\n}\",{\"id\":\"fba5da53-c346-40dd-81c5-515822732047\"},{\"type\":\"object\",\"name\":\"ImportedStyleSheet\",\"id\":\"734ad10f-c439-48b9-bebb-e160b73e6a54\",\"attributes\":{\"url\":\"https://cdn.holoviz.org/panel/1.1.0/dist/css/button.css\"}},{\"id\":\"47d3f720-441a-424e-8b53-f5080a42a8a3\"},{\"id\":\"8c223931-ffa9-458d-ae2a-6186d4cc4495\"}],\"margin\":[5,10],\"align\":\"start\",\"label\":\"Select Folder\"}},{\"type\":\"object\",\"name\":\"Div\",\"id\":\"f692135c-8ef0-4b72-b3fa-0dc5843eb6ba\",\"attributes\":{\"stylesheets\":[\"\\n:host(.pn-loading.pn-arc):before, .pn-loading.pn-arc:before {\\n  background-image: url(\\\"data:image/svg+xml;base64,PHN2ZyB4bWxucz0iaHR0cDovL3d3dy53My5vcmcvMjAwMC9zdmciIHN0eWxlPSJtYXJnaW46IGF1dG87IGJhY2tncm91bmQ6IG5vbmU7IGRpc3BsYXk6IGJsb2NrOyBzaGFwZS1yZW5kZXJpbmc6IGF1dG87IiB2aWV3Qm94PSIwIDAgMTAwIDEwMCIgcHJlc2VydmVBc3BlY3RSYXRpbz0ieE1pZFlNaWQiPiAgPGNpcmNsZSBjeD0iNTAiIGN5PSI1MCIgZmlsbD0ibm9uZSIgc3Ryb2tlPSIjYzNjM2MzIiBzdHJva2Utd2lkdGg9IjEwIiByPSIzNSIgc3Ryb2tlLWRhc2hhcnJheT0iMTY0LjkzMzYxNDMxMzQ2NDE1IDU2Ljk3Nzg3MTQzNzgyMTM4Ij4gICAgPGFuaW1hdGVUcmFuc2Zvcm0gYXR0cmlidXRlTmFtZT0idHJhbnNmb3JtIiB0eXBlPSJyb3RhdGUiIHJlcGVhdENvdW50PSJpbmRlZmluaXRlIiBkdXI9IjFzIiB2YWx1ZXM9IjAgNTAgNTA7MzYwIDUwIDUwIiBrZXlUaW1lcz0iMDsxIj48L2FuaW1hdGVUcmFuc2Zvcm0+ICA8L2NpcmNsZT48L3N2Zz4=\\\");\\n  background-size: auto calc(min(50%, 400px));\\n}\",{\"id\":\"fba5da53-c346-40dd-81c5-515822732047\"},{\"id\":\"47d3f720-441a-424e-8b53-f5080a42a8a3\"},{\"id\":\"8c223931-ffa9-458d-ae2a-6186d4cc4495\"}],\"margin\":[5,10],\"align\":\"start\",\"text\":\"<b>Selected Folder:</b>: nothing selected yet.\"}}]}},{\"type\":\"object\",\"name\":\"panel.models.comm_manager.CommManager\",\"id\":\"382d72f2-7338-4d21-b569-214d504bb772\",\"attributes\":{\"plot_id\":\"c94ee51a-6178-4239-be37-7ff2429a1b1e\",\"comm_id\":\"4ad16b052bda4ddf89c80f911067e615\",\"client_comm_id\":\"09254c28a0b449db96be17d7ac79dfbc\"}}],\"callbacks\":{\"type\":\"map\"}}};\n",
       "  var render_items = [{\"docid\":\"dc15cbe2-5882-406c-8bf3-35f9202dd23c\",\"roots\":{\"c94ee51a-6178-4239-be37-7ff2429a1b1e\":\"d08cb915-305b-4a2d-8d9f-c63f5af52079\"},\"root_ids\":[\"c94ee51a-6178-4239-be37-7ff2429a1b1e\"]}];\n",
       "  var docs = Object.values(docs_json)\n",
       "  if (!docs) {\n",
       "    return\n",
       "  }\n",
       "  const py_version = docs[0].version.replace('rc', '-rc.')\n",
       "  const is_dev = py_version.indexOf(\"+\") !== -1 || py_version.indexOf(\"-\") !== -1\n",
       "  function embed_document(root) {\n",
       "    var Bokeh = get_bokeh(root)\n",
       "    Bokeh.embed.embed_items_notebook(docs_json, render_items);\n",
       "    for (const render_item of render_items) {\n",
       "      for (const root_id of render_item.root_ids) {\n",
       "\tconst id_el = document.getElementById(root_id)\n",
       "\tif (id_el.children.length && (id_el.children[0].className === 'bk-root')) {\n",
       "\t  const root_el = id_el.children[0]\n",
       "\t  root_el.id = root_el.id + '-rendered'\n",
       "\t}\n",
       "      }\n",
       "    }\n",
       "  }\n",
       "  function get_bokeh(root) {\n",
       "    if (root.Bokeh === undefined) {\n",
       "      return null\n",
       "    } else if (root.Bokeh.version !== py_version && !is_dev) {\n",
       "      if (root.Bokeh.versions === undefined || !root.Bokeh.versions.has(py_version)) {\n",
       "\treturn null\n",
       "      }\n",
       "      return root.Bokeh.versions.get(py_version);\n",
       "    } else if (root.Bokeh.version === py_version) {\n",
       "      return root.Bokeh\n",
       "    }\n",
       "    return null\n",
       "  }\n",
       "  function is_loaded(root) {\n",
       "    var Bokeh = get_bokeh(root)\n",
       "    return (Bokeh != null && Bokeh.Panel !== undefined && ( root['jsPanel'] !== undefined))\n",
       "  }\n",
       "  if (is_loaded(root)) {\n",
       "    embed_document(root);\n",
       "  } else {\n",
       "    var attempts = 0;\n",
       "    var timer = setInterval(function(root) {\n",
       "      if (is_loaded(root)) {\n",
       "        clearInterval(timer);\n",
       "        embed_document(root);\n",
       "      } else if (document.readyState == \"complete\") {\n",
       "        attempts++;\n",
       "        if (attempts > 200) {\n",
       "          clearInterval(timer);\n",
       "\t  var Bokeh = get_bokeh(root)\n",
       "\t  if (Bokeh == null || Bokeh.Panel == null) {\n",
       "            console.warn(\"Panel: ERROR: Unable to run Panel code because Bokeh or Panel library is missing\");\n",
       "\t  } else {\n",
       "\t    console.warn(\"Panel: WARNING: Attempting to render but not all required libraries could be resolved.\")\n",
       "\t    embed_document(root)\n",
       "\t  }\n",
       "        }\n",
       "      }\n",
       "    }, 25, root)\n",
       "  }\n",
       "})(window);</script>"
      ],
      "text/plain": [
       "Row\n",
       "    [0] Markdown(str)\n",
       "    [1] Button(name='Select Folder')\n",
       "    [2] StaticText(name='Selected Folder:', value='nothing selected yet.')"
      ]
     },
     "execution_count": null,
     "metadata": {
      "application/vnd.holoviews_exec.v0+json": {
       "id": "c94ee51a-6178-4239-be37-7ff2429a1b1e"
      }
     },
     "output_type": "execute_result"
    }
   ],
   "source": [
    "# Optional Function to be called once 'Ok' or 'Cancel' buttons are pressed.\n",
    "def My_callBack( v ):\n",
    "  debug_w.value = main_w.Selected_Folder\n",
    "\n",
    "# Call back when selection button is pressed.  This will cause the\n",
    "# FolderSelector to pop up on the screen.\n",
    "def Button_commands( event ):\n",
    "    w = FolderSelector( main_w, CallBack_func = My_callBack )\n",
    "\n",
    "# Create a button widget to trigger the foldr selector popup\n",
    "b_w     = pn.widgets.Button(name='Select Folder')\n",
    "\n",
    "# Create a debug output text widget to show the selected folder.\n",
    "debug_w = pn.widgets.StaticText(name='Selected Folder:', value='nothing selected yet.')\n",
    "\n",
    "# Put the button and the debug text widget on a row together\n",
    "main_w  = pn.Row( \"Main\", b_w, debug_w )\n",
    "\n",
    "# Preload the main_w.Selected_Folder with None. This is to make sure the\n",
    "# variable is defined.\n",
    "main_w.Selected_Folder = None\n",
    "\n",
    "# When the button is clicked, call Button_commands to pop up the folder selector\n",
    "b_w.on_click( Button_commands )\n",
    "\n",
    "# Show in the Jupyter output, or render with  panel \n",
    "main_w.servable()"
   ]
  },
  {
   "cell_type": "code",
   "execution_count": null,
   "metadata": {},
   "outputs": [
    {
     "name": "stdout",
     "output_type": "stream",
     "text": [
      "None\n"
     ]
    }
   ],
   "source": [
    "print(main_w.Selected_Folder)"
   ]
  },
  {
   "cell_type": "code",
   "execution_count": null,
   "metadata": {},
   "outputs": [],
   "source": [
    "#| export\n",
    "class Folder_Button:\n",
    "  def __init__(self, \n",
    "               name='Select Folder',  # Folder Selector button name\n",
    "               initial_dir = '/',     # Initial directory\n",
    "               call_back = None,      # Call this function with selection when done.               \n",
    "              ):\n",
    "    \"\"\"\n",
    "    \"\"\"\n",
    "    self.Selected_Folder = None\n",
    "    self.value           = None\n",
    "    self.initial_dir   = initial_dir\n",
    "    self.call_back     = call_back\n",
    "    self.folder_button = pn.Row()                 # We need a container. Can't use button\n",
    "    self.button        = pn.widgets.Button(name=name)    # \n",
    "    self.button.on_click( self.Button_commands )\n",
    "    self.folder_button.append( self.button )\n",
    "\n",
    "  def My_callBack(self, v ):\n",
    "    self.value           = self.folder_button.Selected_Folder\n",
    "    self.Selected_Folder = self.folder_button.Selected_Folder\n",
    "    if self.call_back:\n",
    "      self.call_back(self.value)\n",
    "    \n",
    "  def Button_commands(self, event ):\n",
    "    self.w = FolderSelector( self.folder_button, \n",
    "                            initial_dir   = self.initial_dir,\n",
    "                            CallBack_func = self.My_callBack )\n"
   ]
  },
  {
   "cell_type": "code",
   "execution_count": null,
   "metadata": {},
   "outputs": [],
   "source": [
    "#show_doc(FolderSelector)\n",
    "#show_doc(Folder_Button)"
   ]
  },
  {
   "cell_type": "code",
   "execution_count": null,
   "metadata": {},
   "outputs": [],
   "source": [
    "def cb(v):\n",
    "  print(f'cb = {v} ')"
   ]
  },
  {
   "cell_type": "code",
   "execution_count": null,
   "metadata": {},
   "outputs": [],
   "source": [
    "F = Folder_Button( name = \"Folder\",  call_back=cb )"
   ]
  },
  {
   "cell_type": "code",
   "execution_count": null,
   "metadata": {},
   "outputs": [
    {
     "data": {},
     "metadata": {},
     "output_type": "display_data"
    },
    {
     "data": {
      "application/vnd.holoviews_exec.v0+json": "",
      "text/html": [
       "<div id='3e95b137-1072-4b0f-b929-468e021b9dea'>\n",
       "  <div id=\"dde71d36-7bd7-4ff8-b890-b4dbeb72ec57\" data-root-id=\"3e95b137-1072-4b0f-b929-468e021b9dea\" style=\"display: contents;\"></div>\n",
       "</div>\n",
       "<script type=\"application/javascript\">(function(root) {\n",
       "  var docs_json = {\"15020a14-a47a-424d-b729-7bfa48c4d643\":{\"version\":\"3.1.1\",\"title\":\"Bokeh Application\",\"defs\":[{\"type\":\"model\",\"name\":\"ReactiveHTML1\"},{\"type\":\"model\",\"name\":\"FlexBox1\",\"properties\":[{\"name\":\"align_content\",\"kind\":\"Any\",\"default\":\"flex-start\"},{\"name\":\"align_items\",\"kind\":\"Any\",\"default\":\"flex-start\"},{\"name\":\"flex_direction\",\"kind\":\"Any\",\"default\":\"row\"},{\"name\":\"flex_wrap\",\"kind\":\"Any\",\"default\":\"wrap\"},{\"name\":\"justify_content\",\"kind\":\"Any\",\"default\":\"flex-start\"}]},{\"type\":\"model\",\"name\":\"FloatPanel1\",\"properties\":[{\"name\":\"config\",\"kind\":\"Any\",\"default\":{\"type\":\"map\"}},{\"name\":\"contained\",\"kind\":\"Any\",\"default\":true},{\"name\":\"position\",\"kind\":\"Any\",\"default\":\"right-top\"},{\"name\":\"offsetx\",\"kind\":\"Any\",\"default\":null},{\"name\":\"offsety\",\"kind\":\"Any\",\"default\":null},{\"name\":\"theme\",\"kind\":\"Any\",\"default\":\"primary\"},{\"name\":\"status\",\"kind\":\"Any\",\"default\":\"normalized\"}]},{\"type\":\"model\",\"name\":\"GridStack1\",\"properties\":[{\"name\":\"mode\",\"kind\":\"Any\",\"default\":\"warn\"},{\"name\":\"ncols\",\"kind\":\"Any\",\"default\":null},{\"name\":\"nrows\",\"kind\":\"Any\",\"default\":null},{\"name\":\"allow_resize\",\"kind\":\"Any\",\"default\":true},{\"name\":\"allow_drag\",\"kind\":\"Any\",\"default\":true},{\"name\":\"state\",\"kind\":\"Any\",\"default\":[]}]},{\"type\":\"model\",\"name\":\"drag1\",\"properties\":[{\"name\":\"slider_width\",\"kind\":\"Any\",\"default\":5},{\"name\":\"slider_color\",\"kind\":\"Any\",\"default\":\"black\"},{\"name\":\"value\",\"kind\":\"Any\",\"default\":50}]},{\"type\":\"model\",\"name\":\"click1\",\"properties\":[{\"name\":\"terminal_output\",\"kind\":\"Any\",\"default\":\"\"},{\"name\":\"debug_name\",\"kind\":\"Any\",\"default\":\"\"},{\"name\":\"clears\",\"kind\":\"Any\",\"default\":0}]},{\"type\":\"model\",\"name\":\"FastWrapper1\",\"properties\":[{\"name\":\"object\",\"kind\":\"Any\",\"default\":null},{\"name\":\"style\",\"kind\":\"Any\",\"default\":null}]},{\"type\":\"model\",\"name\":\"NotificationAreaBase1\",\"properties\":[{\"name\":\"position\",\"kind\":\"Any\",\"default\":\"bottom-right\"},{\"name\":\"_clear\",\"kind\":\"Any\",\"default\":0}]},{\"type\":\"model\",\"name\":\"NotificationArea1\",\"properties\":[{\"name\":\"notifications\",\"kind\":\"Any\",\"default\":[]},{\"name\":\"position\",\"kind\":\"Any\",\"default\":\"bottom-right\"},{\"name\":\"_clear\",\"kind\":\"Any\",\"default\":0},{\"name\":\"types\",\"kind\":\"Any\",\"default\":[{\"type\":\"map\",\"entries\":[[\"type\",\"warning\"],[\"background\",\"#ffc107\"],[\"icon\",{\"type\":\"map\",\"entries\":[[\"className\",\"fas fa-exclamation-triangle\"],[\"tagName\",\"i\"],[\"color\",\"white\"]]}]]},{\"type\":\"map\",\"entries\":[[\"type\",\"info\"],[\"background\",\"#007bff\"],[\"icon\",{\"type\":\"map\",\"entries\":[[\"className\",\"fas fa-info-circle\"],[\"tagName\",\"i\"],[\"color\",\"white\"]]}]]}]}]},{\"type\":\"model\",\"name\":\"Notification\",\"properties\":[{\"name\":\"background\",\"kind\":\"Any\",\"default\":null},{\"name\":\"duration\",\"kind\":\"Any\",\"default\":3000},{\"name\":\"icon\",\"kind\":\"Any\",\"default\":null},{\"name\":\"message\",\"kind\":\"Any\",\"default\":\"\"},{\"name\":\"notification_type\",\"kind\":\"Any\",\"default\":null},{\"name\":\"_destroyed\",\"kind\":\"Any\",\"default\":false}]},{\"type\":\"model\",\"name\":\"TemplateActions1\",\"properties\":[{\"name\":\"open_modal\",\"kind\":\"Any\",\"default\":0},{\"name\":\"close_modal\",\"kind\":\"Any\",\"default\":0}]},{\"type\":\"model\",\"name\":\"BootstrapTemplateActions1\",\"properties\":[{\"name\":\"open_modal\",\"kind\":\"Any\",\"default\":0},{\"name\":\"close_modal\",\"kind\":\"Any\",\"default\":0}]},{\"type\":\"model\",\"name\":\"MaterialTemplateActions1\",\"properties\":[{\"name\":\"open_modal\",\"kind\":\"Any\",\"default\":0},{\"name\":\"close_modal\",\"kind\":\"Any\",\"default\":0}]}],\"roots\":[{\"type\":\"object\",\"name\":\"Row\",\"id\":\"3e95b137-1072-4b0f-b929-468e021b9dea\",\"attributes\":{\"name\":\"Row00134\",\"stylesheets\":[\"\\n:host(.pn-loading.pn-arc):before, .pn-loading.pn-arc:before {\\n  background-image: url(\\\"data:image/svg+xml;base64,PHN2ZyB4bWxucz0iaHR0cDovL3d3dy53My5vcmcvMjAwMC9zdmciIHN0eWxlPSJtYXJnaW46IGF1dG87IGJhY2tncm91bmQ6IG5vbmU7IGRpc3BsYXk6IGJsb2NrOyBzaGFwZS1yZW5kZXJpbmc6IGF1dG87IiB2aWV3Qm94PSIwIDAgMTAwIDEwMCIgcHJlc2VydmVBc3BlY3RSYXRpbz0ieE1pZFlNaWQiPiAgPGNpcmNsZSBjeD0iNTAiIGN5PSI1MCIgZmlsbD0ibm9uZSIgc3Ryb2tlPSIjYzNjM2MzIiBzdHJva2Utd2lkdGg9IjEwIiByPSIzNSIgc3Ryb2tlLWRhc2hhcnJheT0iMTY0LjkzMzYxNDMxMzQ2NDE1IDU2Ljk3Nzg3MTQzNzgyMTM4Ij4gICAgPGFuaW1hdGVUcmFuc2Zvcm0gYXR0cmlidXRlTmFtZT0idHJhbnNmb3JtIiB0eXBlPSJyb3RhdGUiIHJlcGVhdENvdW50PSJpbmRlZmluaXRlIiBkdXI9IjFzIiB2YWx1ZXM9IjAgNTAgNTA7MzYwIDUwIDUwIiBrZXlUaW1lcz0iMDsxIj48L2FuaW1hdGVUcmFuc2Zvcm0+ICA8L2NpcmNsZT48L3N2Zz4=\\\");\\n  background-size: auto calc(min(50%, 400px));\\n}\",{\"type\":\"object\",\"name\":\"ImportedStyleSheet\",\"id\":\"a3277369-2a1c-4b17-ad77-2cb9d4bfd2b9\",\"attributes\":{\"url\":\"https://cdn.holoviz.org/panel/1.1.0/dist/css/loading.css\"}},{\"type\":\"object\",\"name\":\"ImportedStyleSheet\",\"id\":\"583c3497-2aba-4bfd-a3e0-abbbc1e1f42b\",\"attributes\":{\"url\":\"https://cdn.holoviz.org/panel/1.1.0/dist/css/listpanel.css\"}},{\"type\":\"object\",\"name\":\"ImportedStyleSheet\",\"id\":\"d1c5506e-aae0-48a5-89b7-58bb5b3ca906\",\"attributes\":{\"url\":\"https://cdn.holoviz.org/panel/1.1.0/dist/bundled/theme/default.css\"}},{\"type\":\"object\",\"name\":\"ImportedStyleSheet\",\"id\":\"e1ba920f-bb9c-4244-8564-e7c366f06c98\",\"attributes\":{\"url\":\"https://cdn.holoviz.org/panel/1.1.0/dist/bundled/theme/native.css\"}}],\"margin\":0,\"align\":\"start\",\"children\":[{\"type\":\"object\",\"name\":\"Button\",\"id\":\"c184b052-2a5c-455a-9273-4b5dd523c14a\",\"attributes\":{\"subscribed_events\":{\"type\":\"set\",\"entries\":[\"button_click\"]},\"css_classes\":[\"solid\"],\"stylesheets\":[\"\\n:host(.pn-loading.pn-arc):before, .pn-loading.pn-arc:before {\\n  background-image: url(\\\"data:image/svg+xml;base64,PHN2ZyB4bWxucz0iaHR0cDovL3d3dy53My5vcmcvMjAwMC9zdmciIHN0eWxlPSJtYXJnaW46IGF1dG87IGJhY2tncm91bmQ6IG5vbmU7IGRpc3BsYXk6IGJsb2NrOyBzaGFwZS1yZW5kZXJpbmc6IGF1dG87IiB2aWV3Qm94PSIwIDAgMTAwIDEwMCIgcHJlc2VydmVBc3BlY3RSYXRpbz0ieE1pZFlNaWQiPiAgPGNpcmNsZSBjeD0iNTAiIGN5PSI1MCIgZmlsbD0ibm9uZSIgc3Ryb2tlPSIjYzNjM2MzIiBzdHJva2Utd2lkdGg9IjEwIiByPSIzNSIgc3Ryb2tlLWRhc2hhcnJheT0iMTY0LjkzMzYxNDMxMzQ2NDE1IDU2Ljk3Nzg3MTQzNzgyMTM4Ij4gICAgPGFuaW1hdGVUcmFuc2Zvcm0gYXR0cmlidXRlTmFtZT0idHJhbnNmb3JtIiB0eXBlPSJyb3RhdGUiIHJlcGVhdENvdW50PSJpbmRlZmluaXRlIiBkdXI9IjFzIiB2YWx1ZXM9IjAgNTAgNTA7MzYwIDUwIDUwIiBrZXlUaW1lcz0iMDsxIj48L2FuaW1hdGVUcmFuc2Zvcm0+ICA8L2NpcmNsZT48L3N2Zz4=\\\");\\n  background-size: auto calc(min(50%, 400px));\\n}\",{\"id\":\"a3277369-2a1c-4b17-ad77-2cb9d4bfd2b9\"},{\"type\":\"object\",\"name\":\"ImportedStyleSheet\",\"id\":\"5fc8fe27-2c48-4a8d-92f7-8e0a88032ef6\",\"attributes\":{\"url\":\"https://cdn.holoviz.org/panel/1.1.0/dist/css/button.css\"}},{\"id\":\"d1c5506e-aae0-48a5-89b7-58bb5b3ca906\"},{\"id\":\"e1ba920f-bb9c-4244-8564-e7c366f06c98\"}],\"margin\":[5,10],\"align\":\"start\",\"label\":\"Folder\"}}]}},{\"type\":\"object\",\"name\":\"panel.models.comm_manager.CommManager\",\"id\":\"8553b369-70e2-4b91-bcd3-8b33f729b2b0\",\"attributes\":{\"plot_id\":\"3e95b137-1072-4b0f-b929-468e021b9dea\",\"comm_id\":\"7b8d4dbb7bdc427195edc472cfe7bd7c\",\"client_comm_id\":\"ecf634a3a28b4ec4ac16ac30f7a2b0bc\"}}],\"callbacks\":{\"type\":\"map\"}}};\n",
       "  var render_items = [{\"docid\":\"15020a14-a47a-424d-b729-7bfa48c4d643\",\"roots\":{\"3e95b137-1072-4b0f-b929-468e021b9dea\":\"dde71d36-7bd7-4ff8-b890-b4dbeb72ec57\"},\"root_ids\":[\"3e95b137-1072-4b0f-b929-468e021b9dea\"]}];\n",
       "  var docs = Object.values(docs_json)\n",
       "  if (!docs) {\n",
       "    return\n",
       "  }\n",
       "  const py_version = docs[0].version.replace('rc', '-rc.')\n",
       "  const is_dev = py_version.indexOf(\"+\") !== -1 || py_version.indexOf(\"-\") !== -1\n",
       "  function embed_document(root) {\n",
       "    var Bokeh = get_bokeh(root)\n",
       "    Bokeh.embed.embed_items_notebook(docs_json, render_items);\n",
       "    for (const render_item of render_items) {\n",
       "      for (const root_id of render_item.root_ids) {\n",
       "\tconst id_el = document.getElementById(root_id)\n",
       "\tif (id_el.children.length && (id_el.children[0].className === 'bk-root')) {\n",
       "\t  const root_el = id_el.children[0]\n",
       "\t  root_el.id = root_el.id + '-rendered'\n",
       "\t}\n",
       "      }\n",
       "    }\n",
       "  }\n",
       "  function get_bokeh(root) {\n",
       "    if (root.Bokeh === undefined) {\n",
       "      return null\n",
       "    } else if (root.Bokeh.version !== py_version && !is_dev) {\n",
       "      if (root.Bokeh.versions === undefined || !root.Bokeh.versions.has(py_version)) {\n",
       "\treturn null\n",
       "      }\n",
       "      return root.Bokeh.versions.get(py_version);\n",
       "    } else if (root.Bokeh.version === py_version) {\n",
       "      return root.Bokeh\n",
       "    }\n",
       "    return null\n",
       "  }\n",
       "  function is_loaded(root) {\n",
       "    var Bokeh = get_bokeh(root)\n",
       "    return (Bokeh != null && Bokeh.Panel !== undefined && ( root['jsPanel'] !== undefined))\n",
       "  }\n",
       "  if (is_loaded(root)) {\n",
       "    embed_document(root);\n",
       "  } else {\n",
       "    var attempts = 0;\n",
       "    var timer = setInterval(function(root) {\n",
       "      if (is_loaded(root)) {\n",
       "        clearInterval(timer);\n",
       "        embed_document(root);\n",
       "      } else if (document.readyState == \"complete\") {\n",
       "        attempts++;\n",
       "        if (attempts > 200) {\n",
       "          clearInterval(timer);\n",
       "\t  var Bokeh = get_bokeh(root)\n",
       "\t  if (Bokeh == null || Bokeh.Panel == null) {\n",
       "            console.warn(\"Panel: ERROR: Unable to run Panel code because Bokeh or Panel library is missing\");\n",
       "\t  } else {\n",
       "\t    console.warn(\"Panel: WARNING: Attempting to render but not all required libraries could be resolved.\")\n",
       "\t    embed_document(root)\n",
       "\t  }\n",
       "        }\n",
       "      }\n",
       "    }, 25, root)\n",
       "  }\n",
       "})(window);</script>"
      ],
      "text/plain": [
       "Row\n",
       "    [0] Button(name='Folder')"
      ]
     },
     "execution_count": null,
     "metadata": {
      "application/vnd.holoviews_exec.v0+json": {
       "id": "3e95b137-1072-4b0f-b929-468e021b9dea"
      }
     },
     "output_type": "execute_result"
    }
   ],
   "source": [
    "F.folder_button"
   ]
  },
  {
   "cell_type": "code",
   "execution_count": null,
   "metadata": {},
   "outputs": [],
   "source": [
    "F.value"
   ]
  },
  {
   "cell_type": "markdown",
   "metadata": {},
   "source": [
    "### CPU"
   ]
  },
  {
   "cell_type": "code",
   "execution_count": null,
   "metadata": {},
   "outputs": [],
   "source": [
    "#| export\n",
    "class CPU_WIDGET:\n",
    "  '''\n",
    "  '''\n",
    "  Run             = False\n",
    "  thread          = None\n",
    "  thread_start_return_value  = None\n",
    "  loop_count      = 0\n",
    "  update_interval = 1\n",
    "  utc_stamp       = dt.datetime.utcnow()\n",
    "  utc_stamp_str   = utc_stamp.strftime(\"%Y-%m%d %H:%M:%S UTC\")\n",
    "  cpu_load_txt    = ps.getloadavg()\n",
    "  cpu_count       = ps.cpu_count(logical=False)\n",
    "  cpu_model_str   = get_cpu_model()\n",
    "  core_usage      = list( range(0, cpu_count))\n",
    "\n",
    "  def update_cpu_bars(self, value=None):\n",
    "    '''\n",
    "    {self.cpu_model_str:40s}\n",
    "    '''\n",
    "    self.utc_stamp        = dt.datetime.utcnow()\n",
    "    self.utc_stamp_str    = self.utc_stamp.strftime(\"%Y-%m%d %H:%M:%S UTC\")\n",
    "    self.cpu_load_txt     = ps.getloadavg()\n",
    "    self.cpu_load_w.value = f'{self.utc_stamp_str} Load Avgs:{self.cpu_load_txt}  {self.cpu_model_str:40s}'\n",
    "    self.core_usage = cpu_state = ps.cpu_percent(percpu=True, interval=None)\n",
    "    for cpu in range(self.cpu_count):\n",
    "      self.cpu_bar[cpu].value = cpu_state[cpu]\n",
    "\n",
    "  def system_status_thread(self, v ):\n",
    "    '''\n",
    "    '''\n",
    "    self.Run = True\n",
    "    while self.Run:\n",
    "      self.update_cpu_bars()\n",
    "      time.sleep( self.update_interval )\n",
    "      self.loop_count +=  1\n",
    "    self.cpu_load_w.value = f\"Update Task Terminated normally at: {self.utc_stamp_str} \"\n",
    "\n",
    "  def start_thread( self ):\n",
    "    self.thread = th.Thread( target = self.system_status_thread, args=[1111] )\n",
    "    self.thread_start_return_value = self.thread.start()\n",
    "    print( self.thread_start_return_value )\n",
    "    \n",
    "  def show_status(self):\n",
    "    print('      Thread Name                         Run  Alive    Loops  Interval')\n",
    "    print(f'{self.thread.name:40} {self.Run}   {self.thread.is_alive()} {self.loop_count:8d}   {self.update_interval:3.1f} Sec')\n",
    "      \n",
    "  def __init__(self):\n",
    "    '''\n",
    "    '''\n",
    "    self.cpu_count = ps.cpu_count(logical=False)\n",
    "    self.cpu_bar   = list(range(0, self.cpu_count))\n",
    "    for cpu in range(self.cpu_count):\n",
    "      self.cpu_bar[cpu] = pn.indicators.LinearGauge(name='',\n",
    "                              value           =30, \n",
    "                              colors          =[(0.5, 'lightgreen'), (0.75,'yellow'), (1.0,'red')],\n",
    "                              needle_color    ='', \n",
    "                              show_boundaries =False, \n",
    "                              default_color   ='lightgreen',\n",
    "                              bounds          =(0, 100),\n",
    "                              width           =50,\n",
    "                              height          =200,\n",
    "                              format          ='',\n",
    "                              title_size      ='0pt',\n",
    "                              tick_size       ='0pt',\n",
    "                              margin          =(5,10),\n",
    "                             )\n",
    "\n",
    "    self.cpu_load_w = pn.widgets.StaticText(name='', value='Not set')\n",
    "    self.row_w = pn.Row(f\"**CPU<br>Core<br>% usage<br>{self.cpu_count} Cores**\", name = 'xxxx', styles={'background': 'lightgray'})\n",
    "    for cpu in range(0,self.cpu_count):\n",
    "      self.row_w.append( self.cpu_bar[cpu]  )\n",
    "    self.update_cpu_bars()\n",
    "    self.cpu_status_widget = pn.Column(self.cpu_load_w, self.row_w)\n",
    "    self.start_thread()\n",
    "            "
   ]
  },
  {
   "cell_type": "code",
   "execution_count": null,
   "metadata": {},
   "outputs": [],
   "source": [
    "# show_doc( CPU_WIDGET )"
   ]
  },
  {
   "cell_type": "code",
   "execution_count": null,
   "metadata": {},
   "outputs": [
    {
     "name": "stdout",
     "output_type": "stream",
     "text": [
      "None\n"
     ]
    }
   ],
   "source": [
    "cw = CPU_WIDGET()"
   ]
  },
  {
   "cell_type": "code",
   "execution_count": null,
   "metadata": {},
   "outputs": [
    {
     "data": {},
     "metadata": {},
     "output_type": "display_data"
    },
    {
     "data": {
      "application/vnd.holoviews_exec.v0+json": "",
      "text/html": [
       "<div id='48ad88de-2824-457d-baeb-a2dd4988d345'>\n",
       "  <div id=\"e73e53a6-b9e7-425e-9044-0d0ef062c18b\" data-root-id=\"48ad88de-2824-457d-baeb-a2dd4988d345\" style=\"display: contents;\"></div>\n",
       "</div>\n",
       "<script type=\"application/javascript\">(function(root) {\n",
       "  var docs_json = {\"81368d46-b346-45c0-b820-c6f5fe6c6669\":{\"version\":\"3.1.1\",\"title\":\"Bokeh Application\",\"defs\":[{\"type\":\"model\",\"name\":\"ReactiveHTML1\"},{\"type\":\"model\",\"name\":\"FlexBox1\",\"properties\":[{\"name\":\"align_content\",\"kind\":\"Any\",\"default\":\"flex-start\"},{\"name\":\"align_items\",\"kind\":\"Any\",\"default\":\"flex-start\"},{\"name\":\"flex_direction\",\"kind\":\"Any\",\"default\":\"row\"},{\"name\":\"flex_wrap\",\"kind\":\"Any\",\"default\":\"wrap\"},{\"name\":\"justify_content\",\"kind\":\"Any\",\"default\":\"flex-start\"}]},{\"type\":\"model\",\"name\":\"FloatPanel1\",\"properties\":[{\"name\":\"config\",\"kind\":\"Any\",\"default\":{\"type\":\"map\"}},{\"name\":\"contained\",\"kind\":\"Any\",\"default\":true},{\"name\":\"position\",\"kind\":\"Any\",\"default\":\"right-top\"},{\"name\":\"offsetx\",\"kind\":\"Any\",\"default\":null},{\"name\":\"offsety\",\"kind\":\"Any\",\"default\":null},{\"name\":\"theme\",\"kind\":\"Any\",\"default\":\"primary\"},{\"name\":\"status\",\"kind\":\"Any\",\"default\":\"normalized\"}]},{\"type\":\"model\",\"name\":\"GridStack1\",\"properties\":[{\"name\":\"mode\",\"kind\":\"Any\",\"default\":\"warn\"},{\"name\":\"ncols\",\"kind\":\"Any\",\"default\":null},{\"name\":\"nrows\",\"kind\":\"Any\",\"default\":null},{\"name\":\"allow_resize\",\"kind\":\"Any\",\"default\":true},{\"name\":\"allow_drag\",\"kind\":\"Any\",\"default\":true},{\"name\":\"state\",\"kind\":\"Any\",\"default\":[]}]},{\"type\":\"model\",\"name\":\"drag1\",\"properties\":[{\"name\":\"slider_width\",\"kind\":\"Any\",\"default\":5},{\"name\":\"slider_color\",\"kind\":\"Any\",\"default\":\"black\"},{\"name\":\"value\",\"kind\":\"Any\",\"default\":50}]},{\"type\":\"model\",\"name\":\"click1\",\"properties\":[{\"name\":\"terminal_output\",\"kind\":\"Any\",\"default\":\"\"},{\"name\":\"debug_name\",\"kind\":\"Any\",\"default\":\"\"},{\"name\":\"clears\",\"kind\":\"Any\",\"default\":0}]},{\"type\":\"model\",\"name\":\"FastWrapper1\",\"properties\":[{\"name\":\"object\",\"kind\":\"Any\",\"default\":null},{\"name\":\"style\",\"kind\":\"Any\",\"default\":null}]},{\"type\":\"model\",\"name\":\"NotificationAreaBase1\",\"properties\":[{\"name\":\"position\",\"kind\":\"Any\",\"default\":\"bottom-right\"},{\"name\":\"_clear\",\"kind\":\"Any\",\"default\":0}]},{\"type\":\"model\",\"name\":\"NotificationArea1\",\"properties\":[{\"name\":\"notifications\",\"kind\":\"Any\",\"default\":[]},{\"name\":\"position\",\"kind\":\"Any\",\"default\":\"bottom-right\"},{\"name\":\"_clear\",\"kind\":\"Any\",\"default\":0},{\"name\":\"types\",\"kind\":\"Any\",\"default\":[{\"type\":\"map\",\"entries\":[[\"type\",\"warning\"],[\"background\",\"#ffc107\"],[\"icon\",{\"type\":\"map\",\"entries\":[[\"className\",\"fas fa-exclamation-triangle\"],[\"tagName\",\"i\"],[\"color\",\"white\"]]}]]},{\"type\":\"map\",\"entries\":[[\"type\",\"info\"],[\"background\",\"#007bff\"],[\"icon\",{\"type\":\"map\",\"entries\":[[\"className\",\"fas fa-info-circle\"],[\"tagName\",\"i\"],[\"color\",\"white\"]]}]]}]}]},{\"type\":\"model\",\"name\":\"Notification\",\"properties\":[{\"name\":\"background\",\"kind\":\"Any\",\"default\":null},{\"name\":\"duration\",\"kind\":\"Any\",\"default\":3000},{\"name\":\"icon\",\"kind\":\"Any\",\"default\":null},{\"name\":\"message\",\"kind\":\"Any\",\"default\":\"\"},{\"name\":\"notification_type\",\"kind\":\"Any\",\"default\":null},{\"name\":\"_destroyed\",\"kind\":\"Any\",\"default\":false}]},{\"type\":\"model\",\"name\":\"TemplateActions1\",\"properties\":[{\"name\":\"open_modal\",\"kind\":\"Any\",\"default\":0},{\"name\":\"close_modal\",\"kind\":\"Any\",\"default\":0}]},{\"type\":\"model\",\"name\":\"BootstrapTemplateActions1\",\"properties\":[{\"name\":\"open_modal\",\"kind\":\"Any\",\"default\":0},{\"name\":\"close_modal\",\"kind\":\"Any\",\"default\":0}]},{\"type\":\"model\",\"name\":\"MaterialTemplateActions1\",\"properties\":[{\"name\":\"open_modal\",\"kind\":\"Any\",\"default\":0},{\"name\":\"close_modal\",\"kind\":\"Any\",\"default\":0}]}],\"roots\":[{\"type\":\"object\",\"name\":\"Column\",\"id\":\"48ad88de-2824-457d-baeb-a2dd4988d345\",\"attributes\":{\"name\":\"Column181292\",\"stylesheets\":[\"\\n:host(.pn-loading.pn-arc):before, .pn-loading.pn-arc:before {\\n  background-image: url(\\\"data:image/svg+xml;base64,PHN2ZyB4bWxucz0iaHR0cDovL3d3dy53My5vcmcvMjAwMC9zdmciIHN0eWxlPSJtYXJnaW46IGF1dG87IGJhY2tncm91bmQ6IG5vbmU7IGRpc3BsYXk6IGJsb2NrOyBzaGFwZS1yZW5kZXJpbmc6IGF1dG87IiB2aWV3Qm94PSIwIDAgMTAwIDEwMCIgcHJlc2VydmVBc3BlY3RSYXRpbz0ieE1pZFlNaWQiPiAgPGNpcmNsZSBjeD0iNTAiIGN5PSI1MCIgZmlsbD0ibm9uZSIgc3Ryb2tlPSIjYzNjM2MzIiBzdHJva2Utd2lkdGg9IjEwIiByPSIzNSIgc3Ryb2tlLWRhc2hhcnJheT0iMTY0LjkzMzYxNDMxMzQ2NDE1IDU2Ljk3Nzg3MTQzNzgyMTM4Ij4gICAgPGFuaW1hdGVUcmFuc2Zvcm0gYXR0cmlidXRlTmFtZT0idHJhbnNmb3JtIiB0eXBlPSJyb3RhdGUiIHJlcGVhdENvdW50PSJpbmRlZmluaXRlIiBkdXI9IjFzIiB2YWx1ZXM9IjAgNTAgNTA7MzYwIDUwIDUwIiBrZXlUaW1lcz0iMDsxIj48L2FuaW1hdGVUcmFuc2Zvcm0+ICA8L2NpcmNsZT48L3N2Zz4=\\\");\\n  background-size: auto calc(min(50%, 400px));\\n}\",{\"type\":\"object\",\"name\":\"ImportedStyleSheet\",\"id\":\"81af4e7a-a50c-4137-9d50-585883a611dd\",\"attributes\":{\"url\":\"https://cdn.holoviz.org/panel/1.1.0/dist/css/loading.css\"}},{\"type\":\"object\",\"name\":\"ImportedStyleSheet\",\"id\":\"fca2d7e1-4d6e-400a-9264-f14beaf045ba\",\"attributes\":{\"url\":\"https://cdn.holoviz.org/panel/1.1.0/dist/css/listpanel.css\"}},{\"type\":\"object\",\"name\":\"ImportedStyleSheet\",\"id\":\"0d24f603-f8a0-4c21-bbe9-a3ae3c558b8d\",\"attributes\":{\"url\":\"https://cdn.holoviz.org/panel/1.1.0/dist/bundled/theme/default.css\"}},{\"type\":\"object\",\"name\":\"ImportedStyleSheet\",\"id\":\"86130a4f-19fd-47ef-8d71-4181174f49b6\",\"attributes\":{\"url\":\"https://cdn.holoviz.org/panel/1.1.0/dist/bundled/theme/native.css\"}}],\"margin\":0,\"align\":\"start\",\"children\":[{\"type\":\"object\",\"name\":\"Div\",\"id\":\"22b17fbe-2d2e-4f01-88bc-034889b8fec7\",\"attributes\":{\"stylesheets\":[\"\\n:host(.pn-loading.pn-arc):before, .pn-loading.pn-arc:before {\\n  background-image: url(\\\"data:image/svg+xml;base64,PHN2ZyB4bWxucz0iaHR0cDovL3d3dy53My5vcmcvMjAwMC9zdmciIHN0eWxlPSJtYXJnaW46IGF1dG87IGJhY2tncm91bmQ6IG5vbmU7IGRpc3BsYXk6IGJsb2NrOyBzaGFwZS1yZW5kZXJpbmc6IGF1dG87IiB2aWV3Qm94PSIwIDAgMTAwIDEwMCIgcHJlc2VydmVBc3BlY3RSYXRpbz0ieE1pZFlNaWQiPiAgPGNpcmNsZSBjeD0iNTAiIGN5PSI1MCIgZmlsbD0ibm9uZSIgc3Ryb2tlPSIjYzNjM2MzIiBzdHJva2Utd2lkdGg9IjEwIiByPSIzNSIgc3Ryb2tlLWRhc2hhcnJheT0iMTY0LjkzMzYxNDMxMzQ2NDE1IDU2Ljk3Nzg3MTQzNzgyMTM4Ij4gICAgPGFuaW1hdGVUcmFuc2Zvcm0gYXR0cmlidXRlTmFtZT0idHJhbnNmb3JtIiB0eXBlPSJyb3RhdGUiIHJlcGVhdENvdW50PSJpbmRlZmluaXRlIiBkdXI9IjFzIiB2YWx1ZXM9IjAgNTAgNTA7MzYwIDUwIDUwIiBrZXlUaW1lcz0iMDsxIj48L2FuaW1hdGVUcmFuc2Zvcm0+ICA8L2NpcmNsZT48L3N2Zz4=\\\");\\n  background-size: auto calc(min(50%, 400px));\\n}\",{\"id\":\"81af4e7a-a50c-4137-9d50-585883a611dd\"},{\"id\":\"0d24f603-f8a0-4c21-bbe9-a3ae3c558b8d\"},{\"id\":\"86130a4f-19fd-47ef-8d71-4181174f49b6\"}],\"margin\":[5,10],\"align\":\"start\",\"text\":\"2023-0626 03:22:15 UTC Load Avgs:(0.01, 0.03, 0.0)   Intel(R) Core(TM) i9-10900K CPU @ 3.70GHz\"}},{\"type\":\"object\",\"name\":\"Row\",\"id\":\"bd6b8700-4624-4718-823e-f29ae9d58e11\",\"attributes\":{\"name\":\"xxxx\",\"styles\":{\"type\":\"map\",\"entries\":[[\"background\",\"lightgray\"]]},\"stylesheets\":[\"\\n:host(.pn-loading.pn-arc):before, .pn-loading.pn-arc:before {\\n  background-image: url(\\\"data:image/svg+xml;base64,PHN2ZyB4bWxucz0iaHR0cDovL3d3dy53My5vcmcvMjAwMC9zdmciIHN0eWxlPSJtYXJnaW46IGF1dG87IGJhY2tncm91bmQ6IG5vbmU7IGRpc3BsYXk6IGJsb2NrOyBzaGFwZS1yZW5kZXJpbmc6IGF1dG87IiB2aWV3Qm94PSIwIDAgMTAwIDEwMCIgcHJlc2VydmVBc3BlY3RSYXRpbz0ieE1pZFlNaWQiPiAgPGNpcmNsZSBjeD0iNTAiIGN5PSI1MCIgZmlsbD0ibm9uZSIgc3Ryb2tlPSIjYzNjM2MzIiBzdHJva2Utd2lkdGg9IjEwIiByPSIzNSIgc3Ryb2tlLWRhc2hhcnJheT0iMTY0LjkzMzYxNDMxMzQ2NDE1IDU2Ljk3Nzg3MTQzNzgyMTM4Ij4gICAgPGFuaW1hdGVUcmFuc2Zvcm0gYXR0cmlidXRlTmFtZT0idHJhbnNmb3JtIiB0eXBlPSJyb3RhdGUiIHJlcGVhdENvdW50PSJpbmRlZmluaXRlIiBkdXI9IjFzIiB2YWx1ZXM9IjAgNTAgNTA7MzYwIDUwIDUwIiBrZXlUaW1lcz0iMDsxIj48L2FuaW1hdGVUcmFuc2Zvcm0+ICA8L2NpcmNsZT48L3N2Zz4=\\\");\\n  background-size: auto calc(min(50%, 400px));\\n}\",{\"id\":\"81af4e7a-a50c-4137-9d50-585883a611dd\"},{\"id\":\"fca2d7e1-4d6e-400a-9264-f14beaf045ba\"},{\"id\":\"0d24f603-f8a0-4c21-bbe9-a3ae3c558b8d\"},{\"id\":\"86130a4f-19fd-47ef-8d71-4181174f49b6\"}],\"margin\":0,\"align\":\"start\",\"children\":[{\"type\":\"object\",\"name\":\"panel.models.markup.HTML\",\"id\":\"8b310301-c2d1-4250-a852-34e221f53ceb\",\"attributes\":{\"css_classes\":[\"markdown\"],\"stylesheets\":[\"\\n:host(.pn-loading.pn-arc):before, .pn-loading.pn-arc:before {\\n  background-image: url(\\\"data:image/svg+xml;base64,PHN2ZyB4bWxucz0iaHR0cDovL3d3dy53My5vcmcvMjAwMC9zdmciIHN0eWxlPSJtYXJnaW46IGF1dG87IGJhY2tncm91bmQ6IG5vbmU7IGRpc3BsYXk6IGJsb2NrOyBzaGFwZS1yZW5kZXJpbmc6IGF1dG87IiB2aWV3Qm94PSIwIDAgMTAwIDEwMCIgcHJlc2VydmVBc3BlY3RSYXRpbz0ieE1pZFlNaWQiPiAgPGNpcmNsZSBjeD0iNTAiIGN5PSI1MCIgZmlsbD0ibm9uZSIgc3Ryb2tlPSIjYzNjM2MzIiBzdHJva2Utd2lkdGg9IjEwIiByPSIzNSIgc3Ryb2tlLWRhc2hhcnJheT0iMTY0LjkzMzYxNDMxMzQ2NDE1IDU2Ljk3Nzg3MTQzNzgyMTM4Ij4gICAgPGFuaW1hdGVUcmFuc2Zvcm0gYXR0cmlidXRlTmFtZT0idHJhbnNmb3JtIiB0eXBlPSJyb3RhdGUiIHJlcGVhdENvdW50PSJpbmRlZmluaXRlIiBkdXI9IjFzIiB2YWx1ZXM9IjAgNTAgNTA7MzYwIDUwIDUwIiBrZXlUaW1lcz0iMDsxIj48L2FuaW1hdGVUcmFuc2Zvcm0+ICA8L2NpcmNsZT48L3N2Zz4=\\\");\\n  background-size: auto calc(min(50%, 400px));\\n}\",{\"id\":\"81af4e7a-a50c-4137-9d50-585883a611dd\"},{\"type\":\"object\",\"name\":\"ImportedStyleSheet\",\"id\":\"9e5c1138-d9ab-46fe-b56b-d164e81b3620\",\"attributes\":{\"url\":\"https://cdn.holoviz.org/panel/1.1.0/dist/css/markdown.css\"}},{\"id\":\"0d24f603-f8a0-4c21-bbe9-a3ae3c558b8d\"},{\"id\":\"86130a4f-19fd-47ef-8d71-4181174f49b6\"}],\"margin\":[5,10],\"align\":\"start\",\"text\":\"&lt;p&gt;&lt;strong&gt;CPU&lt;br&gt;Core&lt;br&gt;% usage&lt;br&gt;10 Cores&lt;/strong&gt;&lt;/p&gt;\\n\"}},{\"type\":\"object\",\"name\":\"Figure\",\"id\":\"ac3c4bf0-ed8e-437e-9c55-f306184e66a8\",\"attributes\":{\"name\":\"\",\"stylesheets\":[\"\\n:host(.pn-loading.pn-arc):before, .pn-loading.pn-arc:before {\\n  background-image: url(\\\"data:image/svg+xml;base64,PHN2ZyB4bWxucz0iaHR0cDovL3d3dy53My5vcmcvMjAwMC9zdmciIHN0eWxlPSJtYXJnaW46IGF1dG87IGJhY2tncm91bmQ6IG5vbmU7IGRpc3BsYXk6IGJsb2NrOyBzaGFwZS1yZW5kZXJpbmc6IGF1dG87IiB2aWV3Qm94PSIwIDAgMTAwIDEwMCIgcHJlc2VydmVBc3BlY3RSYXRpbz0ieE1pZFlNaWQiPiAgPGNpcmNsZSBjeD0iNTAiIGN5PSI1MCIgZmlsbD0ibm9uZSIgc3Ryb2tlPSIjYzNjM2MzIiBzdHJva2Utd2lkdGg9IjEwIiByPSIzNSIgc3Ryb2tlLWRhc2hhcnJheT0iMTY0LjkzMzYxNDMxMzQ2NDE1IDU2Ljk3Nzg3MTQzNzgyMTM4Ij4gICAgPGFuaW1hdGVUcmFuc2Zvcm0gYXR0cmlidXRlTmFtZT0idHJhbnNmb3JtIiB0eXBlPSJyb3RhdGUiIHJlcGVhdENvdW50PSJpbmRlZmluaXRlIiBkdXI9IjFzIiB2YWx1ZXM9IjAgNTAgNTA7MzYwIDUwIDUwIiBrZXlUaW1lcz0iMDsxIj48L2FuaW1hdGVUcmFuc2Zvcm0+ICA8L2NpcmNsZT48L3N2Zz4=\\\");\\n  background-size: auto calc(min(50%, 400px));\\n}\",{\"type\":\"object\",\"name\":\"ImportedStyleSheet\",\"id\":\"a0eaf3a4-19e3-4d4e-96da-3cb79f27c5de\",\"attributes\":{\"url\":\"https://cdn.holoviz.org/panel/1.1.0/dist/css/loading.css\"}},{\"type\":\"object\",\"name\":\"ImportedStyleSheet\",\"id\":\"1c97f9d5-15f1-441a-84db-cfd890999927\",\"attributes\":{\"url\":\"https://cdn.holoviz.org/panel/1.1.0/dist/bundled/theme/default.css\"}},{\"type\":\"object\",\"name\":\"ImportedStyleSheet\",\"id\":\"01ceb391-2310-4993-8c07-696e117007b9\",\"attributes\":{\"url\":\"https://cdn.holoviz.org/panel/1.1.0/dist/bundled/theme/native.css\"}}],\"width\":50,\"height\":200,\"margin\":[5,10],\"sizing_mode\":\"fixed\",\"align\":\"start\",\"x_range\":{\"type\":\"object\",\"name\":\"DataRange1d\",\"id\":\"92ce64e0-38ed-4040-8def-32facc7b9834\",\"attributes\":{\"start\":-0.8,\"end\":0.5}},\"y_range\":{\"type\":\"object\",\"name\":\"DataRange1d\",\"id\":\"5f4619e7-aeed-4599-bb17-11d9da3d9118\",\"attributes\":{\"start\":0,\"end\":100}},\"x_scale\":{\"type\":\"object\",\"name\":\"LinearScale\",\"id\":\"27cd78b8-2a71-4ff1-a060-eab1a05ecd9b\"},\"y_scale\":{\"type\":\"object\",\"name\":\"LinearScale\",\"id\":\"78f7b29c-357d-4d4b-ac75-2e9778463077\"},\"title\":{\"type\":\"object\",\"name\":\"Title\",\"id\":\"7a21e73b-ea98-48e1-8923-4b6c12ced543\"},\"outline_line_color\":null,\"renderers\":[{\"type\":\"object\",\"name\":\"GlyphRenderer\",\"id\":\"85e42bef-5018-407e-85c9-4d7445eaaaf0\",\"attributes\":{\"data_source\":{\"type\":\"object\",\"name\":\"ColumnDataSource\",\"id\":\"a09f8fc5-bdf8-4d4c-b681-38b2e9a65e12\",\"attributes\":{\"name\":\"bar_source\",\"selected\":{\"type\":\"object\",\"name\":\"Selection\",\"id\":\"1c603b07-303c-40fd-a2e6-0399e725a0d0\",\"attributes\":{\"indices\":[],\"line_indices\":[]}},\"selection_policy\":{\"type\":\"object\",\"name\":\"UnionRenderers\",\"id\":\"0662ee3f-262f-492e-8f60-9eb71da8609e\"},\"data\":{\"type\":\"map\",\"entries\":[[\"y0\",[0,0.0,50.0]],[\"y1\",[0.0,50.0,100]],[\"color\",[\"lightgreen\",\"whitesmoke\",\"whitesmoke\"]]]}}},\"view\":{\"type\":\"object\",\"name\":\"CDSView\",\"id\":\"9219d6d4-3444-4a22-bc61-45ed56d67b28\",\"attributes\":{\"filter\":{\"type\":\"object\",\"name\":\"AllIndices\",\"id\":\"19672622-7288-4252-8122-d64be919ec59\"}}},\"glyph\":{\"type\":\"object\",\"name\":\"VBar\",\"id\":\"b0671eed-c09c-4f95-bfcc-15a79245d69a\",\"attributes\":{\"x\":{\"type\":\"value\",\"value\":0.1},\"width\":{\"type\":\"value\",\"value\":0.9},\"bottom\":{\"type\":\"field\",\"field\":\"y0\"},\"top\":{\"type\":\"field\",\"field\":\"y1\"},\"line_color\":{\"type\":\"field\",\"field\":\"color\"},\"fill_color\":{\"type\":\"field\",\"field\":\"color\"},\"hatch_color\":{\"type\":\"field\",\"field\":\"color\"}}},\"nonselection_glyph\":{\"type\":\"object\",\"name\":\"VBar\",\"id\":\"a513a411-4ed2-4a47-8dab-3901fa22ae99\",\"attributes\":{\"x\":{\"type\":\"value\",\"value\":0.1},\"width\":{\"type\":\"value\",\"value\":0.9},\"bottom\":{\"type\":\"field\",\"field\":\"y0\"},\"top\":{\"type\":\"field\",\"field\":\"y1\"},\"line_color\":{\"type\":\"field\",\"field\":\"color\"},\"line_alpha\":{\"type\":\"value\",\"value\":0.1},\"fill_color\":{\"type\":\"field\",\"field\":\"color\"},\"fill_alpha\":{\"type\":\"value\",\"value\":0.1},\"hatch_color\":{\"type\":\"field\",\"field\":\"color\"},\"hatch_alpha\":{\"type\":\"value\",\"value\":0.1}}},\"muted_glyph\":{\"type\":\"object\",\"name\":\"VBar\",\"id\":\"9af1121c-7063-4bc0-934a-62eddc604dbc\",\"attributes\":{\"x\":{\"type\":\"value\",\"value\":0.1},\"width\":{\"type\":\"value\",\"value\":0.9},\"bottom\":{\"type\":\"field\",\"field\":\"y0\"},\"top\":{\"type\":\"field\",\"field\":\"y1\"},\"line_color\":{\"type\":\"field\",\"field\":\"color\"},\"line_alpha\":{\"type\":\"value\",\"value\":0.2},\"fill_color\":{\"type\":\"field\",\"field\":\"color\"},\"fill_alpha\":{\"type\":\"value\",\"value\":0.2},\"hatch_color\":{\"type\":\"field\",\"field\":\"color\"},\"hatch_alpha\":{\"type\":\"value\",\"value\":0.2}}}}},{\"type\":\"object\",\"name\":\"GlyphRenderer\",\"id\":\"9685b1cc-396a-4b5f-992a-87a5cdb394d1\",\"attributes\":{\"name\":\"needle_renderer\",\"level\":\"overlay\",\"data_source\":{\"type\":\"object\",\"name\":\"ColumnDataSource\",\"id\":\"969ce651-dc12-45f4-a19c-163f3663f792\",\"attributes\":{\"name\":\"needle_source\",\"selected\":{\"type\":\"object\",\"name\":\"Selection\",\"id\":\"3203485f-2e8b-4733-b70f-92bbb9dbaa88\",\"attributes\":{\"indices\":[],\"line_indices\":[]}},\"selection_policy\":{\"type\":\"object\",\"name\":\"UnionRenderers\",\"id\":\"1222732e-a7f4-483a-a77a-d4c55437d9ec\"},\"data\":{\"type\":\"map\",\"entries\":[[\"y\",[0.0]],[\"text\",[\"\"]]]}}},\"view\":{\"type\":\"object\",\"name\":\"CDSView\",\"id\":\"d51cd2a5-b389-4090-b4e7-5c6f81099cc4\",\"attributes\":{\"filter\":{\"type\":\"object\",\"name\":\"AllIndices\",\"id\":\"96da726b-0c9c-4549-b9cf-8674efc83d76\"}}},\"glyph\":{\"type\":\"object\",\"name\":\"Scatter\",\"id\":\"961de36a-8398-4ec7-a6b8-27f36d1cedbe\",\"attributes\":{\"x\":{\"type\":\"value\",\"value\":0.5},\"y\":{\"type\":\"field\",\"field\":\"y\"},\"size\":{\"type\":\"value\",\"value\":6},\"angle\":{\"type\":\"value\",\"value\":1.5707963267948966},\"line_color\":{\"type\":\"field\",\"field\":\"\"},\"fill_color\":{\"type\":\"field\",\"field\":\"\"},\"marker\":{\"type\":\"value\",\"value\":\"triangle\"}}},\"nonselection_glyph\":{\"type\":\"object\",\"name\":\"Scatter\",\"id\":\"c0de490e-cc9b-4db8-9cbd-3363338f14f7\",\"attributes\":{\"x\":{\"type\":\"value\",\"value\":0.5},\"y\":{\"type\":\"field\",\"field\":\"y\"},\"size\":{\"type\":\"value\",\"value\":6},\"angle\":{\"type\":\"value\",\"value\":1.5707963267948966},\"line_color\":{\"type\":\"field\",\"field\":\"\"},\"line_alpha\":{\"type\":\"value\",\"value\":0.1},\"fill_color\":{\"type\":\"field\",\"field\":\"\"},\"fill_alpha\":{\"type\":\"value\",\"value\":0.1},\"hatch_alpha\":{\"type\":\"value\",\"value\":0.1},\"marker\":{\"type\":\"value\",\"value\":\"triangle\"}}},\"muted_glyph\":{\"type\":\"object\",\"name\":\"Scatter\",\"id\":\"964a905d-8c43-40fc-92ce-bb0370a8d4f8\",\"attributes\":{\"x\":{\"type\":\"value\",\"value\":0.5},\"y\":{\"type\":\"field\",\"field\":\"y\"},\"size\":{\"type\":\"value\",\"value\":6},\"angle\":{\"type\":\"value\",\"value\":1.5707963267948966},\"line_color\":{\"type\":\"field\",\"field\":\"\"},\"line_alpha\":{\"type\":\"value\",\"value\":0.2},\"fill_color\":{\"type\":\"field\",\"field\":\"\"},\"fill_alpha\":{\"type\":\"value\",\"value\":0.2},\"hatch_alpha\":{\"type\":\"value\",\"value\":0.2},\"marker\":{\"type\":\"value\",\"value\":\"triangle\"}}}}},{\"type\":\"object\",\"name\":\"GlyphRenderer\",\"id\":\"c083fbee-1e8d-4625-b604-8766bf3eb02c\",\"attributes\":{\"data_source\":{\"id\":\"969ce651-dc12-45f4-a19c-163f3663f792\"},\"view\":{\"type\":\"object\",\"name\":\"CDSView\",\"id\":\"695beb0c-4d35-4d6b-a757-260998659592\",\"attributes\":{\"filter\":{\"type\":\"object\",\"name\":\"AllIndices\",\"id\":\"fc7265e7-1552-4c58-b70a-36d116b9ee99\"}}},\"glyph\":{\"type\":\"object\",\"name\":\"Text\",\"id\":\"8cd2759f-d591-4bce-8070-a086eaa62779\",\"attributes\":{\"x\":{\"type\":\"value\",\"value\":-0.4},\"y\":{\"type\":\"value\",\"value\":0},\"text\":{\"type\":\"field\",\"field\":\"text\"},\"angle\":{\"type\":\"value\",\"value\":1.5707963267948966},\"text_color\":{\"type\":\"value\",\"value\":\"black\"},\"text_font_size\":{\"type\":\"value\",\"value\":\"6.25px\"}}},\"nonselection_glyph\":{\"type\":\"object\",\"name\":\"Text\",\"id\":\"ff9823e1-a3e0-49b3-9b44-80bd4ccb50eb\",\"attributes\":{\"x\":{\"type\":\"value\",\"value\":-0.4},\"y\":{\"type\":\"value\",\"value\":0},\"text\":{\"type\":\"field\",\"field\":\"text\"},\"angle\":{\"type\":\"value\",\"value\":1.5707963267948966},\"text_color\":{\"type\":\"value\",\"value\":\"black\"},\"text_alpha\":{\"type\":\"value\",\"value\":0.1},\"text_font_size\":{\"type\":\"value\",\"value\":\"6.25px\"}}},\"muted_glyph\":{\"type\":\"object\",\"name\":\"Text\",\"id\":\"b99c4651-847d-41fb-9c24-1b6b129e7a05\",\"attributes\":{\"x\":{\"type\":\"value\",\"value\":-0.4},\"y\":{\"type\":\"value\",\"value\":0},\"text\":{\"type\":\"field\",\"field\":\"text\"},\"angle\":{\"type\":\"value\",\"value\":1.5707963267948966},\"text_color\":{\"type\":\"value\",\"value\":\"black\"},\"text_alpha\":{\"type\":\"value\",\"value\":0.2},\"text_font_size\":{\"type\":\"value\",\"value\":\"6.25px\"}}}}}],\"toolbar\":{\"type\":\"object\",\"name\":\"Toolbar\",\"id\":\"b85424ba-a119-473d-afe6-3e215b87d850\"},\"toolbar_location\":null,\"right\":[{\"type\":\"object\",\"name\":\"LinearAxis\",\"id\":\"5476bbc8-17b7-417f-97ae-8838f3f1530d\",\"attributes\":{\"ticker\":{\"type\":\"object\",\"name\":\"FixedTicker\",\"id\":\"669385cc-831c-4999-a58f-bf79dcfb0f68\",\"attributes\":{\"ticks\":[0,100],\"minor_ticks\":[]}},\"formatter\":{\"type\":\"object\",\"name\":\"BasicTickFormatter\",\"id\":\"193eacf1-1ba6-40f4-9dd7-b47967a084ca\"},\"axis_label\":\"\",\"axis_label_standoff\":2,\"axis_label_text_font_size\":\"0pt\",\"major_label_standoff\":2,\"major_label_policy\":{\"type\":\"object\",\"name\":\"AllLabels\",\"id\":\"4659fdb1-2abe-48c6-968e-9a9bbeb79e41\"},\"major_label_text_font_size\":\"0pt\"}}],\"above\":[{\"type\":\"object\",\"name\":\"LinearAxis\",\"id\":\"bb2507f3-036a-4b74-ad3e-619c09771e62\",\"attributes\":{\"visible\":false,\"ticker\":{\"type\":\"object\",\"name\":\"BasicTicker\",\"id\":\"7068d335-a006-4bd7-9865-dbee1f89059c\",\"attributes\":{\"mantissas\":[1,2,5]}},\"formatter\":{\"type\":\"object\",\"name\":\"BasicTickFormatter\",\"id\":\"cc61c131-9b24-4b6b-80a3-40c9c02a979a\"},\"axis_label\":\"\",\"axis_label_standoff\":2,\"axis_label_text_font_size\":\"0pt\",\"major_label_standoff\":2,\"major_label_policy\":{\"type\":\"object\",\"name\":\"AllLabels\",\"id\":\"7e8e6cbb-fe98-4d55-9aa3-a6771c064ca6\"},\"major_label_text_font_size\":\"0pt\"}}],\"center\":[{\"type\":\"object\",\"name\":\"Grid\",\"id\":\"10c154ac-a8f1-4baf-b6e6-d8eb3c56e4fc\",\"attributes\":{\"visible\":false,\"axis\":{\"id\":\"bb2507f3-036a-4b74-ad3e-619c09771e62\"}}},{\"type\":\"object\",\"name\":\"Grid\",\"id\":\"2a6245c4-bb05-467e-ade3-7d84d91eff28\",\"attributes\":{\"visible\":false,\"dimension\":1,\"axis\":{\"id\":\"5476bbc8-17b7-417f-97ae-8838f3f1530d\"}}}]}},{\"type\":\"object\",\"name\":\"Figure\",\"id\":\"bb0ae6ec-2d86-41aa-8467-032e6ef5706a\",\"attributes\":{\"name\":\"\",\"stylesheets\":[\"\\n:host(.pn-loading.pn-arc):before, .pn-loading.pn-arc:before {\\n  background-image: url(\\\"data:image/svg+xml;base64,PHN2ZyB4bWxucz0iaHR0cDovL3d3dy53My5vcmcvMjAwMC9zdmciIHN0eWxlPSJtYXJnaW46IGF1dG87IGJhY2tncm91bmQ6IG5vbmU7IGRpc3BsYXk6IGJsb2NrOyBzaGFwZS1yZW5kZXJpbmc6IGF1dG87IiB2aWV3Qm94PSIwIDAgMTAwIDEwMCIgcHJlc2VydmVBc3BlY3RSYXRpbz0ieE1pZFlNaWQiPiAgPGNpcmNsZSBjeD0iNTAiIGN5PSI1MCIgZmlsbD0ibm9uZSIgc3Ryb2tlPSIjYzNjM2MzIiBzdHJva2Utd2lkdGg9IjEwIiByPSIzNSIgc3Ryb2tlLWRhc2hhcnJheT0iMTY0LjkzMzYxNDMxMzQ2NDE1IDU2Ljk3Nzg3MTQzNzgyMTM4Ij4gICAgPGFuaW1hdGVUcmFuc2Zvcm0gYXR0cmlidXRlTmFtZT0idHJhbnNmb3JtIiB0eXBlPSJyb3RhdGUiIHJlcGVhdENvdW50PSJpbmRlZmluaXRlIiBkdXI9IjFzIiB2YWx1ZXM9IjAgNTAgNTA7MzYwIDUwIDUwIiBrZXlUaW1lcz0iMDsxIj48L2FuaW1hdGVUcmFuc2Zvcm0+ICA8L2NpcmNsZT48L3N2Zz4=\\\");\\n  background-size: auto calc(min(50%, 400px));\\n}\",{\"type\":\"object\",\"name\":\"ImportedStyleSheet\",\"id\":\"b6c14648-1fae-4b2f-abb4-8e69b7dbe6cd\",\"attributes\":{\"url\":\"https://cdn.holoviz.org/panel/1.1.0/dist/css/loading.css\"}},{\"type\":\"object\",\"name\":\"ImportedStyleSheet\",\"id\":\"1f3176cc-87c6-41eb-a14e-9aa5fba78318\",\"attributes\":{\"url\":\"https://cdn.holoviz.org/panel/1.1.0/dist/bundled/theme/default.css\"}},{\"type\":\"object\",\"name\":\"ImportedStyleSheet\",\"id\":\"78d16bcc-c225-4ba3-91ad-72831d299135\",\"attributes\":{\"url\":\"https://cdn.holoviz.org/panel/1.1.0/dist/bundled/theme/native.css\"}}],\"width\":50,\"height\":200,\"margin\":[5,10],\"sizing_mode\":\"fixed\",\"align\":\"start\",\"x_range\":{\"type\":\"object\",\"name\":\"DataRange1d\",\"id\":\"6fb6399f-2032-4ca2-91a0-d15b34f2590c\",\"attributes\":{\"start\":-0.8,\"end\":0.5}},\"y_range\":{\"type\":\"object\",\"name\":\"DataRange1d\",\"id\":\"d842e874-acaf-4e34-b110-2b56ea8ece06\",\"attributes\":{\"start\":0,\"end\":100}},\"x_scale\":{\"type\":\"object\",\"name\":\"LinearScale\",\"id\":\"f4280049-4a77-4050-999a-4dc611db8d6b\"},\"y_scale\":{\"type\":\"object\",\"name\":\"LinearScale\",\"id\":\"7cf92adc-bb80-4073-a13e-e66e7883bde2\"},\"title\":{\"type\":\"object\",\"name\":\"Title\",\"id\":\"8d401e64-484c-4bd4-9ff7-a0fe7377078a\"},\"outline_line_color\":null,\"renderers\":[{\"type\":\"object\",\"name\":\"GlyphRenderer\",\"id\":\"a583a8e1-0867-4864-89c5-e148a1fc2cef\",\"attributes\":{\"data_source\":{\"type\":\"object\",\"name\":\"ColumnDataSource\",\"id\":\"4a8d447f-c46b-4e2a-839b-5763e0ed5f78\",\"attributes\":{\"name\":\"bar_source\",\"selected\":{\"type\":\"object\",\"name\":\"Selection\",\"id\":\"506de3a9-1f1a-4932-b438-55a896232360\",\"attributes\":{\"indices\":[],\"line_indices\":[]}},\"selection_policy\":{\"type\":\"object\",\"name\":\"UnionRenderers\",\"id\":\"bcf7b910-418e-40d2-b0c8-e4947a2e8e6f\"},\"data\":{\"type\":\"map\",\"entries\":[[\"y0\",[0,0.0,50.0]],[\"y1\",[0.0,50.0,100]],[\"color\",[\"lightgreen\",\"whitesmoke\",\"whitesmoke\"]]]}}},\"view\":{\"type\":\"object\",\"name\":\"CDSView\",\"id\":\"02bef0ab-80c9-4ee8-85f9-569b564a1a74\",\"attributes\":{\"filter\":{\"type\":\"object\",\"name\":\"AllIndices\",\"id\":\"1d21de37-99bd-4157-9881-b49f339de6d6\"}}},\"glyph\":{\"type\":\"object\",\"name\":\"VBar\",\"id\":\"2f23f006-7eef-4f58-a333-d3c51e13ee9f\",\"attributes\":{\"x\":{\"type\":\"value\",\"value\":0.1},\"width\":{\"type\":\"value\",\"value\":0.9},\"bottom\":{\"type\":\"field\",\"field\":\"y0\"},\"top\":{\"type\":\"field\",\"field\":\"y1\"},\"line_color\":{\"type\":\"field\",\"field\":\"color\"},\"fill_color\":{\"type\":\"field\",\"field\":\"color\"},\"hatch_color\":{\"type\":\"field\",\"field\":\"color\"}}},\"nonselection_glyph\":{\"type\":\"object\",\"name\":\"VBar\",\"id\":\"0502e0fc-da51-4e52-a826-93b1ab9817be\",\"attributes\":{\"x\":{\"type\":\"value\",\"value\":0.1},\"width\":{\"type\":\"value\",\"value\":0.9},\"bottom\":{\"type\":\"field\",\"field\":\"y0\"},\"top\":{\"type\":\"field\",\"field\":\"y1\"},\"line_color\":{\"type\":\"field\",\"field\":\"color\"},\"line_alpha\":{\"type\":\"value\",\"value\":0.1},\"fill_color\":{\"type\":\"field\",\"field\":\"color\"},\"fill_alpha\":{\"type\":\"value\",\"value\":0.1},\"hatch_color\":{\"type\":\"field\",\"field\":\"color\"},\"hatch_alpha\":{\"type\":\"value\",\"value\":0.1}}},\"muted_glyph\":{\"type\":\"object\",\"name\":\"VBar\",\"id\":\"90ee074f-b895-44f1-be69-5687bdd42d03\",\"attributes\":{\"x\":{\"type\":\"value\",\"value\":0.1},\"width\":{\"type\":\"value\",\"value\":0.9},\"bottom\":{\"type\":\"field\",\"field\":\"y0\"},\"top\":{\"type\":\"field\",\"field\":\"y1\"},\"line_color\":{\"type\":\"field\",\"field\":\"color\"},\"line_alpha\":{\"type\":\"value\",\"value\":0.2},\"fill_color\":{\"type\":\"field\",\"field\":\"color\"},\"fill_alpha\":{\"type\":\"value\",\"value\":0.2},\"hatch_color\":{\"type\":\"field\",\"field\":\"color\"},\"hatch_alpha\":{\"type\":\"value\",\"value\":0.2}}}}},{\"type\":\"object\",\"name\":\"GlyphRenderer\",\"id\":\"001c3822-887b-402e-9fb4-d36c35a0c27e\",\"attributes\":{\"name\":\"needle_renderer\",\"level\":\"overlay\",\"data_source\":{\"type\":\"object\",\"name\":\"ColumnDataSource\",\"id\":\"c60fcfb2-a149-47c9-a043-51618d61d32e\",\"attributes\":{\"name\":\"needle_source\",\"selected\":{\"type\":\"object\",\"name\":\"Selection\",\"id\":\"fda08c7a-06e2-4d53-ba8b-437df2485edc\",\"attributes\":{\"indices\":[],\"line_indices\":[]}},\"selection_policy\":{\"type\":\"object\",\"name\":\"UnionRenderers\",\"id\":\"1331c12e-17d4-4fdc-be22-aa98273135e6\"},\"data\":{\"type\":\"map\",\"entries\":[[\"y\",[0.0]],[\"text\",[\"\"]]]}}},\"view\":{\"type\":\"object\",\"name\":\"CDSView\",\"id\":\"fd23161a-9430-46f1-b8d0-264738337c46\",\"attributes\":{\"filter\":{\"type\":\"object\",\"name\":\"AllIndices\",\"id\":\"246d2f9b-8a0e-4ae3-8542-9a95ff49b7d0\"}}},\"glyph\":{\"type\":\"object\",\"name\":\"Scatter\",\"id\":\"799d35cc-4457-45cc-830c-306b5c28b613\",\"attributes\":{\"x\":{\"type\":\"value\",\"value\":0.5},\"y\":{\"type\":\"field\",\"field\":\"y\"},\"size\":{\"type\":\"value\",\"value\":6},\"angle\":{\"type\":\"value\",\"value\":1.5707963267948966},\"line_color\":{\"type\":\"field\",\"field\":\"\"},\"fill_color\":{\"type\":\"field\",\"field\":\"\"},\"marker\":{\"type\":\"value\",\"value\":\"triangle\"}}},\"nonselection_glyph\":{\"type\":\"object\",\"name\":\"Scatter\",\"id\":\"81dccd13-c3fc-4cd3-bcb1-ba6c4b51d36d\",\"attributes\":{\"x\":{\"type\":\"value\",\"value\":0.5},\"y\":{\"type\":\"field\",\"field\":\"y\"},\"size\":{\"type\":\"value\",\"value\":6},\"angle\":{\"type\":\"value\",\"value\":1.5707963267948966},\"line_color\":{\"type\":\"field\",\"field\":\"\"},\"line_alpha\":{\"type\":\"value\",\"value\":0.1},\"fill_color\":{\"type\":\"field\",\"field\":\"\"},\"fill_alpha\":{\"type\":\"value\",\"value\":0.1},\"hatch_alpha\":{\"type\":\"value\",\"value\":0.1},\"marker\":{\"type\":\"value\",\"value\":\"triangle\"}}},\"muted_glyph\":{\"type\":\"object\",\"name\":\"Scatter\",\"id\":\"facbd70b-4ae6-4ab3-a788-8c61fb75ad55\",\"attributes\":{\"x\":{\"type\":\"value\",\"value\":0.5},\"y\":{\"type\":\"field\",\"field\":\"y\"},\"size\":{\"type\":\"value\",\"value\":6},\"angle\":{\"type\":\"value\",\"value\":1.5707963267948966},\"line_color\":{\"type\":\"field\",\"field\":\"\"},\"line_alpha\":{\"type\":\"value\",\"value\":0.2},\"fill_color\":{\"type\":\"field\",\"field\":\"\"},\"fill_alpha\":{\"type\":\"value\",\"value\":0.2},\"hatch_alpha\":{\"type\":\"value\",\"value\":0.2},\"marker\":{\"type\":\"value\",\"value\":\"triangle\"}}}}},{\"type\":\"object\",\"name\":\"GlyphRenderer\",\"id\":\"e2b8ae0d-9909-44d2-b273-d19945fbe29b\",\"attributes\":{\"data_source\":{\"id\":\"c60fcfb2-a149-47c9-a043-51618d61d32e\"},\"view\":{\"type\":\"object\",\"name\":\"CDSView\",\"id\":\"aded17c5-74e6-434a-9ecd-c2b4192da8a2\",\"attributes\":{\"filter\":{\"type\":\"object\",\"name\":\"AllIndices\",\"id\":\"63de1de4-0a40-4c77-9de8-26142e2c57ed\"}}},\"glyph\":{\"type\":\"object\",\"name\":\"Text\",\"id\":\"2af4b961-b86c-44f8-96d7-d20a6f8fcfeb\",\"attributes\":{\"x\":{\"type\":\"value\",\"value\":-0.4},\"y\":{\"type\":\"value\",\"value\":0},\"text\":{\"type\":\"field\",\"field\":\"text\"},\"angle\":{\"type\":\"value\",\"value\":1.5707963267948966},\"text_color\":{\"type\":\"value\",\"value\":\"black\"},\"text_font_size\":{\"type\":\"value\",\"value\":\"6.25px\"}}},\"nonselection_glyph\":{\"type\":\"object\",\"name\":\"Text\",\"id\":\"acb32007-f32b-4180-8972-42f3edf2c413\",\"attributes\":{\"x\":{\"type\":\"value\",\"value\":-0.4},\"y\":{\"type\":\"value\",\"value\":0},\"text\":{\"type\":\"field\",\"field\":\"text\"},\"angle\":{\"type\":\"value\",\"value\":1.5707963267948966},\"text_color\":{\"type\":\"value\",\"value\":\"black\"},\"text_alpha\":{\"type\":\"value\",\"value\":0.1},\"text_font_size\":{\"type\":\"value\",\"value\":\"6.25px\"}}},\"muted_glyph\":{\"type\":\"object\",\"name\":\"Text\",\"id\":\"3b06a59f-595c-4bf7-ac56-827290608d8c\",\"attributes\":{\"x\":{\"type\":\"value\",\"value\":-0.4},\"y\":{\"type\":\"value\",\"value\":0},\"text\":{\"type\":\"field\",\"field\":\"text\"},\"angle\":{\"type\":\"value\",\"value\":1.5707963267948966},\"text_color\":{\"type\":\"value\",\"value\":\"black\"},\"text_alpha\":{\"type\":\"value\",\"value\":0.2},\"text_font_size\":{\"type\":\"value\",\"value\":\"6.25px\"}}}}}],\"toolbar\":{\"type\":\"object\",\"name\":\"Toolbar\",\"id\":\"0cf68666-02fe-49e9-9335-dae8a86baba6\"},\"toolbar_location\":null,\"right\":[{\"type\":\"object\",\"name\":\"LinearAxis\",\"id\":\"b1c72693-0493-477b-bd92-ce72125e9303\",\"attributes\":{\"ticker\":{\"type\":\"object\",\"name\":\"FixedTicker\",\"id\":\"4e8169a2-131b-49c1-b304-de802ecd76c2\",\"attributes\":{\"ticks\":[0,100],\"minor_ticks\":[]}},\"formatter\":{\"type\":\"object\",\"name\":\"BasicTickFormatter\",\"id\":\"cc790982-0e90-4172-bf03-3fb96f2467fc\"},\"axis_label\":\"\",\"axis_label_standoff\":2,\"axis_label_text_font_size\":\"0pt\",\"major_label_standoff\":2,\"major_label_policy\":{\"type\":\"object\",\"name\":\"AllLabels\",\"id\":\"95637d70-4574-4ff4-adcc-b2fd58e62d9f\"},\"major_label_text_font_size\":\"0pt\"}}],\"above\":[{\"type\":\"object\",\"name\":\"LinearAxis\",\"id\":\"adb7aeb9-f7eb-43f3-84b8-86018ac636ee\",\"attributes\":{\"visible\":false,\"ticker\":{\"type\":\"object\",\"name\":\"BasicTicker\",\"id\":\"164438c5-d0d7-4d32-8eaf-41885946b1e6\",\"attributes\":{\"mantissas\":[1,2,5]}},\"formatter\":{\"type\":\"object\",\"name\":\"BasicTickFormatter\",\"id\":\"5d4c203d-71c8-4c9f-9a8d-4691d3aadb03\"},\"axis_label\":\"\",\"axis_label_standoff\":2,\"axis_label_text_font_size\":\"0pt\",\"major_label_standoff\":2,\"major_label_policy\":{\"type\":\"object\",\"name\":\"AllLabels\",\"id\":\"5d4374df-7f97-4e52-9301-903d5f46f7ac\"},\"major_label_text_font_size\":\"0pt\"}}],\"center\":[{\"type\":\"object\",\"name\":\"Grid\",\"id\":\"d6fc3b1a-3106-4c84-a2f4-f54ca144bc0a\",\"attributes\":{\"visible\":false,\"axis\":{\"id\":\"adb7aeb9-f7eb-43f3-84b8-86018ac636ee\"}}},{\"type\":\"object\",\"name\":\"Grid\",\"id\":\"77af721f-aab5-404a-8d92-7138ea1db21d\",\"attributes\":{\"visible\":false,\"dimension\":1,\"axis\":{\"id\":\"b1c72693-0493-477b-bd92-ce72125e9303\"}}}]}},{\"type\":\"object\",\"name\":\"Figure\",\"id\":\"b54ee918-dba5-41b6-9444-2957fc8ac777\",\"attributes\":{\"name\":\"\",\"stylesheets\":[\"\\n:host(.pn-loading.pn-arc):before, .pn-loading.pn-arc:before {\\n  background-image: url(\\\"data:image/svg+xml;base64,PHN2ZyB4bWxucz0iaHR0cDovL3d3dy53My5vcmcvMjAwMC9zdmciIHN0eWxlPSJtYXJnaW46IGF1dG87IGJhY2tncm91bmQ6IG5vbmU7IGRpc3BsYXk6IGJsb2NrOyBzaGFwZS1yZW5kZXJpbmc6IGF1dG87IiB2aWV3Qm94PSIwIDAgMTAwIDEwMCIgcHJlc2VydmVBc3BlY3RSYXRpbz0ieE1pZFlNaWQiPiAgPGNpcmNsZSBjeD0iNTAiIGN5PSI1MCIgZmlsbD0ibm9uZSIgc3Ryb2tlPSIjYzNjM2MzIiBzdHJva2Utd2lkdGg9IjEwIiByPSIzNSIgc3Ryb2tlLWRhc2hhcnJheT0iMTY0LjkzMzYxNDMxMzQ2NDE1IDU2Ljk3Nzg3MTQzNzgyMTM4Ij4gICAgPGFuaW1hdGVUcmFuc2Zvcm0gYXR0cmlidXRlTmFtZT0idHJhbnNmb3JtIiB0eXBlPSJyb3RhdGUiIHJlcGVhdENvdW50PSJpbmRlZmluaXRlIiBkdXI9IjFzIiB2YWx1ZXM9IjAgNTAgNTA7MzYwIDUwIDUwIiBrZXlUaW1lcz0iMDsxIj48L2FuaW1hdGVUcmFuc2Zvcm0+ICA8L2NpcmNsZT48L3N2Zz4=\\\");\\n  background-size: auto calc(min(50%, 400px));\\n}\",{\"type\":\"object\",\"name\":\"ImportedStyleSheet\",\"id\":\"6cb18d81-9231-47c6-b974-9f91db047899\",\"attributes\":{\"url\":\"https://cdn.holoviz.org/panel/1.1.0/dist/css/loading.css\"}},{\"type\":\"object\",\"name\":\"ImportedStyleSheet\",\"id\":\"ca2ab8b9-c93e-40d2-a705-774cf2b09697\",\"attributes\":{\"url\":\"https://cdn.holoviz.org/panel/1.1.0/dist/bundled/theme/default.css\"}},{\"type\":\"object\",\"name\":\"ImportedStyleSheet\",\"id\":\"877a78ad-5578-4a99-92b8-b304efd73807\",\"attributes\":{\"url\":\"https://cdn.holoviz.org/panel/1.1.0/dist/bundled/theme/native.css\"}}],\"width\":50,\"height\":200,\"margin\":[5,10],\"sizing_mode\":\"fixed\",\"align\":\"start\",\"x_range\":{\"type\":\"object\",\"name\":\"DataRange1d\",\"id\":\"3c83ea54-4a73-4116-a890-fbc2e539e1ba\",\"attributes\":{\"start\":-0.8,\"end\":0.5}},\"y_range\":{\"type\":\"object\",\"name\":\"DataRange1d\",\"id\":\"cc2508cd-5707-4b6e-88e1-3367244dbcd1\",\"attributes\":{\"start\":0,\"end\":100}},\"x_scale\":{\"type\":\"object\",\"name\":\"LinearScale\",\"id\":\"6adb745d-5ac9-4f15-a9a0-3becbe045d18\"},\"y_scale\":{\"type\":\"object\",\"name\":\"LinearScale\",\"id\":\"ae243d37-2159-4ea3-bce9-51f153099e27\"},\"title\":{\"type\":\"object\",\"name\":\"Title\",\"id\":\"4ff41eed-8379-4b88-af2d-7c3d7c2a4c79\"},\"outline_line_color\":null,\"renderers\":[{\"type\":\"object\",\"name\":\"GlyphRenderer\",\"id\":\"19b334a4-8f54-4bc1-9233-4d8d37229d3b\",\"attributes\":{\"data_source\":{\"type\":\"object\",\"name\":\"ColumnDataSource\",\"id\":\"c95d237c-3277-47ba-aec7-b06053d6fb4b\",\"attributes\":{\"name\":\"bar_source\",\"selected\":{\"type\":\"object\",\"name\":\"Selection\",\"id\":\"4f34dfbf-ee66-4539-b6a6-94af750f76db\",\"attributes\":{\"indices\":[],\"line_indices\":[]}},\"selection_policy\":{\"type\":\"object\",\"name\":\"UnionRenderers\",\"id\":\"26dd44d6-77f6-48ce-b97c-e7bdc9898727\"},\"data\":{\"type\":\"map\",\"entries\":[[\"y0\",[0,0.0,50.0]],[\"y1\",[0.0,50.0,100]],[\"color\",[\"lightgreen\",\"whitesmoke\",\"whitesmoke\"]]]}}},\"view\":{\"type\":\"object\",\"name\":\"CDSView\",\"id\":\"07216838-449e-4f66-b95d-6e2be5b0da05\",\"attributes\":{\"filter\":{\"type\":\"object\",\"name\":\"AllIndices\",\"id\":\"fbdf827b-e39b-406b-b486-79426a4d803f\"}}},\"glyph\":{\"type\":\"object\",\"name\":\"VBar\",\"id\":\"e958439d-f4b7-43e0-95c4-123e37739c49\",\"attributes\":{\"x\":{\"type\":\"value\",\"value\":0.1},\"width\":{\"type\":\"value\",\"value\":0.9},\"bottom\":{\"type\":\"field\",\"field\":\"y0\"},\"top\":{\"type\":\"field\",\"field\":\"y1\"},\"line_color\":{\"type\":\"field\",\"field\":\"color\"},\"fill_color\":{\"type\":\"field\",\"field\":\"color\"},\"hatch_color\":{\"type\":\"field\",\"field\":\"color\"}}},\"nonselection_glyph\":{\"type\":\"object\",\"name\":\"VBar\",\"id\":\"1a83419f-319b-47cb-8c04-6c7c405fe5fe\",\"attributes\":{\"x\":{\"type\":\"value\",\"value\":0.1},\"width\":{\"type\":\"value\",\"value\":0.9},\"bottom\":{\"type\":\"field\",\"field\":\"y0\"},\"top\":{\"type\":\"field\",\"field\":\"y1\"},\"line_color\":{\"type\":\"field\",\"field\":\"color\"},\"line_alpha\":{\"type\":\"value\",\"value\":0.1},\"fill_color\":{\"type\":\"field\",\"field\":\"color\"},\"fill_alpha\":{\"type\":\"value\",\"value\":0.1},\"hatch_color\":{\"type\":\"field\",\"field\":\"color\"},\"hatch_alpha\":{\"type\":\"value\",\"value\":0.1}}},\"muted_glyph\":{\"type\":\"object\",\"name\":\"VBar\",\"id\":\"53d06540-9a46-466d-b3dc-61aafe24e189\",\"attributes\":{\"x\":{\"type\":\"value\",\"value\":0.1},\"width\":{\"type\":\"value\",\"value\":0.9},\"bottom\":{\"type\":\"field\",\"field\":\"y0\"},\"top\":{\"type\":\"field\",\"field\":\"y1\"},\"line_color\":{\"type\":\"field\",\"field\":\"color\"},\"line_alpha\":{\"type\":\"value\",\"value\":0.2},\"fill_color\":{\"type\":\"field\",\"field\":\"color\"},\"fill_alpha\":{\"type\":\"value\",\"value\":0.2},\"hatch_color\":{\"type\":\"field\",\"field\":\"color\"},\"hatch_alpha\":{\"type\":\"value\",\"value\":0.2}}}}},{\"type\":\"object\",\"name\":\"GlyphRenderer\",\"id\":\"64fe37ee-d5c0-43fe-a402-e65a7aa906ab\",\"attributes\":{\"name\":\"needle_renderer\",\"level\":\"overlay\",\"data_source\":{\"type\":\"object\",\"name\":\"ColumnDataSource\",\"id\":\"593bbbb1-3c15-4886-ac62-707da39cb325\",\"attributes\":{\"name\":\"needle_source\",\"selected\":{\"type\":\"object\",\"name\":\"Selection\",\"id\":\"9e2a2d44-6881-4efa-88c5-6ec9d0353b66\",\"attributes\":{\"indices\":[],\"line_indices\":[]}},\"selection_policy\":{\"type\":\"object\",\"name\":\"UnionRenderers\",\"id\":\"eed26893-fa47-44e6-975d-5b167781a5ab\"},\"data\":{\"type\":\"map\",\"entries\":[[\"y\",[0.0]],[\"text\",[\"\"]]]}}},\"view\":{\"type\":\"object\",\"name\":\"CDSView\",\"id\":\"e367b661-9eb1-49e3-a9ac-54f3a31ad32f\",\"attributes\":{\"filter\":{\"type\":\"object\",\"name\":\"AllIndices\",\"id\":\"a8f5f6c8-109d-464a-aa2e-66fdb01a918c\"}}},\"glyph\":{\"type\":\"object\",\"name\":\"Scatter\",\"id\":\"e246e309-81b8-487f-bf1a-5b482f151faa\",\"attributes\":{\"x\":{\"type\":\"value\",\"value\":0.5},\"y\":{\"type\":\"field\",\"field\":\"y\"},\"size\":{\"type\":\"value\",\"value\":6},\"angle\":{\"type\":\"value\",\"value\":1.5707963267948966},\"line_color\":{\"type\":\"field\",\"field\":\"\"},\"fill_color\":{\"type\":\"field\",\"field\":\"\"},\"marker\":{\"type\":\"value\",\"value\":\"triangle\"}}},\"nonselection_glyph\":{\"type\":\"object\",\"name\":\"Scatter\",\"id\":\"ccb18b39-4a51-4bb7-b63f-de309fbeeb44\",\"attributes\":{\"x\":{\"type\":\"value\",\"value\":0.5},\"y\":{\"type\":\"field\",\"field\":\"y\"},\"size\":{\"type\":\"value\",\"value\":6},\"angle\":{\"type\":\"value\",\"value\":1.5707963267948966},\"line_color\":{\"type\":\"field\",\"field\":\"\"},\"line_alpha\":{\"type\":\"value\",\"value\":0.1},\"fill_color\":{\"type\":\"field\",\"field\":\"\"},\"fill_alpha\":{\"type\":\"value\",\"value\":0.1},\"hatch_alpha\":{\"type\":\"value\",\"value\":0.1},\"marker\":{\"type\":\"value\",\"value\":\"triangle\"}}},\"muted_glyph\":{\"type\":\"object\",\"name\":\"Scatter\",\"id\":\"88f22570-a873-45e0-93aa-6d2d40d52e64\",\"attributes\":{\"x\":{\"type\":\"value\",\"value\":0.5},\"y\":{\"type\":\"field\",\"field\":\"y\"},\"size\":{\"type\":\"value\",\"value\":6},\"angle\":{\"type\":\"value\",\"value\":1.5707963267948966},\"line_color\":{\"type\":\"field\",\"field\":\"\"},\"line_alpha\":{\"type\":\"value\",\"value\":0.2},\"fill_color\":{\"type\":\"field\",\"field\":\"\"},\"fill_alpha\":{\"type\":\"value\",\"value\":0.2},\"hatch_alpha\":{\"type\":\"value\",\"value\":0.2},\"marker\":{\"type\":\"value\",\"value\":\"triangle\"}}}}},{\"type\":\"object\",\"name\":\"GlyphRenderer\",\"id\":\"5c14fb23-99af-4f19-8004-d85d84d5fa3f\",\"attributes\":{\"data_source\":{\"id\":\"593bbbb1-3c15-4886-ac62-707da39cb325\"},\"view\":{\"type\":\"object\",\"name\":\"CDSView\",\"id\":\"09d84c5d-bf59-4b8e-b0fe-56cdacd8dec7\",\"attributes\":{\"filter\":{\"type\":\"object\",\"name\":\"AllIndices\",\"id\":\"20a81c13-8439-4c36-8b8c-bc62ba2ca4e6\"}}},\"glyph\":{\"type\":\"object\",\"name\":\"Text\",\"id\":\"a876bc49-b443-4dbd-b319-31db77ccd513\",\"attributes\":{\"x\":{\"type\":\"value\",\"value\":-0.4},\"y\":{\"type\":\"value\",\"value\":0},\"text\":{\"type\":\"field\",\"field\":\"text\"},\"angle\":{\"type\":\"value\",\"value\":1.5707963267948966},\"text_color\":{\"type\":\"value\",\"value\":\"black\"},\"text_font_size\":{\"type\":\"value\",\"value\":\"6.25px\"}}},\"nonselection_glyph\":{\"type\":\"object\",\"name\":\"Text\",\"id\":\"576a7fe9-077e-4068-a0ae-08921fa93b48\",\"attributes\":{\"x\":{\"type\":\"value\",\"value\":-0.4},\"y\":{\"type\":\"value\",\"value\":0},\"text\":{\"type\":\"field\",\"field\":\"text\"},\"angle\":{\"type\":\"value\",\"value\":1.5707963267948966},\"text_color\":{\"type\":\"value\",\"value\":\"black\"},\"text_alpha\":{\"type\":\"value\",\"value\":0.1},\"text_font_size\":{\"type\":\"value\",\"value\":\"6.25px\"}}},\"muted_glyph\":{\"type\":\"object\",\"name\":\"Text\",\"id\":\"c0bbe0b1-d362-47b2-a0a2-3a678e00424f\",\"attributes\":{\"x\":{\"type\":\"value\",\"value\":-0.4},\"y\":{\"type\":\"value\",\"value\":0},\"text\":{\"type\":\"field\",\"field\":\"text\"},\"angle\":{\"type\":\"value\",\"value\":1.5707963267948966},\"text_color\":{\"type\":\"value\",\"value\":\"black\"},\"text_alpha\":{\"type\":\"value\",\"value\":0.2},\"text_font_size\":{\"type\":\"value\",\"value\":\"6.25px\"}}}}}],\"toolbar\":{\"type\":\"object\",\"name\":\"Toolbar\",\"id\":\"3a659ab5-7fa7-4eaa-941e-c843ba5790ce\"},\"toolbar_location\":null,\"right\":[{\"type\":\"object\",\"name\":\"LinearAxis\",\"id\":\"be754613-9de9-47cc-a3a4-117612495dd8\",\"attributes\":{\"ticker\":{\"type\":\"object\",\"name\":\"FixedTicker\",\"id\":\"04e8632a-e686-4e00-8045-1183c0435d88\",\"attributes\":{\"ticks\":[0,100],\"minor_ticks\":[]}},\"formatter\":{\"type\":\"object\",\"name\":\"BasicTickFormatter\",\"id\":\"dd7af2c2-0844-4048-8d1f-416c5bfb8c7e\"},\"axis_label\":\"\",\"axis_label_standoff\":2,\"axis_label_text_font_size\":\"0pt\",\"major_label_standoff\":2,\"major_label_policy\":{\"type\":\"object\",\"name\":\"AllLabels\",\"id\":\"b79635c5-5576-4f79-a139-46620dabdc5d\"},\"major_label_text_font_size\":\"0pt\"}}],\"above\":[{\"type\":\"object\",\"name\":\"LinearAxis\",\"id\":\"dd90f35c-0f09-497a-9971-d94bb440ba6e\",\"attributes\":{\"visible\":false,\"ticker\":{\"type\":\"object\",\"name\":\"BasicTicker\",\"id\":\"2a049dd8-a138-46fe-a04d-9890591f7b56\",\"attributes\":{\"mantissas\":[1,2,5]}},\"formatter\":{\"type\":\"object\",\"name\":\"BasicTickFormatter\",\"id\":\"dcdddc5c-7642-4af0-995d-a44a8193acd8\"},\"axis_label\":\"\",\"axis_label_standoff\":2,\"axis_label_text_font_size\":\"0pt\",\"major_label_standoff\":2,\"major_label_policy\":{\"type\":\"object\",\"name\":\"AllLabels\",\"id\":\"32a29b7b-28b7-440c-b377-759c52c68eed\"},\"major_label_text_font_size\":\"0pt\"}}],\"center\":[{\"type\":\"object\",\"name\":\"Grid\",\"id\":\"db5a7fa3-0df5-4362-969d-a64ea1b2488e\",\"attributes\":{\"visible\":false,\"axis\":{\"id\":\"dd90f35c-0f09-497a-9971-d94bb440ba6e\"}}},{\"type\":\"object\",\"name\":\"Grid\",\"id\":\"f63cad01-6855-45b5-bfa2-f25d91caa04c\",\"attributes\":{\"visible\":false,\"dimension\":1,\"axis\":{\"id\":\"be754613-9de9-47cc-a3a4-117612495dd8\"}}}]}},{\"type\":\"object\",\"name\":\"Figure\",\"id\":\"93c11afd-495b-4019-a233-3c9358754c3e\",\"attributes\":{\"name\":\"\",\"stylesheets\":[\"\\n:host(.pn-loading.pn-arc):before, .pn-loading.pn-arc:before {\\n  background-image: url(\\\"data:image/svg+xml;base64,PHN2ZyB4bWxucz0iaHR0cDovL3d3dy53My5vcmcvMjAwMC9zdmciIHN0eWxlPSJtYXJnaW46IGF1dG87IGJhY2tncm91bmQ6IG5vbmU7IGRpc3BsYXk6IGJsb2NrOyBzaGFwZS1yZW5kZXJpbmc6IGF1dG87IiB2aWV3Qm94PSIwIDAgMTAwIDEwMCIgcHJlc2VydmVBc3BlY3RSYXRpbz0ieE1pZFlNaWQiPiAgPGNpcmNsZSBjeD0iNTAiIGN5PSI1MCIgZmlsbD0ibm9uZSIgc3Ryb2tlPSIjYzNjM2MzIiBzdHJva2Utd2lkdGg9IjEwIiByPSIzNSIgc3Ryb2tlLWRhc2hhcnJheT0iMTY0LjkzMzYxNDMxMzQ2NDE1IDU2Ljk3Nzg3MTQzNzgyMTM4Ij4gICAgPGFuaW1hdGVUcmFuc2Zvcm0gYXR0cmlidXRlTmFtZT0idHJhbnNmb3JtIiB0eXBlPSJyb3RhdGUiIHJlcGVhdENvdW50PSJpbmRlZmluaXRlIiBkdXI9IjFzIiB2YWx1ZXM9IjAgNTAgNTA7MzYwIDUwIDUwIiBrZXlUaW1lcz0iMDsxIj48L2FuaW1hdGVUcmFuc2Zvcm0+ICA8L2NpcmNsZT48L3N2Zz4=\\\");\\n  background-size: auto calc(min(50%, 400px));\\n}\",{\"type\":\"object\",\"name\":\"ImportedStyleSheet\",\"id\":\"fc5566c7-49af-478e-ad54-e080bec8206f\",\"attributes\":{\"url\":\"https://cdn.holoviz.org/panel/1.1.0/dist/css/loading.css\"}},{\"type\":\"object\",\"name\":\"ImportedStyleSheet\",\"id\":\"f742af5e-c979-48e8-9d68-549e03661ef8\",\"attributes\":{\"url\":\"https://cdn.holoviz.org/panel/1.1.0/dist/bundled/theme/default.css\"}},{\"type\":\"object\",\"name\":\"ImportedStyleSheet\",\"id\":\"a0a7b46a-2a15-4ac2-a91c-a3180b678111\",\"attributes\":{\"url\":\"https://cdn.holoviz.org/panel/1.1.0/dist/bundled/theme/native.css\"}}],\"width\":50,\"height\":200,\"margin\":[5,10],\"sizing_mode\":\"fixed\",\"align\":\"start\",\"x_range\":{\"type\":\"object\",\"name\":\"DataRange1d\",\"id\":\"74397500-c895-42ad-8f20-4dae1fb4d2e2\",\"attributes\":{\"start\":-0.8,\"end\":0.5}},\"y_range\":{\"type\":\"object\",\"name\":\"DataRange1d\",\"id\":\"e95aa222-0baf-44a3-b554-4d26eaec9ebb\",\"attributes\":{\"start\":0,\"end\":100}},\"x_scale\":{\"type\":\"object\",\"name\":\"LinearScale\",\"id\":\"ab548b9f-58e6-4cc5-9774-11a81a602d81\"},\"y_scale\":{\"type\":\"object\",\"name\":\"LinearScale\",\"id\":\"2c3ce786-5da1-4f49-ba41-784aa2ea38d4\"},\"title\":{\"type\":\"object\",\"name\":\"Title\",\"id\":\"abc1c5a5-fc9f-4b6f-9eb4-c8b146eaf4e9\"},\"outline_line_color\":null,\"renderers\":[{\"type\":\"object\",\"name\":\"GlyphRenderer\",\"id\":\"48f68566-e2fe-4c9c-94c5-330cc00675c2\",\"attributes\":{\"data_source\":{\"type\":\"object\",\"name\":\"ColumnDataSource\",\"id\":\"6d6ecd3b-7b32-451b-bf6b-5d46ca91079c\",\"attributes\":{\"name\":\"bar_source\",\"selected\":{\"type\":\"object\",\"name\":\"Selection\",\"id\":\"f4b01d70-c7ce-43e9-85e5-ce3bb73eddbe\",\"attributes\":{\"indices\":[],\"line_indices\":[]}},\"selection_policy\":{\"type\":\"object\",\"name\":\"UnionRenderers\",\"id\":\"a400b069-0527-4e8e-bc0a-4925e5f087e8\"},\"data\":{\"type\":\"map\",\"entries\":[[\"y0\",[0,0.0,50.0]],[\"y1\",[0.0,50.0,100]],[\"color\",[\"lightgreen\",\"whitesmoke\",\"whitesmoke\"]]]}}},\"view\":{\"type\":\"object\",\"name\":\"CDSView\",\"id\":\"24ea0c30-e700-44ef-9ace-b4854d0ed61b\",\"attributes\":{\"filter\":{\"type\":\"object\",\"name\":\"AllIndices\",\"id\":\"78f92073-9352-4697-a87f-d30a01e7135e\"}}},\"glyph\":{\"type\":\"object\",\"name\":\"VBar\",\"id\":\"effae6ab-78a2-44b7-84c3-6b7adddd6be2\",\"attributes\":{\"x\":{\"type\":\"value\",\"value\":0.1},\"width\":{\"type\":\"value\",\"value\":0.9},\"bottom\":{\"type\":\"field\",\"field\":\"y0\"},\"top\":{\"type\":\"field\",\"field\":\"y1\"},\"line_color\":{\"type\":\"field\",\"field\":\"color\"},\"fill_color\":{\"type\":\"field\",\"field\":\"color\"},\"hatch_color\":{\"type\":\"field\",\"field\":\"color\"}}},\"nonselection_glyph\":{\"type\":\"object\",\"name\":\"VBar\",\"id\":\"a20c9bfc-a873-4c0f-84f6-85dece7a88fe\",\"attributes\":{\"x\":{\"type\":\"value\",\"value\":0.1},\"width\":{\"type\":\"value\",\"value\":0.9},\"bottom\":{\"type\":\"field\",\"field\":\"y0\"},\"top\":{\"type\":\"field\",\"field\":\"y1\"},\"line_color\":{\"type\":\"field\",\"field\":\"color\"},\"line_alpha\":{\"type\":\"value\",\"value\":0.1},\"fill_color\":{\"type\":\"field\",\"field\":\"color\"},\"fill_alpha\":{\"type\":\"value\",\"value\":0.1},\"hatch_color\":{\"type\":\"field\",\"field\":\"color\"},\"hatch_alpha\":{\"type\":\"value\",\"value\":0.1}}},\"muted_glyph\":{\"type\":\"object\",\"name\":\"VBar\",\"id\":\"c9f5f1bf-3fb1-46dd-a29f-1c089a4173a2\",\"attributes\":{\"x\":{\"type\":\"value\",\"value\":0.1},\"width\":{\"type\":\"value\",\"value\":0.9},\"bottom\":{\"type\":\"field\",\"field\":\"y0\"},\"top\":{\"type\":\"field\",\"field\":\"y1\"},\"line_color\":{\"type\":\"field\",\"field\":\"color\"},\"line_alpha\":{\"type\":\"value\",\"value\":0.2},\"fill_color\":{\"type\":\"field\",\"field\":\"color\"},\"fill_alpha\":{\"type\":\"value\",\"value\":0.2},\"hatch_color\":{\"type\":\"field\",\"field\":\"color\"},\"hatch_alpha\":{\"type\":\"value\",\"value\":0.2}}}}},{\"type\":\"object\",\"name\":\"GlyphRenderer\",\"id\":\"08eb2fe3-fe10-4f8f-a266-be2bfc74428e\",\"attributes\":{\"name\":\"needle_renderer\",\"level\":\"overlay\",\"data_source\":{\"type\":\"object\",\"name\":\"ColumnDataSource\",\"id\":\"12aa4f4a-4c5c-480a-813e-f88ea336d44a\",\"attributes\":{\"name\":\"needle_source\",\"selected\":{\"type\":\"object\",\"name\":\"Selection\",\"id\":\"62e93a47-1b96-40fa-b4fd-0894a0e82b2c\",\"attributes\":{\"indices\":[],\"line_indices\":[]}},\"selection_policy\":{\"type\":\"object\",\"name\":\"UnionRenderers\",\"id\":\"a9bb5792-6510-4ea0-8740-c18cbbb1bb7b\"},\"data\":{\"type\":\"map\",\"entries\":[[\"y\",[0.0]],[\"text\",[\"\"]]]}}},\"view\":{\"type\":\"object\",\"name\":\"CDSView\",\"id\":\"92fd9bef-ab72-484b-9c10-65251ebe4085\",\"attributes\":{\"filter\":{\"type\":\"object\",\"name\":\"AllIndices\",\"id\":\"b35e6f06-c201-48d8-98f1-27ecb7d7f28e\"}}},\"glyph\":{\"type\":\"object\",\"name\":\"Scatter\",\"id\":\"d47d9b50-ebad-40fc-9129-81a987fc823e\",\"attributes\":{\"x\":{\"type\":\"value\",\"value\":0.5},\"y\":{\"type\":\"field\",\"field\":\"y\"},\"size\":{\"type\":\"value\",\"value\":6},\"angle\":{\"type\":\"value\",\"value\":1.5707963267948966},\"line_color\":{\"type\":\"field\",\"field\":\"\"},\"fill_color\":{\"type\":\"field\",\"field\":\"\"},\"marker\":{\"type\":\"value\",\"value\":\"triangle\"}}},\"nonselection_glyph\":{\"type\":\"object\",\"name\":\"Scatter\",\"id\":\"819b3866-04c3-4703-b63a-1f546160e019\",\"attributes\":{\"x\":{\"type\":\"value\",\"value\":0.5},\"y\":{\"type\":\"field\",\"field\":\"y\"},\"size\":{\"type\":\"value\",\"value\":6},\"angle\":{\"type\":\"value\",\"value\":1.5707963267948966},\"line_color\":{\"type\":\"field\",\"field\":\"\"},\"line_alpha\":{\"type\":\"value\",\"value\":0.1},\"fill_color\":{\"type\":\"field\",\"field\":\"\"},\"fill_alpha\":{\"type\":\"value\",\"value\":0.1},\"hatch_alpha\":{\"type\":\"value\",\"value\":0.1},\"marker\":{\"type\":\"value\",\"value\":\"triangle\"}}},\"muted_glyph\":{\"type\":\"object\",\"name\":\"Scatter\",\"id\":\"a57c9a82-9198-43ed-87ae-f340c24705d1\",\"attributes\":{\"x\":{\"type\":\"value\",\"value\":0.5},\"y\":{\"type\":\"field\",\"field\":\"y\"},\"size\":{\"type\":\"value\",\"value\":6},\"angle\":{\"type\":\"value\",\"value\":1.5707963267948966},\"line_color\":{\"type\":\"field\",\"field\":\"\"},\"line_alpha\":{\"type\":\"value\",\"value\":0.2},\"fill_color\":{\"type\":\"field\",\"field\":\"\"},\"fill_alpha\":{\"type\":\"value\",\"value\":0.2},\"hatch_alpha\":{\"type\":\"value\",\"value\":0.2},\"marker\":{\"type\":\"value\",\"value\":\"triangle\"}}}}},{\"type\":\"object\",\"name\":\"GlyphRenderer\",\"id\":\"628a24f0-caa2-459b-8c2d-84630008fa0b\",\"attributes\":{\"data_source\":{\"id\":\"12aa4f4a-4c5c-480a-813e-f88ea336d44a\"},\"view\":{\"type\":\"object\",\"name\":\"CDSView\",\"id\":\"a79b6e23-04a5-4b79-9a48-238039122cd2\",\"attributes\":{\"filter\":{\"type\":\"object\",\"name\":\"AllIndices\",\"id\":\"b8c700d6-8491-456e-829d-390bc749d474\"}}},\"glyph\":{\"type\":\"object\",\"name\":\"Text\",\"id\":\"0eaf1c4b-5fe5-4719-86a2-1ba9a95c7f49\",\"attributes\":{\"x\":{\"type\":\"value\",\"value\":-0.4},\"y\":{\"type\":\"value\",\"value\":0},\"text\":{\"type\":\"field\",\"field\":\"text\"},\"angle\":{\"type\":\"value\",\"value\":1.5707963267948966},\"text_color\":{\"type\":\"value\",\"value\":\"black\"},\"text_font_size\":{\"type\":\"value\",\"value\":\"6.25px\"}}},\"nonselection_glyph\":{\"type\":\"object\",\"name\":\"Text\",\"id\":\"ae68e6e7-0b46-454a-b208-cf9a58d3cc15\",\"attributes\":{\"x\":{\"type\":\"value\",\"value\":-0.4},\"y\":{\"type\":\"value\",\"value\":0},\"text\":{\"type\":\"field\",\"field\":\"text\"},\"angle\":{\"type\":\"value\",\"value\":1.5707963267948966},\"text_color\":{\"type\":\"value\",\"value\":\"black\"},\"text_alpha\":{\"type\":\"value\",\"value\":0.1},\"text_font_size\":{\"type\":\"value\",\"value\":\"6.25px\"}}},\"muted_glyph\":{\"type\":\"object\",\"name\":\"Text\",\"id\":\"c0b8ffd6-91bb-4c2f-b844-be2882936509\",\"attributes\":{\"x\":{\"type\":\"value\",\"value\":-0.4},\"y\":{\"type\":\"value\",\"value\":0},\"text\":{\"type\":\"field\",\"field\":\"text\"},\"angle\":{\"type\":\"value\",\"value\":1.5707963267948966},\"text_color\":{\"type\":\"value\",\"value\":\"black\"},\"text_alpha\":{\"type\":\"value\",\"value\":0.2},\"text_font_size\":{\"type\":\"value\",\"value\":\"6.25px\"}}}}}],\"toolbar\":{\"type\":\"object\",\"name\":\"Toolbar\",\"id\":\"3308b366-fe8d-4864-bc99-59cdc531d116\"},\"toolbar_location\":null,\"right\":[{\"type\":\"object\",\"name\":\"LinearAxis\",\"id\":\"a35784d9-4022-4bd7-9db2-9b391a102b81\",\"attributes\":{\"ticker\":{\"type\":\"object\",\"name\":\"FixedTicker\",\"id\":\"c1fd9022-ea7a-4b37-aaba-299c5abd0c0e\",\"attributes\":{\"ticks\":[0,100],\"minor_ticks\":[]}},\"formatter\":{\"type\":\"object\",\"name\":\"BasicTickFormatter\",\"id\":\"34f913af-3894-4538-a235-2090974747e2\"},\"axis_label\":\"\",\"axis_label_standoff\":2,\"axis_label_text_font_size\":\"0pt\",\"major_label_standoff\":2,\"major_label_policy\":{\"type\":\"object\",\"name\":\"AllLabels\",\"id\":\"431fc978-36f1-4449-9d07-7065f5937f2b\"},\"major_label_text_font_size\":\"0pt\"}}],\"above\":[{\"type\":\"object\",\"name\":\"LinearAxis\",\"id\":\"37aca565-0abb-448b-8b4b-f2970e337641\",\"attributes\":{\"visible\":false,\"ticker\":{\"type\":\"object\",\"name\":\"BasicTicker\",\"id\":\"736d2a2c-2755-4125-b065-fc17f750e439\",\"attributes\":{\"mantissas\":[1,2,5]}},\"formatter\":{\"type\":\"object\",\"name\":\"BasicTickFormatter\",\"id\":\"43c0e031-dc46-424a-a428-dad654230cc4\"},\"axis_label\":\"\",\"axis_label_standoff\":2,\"axis_label_text_font_size\":\"0pt\",\"major_label_standoff\":2,\"major_label_policy\":{\"type\":\"object\",\"name\":\"AllLabels\",\"id\":\"31740f36-edc9-47c0-9a14-e1f5efcdabdf\"},\"major_label_text_font_size\":\"0pt\"}}],\"center\":[{\"type\":\"object\",\"name\":\"Grid\",\"id\":\"ed9be437-aff7-4bb4-99ea-226b483471f0\",\"attributes\":{\"visible\":false,\"axis\":{\"id\":\"37aca565-0abb-448b-8b4b-f2970e337641\"}}},{\"type\":\"object\",\"name\":\"Grid\",\"id\":\"41c816a1-6e63-49a8-83b7-14c5e2ab15eb\",\"attributes\":{\"visible\":false,\"dimension\":1,\"axis\":{\"id\":\"a35784d9-4022-4bd7-9db2-9b391a102b81\"}}}]}},{\"type\":\"object\",\"name\":\"Figure\",\"id\":\"091a0ea5-502b-4dc4-acfb-1c6e858665b4\",\"attributes\":{\"name\":\"\",\"stylesheets\":[\"\\n:host(.pn-loading.pn-arc):before, .pn-loading.pn-arc:before {\\n  background-image: url(\\\"data:image/svg+xml;base64,PHN2ZyB4bWxucz0iaHR0cDovL3d3dy53My5vcmcvMjAwMC9zdmciIHN0eWxlPSJtYXJnaW46IGF1dG87IGJhY2tncm91bmQ6IG5vbmU7IGRpc3BsYXk6IGJsb2NrOyBzaGFwZS1yZW5kZXJpbmc6IGF1dG87IiB2aWV3Qm94PSIwIDAgMTAwIDEwMCIgcHJlc2VydmVBc3BlY3RSYXRpbz0ieE1pZFlNaWQiPiAgPGNpcmNsZSBjeD0iNTAiIGN5PSI1MCIgZmlsbD0ibm9uZSIgc3Ryb2tlPSIjYzNjM2MzIiBzdHJva2Utd2lkdGg9IjEwIiByPSIzNSIgc3Ryb2tlLWRhc2hhcnJheT0iMTY0LjkzMzYxNDMxMzQ2NDE1IDU2Ljk3Nzg3MTQzNzgyMTM4Ij4gICAgPGFuaW1hdGVUcmFuc2Zvcm0gYXR0cmlidXRlTmFtZT0idHJhbnNmb3JtIiB0eXBlPSJyb3RhdGUiIHJlcGVhdENvdW50PSJpbmRlZmluaXRlIiBkdXI9IjFzIiB2YWx1ZXM9IjAgNTAgNTA7MzYwIDUwIDUwIiBrZXlUaW1lcz0iMDsxIj48L2FuaW1hdGVUcmFuc2Zvcm0+ICA8L2NpcmNsZT48L3N2Zz4=\\\");\\n  background-size: auto calc(min(50%, 400px));\\n}\",{\"type\":\"object\",\"name\":\"ImportedStyleSheet\",\"id\":\"a7e34e23-f348-42ba-8150-104e770b92d1\",\"attributes\":{\"url\":\"https://cdn.holoviz.org/panel/1.1.0/dist/css/loading.css\"}},{\"type\":\"object\",\"name\":\"ImportedStyleSheet\",\"id\":\"b5f6d846-7cb4-419a-8c22-662c5d0c55fc\",\"attributes\":{\"url\":\"https://cdn.holoviz.org/panel/1.1.0/dist/bundled/theme/default.css\"}},{\"type\":\"object\",\"name\":\"ImportedStyleSheet\",\"id\":\"77937fc6-5ffe-4837-a5df-3ca666298814\",\"attributes\":{\"url\":\"https://cdn.holoviz.org/panel/1.1.0/dist/bundled/theme/native.css\"}}],\"width\":50,\"height\":200,\"margin\":[5,10],\"sizing_mode\":\"fixed\",\"align\":\"start\",\"x_range\":{\"type\":\"object\",\"name\":\"DataRange1d\",\"id\":\"2618dbf4-2e71-4edd-9095-00873534cd2f\",\"attributes\":{\"start\":-0.8,\"end\":0.5}},\"y_range\":{\"type\":\"object\",\"name\":\"DataRange1d\",\"id\":\"6fdb4168-e203-44a0-b7cc-fd879ba80e1d\",\"attributes\":{\"start\":0,\"end\":100}},\"x_scale\":{\"type\":\"object\",\"name\":\"LinearScale\",\"id\":\"43b9f5df-5e03-401b-b722-83919e4aa754\"},\"y_scale\":{\"type\":\"object\",\"name\":\"LinearScale\",\"id\":\"51c89155-040e-40eb-8ef7-9af245a738d7\"},\"title\":{\"type\":\"object\",\"name\":\"Title\",\"id\":\"0baecd9b-5fbd-40a2-8efd-6f24e79260bd\"},\"outline_line_color\":null,\"renderers\":[{\"type\":\"object\",\"name\":\"GlyphRenderer\",\"id\":\"5a3f3f86-f7c3-4a45-bcff-c8519ebb1f43\",\"attributes\":{\"data_source\":{\"type\":\"object\",\"name\":\"ColumnDataSource\",\"id\":\"8388df7b-3b06-448f-ac96-0937c458d42b\",\"attributes\":{\"name\":\"bar_source\",\"selected\":{\"type\":\"object\",\"name\":\"Selection\",\"id\":\"1576f353-b17b-4418-b226-f7bb38453ab7\",\"attributes\":{\"indices\":[],\"line_indices\":[]}},\"selection_policy\":{\"type\":\"object\",\"name\":\"UnionRenderers\",\"id\":\"659bd0f9-a8f5-4fd0-aa9c-66203ce03647\"},\"data\":{\"type\":\"map\",\"entries\":[[\"y0\",[0,0.0,50.0]],[\"y1\",[0.0,50.0,100]],[\"color\",[\"lightgreen\",\"whitesmoke\",\"whitesmoke\"]]]}}},\"view\":{\"type\":\"object\",\"name\":\"CDSView\",\"id\":\"a24e4f97-71b4-4e33-8857-4bcd4c63c2cf\",\"attributes\":{\"filter\":{\"type\":\"object\",\"name\":\"AllIndices\",\"id\":\"93ead1b6-8a27-43a7-bd16-b86dece949d9\"}}},\"glyph\":{\"type\":\"object\",\"name\":\"VBar\",\"id\":\"06335ac2-7a61-4106-b527-0aa03449bd89\",\"attributes\":{\"x\":{\"type\":\"value\",\"value\":0.1},\"width\":{\"type\":\"value\",\"value\":0.9},\"bottom\":{\"type\":\"field\",\"field\":\"y0\"},\"top\":{\"type\":\"field\",\"field\":\"y1\"},\"line_color\":{\"type\":\"field\",\"field\":\"color\"},\"fill_color\":{\"type\":\"field\",\"field\":\"color\"},\"hatch_color\":{\"type\":\"field\",\"field\":\"color\"}}},\"nonselection_glyph\":{\"type\":\"object\",\"name\":\"VBar\",\"id\":\"02d98d6b-df08-48e0-b72b-86dfb0b97ed2\",\"attributes\":{\"x\":{\"type\":\"value\",\"value\":0.1},\"width\":{\"type\":\"value\",\"value\":0.9},\"bottom\":{\"type\":\"field\",\"field\":\"y0\"},\"top\":{\"type\":\"field\",\"field\":\"y1\"},\"line_color\":{\"type\":\"field\",\"field\":\"color\"},\"line_alpha\":{\"type\":\"value\",\"value\":0.1},\"fill_color\":{\"type\":\"field\",\"field\":\"color\"},\"fill_alpha\":{\"type\":\"value\",\"value\":0.1},\"hatch_color\":{\"type\":\"field\",\"field\":\"color\"},\"hatch_alpha\":{\"type\":\"value\",\"value\":0.1}}},\"muted_glyph\":{\"type\":\"object\",\"name\":\"VBar\",\"id\":\"09d7dbf8-1c87-431a-85e8-748fb0d71936\",\"attributes\":{\"x\":{\"type\":\"value\",\"value\":0.1},\"width\":{\"type\":\"value\",\"value\":0.9},\"bottom\":{\"type\":\"field\",\"field\":\"y0\"},\"top\":{\"type\":\"field\",\"field\":\"y1\"},\"line_color\":{\"type\":\"field\",\"field\":\"color\"},\"line_alpha\":{\"type\":\"value\",\"value\":0.2},\"fill_color\":{\"type\":\"field\",\"field\":\"color\"},\"fill_alpha\":{\"type\":\"value\",\"value\":0.2},\"hatch_color\":{\"type\":\"field\",\"field\":\"color\"},\"hatch_alpha\":{\"type\":\"value\",\"value\":0.2}}}}},{\"type\":\"object\",\"name\":\"GlyphRenderer\",\"id\":\"9d3e3bcb-b6cc-4c80-b863-c92d68fc9af6\",\"attributes\":{\"name\":\"needle_renderer\",\"level\":\"overlay\",\"data_source\":{\"type\":\"object\",\"name\":\"ColumnDataSource\",\"id\":\"980ab436-b25e-4e12-b78d-e46ef2b37692\",\"attributes\":{\"name\":\"needle_source\",\"selected\":{\"type\":\"object\",\"name\":\"Selection\",\"id\":\"0e3bfe35-67e1-430d-997e-c545327e7c0f\",\"attributes\":{\"indices\":[],\"line_indices\":[]}},\"selection_policy\":{\"type\":\"object\",\"name\":\"UnionRenderers\",\"id\":\"87e0d4c4-1f72-4ef7-8173-5b274cf7394d\"},\"data\":{\"type\":\"map\",\"entries\":[[\"y\",[0.0]],[\"text\",[\"\"]]]}}},\"view\":{\"type\":\"object\",\"name\":\"CDSView\",\"id\":\"3dda8f3a-068b-4c70-81df-05ed42bc11d0\",\"attributes\":{\"filter\":{\"type\":\"object\",\"name\":\"AllIndices\",\"id\":\"410614eb-d794-4963-87b7-b01b3daf6f3c\"}}},\"glyph\":{\"type\":\"object\",\"name\":\"Scatter\",\"id\":\"11e965af-44c2-4665-809f-d873985aa8bb\",\"attributes\":{\"x\":{\"type\":\"value\",\"value\":0.5},\"y\":{\"type\":\"field\",\"field\":\"y\"},\"size\":{\"type\":\"value\",\"value\":6},\"angle\":{\"type\":\"value\",\"value\":1.5707963267948966},\"line_color\":{\"type\":\"field\",\"field\":\"\"},\"fill_color\":{\"type\":\"field\",\"field\":\"\"},\"marker\":{\"type\":\"value\",\"value\":\"triangle\"}}},\"nonselection_glyph\":{\"type\":\"object\",\"name\":\"Scatter\",\"id\":\"274bc8a8-81d7-4106-956e-8bfe207eb5c0\",\"attributes\":{\"x\":{\"type\":\"value\",\"value\":0.5},\"y\":{\"type\":\"field\",\"field\":\"y\"},\"size\":{\"type\":\"value\",\"value\":6},\"angle\":{\"type\":\"value\",\"value\":1.5707963267948966},\"line_color\":{\"type\":\"field\",\"field\":\"\"},\"line_alpha\":{\"type\":\"value\",\"value\":0.1},\"fill_color\":{\"type\":\"field\",\"field\":\"\"},\"fill_alpha\":{\"type\":\"value\",\"value\":0.1},\"hatch_alpha\":{\"type\":\"value\",\"value\":0.1},\"marker\":{\"type\":\"value\",\"value\":\"triangle\"}}},\"muted_glyph\":{\"type\":\"object\",\"name\":\"Scatter\",\"id\":\"66660b94-3df0-438e-97f7-55463209d06e\",\"attributes\":{\"x\":{\"type\":\"value\",\"value\":0.5},\"y\":{\"type\":\"field\",\"field\":\"y\"},\"size\":{\"type\":\"value\",\"value\":6},\"angle\":{\"type\":\"value\",\"value\":1.5707963267948966},\"line_color\":{\"type\":\"field\",\"field\":\"\"},\"line_alpha\":{\"type\":\"value\",\"value\":0.2},\"fill_color\":{\"type\":\"field\",\"field\":\"\"},\"fill_alpha\":{\"type\":\"value\",\"value\":0.2},\"hatch_alpha\":{\"type\":\"value\",\"value\":0.2},\"marker\":{\"type\":\"value\",\"value\":\"triangle\"}}}}},{\"type\":\"object\",\"name\":\"GlyphRenderer\",\"id\":\"000557a8-73c9-4e5e-b50b-b18fc948d964\",\"attributes\":{\"data_source\":{\"id\":\"980ab436-b25e-4e12-b78d-e46ef2b37692\"},\"view\":{\"type\":\"object\",\"name\":\"CDSView\",\"id\":\"65fac7d4-d9b8-441e-bdc6-2dec03e0930c\",\"attributes\":{\"filter\":{\"type\":\"object\",\"name\":\"AllIndices\",\"id\":\"e836d49f-a0c4-41fe-9562-d70acb7dafdc\"}}},\"glyph\":{\"type\":\"object\",\"name\":\"Text\",\"id\":\"f9753cbe-84cd-4511-a0a3-e482064149dd\",\"attributes\":{\"x\":{\"type\":\"value\",\"value\":-0.4},\"y\":{\"type\":\"value\",\"value\":0},\"text\":{\"type\":\"field\",\"field\":\"text\"},\"angle\":{\"type\":\"value\",\"value\":1.5707963267948966},\"text_color\":{\"type\":\"value\",\"value\":\"black\"},\"text_font_size\":{\"type\":\"value\",\"value\":\"6.25px\"}}},\"nonselection_glyph\":{\"type\":\"object\",\"name\":\"Text\",\"id\":\"c4b31eca-7da6-43c4-bbcf-bf726570f778\",\"attributes\":{\"x\":{\"type\":\"value\",\"value\":-0.4},\"y\":{\"type\":\"value\",\"value\":0},\"text\":{\"type\":\"field\",\"field\":\"text\"},\"angle\":{\"type\":\"value\",\"value\":1.5707963267948966},\"text_color\":{\"type\":\"value\",\"value\":\"black\"},\"text_alpha\":{\"type\":\"value\",\"value\":0.1},\"text_font_size\":{\"type\":\"value\",\"value\":\"6.25px\"}}},\"muted_glyph\":{\"type\":\"object\",\"name\":\"Text\",\"id\":\"5ffc17b9-ff48-4f07-95fd-912c4bdf93e6\",\"attributes\":{\"x\":{\"type\":\"value\",\"value\":-0.4},\"y\":{\"type\":\"value\",\"value\":0},\"text\":{\"type\":\"field\",\"field\":\"text\"},\"angle\":{\"type\":\"value\",\"value\":1.5707963267948966},\"text_color\":{\"type\":\"value\",\"value\":\"black\"},\"text_alpha\":{\"type\":\"value\",\"value\":0.2},\"text_font_size\":{\"type\":\"value\",\"value\":\"6.25px\"}}}}}],\"toolbar\":{\"type\":\"object\",\"name\":\"Toolbar\",\"id\":\"a3419a4a-eed5-4281-aaeb-d1d443a1b40e\"},\"toolbar_location\":null,\"right\":[{\"type\":\"object\",\"name\":\"LinearAxis\",\"id\":\"5b95de9d-4e11-45e9-9561-0950a0cae12e\",\"attributes\":{\"ticker\":{\"type\":\"object\",\"name\":\"FixedTicker\",\"id\":\"cb071ae8-1af1-4abd-b317-40d0bd6a12af\",\"attributes\":{\"ticks\":[0,100],\"minor_ticks\":[]}},\"formatter\":{\"type\":\"object\",\"name\":\"BasicTickFormatter\",\"id\":\"1fb1284c-db7e-4639-8481-c8ebbf0ba5e1\"},\"axis_label\":\"\",\"axis_label_standoff\":2,\"axis_label_text_font_size\":\"0pt\",\"major_label_standoff\":2,\"major_label_policy\":{\"type\":\"object\",\"name\":\"AllLabels\",\"id\":\"a3336266-a56a-4567-a19f-4d9ce2f3f71f\"},\"major_label_text_font_size\":\"0pt\"}}],\"above\":[{\"type\":\"object\",\"name\":\"LinearAxis\",\"id\":\"10954dce-cd10-491f-960c-38a8b0985468\",\"attributes\":{\"visible\":false,\"ticker\":{\"type\":\"object\",\"name\":\"BasicTicker\",\"id\":\"15e75258-960c-4c89-99ed-06e08efd3490\",\"attributes\":{\"mantissas\":[1,2,5]}},\"formatter\":{\"type\":\"object\",\"name\":\"BasicTickFormatter\",\"id\":\"ffff93c1-af63-4686-a1d0-efb24bba201a\"},\"axis_label\":\"\",\"axis_label_standoff\":2,\"axis_label_text_font_size\":\"0pt\",\"major_label_standoff\":2,\"major_label_policy\":{\"type\":\"object\",\"name\":\"AllLabels\",\"id\":\"1c8a2a1f-32eb-4311-b7ea-0c04a7f2291e\"},\"major_label_text_font_size\":\"0pt\"}}],\"center\":[{\"type\":\"object\",\"name\":\"Grid\",\"id\":\"54450593-3818-45d9-8c91-2f372f99800e\",\"attributes\":{\"visible\":false,\"axis\":{\"id\":\"10954dce-cd10-491f-960c-38a8b0985468\"}}},{\"type\":\"object\",\"name\":\"Grid\",\"id\":\"4577e1a8-4618-497c-bcdb-3746e22cffed\",\"attributes\":{\"visible\":false,\"dimension\":1,\"axis\":{\"id\":\"5b95de9d-4e11-45e9-9561-0950a0cae12e\"}}}]}},{\"type\":\"object\",\"name\":\"Figure\",\"id\":\"783ed7a5-492f-4b07-81ee-ba1cd07bf52b\",\"attributes\":{\"name\":\"\",\"stylesheets\":[\"\\n:host(.pn-loading.pn-arc):before, .pn-loading.pn-arc:before {\\n  background-image: url(\\\"data:image/svg+xml;base64,PHN2ZyB4bWxucz0iaHR0cDovL3d3dy53My5vcmcvMjAwMC9zdmciIHN0eWxlPSJtYXJnaW46IGF1dG87IGJhY2tncm91bmQ6IG5vbmU7IGRpc3BsYXk6IGJsb2NrOyBzaGFwZS1yZW5kZXJpbmc6IGF1dG87IiB2aWV3Qm94PSIwIDAgMTAwIDEwMCIgcHJlc2VydmVBc3BlY3RSYXRpbz0ieE1pZFlNaWQiPiAgPGNpcmNsZSBjeD0iNTAiIGN5PSI1MCIgZmlsbD0ibm9uZSIgc3Ryb2tlPSIjYzNjM2MzIiBzdHJva2Utd2lkdGg9IjEwIiByPSIzNSIgc3Ryb2tlLWRhc2hhcnJheT0iMTY0LjkzMzYxNDMxMzQ2NDE1IDU2Ljk3Nzg3MTQzNzgyMTM4Ij4gICAgPGFuaW1hdGVUcmFuc2Zvcm0gYXR0cmlidXRlTmFtZT0idHJhbnNmb3JtIiB0eXBlPSJyb3RhdGUiIHJlcGVhdENvdW50PSJpbmRlZmluaXRlIiBkdXI9IjFzIiB2YWx1ZXM9IjAgNTAgNTA7MzYwIDUwIDUwIiBrZXlUaW1lcz0iMDsxIj48L2FuaW1hdGVUcmFuc2Zvcm0+ICA8L2NpcmNsZT48L3N2Zz4=\\\");\\n  background-size: auto calc(min(50%, 400px));\\n}\",{\"type\":\"object\",\"name\":\"ImportedStyleSheet\",\"id\":\"330707f4-4cf2-47db-96d8-c5d198ad8625\",\"attributes\":{\"url\":\"https://cdn.holoviz.org/panel/1.1.0/dist/css/loading.css\"}},{\"type\":\"object\",\"name\":\"ImportedStyleSheet\",\"id\":\"744cfbf5-987b-46d9-ba26-af550e9bd213\",\"attributes\":{\"url\":\"https://cdn.holoviz.org/panel/1.1.0/dist/bundled/theme/default.css\"}},{\"type\":\"object\",\"name\":\"ImportedStyleSheet\",\"id\":\"817daa4b-bdf9-4ca9-a0cd-570a4c2c99d6\",\"attributes\":{\"url\":\"https://cdn.holoviz.org/panel/1.1.0/dist/bundled/theme/native.css\"}}],\"width\":50,\"height\":200,\"margin\":[5,10],\"sizing_mode\":\"fixed\",\"align\":\"start\",\"x_range\":{\"type\":\"object\",\"name\":\"DataRange1d\",\"id\":\"51bbd2ef-979f-42f9-803c-7828f5057607\",\"attributes\":{\"start\":-0.8,\"end\":0.5}},\"y_range\":{\"type\":\"object\",\"name\":\"DataRange1d\",\"id\":\"e7cd8be2-6737-45b3-bcd7-8b6748fe6cd6\",\"attributes\":{\"start\":0,\"end\":100}},\"x_scale\":{\"type\":\"object\",\"name\":\"LinearScale\",\"id\":\"65fb2da2-b7e1-4770-adbd-f2f5a798f8c8\"},\"y_scale\":{\"type\":\"object\",\"name\":\"LinearScale\",\"id\":\"9c6796ce-638d-4003-b02d-fc79a80eb0ed\"},\"title\":{\"type\":\"object\",\"name\":\"Title\",\"id\":\"8fb9601d-ead5-4870-9ef4-f842b01befe0\"},\"outline_line_color\":null,\"renderers\":[{\"type\":\"object\",\"name\":\"GlyphRenderer\",\"id\":\"8e6b4b9f-e8e4-47cb-a43f-20fe9c7aa871\",\"attributes\":{\"data_source\":{\"type\":\"object\",\"name\":\"ColumnDataSource\",\"id\":\"9466c1ca-2eda-42a2-b19f-fe5fe4f5d639\",\"attributes\":{\"name\":\"bar_source\",\"selected\":{\"type\":\"object\",\"name\":\"Selection\",\"id\":\"b1031e5a-b75d-46a1-8c48-50ce5e16a9d1\",\"attributes\":{\"indices\":[],\"line_indices\":[]}},\"selection_policy\":{\"type\":\"object\",\"name\":\"UnionRenderers\",\"id\":\"11dfe4b1-136d-4ec9-bb7e-c0f971354c92\"},\"data\":{\"type\":\"map\",\"entries\":[[\"y0\",[0,0.0,50.0]],[\"y1\",[0.0,50.0,100]],[\"color\",[\"lightgreen\",\"whitesmoke\",\"whitesmoke\"]]]}}},\"view\":{\"type\":\"object\",\"name\":\"CDSView\",\"id\":\"f68574be-f58e-4f3e-987f-cc79e8273c4e\",\"attributes\":{\"filter\":{\"type\":\"object\",\"name\":\"AllIndices\",\"id\":\"d824fd8f-a9d8-4186-90fc-50db09a5e83e\"}}},\"glyph\":{\"type\":\"object\",\"name\":\"VBar\",\"id\":\"97d42b4e-10d8-4aca-a95e-0119fb031276\",\"attributes\":{\"x\":{\"type\":\"value\",\"value\":0.1},\"width\":{\"type\":\"value\",\"value\":0.9},\"bottom\":{\"type\":\"field\",\"field\":\"y0\"},\"top\":{\"type\":\"field\",\"field\":\"y1\"},\"line_color\":{\"type\":\"field\",\"field\":\"color\"},\"fill_color\":{\"type\":\"field\",\"field\":\"color\"},\"hatch_color\":{\"type\":\"field\",\"field\":\"color\"}}},\"nonselection_glyph\":{\"type\":\"object\",\"name\":\"VBar\",\"id\":\"5e991a76-6a18-4335-bd26-cc46f1e62d9e\",\"attributes\":{\"x\":{\"type\":\"value\",\"value\":0.1},\"width\":{\"type\":\"value\",\"value\":0.9},\"bottom\":{\"type\":\"field\",\"field\":\"y0\"},\"top\":{\"type\":\"field\",\"field\":\"y1\"},\"line_color\":{\"type\":\"field\",\"field\":\"color\"},\"line_alpha\":{\"type\":\"value\",\"value\":0.1},\"fill_color\":{\"type\":\"field\",\"field\":\"color\"},\"fill_alpha\":{\"type\":\"value\",\"value\":0.1},\"hatch_color\":{\"type\":\"field\",\"field\":\"color\"},\"hatch_alpha\":{\"type\":\"value\",\"value\":0.1}}},\"muted_glyph\":{\"type\":\"object\",\"name\":\"VBar\",\"id\":\"781010e8-bd02-44b5-aaab-020527cc7055\",\"attributes\":{\"x\":{\"type\":\"value\",\"value\":0.1},\"width\":{\"type\":\"value\",\"value\":0.9},\"bottom\":{\"type\":\"field\",\"field\":\"y0\"},\"top\":{\"type\":\"field\",\"field\":\"y1\"},\"line_color\":{\"type\":\"field\",\"field\":\"color\"},\"line_alpha\":{\"type\":\"value\",\"value\":0.2},\"fill_color\":{\"type\":\"field\",\"field\":\"color\"},\"fill_alpha\":{\"type\":\"value\",\"value\":0.2},\"hatch_color\":{\"type\":\"field\",\"field\":\"color\"},\"hatch_alpha\":{\"type\":\"value\",\"value\":0.2}}}}},{\"type\":\"object\",\"name\":\"GlyphRenderer\",\"id\":\"57a1160f-cd0e-4280-8374-daa262bf63ad\",\"attributes\":{\"name\":\"needle_renderer\",\"level\":\"overlay\",\"data_source\":{\"type\":\"object\",\"name\":\"ColumnDataSource\",\"id\":\"8a689430-39d6-47ba-947d-29ed03aa3099\",\"attributes\":{\"name\":\"needle_source\",\"selected\":{\"type\":\"object\",\"name\":\"Selection\",\"id\":\"257c3b42-e6a4-4a65-8c6e-8b3a224b1890\",\"attributes\":{\"indices\":[],\"line_indices\":[]}},\"selection_policy\":{\"type\":\"object\",\"name\":\"UnionRenderers\",\"id\":\"0bfd7fc4-1af9-4a84-b7f8-5dcd7387749e\"},\"data\":{\"type\":\"map\",\"entries\":[[\"y\",[0.0]],[\"text\",[\"\"]]]}}},\"view\":{\"type\":\"object\",\"name\":\"CDSView\",\"id\":\"0f752844-0585-4821-94ba-dd9ea0ba9af3\",\"attributes\":{\"filter\":{\"type\":\"object\",\"name\":\"AllIndices\",\"id\":\"419f9ee7-4a4f-4a3d-95fe-3cc366c7b082\"}}},\"glyph\":{\"type\":\"object\",\"name\":\"Scatter\",\"id\":\"ffcd7d44-18db-40d3-a5bf-12e156d3e29d\",\"attributes\":{\"x\":{\"type\":\"value\",\"value\":0.5},\"y\":{\"type\":\"field\",\"field\":\"y\"},\"size\":{\"type\":\"value\",\"value\":6},\"angle\":{\"type\":\"value\",\"value\":1.5707963267948966},\"line_color\":{\"type\":\"field\",\"field\":\"\"},\"fill_color\":{\"type\":\"field\",\"field\":\"\"},\"marker\":{\"type\":\"value\",\"value\":\"triangle\"}}},\"nonselection_glyph\":{\"type\":\"object\",\"name\":\"Scatter\",\"id\":\"c97a3b2e-3490-4f73-b335-547c5c5a119c\",\"attributes\":{\"x\":{\"type\":\"value\",\"value\":0.5},\"y\":{\"type\":\"field\",\"field\":\"y\"},\"size\":{\"type\":\"value\",\"value\":6},\"angle\":{\"type\":\"value\",\"value\":1.5707963267948966},\"line_color\":{\"type\":\"field\",\"field\":\"\"},\"line_alpha\":{\"type\":\"value\",\"value\":0.1},\"fill_color\":{\"type\":\"field\",\"field\":\"\"},\"fill_alpha\":{\"type\":\"value\",\"value\":0.1},\"hatch_alpha\":{\"type\":\"value\",\"value\":0.1},\"marker\":{\"type\":\"value\",\"value\":\"triangle\"}}},\"muted_glyph\":{\"type\":\"object\",\"name\":\"Scatter\",\"id\":\"aee19330-8632-425a-ae7e-1309feabd9dc\",\"attributes\":{\"x\":{\"type\":\"value\",\"value\":0.5},\"y\":{\"type\":\"field\",\"field\":\"y\"},\"size\":{\"type\":\"value\",\"value\":6},\"angle\":{\"type\":\"value\",\"value\":1.5707963267948966},\"line_color\":{\"type\":\"field\",\"field\":\"\"},\"line_alpha\":{\"type\":\"value\",\"value\":0.2},\"fill_color\":{\"type\":\"field\",\"field\":\"\"},\"fill_alpha\":{\"type\":\"value\",\"value\":0.2},\"hatch_alpha\":{\"type\":\"value\",\"value\":0.2},\"marker\":{\"type\":\"value\",\"value\":\"triangle\"}}}}},{\"type\":\"object\",\"name\":\"GlyphRenderer\",\"id\":\"b2d1a0e4-d2a2-4834-9611-041891dc6511\",\"attributes\":{\"data_source\":{\"id\":\"8a689430-39d6-47ba-947d-29ed03aa3099\"},\"view\":{\"type\":\"object\",\"name\":\"CDSView\",\"id\":\"dc83a91a-1a53-4229-a803-f06aba1ccee3\",\"attributes\":{\"filter\":{\"type\":\"object\",\"name\":\"AllIndices\",\"id\":\"670528b4-0dd9-48e3-bf42-f498bacd29cc\"}}},\"glyph\":{\"type\":\"object\",\"name\":\"Text\",\"id\":\"87ac052d-1b71-47c9-8e19-f334676e65ab\",\"attributes\":{\"x\":{\"type\":\"value\",\"value\":-0.4},\"y\":{\"type\":\"value\",\"value\":0},\"text\":{\"type\":\"field\",\"field\":\"text\"},\"angle\":{\"type\":\"value\",\"value\":1.5707963267948966},\"text_color\":{\"type\":\"value\",\"value\":\"black\"},\"text_font_size\":{\"type\":\"value\",\"value\":\"6.25px\"}}},\"nonselection_glyph\":{\"type\":\"object\",\"name\":\"Text\",\"id\":\"79440f57-8ac4-48a8-87dc-f7a0c3882b61\",\"attributes\":{\"x\":{\"type\":\"value\",\"value\":-0.4},\"y\":{\"type\":\"value\",\"value\":0},\"text\":{\"type\":\"field\",\"field\":\"text\"},\"angle\":{\"type\":\"value\",\"value\":1.5707963267948966},\"text_color\":{\"type\":\"value\",\"value\":\"black\"},\"text_alpha\":{\"type\":\"value\",\"value\":0.1},\"text_font_size\":{\"type\":\"value\",\"value\":\"6.25px\"}}},\"muted_glyph\":{\"type\":\"object\",\"name\":\"Text\",\"id\":\"d6637eb7-4792-40c5-809f-ea76d9b71a08\",\"attributes\":{\"x\":{\"type\":\"value\",\"value\":-0.4},\"y\":{\"type\":\"value\",\"value\":0},\"text\":{\"type\":\"field\",\"field\":\"text\"},\"angle\":{\"type\":\"value\",\"value\":1.5707963267948966},\"text_color\":{\"type\":\"value\",\"value\":\"black\"},\"text_alpha\":{\"type\":\"value\",\"value\":0.2},\"text_font_size\":{\"type\":\"value\",\"value\":\"6.25px\"}}}}}],\"toolbar\":{\"type\":\"object\",\"name\":\"Toolbar\",\"id\":\"f917ff08-c02f-4d7f-975a-dde2ad64c3f9\"},\"toolbar_location\":null,\"right\":[{\"type\":\"object\",\"name\":\"LinearAxis\",\"id\":\"2da704af-d015-42d2-bfb1-52599687388d\",\"attributes\":{\"ticker\":{\"type\":\"object\",\"name\":\"FixedTicker\",\"id\":\"4879e2f4-585d-4540-99c1-2f0d029b7064\",\"attributes\":{\"ticks\":[0,100],\"minor_ticks\":[]}},\"formatter\":{\"type\":\"object\",\"name\":\"BasicTickFormatter\",\"id\":\"c5b7132c-bc96-4d2f-8c35-02f0dc6535dd\"},\"axis_label\":\"\",\"axis_label_standoff\":2,\"axis_label_text_font_size\":\"0pt\",\"major_label_standoff\":2,\"major_label_policy\":{\"type\":\"object\",\"name\":\"AllLabels\",\"id\":\"e0e31e8e-f113-4a03-a8e8-3bb13771d69e\"},\"major_label_text_font_size\":\"0pt\"}}],\"above\":[{\"type\":\"object\",\"name\":\"LinearAxis\",\"id\":\"df7cfb82-567d-4cab-890e-6573e5d81820\",\"attributes\":{\"visible\":false,\"ticker\":{\"type\":\"object\",\"name\":\"BasicTicker\",\"id\":\"aa5c1263-cc2f-4008-bf7a-863f65dc3764\",\"attributes\":{\"mantissas\":[1,2,5]}},\"formatter\":{\"type\":\"object\",\"name\":\"BasicTickFormatter\",\"id\":\"69e1fdc8-4644-46cb-a26c-95ac700e8663\"},\"axis_label\":\"\",\"axis_label_standoff\":2,\"axis_label_text_font_size\":\"0pt\",\"major_label_standoff\":2,\"major_label_policy\":{\"type\":\"object\",\"name\":\"AllLabels\",\"id\":\"908a5518-f60e-4fb3-a206-e5c992a181ce\"},\"major_label_text_font_size\":\"0pt\"}}],\"center\":[{\"type\":\"object\",\"name\":\"Grid\",\"id\":\"9fd3eef6-f76a-4002-b420-dd62e1a2d720\",\"attributes\":{\"visible\":false,\"axis\":{\"id\":\"df7cfb82-567d-4cab-890e-6573e5d81820\"}}},{\"type\":\"object\",\"name\":\"Grid\",\"id\":\"3b06069b-08fa-45a1-b7cb-8382a8b3dbd0\",\"attributes\":{\"visible\":false,\"dimension\":1,\"axis\":{\"id\":\"2da704af-d015-42d2-bfb1-52599687388d\"}}}]}},{\"type\":\"object\",\"name\":\"Figure\",\"id\":\"d2cca7dd-5e77-4ccc-915e-4f81f99adfa1\",\"attributes\":{\"name\":\"\",\"stylesheets\":[\"\\n:host(.pn-loading.pn-arc):before, .pn-loading.pn-arc:before {\\n  background-image: url(\\\"data:image/svg+xml;base64,PHN2ZyB4bWxucz0iaHR0cDovL3d3dy53My5vcmcvMjAwMC9zdmciIHN0eWxlPSJtYXJnaW46IGF1dG87IGJhY2tncm91bmQ6IG5vbmU7IGRpc3BsYXk6IGJsb2NrOyBzaGFwZS1yZW5kZXJpbmc6IGF1dG87IiB2aWV3Qm94PSIwIDAgMTAwIDEwMCIgcHJlc2VydmVBc3BlY3RSYXRpbz0ieE1pZFlNaWQiPiAgPGNpcmNsZSBjeD0iNTAiIGN5PSI1MCIgZmlsbD0ibm9uZSIgc3Ryb2tlPSIjYzNjM2MzIiBzdHJva2Utd2lkdGg9IjEwIiByPSIzNSIgc3Ryb2tlLWRhc2hhcnJheT0iMTY0LjkzMzYxNDMxMzQ2NDE1IDU2Ljk3Nzg3MTQzNzgyMTM4Ij4gICAgPGFuaW1hdGVUcmFuc2Zvcm0gYXR0cmlidXRlTmFtZT0idHJhbnNmb3JtIiB0eXBlPSJyb3RhdGUiIHJlcGVhdENvdW50PSJpbmRlZmluaXRlIiBkdXI9IjFzIiB2YWx1ZXM9IjAgNTAgNTA7MzYwIDUwIDUwIiBrZXlUaW1lcz0iMDsxIj48L2FuaW1hdGVUcmFuc2Zvcm0+ICA8L2NpcmNsZT48L3N2Zz4=\\\");\\n  background-size: auto calc(min(50%, 400px));\\n}\",{\"type\":\"object\",\"name\":\"ImportedStyleSheet\",\"id\":\"c120a8dc-dbef-4bb0-b13a-c80c2a8240a0\",\"attributes\":{\"url\":\"https://cdn.holoviz.org/panel/1.1.0/dist/css/loading.css\"}},{\"type\":\"object\",\"name\":\"ImportedStyleSheet\",\"id\":\"645cc254-0436-465f-a16e-83081528eb6e\",\"attributes\":{\"url\":\"https://cdn.holoviz.org/panel/1.1.0/dist/bundled/theme/default.css\"}},{\"type\":\"object\",\"name\":\"ImportedStyleSheet\",\"id\":\"a19cde93-1b11-4693-9e8b-b47b607e5954\",\"attributes\":{\"url\":\"https://cdn.holoviz.org/panel/1.1.0/dist/bundled/theme/native.css\"}}],\"width\":50,\"height\":200,\"margin\":[5,10],\"sizing_mode\":\"fixed\",\"align\":\"start\",\"x_range\":{\"type\":\"object\",\"name\":\"DataRange1d\",\"id\":\"79a6d57b-2027-4552-8344-1a45a37a2651\",\"attributes\":{\"start\":-0.8,\"end\":0.5}},\"y_range\":{\"type\":\"object\",\"name\":\"DataRange1d\",\"id\":\"db4e09e5-fb1e-4f1f-b38e-261c21b45ede\",\"attributes\":{\"start\":0,\"end\":100}},\"x_scale\":{\"type\":\"object\",\"name\":\"LinearScale\",\"id\":\"fa61dc23-4bd3-4475-b63b-9c8c544bce0a\"},\"y_scale\":{\"type\":\"object\",\"name\":\"LinearScale\",\"id\":\"ba3678c9-4a12-41ee-8f5b-2358f1e7d8f5\"},\"title\":{\"type\":\"object\",\"name\":\"Title\",\"id\":\"ba630c52-d856-4522-bed6-ed57da63387f\"},\"outline_line_color\":null,\"renderers\":[{\"type\":\"object\",\"name\":\"GlyphRenderer\",\"id\":\"7d242ec0-3a93-4ba0-a306-e568bad12546\",\"attributes\":{\"data_source\":{\"type\":\"object\",\"name\":\"ColumnDataSource\",\"id\":\"296eda58-719b-4fbd-ab38-a3f62705ef42\",\"attributes\":{\"name\":\"bar_source\",\"selected\":{\"type\":\"object\",\"name\":\"Selection\",\"id\":\"e9b47971-231a-4ba1-bc2a-9f9cf3ca4f66\",\"attributes\":{\"indices\":[],\"line_indices\":[]}},\"selection_policy\":{\"type\":\"object\",\"name\":\"UnionRenderers\",\"id\":\"5fdc62e5-4391-4127-b7ed-a980612185d3\"},\"data\":{\"type\":\"map\",\"entries\":[[\"y0\",[0,0.0,50.0]],[\"y1\",[0.0,50.0,100]],[\"color\",[\"lightgreen\",\"whitesmoke\",\"whitesmoke\"]]]}}},\"view\":{\"type\":\"object\",\"name\":\"CDSView\",\"id\":\"049db1b7-aa53-46f2-bd93-4fbb823dff68\",\"attributes\":{\"filter\":{\"type\":\"object\",\"name\":\"AllIndices\",\"id\":\"47361980-07bf-4a93-a5d9-cd3f81138b51\"}}},\"glyph\":{\"type\":\"object\",\"name\":\"VBar\",\"id\":\"7f39aa20-d20b-4e2d-91a0-77e5990c49d4\",\"attributes\":{\"x\":{\"type\":\"value\",\"value\":0.1},\"width\":{\"type\":\"value\",\"value\":0.9},\"bottom\":{\"type\":\"field\",\"field\":\"y0\"},\"top\":{\"type\":\"field\",\"field\":\"y1\"},\"line_color\":{\"type\":\"field\",\"field\":\"color\"},\"fill_color\":{\"type\":\"field\",\"field\":\"color\"},\"hatch_color\":{\"type\":\"field\",\"field\":\"color\"}}},\"nonselection_glyph\":{\"type\":\"object\",\"name\":\"VBar\",\"id\":\"6c38c4cb-b839-4fe6-badc-b8e46db61d02\",\"attributes\":{\"x\":{\"type\":\"value\",\"value\":0.1},\"width\":{\"type\":\"value\",\"value\":0.9},\"bottom\":{\"type\":\"field\",\"field\":\"y0\"},\"top\":{\"type\":\"field\",\"field\":\"y1\"},\"line_color\":{\"type\":\"field\",\"field\":\"color\"},\"line_alpha\":{\"type\":\"value\",\"value\":0.1},\"fill_color\":{\"type\":\"field\",\"field\":\"color\"},\"fill_alpha\":{\"type\":\"value\",\"value\":0.1},\"hatch_color\":{\"type\":\"field\",\"field\":\"color\"},\"hatch_alpha\":{\"type\":\"value\",\"value\":0.1}}},\"muted_glyph\":{\"type\":\"object\",\"name\":\"VBar\",\"id\":\"2dace05c-b1bd-4ef7-8c32-edadfe607521\",\"attributes\":{\"x\":{\"type\":\"value\",\"value\":0.1},\"width\":{\"type\":\"value\",\"value\":0.9},\"bottom\":{\"type\":\"field\",\"field\":\"y0\"},\"top\":{\"type\":\"field\",\"field\":\"y1\"},\"line_color\":{\"type\":\"field\",\"field\":\"color\"},\"line_alpha\":{\"type\":\"value\",\"value\":0.2},\"fill_color\":{\"type\":\"field\",\"field\":\"color\"},\"fill_alpha\":{\"type\":\"value\",\"value\":0.2},\"hatch_color\":{\"type\":\"field\",\"field\":\"color\"},\"hatch_alpha\":{\"type\":\"value\",\"value\":0.2}}}}},{\"type\":\"object\",\"name\":\"GlyphRenderer\",\"id\":\"89205e6d-8aa8-48b8-8247-e46dfd38acf2\",\"attributes\":{\"name\":\"needle_renderer\",\"level\":\"overlay\",\"data_source\":{\"type\":\"object\",\"name\":\"ColumnDataSource\",\"id\":\"89dc95b0-1215-43e9-9b34-f8bbef069c43\",\"attributes\":{\"name\":\"needle_source\",\"selected\":{\"type\":\"object\",\"name\":\"Selection\",\"id\":\"78af9f7c-bdd3-4f4b-8f46-dbb8520ce9a1\",\"attributes\":{\"indices\":[],\"line_indices\":[]}},\"selection_policy\":{\"type\":\"object\",\"name\":\"UnionRenderers\",\"id\":\"74278f0f-3009-4f17-8eab-645ad203401d\"},\"data\":{\"type\":\"map\",\"entries\":[[\"y\",[0.0]],[\"text\",[\"\"]]]}}},\"view\":{\"type\":\"object\",\"name\":\"CDSView\",\"id\":\"879cdb77-e2cd-49be-b885-0484789ff070\",\"attributes\":{\"filter\":{\"type\":\"object\",\"name\":\"AllIndices\",\"id\":\"394f6f71-e79f-4248-9084-29d7952bbbe2\"}}},\"glyph\":{\"type\":\"object\",\"name\":\"Scatter\",\"id\":\"07433bfe-d504-4bde-ab3f-6e6a2b898def\",\"attributes\":{\"x\":{\"type\":\"value\",\"value\":0.5},\"y\":{\"type\":\"field\",\"field\":\"y\"},\"size\":{\"type\":\"value\",\"value\":6},\"angle\":{\"type\":\"value\",\"value\":1.5707963267948966},\"line_color\":{\"type\":\"field\",\"field\":\"\"},\"fill_color\":{\"type\":\"field\",\"field\":\"\"},\"marker\":{\"type\":\"value\",\"value\":\"triangle\"}}},\"nonselection_glyph\":{\"type\":\"object\",\"name\":\"Scatter\",\"id\":\"688d74ce-23d1-40ea-b170-3b744268cdef\",\"attributes\":{\"x\":{\"type\":\"value\",\"value\":0.5},\"y\":{\"type\":\"field\",\"field\":\"y\"},\"size\":{\"type\":\"value\",\"value\":6},\"angle\":{\"type\":\"value\",\"value\":1.5707963267948966},\"line_color\":{\"type\":\"field\",\"field\":\"\"},\"line_alpha\":{\"type\":\"value\",\"value\":0.1},\"fill_color\":{\"type\":\"field\",\"field\":\"\"},\"fill_alpha\":{\"type\":\"value\",\"value\":0.1},\"hatch_alpha\":{\"type\":\"value\",\"value\":0.1},\"marker\":{\"type\":\"value\",\"value\":\"triangle\"}}},\"muted_glyph\":{\"type\":\"object\",\"name\":\"Scatter\",\"id\":\"5ef53be7-f7e0-45f3-a9f8-f8c6cbf1e627\",\"attributes\":{\"x\":{\"type\":\"value\",\"value\":0.5},\"y\":{\"type\":\"field\",\"field\":\"y\"},\"size\":{\"type\":\"value\",\"value\":6},\"angle\":{\"type\":\"value\",\"value\":1.5707963267948966},\"line_color\":{\"type\":\"field\",\"field\":\"\"},\"line_alpha\":{\"type\":\"value\",\"value\":0.2},\"fill_color\":{\"type\":\"field\",\"field\":\"\"},\"fill_alpha\":{\"type\":\"value\",\"value\":0.2},\"hatch_alpha\":{\"type\":\"value\",\"value\":0.2},\"marker\":{\"type\":\"value\",\"value\":\"triangle\"}}}}},{\"type\":\"object\",\"name\":\"GlyphRenderer\",\"id\":\"36c87473-0e23-46f0-ba11-8978962cb2bd\",\"attributes\":{\"data_source\":{\"id\":\"89dc95b0-1215-43e9-9b34-f8bbef069c43\"},\"view\":{\"type\":\"object\",\"name\":\"CDSView\",\"id\":\"ad5065fc-c3e7-4c66-8a45-0b3d4aaf4192\",\"attributes\":{\"filter\":{\"type\":\"object\",\"name\":\"AllIndices\",\"id\":\"76209143-e4e8-4e1b-af07-dc239ff886bc\"}}},\"glyph\":{\"type\":\"object\",\"name\":\"Text\",\"id\":\"1fe3facc-838c-4d56-b7d4-9ecbdb88757f\",\"attributes\":{\"x\":{\"type\":\"value\",\"value\":-0.4},\"y\":{\"type\":\"value\",\"value\":0},\"text\":{\"type\":\"field\",\"field\":\"text\"},\"angle\":{\"type\":\"value\",\"value\":1.5707963267948966},\"text_color\":{\"type\":\"value\",\"value\":\"black\"},\"text_font_size\":{\"type\":\"value\",\"value\":\"6.25px\"}}},\"nonselection_glyph\":{\"type\":\"object\",\"name\":\"Text\",\"id\":\"c792ab9f-d891-4dce-8d20-36d46bc13973\",\"attributes\":{\"x\":{\"type\":\"value\",\"value\":-0.4},\"y\":{\"type\":\"value\",\"value\":0},\"text\":{\"type\":\"field\",\"field\":\"text\"},\"angle\":{\"type\":\"value\",\"value\":1.5707963267948966},\"text_color\":{\"type\":\"value\",\"value\":\"black\"},\"text_alpha\":{\"type\":\"value\",\"value\":0.1},\"text_font_size\":{\"type\":\"value\",\"value\":\"6.25px\"}}},\"muted_glyph\":{\"type\":\"object\",\"name\":\"Text\",\"id\":\"ab420874-3b0c-4b53-8c79-0b88e4c75c08\",\"attributes\":{\"x\":{\"type\":\"value\",\"value\":-0.4},\"y\":{\"type\":\"value\",\"value\":0},\"text\":{\"type\":\"field\",\"field\":\"text\"},\"angle\":{\"type\":\"value\",\"value\":1.5707963267948966},\"text_color\":{\"type\":\"value\",\"value\":\"black\"},\"text_alpha\":{\"type\":\"value\",\"value\":0.2},\"text_font_size\":{\"type\":\"value\",\"value\":\"6.25px\"}}}}}],\"toolbar\":{\"type\":\"object\",\"name\":\"Toolbar\",\"id\":\"de494868-5b4a-496d-b0fd-8189d7978816\"},\"toolbar_location\":null,\"right\":[{\"type\":\"object\",\"name\":\"LinearAxis\",\"id\":\"ecd477aa-137a-49da-8058-46cf1dc1f982\",\"attributes\":{\"ticker\":{\"type\":\"object\",\"name\":\"FixedTicker\",\"id\":\"e01a09bd-cb7c-4e8b-baa2-0d005edd9914\",\"attributes\":{\"ticks\":[0,100],\"minor_ticks\":[]}},\"formatter\":{\"type\":\"object\",\"name\":\"BasicTickFormatter\",\"id\":\"095f9e79-6548-4877-928b-cf169d6b4bbf\"},\"axis_label\":\"\",\"axis_label_standoff\":2,\"axis_label_text_font_size\":\"0pt\",\"major_label_standoff\":2,\"major_label_policy\":{\"type\":\"object\",\"name\":\"AllLabels\",\"id\":\"39286e11-efb5-42fd-aa00-428c1bff5375\"},\"major_label_text_font_size\":\"0pt\"}}],\"above\":[{\"type\":\"object\",\"name\":\"LinearAxis\",\"id\":\"e61ee3d4-f692-42f5-a466-ca36ef5f1280\",\"attributes\":{\"visible\":false,\"ticker\":{\"type\":\"object\",\"name\":\"BasicTicker\",\"id\":\"58e5b7bb-9488-40ba-acf0-442472a4eb6b\",\"attributes\":{\"mantissas\":[1,2,5]}},\"formatter\":{\"type\":\"object\",\"name\":\"BasicTickFormatter\",\"id\":\"ef684181-ab9d-4419-b393-e2d4b2f18316\"},\"axis_label\":\"\",\"axis_label_standoff\":2,\"axis_label_text_font_size\":\"0pt\",\"major_label_standoff\":2,\"major_label_policy\":{\"type\":\"object\",\"name\":\"AllLabels\",\"id\":\"d4765b38-72bd-4b5f-b7d5-a0c3d5d19530\"},\"major_label_text_font_size\":\"0pt\"}}],\"center\":[{\"type\":\"object\",\"name\":\"Grid\",\"id\":\"7a93d587-6287-4d2e-b51d-0ef089042f2f\",\"attributes\":{\"visible\":false,\"axis\":{\"id\":\"e61ee3d4-f692-42f5-a466-ca36ef5f1280\"}}},{\"type\":\"object\",\"name\":\"Grid\",\"id\":\"0eb87941-8569-421d-a561-c4a2f1636393\",\"attributes\":{\"visible\":false,\"dimension\":1,\"axis\":{\"id\":\"ecd477aa-137a-49da-8058-46cf1dc1f982\"}}}]}},{\"type\":\"object\",\"name\":\"Figure\",\"id\":\"4a68f2ce-2460-498b-8d49-963f49cfcd58\",\"attributes\":{\"name\":\"\",\"stylesheets\":[\"\\n:host(.pn-loading.pn-arc):before, .pn-loading.pn-arc:before {\\n  background-image: url(\\\"data:image/svg+xml;base64,PHN2ZyB4bWxucz0iaHR0cDovL3d3dy53My5vcmcvMjAwMC9zdmciIHN0eWxlPSJtYXJnaW46IGF1dG87IGJhY2tncm91bmQ6IG5vbmU7IGRpc3BsYXk6IGJsb2NrOyBzaGFwZS1yZW5kZXJpbmc6IGF1dG87IiB2aWV3Qm94PSIwIDAgMTAwIDEwMCIgcHJlc2VydmVBc3BlY3RSYXRpbz0ieE1pZFlNaWQiPiAgPGNpcmNsZSBjeD0iNTAiIGN5PSI1MCIgZmlsbD0ibm9uZSIgc3Ryb2tlPSIjYzNjM2MzIiBzdHJva2Utd2lkdGg9IjEwIiByPSIzNSIgc3Ryb2tlLWRhc2hhcnJheT0iMTY0LjkzMzYxNDMxMzQ2NDE1IDU2Ljk3Nzg3MTQzNzgyMTM4Ij4gICAgPGFuaW1hdGVUcmFuc2Zvcm0gYXR0cmlidXRlTmFtZT0idHJhbnNmb3JtIiB0eXBlPSJyb3RhdGUiIHJlcGVhdENvdW50PSJpbmRlZmluaXRlIiBkdXI9IjFzIiB2YWx1ZXM9IjAgNTAgNTA7MzYwIDUwIDUwIiBrZXlUaW1lcz0iMDsxIj48L2FuaW1hdGVUcmFuc2Zvcm0+ICA8L2NpcmNsZT48L3N2Zz4=\\\");\\n  background-size: auto calc(min(50%, 400px));\\n}\",{\"type\":\"object\",\"name\":\"ImportedStyleSheet\",\"id\":\"3866ea20-11d6-44ce-b9a5-09802d17bd7f\",\"attributes\":{\"url\":\"https://cdn.holoviz.org/panel/1.1.0/dist/css/loading.css\"}},{\"type\":\"object\",\"name\":\"ImportedStyleSheet\",\"id\":\"5c97507b-d9ce-403b-a78a-4b6535f75b88\",\"attributes\":{\"url\":\"https://cdn.holoviz.org/panel/1.1.0/dist/bundled/theme/default.css\"}},{\"type\":\"object\",\"name\":\"ImportedStyleSheet\",\"id\":\"f833a9ef-6045-4afd-aaf2-2432ee168260\",\"attributes\":{\"url\":\"https://cdn.holoviz.org/panel/1.1.0/dist/bundled/theme/native.css\"}}],\"width\":50,\"height\":200,\"margin\":[5,10],\"sizing_mode\":\"fixed\",\"align\":\"start\",\"x_range\":{\"type\":\"object\",\"name\":\"DataRange1d\",\"id\":\"804fd13b-cc17-4fc9-ad45-317e4e6fef53\",\"attributes\":{\"start\":-0.8,\"end\":0.5}},\"y_range\":{\"type\":\"object\",\"name\":\"DataRange1d\",\"id\":\"f04d8a45-56b2-4832-a353-8b43a27cbcb5\",\"attributes\":{\"start\":0,\"end\":100}},\"x_scale\":{\"type\":\"object\",\"name\":\"LinearScale\",\"id\":\"e6e4fbbc-2f3a-4337-a1c6-63fe1c6871f9\"},\"y_scale\":{\"type\":\"object\",\"name\":\"LinearScale\",\"id\":\"ab6a9bac-982a-4541-9297-1bbfdb953c54\"},\"title\":{\"type\":\"object\",\"name\":\"Title\",\"id\":\"084ab6da-87d0-4c61-86c1-2656c0f9bc78\"},\"outline_line_color\":null,\"renderers\":[{\"type\":\"object\",\"name\":\"GlyphRenderer\",\"id\":\"bfea2c5b-6165-4ffc-8d91-c6f32c0ca680\",\"attributes\":{\"data_source\":{\"type\":\"object\",\"name\":\"ColumnDataSource\",\"id\":\"e53a3722-252c-40df-bf3d-92698e5f4d6d\",\"attributes\":{\"name\":\"bar_source\",\"selected\":{\"type\":\"object\",\"name\":\"Selection\",\"id\":\"1c61bcd2-d825-4146-88f5-1a719ca6fe0a\",\"attributes\":{\"indices\":[],\"line_indices\":[]}},\"selection_policy\":{\"type\":\"object\",\"name\":\"UnionRenderers\",\"id\":\"1d7e20ed-c993-4a7a-9a2d-532727ad8d1b\"},\"data\":{\"type\":\"map\",\"entries\":[[\"y0\",[0,0.0,50.0]],[\"y1\",[0.0,50.0,100]],[\"color\",[\"lightgreen\",\"whitesmoke\",\"whitesmoke\"]]]}}},\"view\":{\"type\":\"object\",\"name\":\"CDSView\",\"id\":\"6cf8a073-2422-4441-a588-7d780083838e\",\"attributes\":{\"filter\":{\"type\":\"object\",\"name\":\"AllIndices\",\"id\":\"dcda8d2e-729a-4ccc-acb1-592a09724ad1\"}}},\"glyph\":{\"type\":\"object\",\"name\":\"VBar\",\"id\":\"1e36c0da-7048-4e8d-b9b6-a55eb4cb084d\",\"attributes\":{\"x\":{\"type\":\"value\",\"value\":0.1},\"width\":{\"type\":\"value\",\"value\":0.9},\"bottom\":{\"type\":\"field\",\"field\":\"y0\"},\"top\":{\"type\":\"field\",\"field\":\"y1\"},\"line_color\":{\"type\":\"field\",\"field\":\"color\"},\"fill_color\":{\"type\":\"field\",\"field\":\"color\"},\"hatch_color\":{\"type\":\"field\",\"field\":\"color\"}}},\"nonselection_glyph\":{\"type\":\"object\",\"name\":\"VBar\",\"id\":\"ac8f4c5e-56dd-4110-a75b-060e74e8e142\",\"attributes\":{\"x\":{\"type\":\"value\",\"value\":0.1},\"width\":{\"type\":\"value\",\"value\":0.9},\"bottom\":{\"type\":\"field\",\"field\":\"y0\"},\"top\":{\"type\":\"field\",\"field\":\"y1\"},\"line_color\":{\"type\":\"field\",\"field\":\"color\"},\"line_alpha\":{\"type\":\"value\",\"value\":0.1},\"fill_color\":{\"type\":\"field\",\"field\":\"color\"},\"fill_alpha\":{\"type\":\"value\",\"value\":0.1},\"hatch_color\":{\"type\":\"field\",\"field\":\"color\"},\"hatch_alpha\":{\"type\":\"value\",\"value\":0.1}}},\"muted_glyph\":{\"type\":\"object\",\"name\":\"VBar\",\"id\":\"925d4ca8-3467-4af4-8ce0-7a3fd6fb2541\",\"attributes\":{\"x\":{\"type\":\"value\",\"value\":0.1},\"width\":{\"type\":\"value\",\"value\":0.9},\"bottom\":{\"type\":\"field\",\"field\":\"y0\"},\"top\":{\"type\":\"field\",\"field\":\"y1\"},\"line_color\":{\"type\":\"field\",\"field\":\"color\"},\"line_alpha\":{\"type\":\"value\",\"value\":0.2},\"fill_color\":{\"type\":\"field\",\"field\":\"color\"},\"fill_alpha\":{\"type\":\"value\",\"value\":0.2},\"hatch_color\":{\"type\":\"field\",\"field\":\"color\"},\"hatch_alpha\":{\"type\":\"value\",\"value\":0.2}}}}},{\"type\":\"object\",\"name\":\"GlyphRenderer\",\"id\":\"c4f53653-2419-496d-aab0-1dab9bfa3cc1\",\"attributes\":{\"name\":\"needle_renderer\",\"level\":\"overlay\",\"data_source\":{\"type\":\"object\",\"name\":\"ColumnDataSource\",\"id\":\"85eb32b1-7c02-46c9-922a-8ab1a2908483\",\"attributes\":{\"name\":\"needle_source\",\"selected\":{\"type\":\"object\",\"name\":\"Selection\",\"id\":\"01276cfd-b71b-4b94-9378-e109e5fa4eca\",\"attributes\":{\"indices\":[],\"line_indices\":[]}},\"selection_policy\":{\"type\":\"object\",\"name\":\"UnionRenderers\",\"id\":\"0471fa39-155f-4773-b05b-245e991eadd3\"},\"data\":{\"type\":\"map\",\"entries\":[[\"y\",[0.0]],[\"text\",[\"\"]]]}}},\"view\":{\"type\":\"object\",\"name\":\"CDSView\",\"id\":\"f697869f-4f05-4afb-a110-391009487a2e\",\"attributes\":{\"filter\":{\"type\":\"object\",\"name\":\"AllIndices\",\"id\":\"2c0e4efb-618f-46d2-9e40-d6e059c59002\"}}},\"glyph\":{\"type\":\"object\",\"name\":\"Scatter\",\"id\":\"960e751f-d269-4426-b018-bac587571a88\",\"attributes\":{\"x\":{\"type\":\"value\",\"value\":0.5},\"y\":{\"type\":\"field\",\"field\":\"y\"},\"size\":{\"type\":\"value\",\"value\":6},\"angle\":{\"type\":\"value\",\"value\":1.5707963267948966},\"line_color\":{\"type\":\"field\",\"field\":\"\"},\"fill_color\":{\"type\":\"field\",\"field\":\"\"},\"marker\":{\"type\":\"value\",\"value\":\"triangle\"}}},\"nonselection_glyph\":{\"type\":\"object\",\"name\":\"Scatter\",\"id\":\"a36188ac-2a6f-4ca2-a79b-fa0f377604a8\",\"attributes\":{\"x\":{\"type\":\"value\",\"value\":0.5},\"y\":{\"type\":\"field\",\"field\":\"y\"},\"size\":{\"type\":\"value\",\"value\":6},\"angle\":{\"type\":\"value\",\"value\":1.5707963267948966},\"line_color\":{\"type\":\"field\",\"field\":\"\"},\"line_alpha\":{\"type\":\"value\",\"value\":0.1},\"fill_color\":{\"type\":\"field\",\"field\":\"\"},\"fill_alpha\":{\"type\":\"value\",\"value\":0.1},\"hatch_alpha\":{\"type\":\"value\",\"value\":0.1},\"marker\":{\"type\":\"value\",\"value\":\"triangle\"}}},\"muted_glyph\":{\"type\":\"object\",\"name\":\"Scatter\",\"id\":\"ab1e1fab-e77a-4d6c-9753-b9a6ef368554\",\"attributes\":{\"x\":{\"type\":\"value\",\"value\":0.5},\"y\":{\"type\":\"field\",\"field\":\"y\"},\"size\":{\"type\":\"value\",\"value\":6},\"angle\":{\"type\":\"value\",\"value\":1.5707963267948966},\"line_color\":{\"type\":\"field\",\"field\":\"\"},\"line_alpha\":{\"type\":\"value\",\"value\":0.2},\"fill_color\":{\"type\":\"field\",\"field\":\"\"},\"fill_alpha\":{\"type\":\"value\",\"value\":0.2},\"hatch_alpha\":{\"type\":\"value\",\"value\":0.2},\"marker\":{\"type\":\"value\",\"value\":\"triangle\"}}}}},{\"type\":\"object\",\"name\":\"GlyphRenderer\",\"id\":\"839cad82-959e-420c-9d40-185dab20fc9d\",\"attributes\":{\"data_source\":{\"id\":\"85eb32b1-7c02-46c9-922a-8ab1a2908483\"},\"view\":{\"type\":\"object\",\"name\":\"CDSView\",\"id\":\"9e5438d1-f0b9-44ca-a12c-bbb0375a0a08\",\"attributes\":{\"filter\":{\"type\":\"object\",\"name\":\"AllIndices\",\"id\":\"627fb1c5-ac93-466e-97b6-7d01dbbf9633\"}}},\"glyph\":{\"type\":\"object\",\"name\":\"Text\",\"id\":\"3a184f3d-a8f9-408b-b971-8f1e04f30c60\",\"attributes\":{\"x\":{\"type\":\"value\",\"value\":-0.4},\"y\":{\"type\":\"value\",\"value\":0},\"text\":{\"type\":\"field\",\"field\":\"text\"},\"angle\":{\"type\":\"value\",\"value\":1.5707963267948966},\"text_color\":{\"type\":\"value\",\"value\":\"black\"},\"text_font_size\":{\"type\":\"value\",\"value\":\"6.25px\"}}},\"nonselection_glyph\":{\"type\":\"object\",\"name\":\"Text\",\"id\":\"5485ff1a-0bfc-4f70-a1e5-8a6cebf99ab9\",\"attributes\":{\"x\":{\"type\":\"value\",\"value\":-0.4},\"y\":{\"type\":\"value\",\"value\":0},\"text\":{\"type\":\"field\",\"field\":\"text\"},\"angle\":{\"type\":\"value\",\"value\":1.5707963267948966},\"text_color\":{\"type\":\"value\",\"value\":\"black\"},\"text_alpha\":{\"type\":\"value\",\"value\":0.1},\"text_font_size\":{\"type\":\"value\",\"value\":\"6.25px\"}}},\"muted_glyph\":{\"type\":\"object\",\"name\":\"Text\",\"id\":\"d7d3e205-d46b-4d09-87e6-d7db53b7c7de\",\"attributes\":{\"x\":{\"type\":\"value\",\"value\":-0.4},\"y\":{\"type\":\"value\",\"value\":0},\"text\":{\"type\":\"field\",\"field\":\"text\"},\"angle\":{\"type\":\"value\",\"value\":1.5707963267948966},\"text_color\":{\"type\":\"value\",\"value\":\"black\"},\"text_alpha\":{\"type\":\"value\",\"value\":0.2},\"text_font_size\":{\"type\":\"value\",\"value\":\"6.25px\"}}}}}],\"toolbar\":{\"type\":\"object\",\"name\":\"Toolbar\",\"id\":\"df6ed849-0b85-4d77-b4fc-fe04a54c845b\"},\"toolbar_location\":null,\"right\":[{\"type\":\"object\",\"name\":\"LinearAxis\",\"id\":\"61228461-52c1-4204-b7da-339772ce2c68\",\"attributes\":{\"ticker\":{\"type\":\"object\",\"name\":\"FixedTicker\",\"id\":\"b471ca3d-8945-4d5f-bd06-e1730e4fb06a\",\"attributes\":{\"ticks\":[0,100],\"minor_ticks\":[]}},\"formatter\":{\"type\":\"object\",\"name\":\"BasicTickFormatter\",\"id\":\"56003495-f914-4cb7-a594-a4ce8f827401\"},\"axis_label\":\"\",\"axis_label_standoff\":2,\"axis_label_text_font_size\":\"0pt\",\"major_label_standoff\":2,\"major_label_policy\":{\"type\":\"object\",\"name\":\"AllLabels\",\"id\":\"a069f6d6-e970-4c54-9b20-01a0aa22f1ec\"},\"major_label_text_font_size\":\"0pt\"}}],\"above\":[{\"type\":\"object\",\"name\":\"LinearAxis\",\"id\":\"6eb68a9d-eed6-4cef-9c10-4e37237453f6\",\"attributes\":{\"visible\":false,\"ticker\":{\"type\":\"object\",\"name\":\"BasicTicker\",\"id\":\"86331717-d021-4203-8bb4-d0dcf21b097f\",\"attributes\":{\"mantissas\":[1,2,5]}},\"formatter\":{\"type\":\"object\",\"name\":\"BasicTickFormatter\",\"id\":\"b8d947c3-16f6-4944-902f-1984a67d4fb9\"},\"axis_label\":\"\",\"axis_label_standoff\":2,\"axis_label_text_font_size\":\"0pt\",\"major_label_standoff\":2,\"major_label_policy\":{\"type\":\"object\",\"name\":\"AllLabels\",\"id\":\"6e9afc90-6645-451c-adca-ce1f98d25fb6\"},\"major_label_text_font_size\":\"0pt\"}}],\"center\":[{\"type\":\"object\",\"name\":\"Grid\",\"id\":\"d1f3bd44-8bac-443c-b37c-ea90cbfd5e88\",\"attributes\":{\"visible\":false,\"axis\":{\"id\":\"6eb68a9d-eed6-4cef-9c10-4e37237453f6\"}}},{\"type\":\"object\",\"name\":\"Grid\",\"id\":\"a09710d0-2a24-4b7c-ad17-58b6e1b34b45\",\"attributes\":{\"visible\":false,\"dimension\":1,\"axis\":{\"id\":\"61228461-52c1-4204-b7da-339772ce2c68\"}}}]}},{\"type\":\"object\",\"name\":\"Figure\",\"id\":\"5f5d3e12-b29b-4cb1-9ec8-b298681f932c\",\"attributes\":{\"name\":\"\",\"stylesheets\":[\"\\n:host(.pn-loading.pn-arc):before, .pn-loading.pn-arc:before {\\n  background-image: url(\\\"data:image/svg+xml;base64,PHN2ZyB4bWxucz0iaHR0cDovL3d3dy53My5vcmcvMjAwMC9zdmciIHN0eWxlPSJtYXJnaW46IGF1dG87IGJhY2tncm91bmQ6IG5vbmU7IGRpc3BsYXk6IGJsb2NrOyBzaGFwZS1yZW5kZXJpbmc6IGF1dG87IiB2aWV3Qm94PSIwIDAgMTAwIDEwMCIgcHJlc2VydmVBc3BlY3RSYXRpbz0ieE1pZFlNaWQiPiAgPGNpcmNsZSBjeD0iNTAiIGN5PSI1MCIgZmlsbD0ibm9uZSIgc3Ryb2tlPSIjYzNjM2MzIiBzdHJva2Utd2lkdGg9IjEwIiByPSIzNSIgc3Ryb2tlLWRhc2hhcnJheT0iMTY0LjkzMzYxNDMxMzQ2NDE1IDU2Ljk3Nzg3MTQzNzgyMTM4Ij4gICAgPGFuaW1hdGVUcmFuc2Zvcm0gYXR0cmlidXRlTmFtZT0idHJhbnNmb3JtIiB0eXBlPSJyb3RhdGUiIHJlcGVhdENvdW50PSJpbmRlZmluaXRlIiBkdXI9IjFzIiB2YWx1ZXM9IjAgNTAgNTA7MzYwIDUwIDUwIiBrZXlUaW1lcz0iMDsxIj48L2FuaW1hdGVUcmFuc2Zvcm0+ICA8L2NpcmNsZT48L3N2Zz4=\\\");\\n  background-size: auto calc(min(50%, 400px));\\n}\",{\"type\":\"object\",\"name\":\"ImportedStyleSheet\",\"id\":\"14f1d055-816a-4b49-88e7-ff0c581b2bce\",\"attributes\":{\"url\":\"https://cdn.holoviz.org/panel/1.1.0/dist/css/loading.css\"}},{\"type\":\"object\",\"name\":\"ImportedStyleSheet\",\"id\":\"1eb993e6-f455-4d49-a625-e84e3ffa3f71\",\"attributes\":{\"url\":\"https://cdn.holoviz.org/panel/1.1.0/dist/bundled/theme/default.css\"}},{\"type\":\"object\",\"name\":\"ImportedStyleSheet\",\"id\":\"ae9f0f74-5a2b-4db6-ab53-53a25c428d4a\",\"attributes\":{\"url\":\"https://cdn.holoviz.org/panel/1.1.0/dist/bundled/theme/native.css\"}}],\"width\":50,\"height\":200,\"margin\":[5,10],\"sizing_mode\":\"fixed\",\"align\":\"start\",\"x_range\":{\"type\":\"object\",\"name\":\"DataRange1d\",\"id\":\"616f0dbc-73c6-4a27-b2e3-97f089161647\",\"attributes\":{\"start\":-0.8,\"end\":0.5}},\"y_range\":{\"type\":\"object\",\"name\":\"DataRange1d\",\"id\":\"cf16689a-83b4-44cf-acd0-1584b73f4a7b\",\"attributes\":{\"start\":0,\"end\":100}},\"x_scale\":{\"type\":\"object\",\"name\":\"LinearScale\",\"id\":\"68048476-b60c-44bf-9e1d-875967260d69\"},\"y_scale\":{\"type\":\"object\",\"name\":\"LinearScale\",\"id\":\"8bf456ef-5364-40da-bc63-54a9a2eb5b25\"},\"title\":{\"type\":\"object\",\"name\":\"Title\",\"id\":\"3b993ce0-aec9-45da-a843-7d24b0019a9b\"},\"outline_line_color\":null,\"renderers\":[{\"type\":\"object\",\"name\":\"GlyphRenderer\",\"id\":\"78294882-b115-46a6-b16c-89512031e0b6\",\"attributes\":{\"data_source\":{\"type\":\"object\",\"name\":\"ColumnDataSource\",\"id\":\"d3fba0bb-7f12-4ab3-bf83-8a1a13197676\",\"attributes\":{\"name\":\"bar_source\",\"selected\":{\"type\":\"object\",\"name\":\"Selection\",\"id\":\"fc54e12b-c9ec-417c-9d26-6e6dea75cf98\",\"attributes\":{\"indices\":[],\"line_indices\":[]}},\"selection_policy\":{\"type\":\"object\",\"name\":\"UnionRenderers\",\"id\":\"9093b690-ae40-41a7-b158-40fa35b5a805\"},\"data\":{\"type\":\"map\",\"entries\":[[\"y0\",[0,0.0,50.0]],[\"y1\",[0.0,50.0,100]],[\"color\",[\"lightgreen\",\"whitesmoke\",\"whitesmoke\"]]]}}},\"view\":{\"type\":\"object\",\"name\":\"CDSView\",\"id\":\"5535674d-c9a4-4bac-9c7f-9fa21930292e\",\"attributes\":{\"filter\":{\"type\":\"object\",\"name\":\"AllIndices\",\"id\":\"29ab7481-449e-4bf8-94de-ca4cb4b2cebc\"}}},\"glyph\":{\"type\":\"object\",\"name\":\"VBar\",\"id\":\"016dbcd2-a7bf-45d7-9ef1-713615dc5f7e\",\"attributes\":{\"x\":{\"type\":\"value\",\"value\":0.1},\"width\":{\"type\":\"value\",\"value\":0.9},\"bottom\":{\"type\":\"field\",\"field\":\"y0\"},\"top\":{\"type\":\"field\",\"field\":\"y1\"},\"line_color\":{\"type\":\"field\",\"field\":\"color\"},\"fill_color\":{\"type\":\"field\",\"field\":\"color\"},\"hatch_color\":{\"type\":\"field\",\"field\":\"color\"}}},\"nonselection_glyph\":{\"type\":\"object\",\"name\":\"VBar\",\"id\":\"4480c601-9832-4415-a9a2-52b4ba8dd9fb\",\"attributes\":{\"x\":{\"type\":\"value\",\"value\":0.1},\"width\":{\"type\":\"value\",\"value\":0.9},\"bottom\":{\"type\":\"field\",\"field\":\"y0\"},\"top\":{\"type\":\"field\",\"field\":\"y1\"},\"line_color\":{\"type\":\"field\",\"field\":\"color\"},\"line_alpha\":{\"type\":\"value\",\"value\":0.1},\"fill_color\":{\"type\":\"field\",\"field\":\"color\"},\"fill_alpha\":{\"type\":\"value\",\"value\":0.1},\"hatch_color\":{\"type\":\"field\",\"field\":\"color\"},\"hatch_alpha\":{\"type\":\"value\",\"value\":0.1}}},\"muted_glyph\":{\"type\":\"object\",\"name\":\"VBar\",\"id\":\"f2aef358-cb94-4c52-a9ca-607e45a92fec\",\"attributes\":{\"x\":{\"type\":\"value\",\"value\":0.1},\"width\":{\"type\":\"value\",\"value\":0.9},\"bottom\":{\"type\":\"field\",\"field\":\"y0\"},\"top\":{\"type\":\"field\",\"field\":\"y1\"},\"line_color\":{\"type\":\"field\",\"field\":\"color\"},\"line_alpha\":{\"type\":\"value\",\"value\":0.2},\"fill_color\":{\"type\":\"field\",\"field\":\"color\"},\"fill_alpha\":{\"type\":\"value\",\"value\":0.2},\"hatch_color\":{\"type\":\"field\",\"field\":\"color\"},\"hatch_alpha\":{\"type\":\"value\",\"value\":0.2}}}}},{\"type\":\"object\",\"name\":\"GlyphRenderer\",\"id\":\"92ecb7d1-1c75-4063-9f36-f7d05dd992c1\",\"attributes\":{\"name\":\"needle_renderer\",\"level\":\"overlay\",\"data_source\":{\"type\":\"object\",\"name\":\"ColumnDataSource\",\"id\":\"84dfd818-8504-4e79-a69a-d80950cda331\",\"attributes\":{\"name\":\"needle_source\",\"selected\":{\"type\":\"object\",\"name\":\"Selection\",\"id\":\"04e88abc-0511-4bc7-8c77-1708bf8e31e1\",\"attributes\":{\"indices\":[],\"line_indices\":[]}},\"selection_policy\":{\"type\":\"object\",\"name\":\"UnionRenderers\",\"id\":\"49e6e5cd-170c-4fa4-9ff3-0cb08f7bc8a0\"},\"data\":{\"type\":\"map\",\"entries\":[[\"y\",[0.0]],[\"text\",[\"\"]]]}}},\"view\":{\"type\":\"object\",\"name\":\"CDSView\",\"id\":\"cba4c8d6-f7cf-46ca-a85c-b8503897f413\",\"attributes\":{\"filter\":{\"type\":\"object\",\"name\":\"AllIndices\",\"id\":\"daab3dd8-37e1-4d98-a305-9817d3377693\"}}},\"glyph\":{\"type\":\"object\",\"name\":\"Scatter\",\"id\":\"ebe8a08d-20ee-4782-bfee-d0bbfe1362f0\",\"attributes\":{\"x\":{\"type\":\"value\",\"value\":0.5},\"y\":{\"type\":\"field\",\"field\":\"y\"},\"size\":{\"type\":\"value\",\"value\":6},\"angle\":{\"type\":\"value\",\"value\":1.5707963267948966},\"line_color\":{\"type\":\"field\",\"field\":\"\"},\"fill_color\":{\"type\":\"field\",\"field\":\"\"},\"marker\":{\"type\":\"value\",\"value\":\"triangle\"}}},\"nonselection_glyph\":{\"type\":\"object\",\"name\":\"Scatter\",\"id\":\"8fa1ece8-8d06-47c5-ac99-d9aac0129981\",\"attributes\":{\"x\":{\"type\":\"value\",\"value\":0.5},\"y\":{\"type\":\"field\",\"field\":\"y\"},\"size\":{\"type\":\"value\",\"value\":6},\"angle\":{\"type\":\"value\",\"value\":1.5707963267948966},\"line_color\":{\"type\":\"field\",\"field\":\"\"},\"line_alpha\":{\"type\":\"value\",\"value\":0.1},\"fill_color\":{\"type\":\"field\",\"field\":\"\"},\"fill_alpha\":{\"type\":\"value\",\"value\":0.1},\"hatch_alpha\":{\"type\":\"value\",\"value\":0.1},\"marker\":{\"type\":\"value\",\"value\":\"triangle\"}}},\"muted_glyph\":{\"type\":\"object\",\"name\":\"Scatter\",\"id\":\"a3af506b-1bfe-471c-97f8-fc87c0ade889\",\"attributes\":{\"x\":{\"type\":\"value\",\"value\":0.5},\"y\":{\"type\":\"field\",\"field\":\"y\"},\"size\":{\"type\":\"value\",\"value\":6},\"angle\":{\"type\":\"value\",\"value\":1.5707963267948966},\"line_color\":{\"type\":\"field\",\"field\":\"\"},\"line_alpha\":{\"type\":\"value\",\"value\":0.2},\"fill_color\":{\"type\":\"field\",\"field\":\"\"},\"fill_alpha\":{\"type\":\"value\",\"value\":0.2},\"hatch_alpha\":{\"type\":\"value\",\"value\":0.2},\"marker\":{\"type\":\"value\",\"value\":\"triangle\"}}}}},{\"type\":\"object\",\"name\":\"GlyphRenderer\",\"id\":\"3ec7176c-1988-4100-9d2a-1d4152eb0bcd\",\"attributes\":{\"data_source\":{\"id\":\"84dfd818-8504-4e79-a69a-d80950cda331\"},\"view\":{\"type\":\"object\",\"name\":\"CDSView\",\"id\":\"a987df53-0b86-4129-ae01-8ef815e15804\",\"attributes\":{\"filter\":{\"type\":\"object\",\"name\":\"AllIndices\",\"id\":\"6005774d-632a-43b8-935a-e9602ffedc16\"}}},\"glyph\":{\"type\":\"object\",\"name\":\"Text\",\"id\":\"25726491-2078-4d8c-aa1d-608074e40807\",\"attributes\":{\"x\":{\"type\":\"value\",\"value\":-0.4},\"y\":{\"type\":\"value\",\"value\":0},\"text\":{\"type\":\"field\",\"field\":\"text\"},\"angle\":{\"type\":\"value\",\"value\":1.5707963267948966},\"text_color\":{\"type\":\"value\",\"value\":\"black\"},\"text_font_size\":{\"type\":\"value\",\"value\":\"6.25px\"}}},\"nonselection_glyph\":{\"type\":\"object\",\"name\":\"Text\",\"id\":\"214dca54-0031-4666-b5a1-5fdac2a34daa\",\"attributes\":{\"x\":{\"type\":\"value\",\"value\":-0.4},\"y\":{\"type\":\"value\",\"value\":0},\"text\":{\"type\":\"field\",\"field\":\"text\"},\"angle\":{\"type\":\"value\",\"value\":1.5707963267948966},\"text_color\":{\"type\":\"value\",\"value\":\"black\"},\"text_alpha\":{\"type\":\"value\",\"value\":0.1},\"text_font_size\":{\"type\":\"value\",\"value\":\"6.25px\"}}},\"muted_glyph\":{\"type\":\"object\",\"name\":\"Text\",\"id\":\"9617d94c-05a3-4a2b-98b1-8e71fcaaa378\",\"attributes\":{\"x\":{\"type\":\"value\",\"value\":-0.4},\"y\":{\"type\":\"value\",\"value\":0},\"text\":{\"type\":\"field\",\"field\":\"text\"},\"angle\":{\"type\":\"value\",\"value\":1.5707963267948966},\"text_color\":{\"type\":\"value\",\"value\":\"black\"},\"text_alpha\":{\"type\":\"value\",\"value\":0.2},\"text_font_size\":{\"type\":\"value\",\"value\":\"6.25px\"}}}}}],\"toolbar\":{\"type\":\"object\",\"name\":\"Toolbar\",\"id\":\"ffaa5cdb-96c2-4666-8722-8004dfd762ed\"},\"toolbar_location\":null,\"right\":[{\"type\":\"object\",\"name\":\"LinearAxis\",\"id\":\"e44be658-f125-4f26-93f5-3bdd0cdcbac7\",\"attributes\":{\"ticker\":{\"type\":\"object\",\"name\":\"FixedTicker\",\"id\":\"4c8e92b6-18de-439d-9c72-5df5a46ef913\",\"attributes\":{\"ticks\":[0,100],\"minor_ticks\":[]}},\"formatter\":{\"type\":\"object\",\"name\":\"BasicTickFormatter\",\"id\":\"eadc2bfd-d4b5-49ed-a0b1-301b40e539d3\"},\"axis_label\":\"\",\"axis_label_standoff\":2,\"axis_label_text_font_size\":\"0pt\",\"major_label_standoff\":2,\"major_label_policy\":{\"type\":\"object\",\"name\":\"AllLabels\",\"id\":\"2f928c51-ba5a-4232-9362-29d45f868950\"},\"major_label_text_font_size\":\"0pt\"}}],\"above\":[{\"type\":\"object\",\"name\":\"LinearAxis\",\"id\":\"a574a8aa-c085-4dda-867f-176299d92e62\",\"attributes\":{\"visible\":false,\"ticker\":{\"type\":\"object\",\"name\":\"BasicTicker\",\"id\":\"d2416e1a-8013-4ce5-b9b7-85ddeebcf16e\",\"attributes\":{\"mantissas\":[1,2,5]}},\"formatter\":{\"type\":\"object\",\"name\":\"BasicTickFormatter\",\"id\":\"8f03b977-fc59-4cb1-a62f-b983359a1045\"},\"axis_label\":\"\",\"axis_label_standoff\":2,\"axis_label_text_font_size\":\"0pt\",\"major_label_standoff\":2,\"major_label_policy\":{\"type\":\"object\",\"name\":\"AllLabels\",\"id\":\"7cd2ed70-4d6e-4c15-8a65-167d141c153d\"},\"major_label_text_font_size\":\"0pt\"}}],\"center\":[{\"type\":\"object\",\"name\":\"Grid\",\"id\":\"46053426-fa7b-4ebe-af40-9efd6d839e91\",\"attributes\":{\"visible\":false,\"axis\":{\"id\":\"a574a8aa-c085-4dda-867f-176299d92e62\"}}},{\"type\":\"object\",\"name\":\"Grid\",\"id\":\"abd83c8a-49e0-450f-8a72-32d0155aa4bc\",\"attributes\":{\"visible\":false,\"dimension\":1,\"axis\":{\"id\":\"e44be658-f125-4f26-93f5-3bdd0cdcbac7\"}}}]}},{\"type\":\"object\",\"name\":\"Figure\",\"id\":\"090ad061-b92b-4305-a4e0-03f1dc97269d\",\"attributes\":{\"name\":\"\",\"stylesheets\":[\"\\n:host(.pn-loading.pn-arc):before, .pn-loading.pn-arc:before {\\n  background-image: url(\\\"data:image/svg+xml;base64,PHN2ZyB4bWxucz0iaHR0cDovL3d3dy53My5vcmcvMjAwMC9zdmciIHN0eWxlPSJtYXJnaW46IGF1dG87IGJhY2tncm91bmQ6IG5vbmU7IGRpc3BsYXk6IGJsb2NrOyBzaGFwZS1yZW5kZXJpbmc6IGF1dG87IiB2aWV3Qm94PSIwIDAgMTAwIDEwMCIgcHJlc2VydmVBc3BlY3RSYXRpbz0ieE1pZFlNaWQiPiAgPGNpcmNsZSBjeD0iNTAiIGN5PSI1MCIgZmlsbD0ibm9uZSIgc3Ryb2tlPSIjYzNjM2MzIiBzdHJva2Utd2lkdGg9IjEwIiByPSIzNSIgc3Ryb2tlLWRhc2hhcnJheT0iMTY0LjkzMzYxNDMxMzQ2NDE1IDU2Ljk3Nzg3MTQzNzgyMTM4Ij4gICAgPGFuaW1hdGVUcmFuc2Zvcm0gYXR0cmlidXRlTmFtZT0idHJhbnNmb3JtIiB0eXBlPSJyb3RhdGUiIHJlcGVhdENvdW50PSJpbmRlZmluaXRlIiBkdXI9IjFzIiB2YWx1ZXM9IjAgNTAgNTA7MzYwIDUwIDUwIiBrZXlUaW1lcz0iMDsxIj48L2FuaW1hdGVUcmFuc2Zvcm0+ICA8L2NpcmNsZT48L3N2Zz4=\\\");\\n  background-size: auto calc(min(50%, 400px));\\n}\",{\"type\":\"object\",\"name\":\"ImportedStyleSheet\",\"id\":\"6850053b-7a63-45bf-bf5b-e92351ceb2bc\",\"attributes\":{\"url\":\"https://cdn.holoviz.org/panel/1.1.0/dist/css/loading.css\"}},{\"type\":\"object\",\"name\":\"ImportedStyleSheet\",\"id\":\"5c84b792-d438-451f-9c29-7fc7a11aba03\",\"attributes\":{\"url\":\"https://cdn.holoviz.org/panel/1.1.0/dist/bundled/theme/default.css\"}},{\"type\":\"object\",\"name\":\"ImportedStyleSheet\",\"id\":\"ce0d4b87-510c-4bbc-b12b-f674fc72ff03\",\"attributes\":{\"url\":\"https://cdn.holoviz.org/panel/1.1.0/dist/bundled/theme/native.css\"}}],\"width\":50,\"height\":200,\"margin\":[5,10],\"sizing_mode\":\"fixed\",\"align\":\"start\",\"x_range\":{\"type\":\"object\",\"name\":\"DataRange1d\",\"id\":\"43c80190-517d-489e-9265-49c94aeb684b\",\"attributes\":{\"start\":-0.8,\"end\":0.5}},\"y_range\":{\"type\":\"object\",\"name\":\"DataRange1d\",\"id\":\"6354de88-8546-49fb-b13b-e0fac860fe93\",\"attributes\":{\"start\":0,\"end\":100}},\"x_scale\":{\"type\":\"object\",\"name\":\"LinearScale\",\"id\":\"ea02efdd-0106-4907-a38d-08eb82d8db75\"},\"y_scale\":{\"type\":\"object\",\"name\":\"LinearScale\",\"id\":\"1b893ebc-b51c-4558-8049-f3d1cd76b42d\"},\"title\":{\"type\":\"object\",\"name\":\"Title\",\"id\":\"ee050e61-f049-43c6-8876-01d46f321ac9\"},\"outline_line_color\":null,\"renderers\":[{\"type\":\"object\",\"name\":\"GlyphRenderer\",\"id\":\"19392040-9e32-4d3b-98cc-53ccdd797303\",\"attributes\":{\"data_source\":{\"type\":\"object\",\"name\":\"ColumnDataSource\",\"id\":\"3b6b6638-4499-4c65-8cfd-364c5f80f0d1\",\"attributes\":{\"name\":\"bar_source\",\"selected\":{\"type\":\"object\",\"name\":\"Selection\",\"id\":\"1e2179b1-1d75-49a2-8675-950332f4fb39\",\"attributes\":{\"indices\":[],\"line_indices\":[]}},\"selection_policy\":{\"type\":\"object\",\"name\":\"UnionRenderers\",\"id\":\"1a3ae972-a235-4bd7-b412-c8e9ece81998\"},\"data\":{\"type\":\"map\",\"entries\":[[\"y0\",[0,0.0,50.0]],[\"y1\",[0.0,50.0,100]],[\"color\",[\"lightgreen\",\"whitesmoke\",\"whitesmoke\"]]]}}},\"view\":{\"type\":\"object\",\"name\":\"CDSView\",\"id\":\"29e24999-b6e2-4463-9bf4-2b76ad918421\",\"attributes\":{\"filter\":{\"type\":\"object\",\"name\":\"AllIndices\",\"id\":\"ebeb1d46-9f1f-4633-9a6c-0d179c020049\"}}},\"glyph\":{\"type\":\"object\",\"name\":\"VBar\",\"id\":\"0d792aa4-4ec6-4823-a67a-44bda97cb54f\",\"attributes\":{\"x\":{\"type\":\"value\",\"value\":0.1},\"width\":{\"type\":\"value\",\"value\":0.9},\"bottom\":{\"type\":\"field\",\"field\":\"y0\"},\"top\":{\"type\":\"field\",\"field\":\"y1\"},\"line_color\":{\"type\":\"field\",\"field\":\"color\"},\"fill_color\":{\"type\":\"field\",\"field\":\"color\"},\"hatch_color\":{\"type\":\"field\",\"field\":\"color\"}}},\"nonselection_glyph\":{\"type\":\"object\",\"name\":\"VBar\",\"id\":\"86c2ad39-157b-4ab3-9275-6cdd7b144334\",\"attributes\":{\"x\":{\"type\":\"value\",\"value\":0.1},\"width\":{\"type\":\"value\",\"value\":0.9},\"bottom\":{\"type\":\"field\",\"field\":\"y0\"},\"top\":{\"type\":\"field\",\"field\":\"y1\"},\"line_color\":{\"type\":\"field\",\"field\":\"color\"},\"line_alpha\":{\"type\":\"value\",\"value\":0.1},\"fill_color\":{\"type\":\"field\",\"field\":\"color\"},\"fill_alpha\":{\"type\":\"value\",\"value\":0.1},\"hatch_color\":{\"type\":\"field\",\"field\":\"color\"},\"hatch_alpha\":{\"type\":\"value\",\"value\":0.1}}},\"muted_glyph\":{\"type\":\"object\",\"name\":\"VBar\",\"id\":\"e827fe18-ac64-418b-9c7f-93d350f50d76\",\"attributes\":{\"x\":{\"type\":\"value\",\"value\":0.1},\"width\":{\"type\":\"value\",\"value\":0.9},\"bottom\":{\"type\":\"field\",\"field\":\"y0\"},\"top\":{\"type\":\"field\",\"field\":\"y1\"},\"line_color\":{\"type\":\"field\",\"field\":\"color\"},\"line_alpha\":{\"type\":\"value\",\"value\":0.2},\"fill_color\":{\"type\":\"field\",\"field\":\"color\"},\"fill_alpha\":{\"type\":\"value\",\"value\":0.2},\"hatch_color\":{\"type\":\"field\",\"field\":\"color\"},\"hatch_alpha\":{\"type\":\"value\",\"value\":0.2}}}}},{\"type\":\"object\",\"name\":\"GlyphRenderer\",\"id\":\"432b80f1-9fe5-4cc0-bc79-898173a87f74\",\"attributes\":{\"name\":\"needle_renderer\",\"level\":\"overlay\",\"data_source\":{\"type\":\"object\",\"name\":\"ColumnDataSource\",\"id\":\"6e070ec2-c1f8-4d42-a571-ea20ae303cd4\",\"attributes\":{\"name\":\"needle_source\",\"selected\":{\"type\":\"object\",\"name\":\"Selection\",\"id\":\"4ba8e8fa-e0a3-48ec-86bc-fc8dcc4d0bcb\",\"attributes\":{\"indices\":[],\"line_indices\":[]}},\"selection_policy\":{\"type\":\"object\",\"name\":\"UnionRenderers\",\"id\":\"8e81bc2c-415e-4a94-98eb-dcdcbeec7838\"},\"data\":{\"type\":\"map\",\"entries\":[[\"y\",[0.0]],[\"text\",[\"\"]]]}}},\"view\":{\"type\":\"object\",\"name\":\"CDSView\",\"id\":\"d34a8a01-d279-459f-8973-113c7c675ee5\",\"attributes\":{\"filter\":{\"type\":\"object\",\"name\":\"AllIndices\",\"id\":\"4cf09b08-9ef5-491d-ab66-abf32e20a07e\"}}},\"glyph\":{\"type\":\"object\",\"name\":\"Scatter\",\"id\":\"35f819ca-d031-4741-9af4-5dd15fe43291\",\"attributes\":{\"x\":{\"type\":\"value\",\"value\":0.5},\"y\":{\"type\":\"field\",\"field\":\"y\"},\"size\":{\"type\":\"value\",\"value\":6},\"angle\":{\"type\":\"value\",\"value\":1.5707963267948966},\"line_color\":{\"type\":\"field\",\"field\":\"\"},\"fill_color\":{\"type\":\"field\",\"field\":\"\"},\"marker\":{\"type\":\"value\",\"value\":\"triangle\"}}},\"nonselection_glyph\":{\"type\":\"object\",\"name\":\"Scatter\",\"id\":\"498d74df-4d5c-41e2-a212-6fc7c18eb26d\",\"attributes\":{\"x\":{\"type\":\"value\",\"value\":0.5},\"y\":{\"type\":\"field\",\"field\":\"y\"},\"size\":{\"type\":\"value\",\"value\":6},\"angle\":{\"type\":\"value\",\"value\":1.5707963267948966},\"line_color\":{\"type\":\"field\",\"field\":\"\"},\"line_alpha\":{\"type\":\"value\",\"value\":0.1},\"fill_color\":{\"type\":\"field\",\"field\":\"\"},\"fill_alpha\":{\"type\":\"value\",\"value\":0.1},\"hatch_alpha\":{\"type\":\"value\",\"value\":0.1},\"marker\":{\"type\":\"value\",\"value\":\"triangle\"}}},\"muted_glyph\":{\"type\":\"object\",\"name\":\"Scatter\",\"id\":\"a7fdafba-3b41-4996-b477-d17a527bc332\",\"attributes\":{\"x\":{\"type\":\"value\",\"value\":0.5},\"y\":{\"type\":\"field\",\"field\":\"y\"},\"size\":{\"type\":\"value\",\"value\":6},\"angle\":{\"type\":\"value\",\"value\":1.5707963267948966},\"line_color\":{\"type\":\"field\",\"field\":\"\"},\"line_alpha\":{\"type\":\"value\",\"value\":0.2},\"fill_color\":{\"type\":\"field\",\"field\":\"\"},\"fill_alpha\":{\"type\":\"value\",\"value\":0.2},\"hatch_alpha\":{\"type\":\"value\",\"value\":0.2},\"marker\":{\"type\":\"value\",\"value\":\"triangle\"}}}}},{\"type\":\"object\",\"name\":\"GlyphRenderer\",\"id\":\"6ebb9d48-ce12-46c7-b2d0-d9f41e43c143\",\"attributes\":{\"data_source\":{\"id\":\"6e070ec2-c1f8-4d42-a571-ea20ae303cd4\"},\"view\":{\"type\":\"object\",\"name\":\"CDSView\",\"id\":\"066b790b-4737-4737-95c7-abac3180f329\",\"attributes\":{\"filter\":{\"type\":\"object\",\"name\":\"AllIndices\",\"id\":\"8404a04d-5b5d-4cca-b021-e471a723ebc6\"}}},\"glyph\":{\"type\":\"object\",\"name\":\"Text\",\"id\":\"51f6c0da-51ca-4acd-b901-7186177c8453\",\"attributes\":{\"x\":{\"type\":\"value\",\"value\":-0.4},\"y\":{\"type\":\"value\",\"value\":0},\"text\":{\"type\":\"field\",\"field\":\"text\"},\"angle\":{\"type\":\"value\",\"value\":1.5707963267948966},\"text_color\":{\"type\":\"value\",\"value\":\"black\"},\"text_font_size\":{\"type\":\"value\",\"value\":\"6.25px\"}}},\"nonselection_glyph\":{\"type\":\"object\",\"name\":\"Text\",\"id\":\"0ab6346a-3df8-42db-8c70-09e85db9d5e3\",\"attributes\":{\"x\":{\"type\":\"value\",\"value\":-0.4},\"y\":{\"type\":\"value\",\"value\":0},\"text\":{\"type\":\"field\",\"field\":\"text\"},\"angle\":{\"type\":\"value\",\"value\":1.5707963267948966},\"text_color\":{\"type\":\"value\",\"value\":\"black\"},\"text_alpha\":{\"type\":\"value\",\"value\":0.1},\"text_font_size\":{\"type\":\"value\",\"value\":\"6.25px\"}}},\"muted_glyph\":{\"type\":\"object\",\"name\":\"Text\",\"id\":\"27d04606-8f40-46d4-b23c-d56bb79da6ee\",\"attributes\":{\"x\":{\"type\":\"value\",\"value\":-0.4},\"y\":{\"type\":\"value\",\"value\":0},\"text\":{\"type\":\"field\",\"field\":\"text\"},\"angle\":{\"type\":\"value\",\"value\":1.5707963267948966},\"text_color\":{\"type\":\"value\",\"value\":\"black\"},\"text_alpha\":{\"type\":\"value\",\"value\":0.2},\"text_font_size\":{\"type\":\"value\",\"value\":\"6.25px\"}}}}}],\"toolbar\":{\"type\":\"object\",\"name\":\"Toolbar\",\"id\":\"2c7bfeaa-948d-4e77-8773-d79e2b36c743\"},\"toolbar_location\":null,\"right\":[{\"type\":\"object\",\"name\":\"LinearAxis\",\"id\":\"c6294131-4208-4a13-8faa-af20a18c891b\",\"attributes\":{\"ticker\":{\"type\":\"object\",\"name\":\"FixedTicker\",\"id\":\"fb19ef3c-bfb4-4849-b246-fa102918257d\",\"attributes\":{\"ticks\":[0,100],\"minor_ticks\":[]}},\"formatter\":{\"type\":\"object\",\"name\":\"BasicTickFormatter\",\"id\":\"629bb993-7459-4096-b934-6ea0ec512931\"},\"axis_label\":\"\",\"axis_label_standoff\":2,\"axis_label_text_font_size\":\"0pt\",\"major_label_standoff\":2,\"major_label_policy\":{\"type\":\"object\",\"name\":\"AllLabels\",\"id\":\"e537d435-6335-4105-8f0f-03af050d3ff0\"},\"major_label_text_font_size\":\"0pt\"}}],\"above\":[{\"type\":\"object\",\"name\":\"LinearAxis\",\"id\":\"e63e0701-f69a-4592-ace3-b65f57f49605\",\"attributes\":{\"visible\":false,\"ticker\":{\"type\":\"object\",\"name\":\"BasicTicker\",\"id\":\"3226b402-37e5-4391-a452-d05d10ce8cff\",\"attributes\":{\"mantissas\":[1,2,5]}},\"formatter\":{\"type\":\"object\",\"name\":\"BasicTickFormatter\",\"id\":\"6de1da16-cd32-448c-a6ca-3f9e6da4773b\"},\"axis_label\":\"\",\"axis_label_standoff\":2,\"axis_label_text_font_size\":\"0pt\",\"major_label_standoff\":2,\"major_label_policy\":{\"type\":\"object\",\"name\":\"AllLabels\",\"id\":\"b7c40a6b-fe62-4a5e-a44a-00d5951c850b\"},\"major_label_text_font_size\":\"0pt\"}}],\"center\":[{\"type\":\"object\",\"name\":\"Grid\",\"id\":\"26a8e5f3-c2f2-42ea-9b1e-12a0738d1f30\",\"attributes\":{\"visible\":false,\"axis\":{\"id\":\"e63e0701-f69a-4592-ace3-b65f57f49605\"}}},{\"type\":\"object\",\"name\":\"Grid\",\"id\":\"9c306d56-2cd1-4699-9541-15ca9d7332aa\",\"attributes\":{\"visible\":false,\"dimension\":1,\"axis\":{\"id\":\"c6294131-4208-4a13-8faa-af20a18c891b\"}}}]}}]}}]}},{\"type\":\"object\",\"name\":\"panel.models.comm_manager.CommManager\",\"id\":\"dc93935b-a6b6-440b-bc13-8ca50d4bd4d5\",\"attributes\":{\"plot_id\":\"48ad88de-2824-457d-baeb-a2dd4988d345\",\"comm_id\":\"ee37b9d1b3ba40b6b327031de6d6dc99\",\"client_comm_id\":\"c861a7dfd7f044efbaea6660b0da3c67\"}}],\"callbacks\":{\"type\":\"map\"}}};\n",
       "  var render_items = [{\"docid\":\"81368d46-b346-45c0-b820-c6f5fe6c6669\",\"roots\":{\"48ad88de-2824-457d-baeb-a2dd4988d345\":\"e73e53a6-b9e7-425e-9044-0d0ef062c18b\"},\"root_ids\":[\"48ad88de-2824-457d-baeb-a2dd4988d345\"]}];\n",
       "  var docs = Object.values(docs_json)\n",
       "  if (!docs) {\n",
       "    return\n",
       "  }\n",
       "  const py_version = docs[0].version.replace('rc', '-rc.')\n",
       "  const is_dev = py_version.indexOf(\"+\") !== -1 || py_version.indexOf(\"-\") !== -1\n",
       "  function embed_document(root) {\n",
       "    var Bokeh = get_bokeh(root)\n",
       "    Bokeh.embed.embed_items_notebook(docs_json, render_items);\n",
       "    for (const render_item of render_items) {\n",
       "      for (const root_id of render_item.root_ids) {\n",
       "\tconst id_el = document.getElementById(root_id)\n",
       "\tif (id_el.children.length && (id_el.children[0].className === 'bk-root')) {\n",
       "\t  const root_el = id_el.children[0]\n",
       "\t  root_el.id = root_el.id + '-rendered'\n",
       "\t}\n",
       "      }\n",
       "    }\n",
       "  }\n",
       "  function get_bokeh(root) {\n",
       "    if (root.Bokeh === undefined) {\n",
       "      return null\n",
       "    } else if (root.Bokeh.version !== py_version && !is_dev) {\n",
       "      if (root.Bokeh.versions === undefined || !root.Bokeh.versions.has(py_version)) {\n",
       "\treturn null\n",
       "      }\n",
       "      return root.Bokeh.versions.get(py_version);\n",
       "    } else if (root.Bokeh.version === py_version) {\n",
       "      return root.Bokeh\n",
       "    }\n",
       "    return null\n",
       "  }\n",
       "  function is_loaded(root) {\n",
       "    var Bokeh = get_bokeh(root)\n",
       "    return (Bokeh != null && Bokeh.Panel !== undefined && ( root['jsPanel'] !== undefined))\n",
       "  }\n",
       "  if (is_loaded(root)) {\n",
       "    embed_document(root);\n",
       "  } else {\n",
       "    var attempts = 0;\n",
       "    var timer = setInterval(function(root) {\n",
       "      if (is_loaded(root)) {\n",
       "        clearInterval(timer);\n",
       "        embed_document(root);\n",
       "      } else if (document.readyState == \"complete\") {\n",
       "        attempts++;\n",
       "        if (attempts > 200) {\n",
       "          clearInterval(timer);\n",
       "\t  var Bokeh = get_bokeh(root)\n",
       "\t  if (Bokeh == null || Bokeh.Panel == null) {\n",
       "            console.warn(\"Panel: ERROR: Unable to run Panel code because Bokeh or Panel library is missing\");\n",
       "\t  } else {\n",
       "\t    console.warn(\"Panel: WARNING: Attempting to render but not all required libraries could be resolved.\")\n",
       "\t    embed_document(root)\n",
       "\t  }\n",
       "        }\n",
       "      }\n",
       "    }, 25, root)\n",
       "  }\n",
       "})(window);</script>"
      ],
      "text/plain": [
       "Column\n",
       "    [0] StaticText(value='2023-0626 03:22:16 UTC Lo...)\n",
       "    [1] Row(name='xxxx', styles={'background': '...})\n",
       "        [0] Markdown(str)\n",
       "        [1] LinearGauge(colors=[(0.5, 'lightgreen'), ...], default_color='lightgreen', height=200, tick_size='0pt', title_size='0pt', value=3.4, width=50)\n",
       "        [2] LinearGauge(colors=[(0.5, 'lightgreen'), ...], default_color='lightgreen', height=200, tick_size='0pt', title_size='0pt', value=0.0, width=50)\n",
       "        [3] LinearGauge(colors=[(0.5, 'lightgreen'), ...], default_color='lightgreen', height=200, tick_size='0pt', title_size='0pt', value=0.0, width=50)\n",
       "        [4] LinearGauge(colors=[(0.5, 'lightgreen'), ...], default_color='lightgreen', height=200, tick_size='0pt', title_size='0pt', value=1.8, width=50)\n",
       "        [5] LinearGauge(colors=[(0.5, 'lightgreen'), ...], default_color='lightgreen', height=200, tick_size='0pt', title_size='0pt', value=0.0, width=50)\n",
       "        [6] LinearGauge(colors=[(0.5, 'lightgreen'), ...], default_color='lightgreen', height=200, tick_size='0pt', title_size='0pt', value=0.0, width=50)\n",
       "        [7] LinearGauge(colors=[(0.5, 'lightgreen'), ...], default_color='lightgreen', height=200, tick_size='0pt', title_size='0pt', value=0.0, width=50)\n",
       "        [8] LinearGauge(colors=[(0.5, 'lightgreen'), ...], default_color='lightgreen', height=200, tick_size='0pt', title_size='0pt', value=0.0, width=50)\n",
       "        [9] LinearGauge(colors=[(0.5, 'lightgreen'), ...], default_color='lightgreen', height=200, tick_size='0pt', title_size='0pt', value=0.0, width=50)\n",
       "        [10] LinearGauge(colors=[(0.5, 'lightgreen'), ...], default_color='lightgreen', height=200, tick_size='0pt', title_size='0pt', value=0.0, width=50)"
      ]
     },
     "execution_count": null,
     "metadata": {
      "application/vnd.holoviews_exec.v0+json": {
       "id": "48ad88de-2824-457d-baeb-a2dd4988d345"
      }
     },
     "output_type": "execute_result"
    }
   ],
   "source": [
    "cw.cpu_status_widget"
   ]
  },
  {
   "cell_type": "code",
   "execution_count": null,
   "metadata": {},
   "outputs": [
    {
     "name": "stdout",
     "output_type": "stream",
     "text": [
      "      Thread Name                         Run  Alive    Loops  Interval\n",
      "Thread-33 (system_status_thread)         True   True    34521   1.0 Sec\n"
     ]
    }
   ],
   "source": [
    "cw.show_status()\n"
   ]
  },
  {
   "cell_type": "code",
   "execution_count": null,
   "metadata": {},
   "outputs": [],
   "source": [
    "cw.Run = False"
   ]
  },
  {
   "cell_type": "markdown",
   "metadata": {},
   "source": [
    "#### Disks"
   ]
  },
  {
   "cell_type": "code",
   "execution_count": null,
   "metadata": {},
   "outputs": [
    {
     "data": {
      "text/plain": [
       "[sdiskpart(device='/dev/sdb', mountpoint='/', fstype='ext4', opts='rw,relatime,discard,errors=remount-ro,data=ordered', maxfile=255, maxpath=4096),\n",
       " sdiskpart(device='/dev/sdd', mountpoint='/mnt/wsl/docker-desktop-data/isocache', fstype='ext4', opts='rw,relatime,discard,errors=remount-ro,data=ordered', maxfile=255, maxpath=4096),\n",
       " sdiskpart(device='/dev/sdc', mountpoint='/mnt/wsl/docker-desktop/docker-desktop-user-distro', fstype='ext4', opts='rw,relatime,discard,errors=remount-ro,data=ordered', maxfile=255, maxpath=4096),\n",
       " sdiskpart(device='/dev/loop0', mountpoint='/mnt/wsl/docker-desktop/cli-tools', fstype='iso9660', opts='ro,relatime,nojoliet,check=s,map=n,blocksize=2048', maxfile=255, maxpath=4096)]"
      ]
     },
     "execution_count": null,
     "metadata": {},
     "output_type": "execute_result"
    }
   ],
   "source": [
    "disk_parts = ps.disk_partitions()\n",
    "disk_parts"
   ]
  },
  {
   "cell_type": "code",
   "execution_count": null,
   "metadata": {},
   "outputs": [
    {
     "name": "stdout",
     "output_type": "stream",
     "text": [
      "part.device='/dev/sdb' / ext4 rw,relatime,discard,errors=remount-ro,data=ordered\n",
      "part.device='/dev/sdd' /mnt/wsl/docker-desktop-data/isocache ext4 rw,relatime,discard,errors=remount-ro,data=ordered\n",
      "part.device='/dev/sdc' /mnt/wsl/docker-desktop/docker-desktop-user-distro ext4 rw,relatime,discard,errors=remount-ro,data=ordered\n",
      "part.device='/dev/loop0' /mnt/wsl/docker-desktop/cli-tools iso9660 ro,relatime,nojoliet,check=s,map=n,blocksize=2048\n"
     ]
    }
   ],
   "source": [
    "for part in disk_parts:\n",
    "  print(f'{part.device=} {part.mountpoint} {part.fstype} {part.opts}')"
   ]
  },
  {
   "cell_type": "code",
   "execution_count": null,
   "metadata": {},
   "outputs": [
    {
     "data": {
      "text/plain": [
       "sdiskusage(total=269490393088, used=11679051776, free=244050669568, percent=4.6)"
      ]
     },
     "execution_count": null,
     "metadata": {},
     "output_type": "execute_result"
    }
   ],
   "source": [
    "ps.disk_usage('/')"
   ]
  },
  {
   "cell_type": "code",
   "execution_count": null,
   "metadata": {},
   "outputs": [
    {
     "data": {
      "text/plain": [
       "sdiskusage(total=2000397791232, used=356009508864, free=1644388282368, percent=17.8)"
      ]
     },
     "execution_count": null,
     "metadata": {},
     "output_type": "execute_result"
    }
   ],
   "source": [
    "ps.disk_usage('/mnt/d')"
   ]
  },
  {
   "cell_type": "markdown",
   "metadata": {},
   "source": [
    "#### RAM\n",
    "returned named tuple:\n",
    "\n",
    "```\n",
    "svmem(total=33598832640, available=30488162304, percent=9.3,\n",
    "    used=2635255808, free=27074908160, active=4016775168,   \n",
    "    inactive=1948282880, buffers=351911936, cached=3536756736,    \n",
    "    shared=2940928, slab=387448832)\n",
    "```\n"
   ]
  },
  {
   "cell_type": "code",
   "execution_count": null,
   "metadata": {},
   "outputs": [
    {
     "name": "stdout",
     "output_type": "stream",
     "text": [
      "   Total    User    Free        Active   Buffers    Cached\n",
      " 30.47gb    2.65gb   27.05gb    4.04gb    0.35gb    3.54gb\n"
     ]
    }
   ],
   "source": [
    "sys_m = ps.virtual_memory()\n",
    "print('   Total    User    Free        Active   Buffers    Cached')\n",
    "print(\n",
    "f'{sys_m.available/1e9:6.2f}gb\\\n",
    "  {sys_m.used/1e9:6.2f}gb\\\n",
    "  {sys_m.free/1e9:6.2f}gb\\\n",
    "  {sys_m.active/1e9:6.2f}gb\\\n",
    "  {sys_m.buffers/1e9:6.2f}gb\\\n",
    "  {sys_m.cached/1e9:6.2f}gb'\n",
    ")"
   ]
  }
 ],
 "metadata": {
  "kernelspec": {
   "display_name": "python3",
   "language": "python",
   "name": "python3"
  }
 },
 "nbformat": 4,
 "nbformat_minor": 4
}
